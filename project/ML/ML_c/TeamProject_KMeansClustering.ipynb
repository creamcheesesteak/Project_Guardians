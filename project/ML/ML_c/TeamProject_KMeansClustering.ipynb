{
  "nbformat": 4,
  "nbformat_minor": 0,
  "metadata": {
    "colab": {
      "name": "TeamProject_KMeansClustering.ipynb",
      "provenance": []
    },
    "kernelspec": {
      "name": "python3",
      "display_name": "Python 3"
    },
    "language_info": {
      "name": "python"
    }
  },
  "cells": [
    {
      "cell_type": "code",
      "metadata": {
        "colab": {
          "base_uri": "https://localhost:8080/"
        },
        "id": "QCyZWuNKtkk7",
        "outputId": "fd4a62c0-9413-43c4-f071-6ab4e636b566"
      },
      "source": [
        "import pandas as pd\n",
        "df=pd.read_csv('./2020년도 업체별 명세서 주요정보_21.6.25기준(정정 최종).csv',encoding='cp949')\n",
        "df.columns"
      ],
      "execution_count": 302,
      "outputs": [
        {
          "output_type": "execute_result",
          "data": {
            "text/plain": [
              "Index(['(2021.6.25 기준)', 'Unnamed: 1', 'Unnamed: 2', 'Unnamed: 3',\n",
              "       'Unnamed: 4', 'Unnamed: 5', 'Unnamed: 6', 'Unnamed: 7', 'Unnamed: 8',\n",
              "       'Unnamed: 9'],\n",
              "      dtype='object')"
            ]
          },
          "metadata": {},
          "execution_count": 302
        }
      ]
    },
    {
      "cell_type": "code",
      "metadata": {
        "id": "pnSW2mbZHXlV"
      },
      "source": [
        "df.columns=['번호','관장기관(주무관청)',\t'관리업체',\t'대상연도',\t'지정구분',\t'지정업종',\t'tCO2',\t'TJ',\t'검증수행기관',\t'비고']"
      ],
      "execution_count": 303,
      "outputs": []
    },
    {
      "cell_type": "code",
      "metadata": {
        "id": "T2c7TaxzH2hw"
      },
      "source": [
        "df=df.loc[1:1061,:]"
      ],
      "execution_count": 304,
      "outputs": []
    },
    {
      "cell_type": "code",
      "metadata": {
        "colab": {
          "base_uri": "https://localhost:8080/",
          "height": 408
        },
        "id": "vumcONojuDoD",
        "outputId": "9bcbf18a-b3fc-4060-d54b-2fc9131e37af"
      },
      "source": [
        "df"
      ],
      "execution_count": 305,
      "outputs": [
        {
          "output_type": "execute_result",
          "data": {
            "text/html": [
              "<div>\n",
              "<style scoped>\n",
              "    .dataframe tbody tr th:only-of-type {\n",
              "        vertical-align: middle;\n",
              "    }\n",
              "\n",
              "    .dataframe tbody tr th {\n",
              "        vertical-align: top;\n",
              "    }\n",
              "\n",
              "    .dataframe thead th {\n",
              "        text-align: right;\n",
              "    }\n",
              "</style>\n",
              "<table border=\"1\" class=\"dataframe\">\n",
              "  <thead>\n",
              "    <tr style=\"text-align: right;\">\n",
              "      <th></th>\n",
              "      <th>번호</th>\n",
              "      <th>관장기관(주무관청)</th>\n",
              "      <th>관리업체</th>\n",
              "      <th>대상연도</th>\n",
              "      <th>지정구분</th>\n",
              "      <th>지정업종</th>\n",
              "      <th>tCO2</th>\n",
              "      <th>TJ</th>\n",
              "      <th>검증수행기관</th>\n",
              "      <th>비고</th>\n",
              "    </tr>\n",
              "  </thead>\n",
              "  <tbody>\n",
              "    <tr>\n",
              "      <th>1</th>\n",
              "      <td>1</td>\n",
              "      <td>국토교통부</td>\n",
              "      <td>(유)호남고속</td>\n",
              "      <td>2020</td>\n",
              "      <td>사업장</td>\n",
              "      <td>교통(여객)</td>\n",
              "      <td>21,850</td>\n",
              "      <td>341</td>\n",
              "      <td>(주)한국경영인증원</td>\n",
              "      <td>NaN</td>\n",
              "    </tr>\n",
              "    <tr>\n",
              "      <th>2</th>\n",
              "      <td>2</td>\n",
              "      <td>국토교통부</td>\n",
              "      <td>(주)경기고속</td>\n",
              "      <td>2020</td>\n",
              "      <td>업체</td>\n",
              "      <td>교통(여객)</td>\n",
              "      <td>109,380</td>\n",
              "      <td>1,727</td>\n",
              "      <td>산림조합중앙회</td>\n",
              "      <td>NaN</td>\n",
              "    </tr>\n",
              "    <tr>\n",
              "      <th>3</th>\n",
              "      <td>3</td>\n",
              "      <td>국토교통부</td>\n",
              "      <td>(주)경남고속</td>\n",
              "      <td>2020</td>\n",
              "      <td>사업장</td>\n",
              "      <td>교통(여객)</td>\n",
              "      <td>14,747</td>\n",
              "      <td>208</td>\n",
              "      <td>(주)한국경영인증원</td>\n",
              "      <td>NaN</td>\n",
              "    </tr>\n",
              "    <tr>\n",
              "      <th>4</th>\n",
              "      <td>4</td>\n",
              "      <td>국토교통부</td>\n",
              "      <td>(주)공항리무진</td>\n",
              "      <td>2020</td>\n",
              "      <td>사업장</td>\n",
              "      <td>교통(여객)</td>\n",
              "      <td>6,755</td>\n",
              "      <td>96</td>\n",
              "      <td>(주)한국경영인증원</td>\n",
              "      <td>NaN</td>\n",
              "    </tr>\n",
              "    <tr>\n",
              "      <th>5</th>\n",
              "      <td>5</td>\n",
              "      <td>국토교통부</td>\n",
              "      <td>(주)국민은행</td>\n",
              "      <td>2020</td>\n",
              "      <td>업체</td>\n",
              "      <td>건물</td>\n",
              "      <td>111,653</td>\n",
              "      <td>1,697</td>\n",
              "      <td>한국표준협회</td>\n",
              "      <td>NaN</td>\n",
              "    </tr>\n",
              "    <tr>\n",
              "      <th>...</th>\n",
              "      <td>...</td>\n",
              "      <td>...</td>\n",
              "      <td>...</td>\n",
              "      <td>...</td>\n",
              "      <td>...</td>\n",
              "      <td>...</td>\n",
              "      <td>...</td>\n",
              "      <td>...</td>\n",
              "      <td>...</td>\n",
              "      <td>...</td>\n",
              "    </tr>\n",
              "    <tr>\n",
              "      <th>1057</th>\n",
              "      <td>1057</td>\n",
              "      <td>환경부</td>\n",
              "      <td>효성첨단소재 주식회사</td>\n",
              "      <td>2020</td>\n",
              "      <td>업체</td>\n",
              "      <td>산업</td>\n",
              "      <td>191,050</td>\n",
              "      <td>3,883</td>\n",
              "      <td>(재)한국품질재단</td>\n",
              "      <td>NaN</td>\n",
              "    </tr>\n",
              "    <tr>\n",
              "      <th>1058</th>\n",
              "      <td>1058</td>\n",
              "      <td>환경부</td>\n",
              "      <td>효성티앤씨 주식회사</td>\n",
              "      <td>2020</td>\n",
              "      <td>업체</td>\n",
              "      <td>산업</td>\n",
              "      <td>323,533</td>\n",
              "      <td>7,495</td>\n",
              "      <td>(재)한국품질재단</td>\n",
              "      <td>NaN</td>\n",
              "    </tr>\n",
              "    <tr>\n",
              "      <th>1059</th>\n",
              "      <td>1059</td>\n",
              "      <td>환경부</td>\n",
              "      <td>효성화학 주식회사</td>\n",
              "      <td>2020</td>\n",
              "      <td>업체</td>\n",
              "      <td>산업</td>\n",
              "      <td>881,811</td>\n",
              "      <td>18,213</td>\n",
              "      <td>(재)한국품질재단</td>\n",
              "      <td>NaN</td>\n",
              "    </tr>\n",
              "    <tr>\n",
              "      <th>1060</th>\n",
              "      <td>1060</td>\n",
              "      <td>환경부</td>\n",
              "      <td>휴비스</td>\n",
              "      <td>2020</td>\n",
              "      <td>업체</td>\n",
              "      <td>산업</td>\n",
              "      <td>465,138</td>\n",
              "      <td>6,985</td>\n",
              "      <td>한국표준협회</td>\n",
              "      <td>NaN</td>\n",
              "    </tr>\n",
              "    <tr>\n",
              "      <th>1061</th>\n",
              "      <td>1061</td>\n",
              "      <td>환경부</td>\n",
              "      <td>휴켐스 주식회사</td>\n",
              "      <td>2020</td>\n",
              "      <td>사업장</td>\n",
              "      <td>산업</td>\n",
              "      <td>132,580</td>\n",
              "      <td>1,194</td>\n",
              "      <td>㈜한국품질보증원</td>\n",
              "      <td>NaN</td>\n",
              "    </tr>\n",
              "  </tbody>\n",
              "</table>\n",
              "<p>1061 rows × 10 columns</p>\n",
              "</div>"
            ],
            "text/plain": [
              "        번호 관장기관(주무관청)         관리업체  대상연도  ...      tCO2       TJ      검증수행기관   비고\n",
              "1        1      국토교통부      (유)호남고속  2020  ...   21,850      341   (주)한국경영인증원  NaN\n",
              "2        2      국토교통부      (주)경기고속  2020  ...  109,380    1,727      산림조합중앙회  NaN\n",
              "3        3      국토교통부      (주)경남고속  2020  ...   14,747      208   (주)한국경영인증원  NaN\n",
              "4        4      국토교통부     (주)공항리무진  2020  ...    6,755       96   (주)한국경영인증원  NaN\n",
              "5        5      국토교통부      (주)국민은행  2020  ...  111,653    1,697       한국표준협회  NaN\n",
              "...    ...        ...          ...   ...  ...       ...      ...         ...  ...\n",
              "1057  1057        환경부  효성첨단소재 주식회사  2020  ...  191,050    3,883    (재)한국품질재단  NaN\n",
              "1058  1058        환경부   효성티앤씨 주식회사  2020  ...  323,533    7,495    (재)한국품질재단  NaN\n",
              "1059  1059        환경부    효성화학 주식회사  2020  ...  881,811   18,213    (재)한국품질재단  NaN\n",
              "1060  1060        환경부          휴비스  2020  ...  465,138    6,985       한국표준협회  NaN\n",
              "1061  1061        환경부     휴켐스 주식회사  2020  ...  132,580    1,194     ㈜한국품질보증원  NaN\n",
              "\n",
              "[1061 rows x 10 columns]"
            ]
          },
          "metadata": {},
          "execution_count": 305
        }
      ]
    },
    {
      "cell_type": "code",
      "metadata": {
        "colab": {
          "base_uri": "https://localhost:8080/"
        },
        "id": "CSGZ8TU1uGTK",
        "outputId": "5f3ea95c-fff9-4e6e-a3b9-cd4158b42e2c"
      },
      "source": [
        "df.info()"
      ],
      "execution_count": 306,
      "outputs": [
        {
          "output_type": "stream",
          "name": "stdout",
          "text": [
            "<class 'pandas.core.frame.DataFrame'>\n",
            "RangeIndex: 1061 entries, 1 to 1061\n",
            "Data columns (total 10 columns):\n",
            " #   Column      Non-Null Count  Dtype \n",
            "---  ------      --------------  ----- \n",
            " 0   번호          1061 non-null   object\n",
            " 1   관장기관(주무관청)  1061 non-null   object\n",
            " 2   관리업체        1061 non-null   object\n",
            " 3   대상연도        1061 non-null   object\n",
            " 4   지정구분        1061 non-null   object\n",
            " 5   지정업종        1061 non-null   object\n",
            " 6   tCO2        1061 non-null   object\n",
            " 7   TJ          1061 non-null   object\n",
            " 8   검증수행기관      1061 non-null   object\n",
            " 9   비고          1 non-null      object\n",
            "dtypes: object(10)\n",
            "memory usage: 83.0+ KB\n"
          ]
        }
      ]
    },
    {
      "cell_type": "markdown",
      "metadata": {
        "id": "SAqN7gtM7-7n"
      },
      "source": [
        "## 데이터 전처리 (,제거)\n"
      ]
    },
    {
      "cell_type": "code",
      "metadata": {
        "id": "4kxil2FCOJPv"
      },
      "source": [
        "df_feature=df[['지정업종','tCO2','TJ']]"
      ],
      "execution_count": 307,
      "outputs": []
    },
    {
      "cell_type": "code",
      "metadata": {
        "colab": {
          "base_uri": "https://localhost:8080/"
        },
        "id": "DdnDixzENpe5",
        "outputId": "b9efe9d3-021e-4428-9ad4-69a404e3961d"
      },
      "source": [
        "df_feature['tCO2']=df_feature.tCO2.str.replace(',','')\n",
        "df_feature['tCO2']=df_feature.tCO2.drop(index=571,axis=0)\n",
        "df_feature['tCO2']=pd.to_numeric(df_feature['tCO2'])"
      ],
      "execution_count": 308,
      "outputs": [
        {
          "output_type": "stream",
          "name": "stderr",
          "text": [
            "/usr/local/lib/python3.7/dist-packages/ipykernel_launcher.py:1: SettingWithCopyWarning: \n",
            "A value is trying to be set on a copy of a slice from a DataFrame.\n",
            "Try using .loc[row_indexer,col_indexer] = value instead\n",
            "\n",
            "See the caveats in the documentation: https://pandas.pydata.org/pandas-docs/stable/user_guide/indexing.html#returning-a-view-versus-a-copy\n",
            "  \"\"\"Entry point for launching an IPython kernel.\n",
            "/usr/local/lib/python3.7/dist-packages/ipykernel_launcher.py:2: SettingWithCopyWarning: \n",
            "A value is trying to be set on a copy of a slice from a DataFrame.\n",
            "Try using .loc[row_indexer,col_indexer] = value instead\n",
            "\n",
            "See the caveats in the documentation: https://pandas.pydata.org/pandas-docs/stable/user_guide/indexing.html#returning-a-view-versus-a-copy\n",
            "  \n",
            "/usr/local/lib/python3.7/dist-packages/ipykernel_launcher.py:3: SettingWithCopyWarning: \n",
            "A value is trying to be set on a copy of a slice from a DataFrame.\n",
            "Try using .loc[row_indexer,col_indexer] = value instead\n",
            "\n",
            "See the caveats in the documentation: https://pandas.pydata.org/pandas-docs/stable/user_guide/indexing.html#returning-a-view-versus-a-copy\n",
            "  This is separate from the ipykernel package so we can avoid doing imports until\n"
          ]
        }
      ]
    },
    {
      "cell_type": "code",
      "metadata": {
        "colab": {
          "base_uri": "https://localhost:8080/"
        },
        "id": "mm0E1R9qmenP",
        "outputId": "a87a9411-0ebb-4cfb-d6db-390ace2a77e3"
      },
      "source": [
        "df_feature['TJ']=df_feature.TJ.str.replace(',','')\n",
        "df_feature['TJ']=df_feature.TJ.drop(571,axis=0)\n",
        "df_feature['TJ']=pd.to_numeric(df_feature['TJ'])"
      ],
      "execution_count": 309,
      "outputs": [
        {
          "output_type": "stream",
          "name": "stderr",
          "text": [
            "/usr/local/lib/python3.7/dist-packages/ipykernel_launcher.py:1: SettingWithCopyWarning: \n",
            "A value is trying to be set on a copy of a slice from a DataFrame.\n",
            "Try using .loc[row_indexer,col_indexer] = value instead\n",
            "\n",
            "See the caveats in the documentation: https://pandas.pydata.org/pandas-docs/stable/user_guide/indexing.html#returning-a-view-versus-a-copy\n",
            "  \"\"\"Entry point for launching an IPython kernel.\n",
            "/usr/local/lib/python3.7/dist-packages/ipykernel_launcher.py:2: SettingWithCopyWarning: \n",
            "A value is trying to be set on a copy of a slice from a DataFrame.\n",
            "Try using .loc[row_indexer,col_indexer] = value instead\n",
            "\n",
            "See the caveats in the documentation: https://pandas.pydata.org/pandas-docs/stable/user_guide/indexing.html#returning-a-view-versus-a-copy\n",
            "  \n",
            "/usr/local/lib/python3.7/dist-packages/ipykernel_launcher.py:3: SettingWithCopyWarning: \n",
            "A value is trying to be set on a copy of a slice from a DataFrame.\n",
            "Try using .loc[row_indexer,col_indexer] = value instead\n",
            "\n",
            "See the caveats in the documentation: https://pandas.pydata.org/pandas-docs/stable/user_guide/indexing.html#returning-a-view-versus-a-copy\n",
            "  This is separate from the ipykernel package so we can avoid doing imports until\n"
          ]
        }
      ]
    },
    {
      "cell_type": "code",
      "metadata": {
        "id": "C86eukSWKuFe"
      },
      "source": [
        "# X=df.iloc[:,:]"
      ],
      "execution_count": 310,
      "outputs": []
    },
    {
      "cell_type": "code",
      "metadata": {
        "colab": {
          "base_uri": "https://localhost:8080/"
        },
        "id": "J2Qk5id8Nyjg",
        "outputId": "d7dfad1d-4ae7-4ebc-c496-93dc3d7b2a85"
      },
      "source": [
        "df_feature['지정업종']=df_feature.지정업종.drop(index=571,axis=0)"
      ],
      "execution_count": 311,
      "outputs": [
        {
          "output_type": "stream",
          "name": "stderr",
          "text": [
            "/usr/local/lib/python3.7/dist-packages/ipykernel_launcher.py:1: SettingWithCopyWarning: \n",
            "A value is trying to be set on a copy of a slice from a DataFrame.\n",
            "Try using .loc[row_indexer,col_indexer] = value instead\n",
            "\n",
            "See the caveats in the documentation: https://pandas.pydata.org/pandas-docs/stable/user_guide/indexing.html#returning-a-view-versus-a-copy\n",
            "  \"\"\"Entry point for launching an IPython kernel.\n"
          ]
        }
      ]
    },
    {
      "cell_type": "code",
      "metadata": {
        "colab": {
          "base_uri": "https://localhost:8080/",
          "height": 607
        },
        "id": "_kGH7xIEGCwx",
        "outputId": "b47935fd-c092-4391-e54c-62bf97b85503"
      },
      "source": [
        "dfx_induty=pd.get_dummies(df_feature['지정업종'])\n",
        "dfx_induty"
      ],
      "execution_count": 312,
      "outputs": [
        {
          "output_type": "execute_result",
          "data": {
            "text/html": [
              "<div>\n",
              "<style scoped>\n",
              "    .dataframe tbody tr th:only-of-type {\n",
              "        vertical-align: middle;\n",
              "    }\n",
              "\n",
              "    .dataframe tbody tr th {\n",
              "        vertical-align: top;\n",
              "    }\n",
              "\n",
              "    .dataframe thead th {\n",
              "        text-align: right;\n",
              "    }\n",
              "</style>\n",
              "<table border=\"1\" class=\"dataframe\">\n",
              "  <thead>\n",
              "    <tr style=\"text-align: right;\">\n",
              "      <th></th>\n",
              "      <th>건물</th>\n",
              "      <th>건설</th>\n",
              "      <th>공공기타</th>\n",
              "      <th>광업</th>\n",
              "      <th>교통(여객)</th>\n",
              "      <th>교통(철도)</th>\n",
              "      <th>교통(해운)</th>\n",
              "      <th>교통(화물)</th>\n",
              "      <th>기계</th>\n",
              "      <th>담배제조업</th>\n",
              "      <th>반도체</th>\n",
              "      <th>반도체.디스플레이.전기전자</th>\n",
              "      <th>발전에너지</th>\n",
              "      <th>비철금속</th>\n",
              "      <th>산업</th>\n",
              "      <th>산업단지</th>\n",
              "      <th>석유화학</th>\n",
              "      <th>섬유</th>\n",
              "      <th>수송</th>\n",
              "      <th>시멘트</th>\n",
              "      <th>식료품 제조업</th>\n",
              "      <th>요업</th>\n",
              "      <th>유리</th>\n",
              "      <th>유리 · 요업</th>\n",
              "      <th>음료제조업</th>\n",
              "      <th>자동차</th>\n",
              "      <th>전기전자</th>\n",
              "      <th>전환</th>\n",
              "      <th>제지</th>\n",
              "      <th>조선</th>\n",
              "      <th>지정외 폐기물처리업</th>\n",
              "      <th>지정외 폐기물처리업 등</th>\n",
              "      <th>집단에너지</th>\n",
              "      <th>철강</th>\n",
              "      <th>통신</th>\n",
              "      <th>폐기물</th>\n",
              "      <th>하수처리업</th>\n",
              "    </tr>\n",
              "  </thead>\n",
              "  <tbody>\n",
              "    <tr>\n",
              "      <th>1</th>\n",
              "      <td>0</td>\n",
              "      <td>0</td>\n",
              "      <td>0</td>\n",
              "      <td>0</td>\n",
              "      <td>1</td>\n",
              "      <td>0</td>\n",
              "      <td>0</td>\n",
              "      <td>0</td>\n",
              "      <td>0</td>\n",
              "      <td>0</td>\n",
              "      <td>0</td>\n",
              "      <td>0</td>\n",
              "      <td>0</td>\n",
              "      <td>0</td>\n",
              "      <td>0</td>\n",
              "      <td>0</td>\n",
              "      <td>0</td>\n",
              "      <td>0</td>\n",
              "      <td>0</td>\n",
              "      <td>0</td>\n",
              "      <td>0</td>\n",
              "      <td>0</td>\n",
              "      <td>0</td>\n",
              "      <td>0</td>\n",
              "      <td>0</td>\n",
              "      <td>0</td>\n",
              "      <td>0</td>\n",
              "      <td>0</td>\n",
              "      <td>0</td>\n",
              "      <td>0</td>\n",
              "      <td>0</td>\n",
              "      <td>0</td>\n",
              "      <td>0</td>\n",
              "      <td>0</td>\n",
              "      <td>0</td>\n",
              "      <td>0</td>\n",
              "      <td>0</td>\n",
              "    </tr>\n",
              "    <tr>\n",
              "      <th>2</th>\n",
              "      <td>0</td>\n",
              "      <td>0</td>\n",
              "      <td>0</td>\n",
              "      <td>0</td>\n",
              "      <td>1</td>\n",
              "      <td>0</td>\n",
              "      <td>0</td>\n",
              "      <td>0</td>\n",
              "      <td>0</td>\n",
              "      <td>0</td>\n",
              "      <td>0</td>\n",
              "      <td>0</td>\n",
              "      <td>0</td>\n",
              "      <td>0</td>\n",
              "      <td>0</td>\n",
              "      <td>0</td>\n",
              "      <td>0</td>\n",
              "      <td>0</td>\n",
              "      <td>0</td>\n",
              "      <td>0</td>\n",
              "      <td>0</td>\n",
              "      <td>0</td>\n",
              "      <td>0</td>\n",
              "      <td>0</td>\n",
              "      <td>0</td>\n",
              "      <td>0</td>\n",
              "      <td>0</td>\n",
              "      <td>0</td>\n",
              "      <td>0</td>\n",
              "      <td>0</td>\n",
              "      <td>0</td>\n",
              "      <td>0</td>\n",
              "      <td>0</td>\n",
              "      <td>0</td>\n",
              "      <td>0</td>\n",
              "      <td>0</td>\n",
              "      <td>0</td>\n",
              "    </tr>\n",
              "    <tr>\n",
              "      <th>3</th>\n",
              "      <td>0</td>\n",
              "      <td>0</td>\n",
              "      <td>0</td>\n",
              "      <td>0</td>\n",
              "      <td>1</td>\n",
              "      <td>0</td>\n",
              "      <td>0</td>\n",
              "      <td>0</td>\n",
              "      <td>0</td>\n",
              "      <td>0</td>\n",
              "      <td>0</td>\n",
              "      <td>0</td>\n",
              "      <td>0</td>\n",
              "      <td>0</td>\n",
              "      <td>0</td>\n",
              "      <td>0</td>\n",
              "      <td>0</td>\n",
              "      <td>0</td>\n",
              "      <td>0</td>\n",
              "      <td>0</td>\n",
              "      <td>0</td>\n",
              "      <td>0</td>\n",
              "      <td>0</td>\n",
              "      <td>0</td>\n",
              "      <td>0</td>\n",
              "      <td>0</td>\n",
              "      <td>0</td>\n",
              "      <td>0</td>\n",
              "      <td>0</td>\n",
              "      <td>0</td>\n",
              "      <td>0</td>\n",
              "      <td>0</td>\n",
              "      <td>0</td>\n",
              "      <td>0</td>\n",
              "      <td>0</td>\n",
              "      <td>0</td>\n",
              "      <td>0</td>\n",
              "    </tr>\n",
              "    <tr>\n",
              "      <th>4</th>\n",
              "      <td>0</td>\n",
              "      <td>0</td>\n",
              "      <td>0</td>\n",
              "      <td>0</td>\n",
              "      <td>1</td>\n",
              "      <td>0</td>\n",
              "      <td>0</td>\n",
              "      <td>0</td>\n",
              "      <td>0</td>\n",
              "      <td>0</td>\n",
              "      <td>0</td>\n",
              "      <td>0</td>\n",
              "      <td>0</td>\n",
              "      <td>0</td>\n",
              "      <td>0</td>\n",
              "      <td>0</td>\n",
              "      <td>0</td>\n",
              "      <td>0</td>\n",
              "      <td>0</td>\n",
              "      <td>0</td>\n",
              "      <td>0</td>\n",
              "      <td>0</td>\n",
              "      <td>0</td>\n",
              "      <td>0</td>\n",
              "      <td>0</td>\n",
              "      <td>0</td>\n",
              "      <td>0</td>\n",
              "      <td>0</td>\n",
              "      <td>0</td>\n",
              "      <td>0</td>\n",
              "      <td>0</td>\n",
              "      <td>0</td>\n",
              "      <td>0</td>\n",
              "      <td>0</td>\n",
              "      <td>0</td>\n",
              "      <td>0</td>\n",
              "      <td>0</td>\n",
              "    </tr>\n",
              "    <tr>\n",
              "      <th>5</th>\n",
              "      <td>1</td>\n",
              "      <td>0</td>\n",
              "      <td>0</td>\n",
              "      <td>0</td>\n",
              "      <td>0</td>\n",
              "      <td>0</td>\n",
              "      <td>0</td>\n",
              "      <td>0</td>\n",
              "      <td>0</td>\n",
              "      <td>0</td>\n",
              "      <td>0</td>\n",
              "      <td>0</td>\n",
              "      <td>0</td>\n",
              "      <td>0</td>\n",
              "      <td>0</td>\n",
              "      <td>0</td>\n",
              "      <td>0</td>\n",
              "      <td>0</td>\n",
              "      <td>0</td>\n",
              "      <td>0</td>\n",
              "      <td>0</td>\n",
              "      <td>0</td>\n",
              "      <td>0</td>\n",
              "      <td>0</td>\n",
              "      <td>0</td>\n",
              "      <td>0</td>\n",
              "      <td>0</td>\n",
              "      <td>0</td>\n",
              "      <td>0</td>\n",
              "      <td>0</td>\n",
              "      <td>0</td>\n",
              "      <td>0</td>\n",
              "      <td>0</td>\n",
              "      <td>0</td>\n",
              "      <td>0</td>\n",
              "      <td>0</td>\n",
              "      <td>0</td>\n",
              "    </tr>\n",
              "    <tr>\n",
              "      <th>...</th>\n",
              "      <td>...</td>\n",
              "      <td>...</td>\n",
              "      <td>...</td>\n",
              "      <td>...</td>\n",
              "      <td>...</td>\n",
              "      <td>...</td>\n",
              "      <td>...</td>\n",
              "      <td>...</td>\n",
              "      <td>...</td>\n",
              "      <td>...</td>\n",
              "      <td>...</td>\n",
              "      <td>...</td>\n",
              "      <td>...</td>\n",
              "      <td>...</td>\n",
              "      <td>...</td>\n",
              "      <td>...</td>\n",
              "      <td>...</td>\n",
              "      <td>...</td>\n",
              "      <td>...</td>\n",
              "      <td>...</td>\n",
              "      <td>...</td>\n",
              "      <td>...</td>\n",
              "      <td>...</td>\n",
              "      <td>...</td>\n",
              "      <td>...</td>\n",
              "      <td>...</td>\n",
              "      <td>...</td>\n",
              "      <td>...</td>\n",
              "      <td>...</td>\n",
              "      <td>...</td>\n",
              "      <td>...</td>\n",
              "      <td>...</td>\n",
              "      <td>...</td>\n",
              "      <td>...</td>\n",
              "      <td>...</td>\n",
              "      <td>...</td>\n",
              "      <td>...</td>\n",
              "    </tr>\n",
              "    <tr>\n",
              "      <th>1057</th>\n",
              "      <td>0</td>\n",
              "      <td>0</td>\n",
              "      <td>0</td>\n",
              "      <td>0</td>\n",
              "      <td>0</td>\n",
              "      <td>0</td>\n",
              "      <td>0</td>\n",
              "      <td>0</td>\n",
              "      <td>0</td>\n",
              "      <td>0</td>\n",
              "      <td>0</td>\n",
              "      <td>0</td>\n",
              "      <td>0</td>\n",
              "      <td>0</td>\n",
              "      <td>1</td>\n",
              "      <td>0</td>\n",
              "      <td>0</td>\n",
              "      <td>0</td>\n",
              "      <td>0</td>\n",
              "      <td>0</td>\n",
              "      <td>0</td>\n",
              "      <td>0</td>\n",
              "      <td>0</td>\n",
              "      <td>0</td>\n",
              "      <td>0</td>\n",
              "      <td>0</td>\n",
              "      <td>0</td>\n",
              "      <td>0</td>\n",
              "      <td>0</td>\n",
              "      <td>0</td>\n",
              "      <td>0</td>\n",
              "      <td>0</td>\n",
              "      <td>0</td>\n",
              "      <td>0</td>\n",
              "      <td>0</td>\n",
              "      <td>0</td>\n",
              "      <td>0</td>\n",
              "    </tr>\n",
              "    <tr>\n",
              "      <th>1058</th>\n",
              "      <td>0</td>\n",
              "      <td>0</td>\n",
              "      <td>0</td>\n",
              "      <td>0</td>\n",
              "      <td>0</td>\n",
              "      <td>0</td>\n",
              "      <td>0</td>\n",
              "      <td>0</td>\n",
              "      <td>0</td>\n",
              "      <td>0</td>\n",
              "      <td>0</td>\n",
              "      <td>0</td>\n",
              "      <td>0</td>\n",
              "      <td>0</td>\n",
              "      <td>1</td>\n",
              "      <td>0</td>\n",
              "      <td>0</td>\n",
              "      <td>0</td>\n",
              "      <td>0</td>\n",
              "      <td>0</td>\n",
              "      <td>0</td>\n",
              "      <td>0</td>\n",
              "      <td>0</td>\n",
              "      <td>0</td>\n",
              "      <td>0</td>\n",
              "      <td>0</td>\n",
              "      <td>0</td>\n",
              "      <td>0</td>\n",
              "      <td>0</td>\n",
              "      <td>0</td>\n",
              "      <td>0</td>\n",
              "      <td>0</td>\n",
              "      <td>0</td>\n",
              "      <td>0</td>\n",
              "      <td>0</td>\n",
              "      <td>0</td>\n",
              "      <td>0</td>\n",
              "    </tr>\n",
              "    <tr>\n",
              "      <th>1059</th>\n",
              "      <td>0</td>\n",
              "      <td>0</td>\n",
              "      <td>0</td>\n",
              "      <td>0</td>\n",
              "      <td>0</td>\n",
              "      <td>0</td>\n",
              "      <td>0</td>\n",
              "      <td>0</td>\n",
              "      <td>0</td>\n",
              "      <td>0</td>\n",
              "      <td>0</td>\n",
              "      <td>0</td>\n",
              "      <td>0</td>\n",
              "      <td>0</td>\n",
              "      <td>1</td>\n",
              "      <td>0</td>\n",
              "      <td>0</td>\n",
              "      <td>0</td>\n",
              "      <td>0</td>\n",
              "      <td>0</td>\n",
              "      <td>0</td>\n",
              "      <td>0</td>\n",
              "      <td>0</td>\n",
              "      <td>0</td>\n",
              "      <td>0</td>\n",
              "      <td>0</td>\n",
              "      <td>0</td>\n",
              "      <td>0</td>\n",
              "      <td>0</td>\n",
              "      <td>0</td>\n",
              "      <td>0</td>\n",
              "      <td>0</td>\n",
              "      <td>0</td>\n",
              "      <td>0</td>\n",
              "      <td>0</td>\n",
              "      <td>0</td>\n",
              "      <td>0</td>\n",
              "    </tr>\n",
              "    <tr>\n",
              "      <th>1060</th>\n",
              "      <td>0</td>\n",
              "      <td>0</td>\n",
              "      <td>0</td>\n",
              "      <td>0</td>\n",
              "      <td>0</td>\n",
              "      <td>0</td>\n",
              "      <td>0</td>\n",
              "      <td>0</td>\n",
              "      <td>0</td>\n",
              "      <td>0</td>\n",
              "      <td>0</td>\n",
              "      <td>0</td>\n",
              "      <td>0</td>\n",
              "      <td>0</td>\n",
              "      <td>1</td>\n",
              "      <td>0</td>\n",
              "      <td>0</td>\n",
              "      <td>0</td>\n",
              "      <td>0</td>\n",
              "      <td>0</td>\n",
              "      <td>0</td>\n",
              "      <td>0</td>\n",
              "      <td>0</td>\n",
              "      <td>0</td>\n",
              "      <td>0</td>\n",
              "      <td>0</td>\n",
              "      <td>0</td>\n",
              "      <td>0</td>\n",
              "      <td>0</td>\n",
              "      <td>0</td>\n",
              "      <td>0</td>\n",
              "      <td>0</td>\n",
              "      <td>0</td>\n",
              "      <td>0</td>\n",
              "      <td>0</td>\n",
              "      <td>0</td>\n",
              "      <td>0</td>\n",
              "    </tr>\n",
              "    <tr>\n",
              "      <th>1061</th>\n",
              "      <td>0</td>\n",
              "      <td>0</td>\n",
              "      <td>0</td>\n",
              "      <td>0</td>\n",
              "      <td>0</td>\n",
              "      <td>0</td>\n",
              "      <td>0</td>\n",
              "      <td>0</td>\n",
              "      <td>0</td>\n",
              "      <td>0</td>\n",
              "      <td>0</td>\n",
              "      <td>0</td>\n",
              "      <td>0</td>\n",
              "      <td>0</td>\n",
              "      <td>1</td>\n",
              "      <td>0</td>\n",
              "      <td>0</td>\n",
              "      <td>0</td>\n",
              "      <td>0</td>\n",
              "      <td>0</td>\n",
              "      <td>0</td>\n",
              "      <td>0</td>\n",
              "      <td>0</td>\n",
              "      <td>0</td>\n",
              "      <td>0</td>\n",
              "      <td>0</td>\n",
              "      <td>0</td>\n",
              "      <td>0</td>\n",
              "      <td>0</td>\n",
              "      <td>0</td>\n",
              "      <td>0</td>\n",
              "      <td>0</td>\n",
              "      <td>0</td>\n",
              "      <td>0</td>\n",
              "      <td>0</td>\n",
              "      <td>0</td>\n",
              "      <td>0</td>\n",
              "    </tr>\n",
              "  </tbody>\n",
              "</table>\n",
              "<p>1061 rows × 37 columns</p>\n",
              "</div>"
            ],
            "text/plain": [
              "      건물  건설  공공기타  광업  교통(여객)  교통(철도)  ...  지정외 폐기물처리업 등  집단에너지  철강  통신  폐기물  하수처리업\n",
              "1      0   0     0   0       1       0  ...             0      0   0   0    0      0\n",
              "2      0   0     0   0       1       0  ...             0      0   0   0    0      0\n",
              "3      0   0     0   0       1       0  ...             0      0   0   0    0      0\n",
              "4      0   0     0   0       1       0  ...             0      0   0   0    0      0\n",
              "5      1   0     0   0       0       0  ...             0      0   0   0    0      0\n",
              "...   ..  ..   ...  ..     ...     ...  ...           ...    ...  ..  ..  ...    ...\n",
              "1057   0   0     0   0       0       0  ...             0      0   0   0    0      0\n",
              "1058   0   0     0   0       0       0  ...             0      0   0   0    0      0\n",
              "1059   0   0     0   0       0       0  ...             0      0   0   0    0      0\n",
              "1060   0   0     0   0       0       0  ...             0      0   0   0    0      0\n",
              "1061   0   0     0   0       0       0  ...             0      0   0   0    0      0\n",
              "\n",
              "[1061 rows x 37 columns]"
            ]
          },
          "metadata": {},
          "execution_count": 312
        }
      ]
    },
    {
      "cell_type": "code",
      "metadata": {
        "colab": {
          "base_uri": "https://localhost:8080/"
        },
        "id": "jFhFrk04OAPn",
        "outputId": "4022de9b-8a56-4a2f-cfdd-75468bd1fc3e"
      },
      "source": [
        "df_feature.info()"
      ],
      "execution_count": 313,
      "outputs": [
        {
          "output_type": "stream",
          "name": "stdout",
          "text": [
            "<class 'pandas.core.frame.DataFrame'>\n",
            "RangeIndex: 1061 entries, 1 to 1061\n",
            "Data columns (total 3 columns):\n",
            " #   Column  Non-Null Count  Dtype  \n",
            "---  ------  --------------  -----  \n",
            " 0   지정업종    1060 non-null   object \n",
            " 1   tCO2    1060 non-null   float64\n",
            " 2   TJ      1060 non-null   float64\n",
            "dtypes: float64(2), object(1)\n",
            "memory usage: 25.0+ KB\n"
          ]
        }
      ]
    },
    {
      "cell_type": "code",
      "metadata": {
        "id": "QNdiyhKBvoyh"
      },
      "source": [
        "from sklearn.preprocessing import StandardScaler\n",
        "scaler=StandardScaler()"
      ],
      "execution_count": 314,
      "outputs": []
    },
    {
      "cell_type": "code",
      "metadata": {
        "id": "tTFMFv6GvwsU"
      },
      "source": [
        "scaler.fit(dfx_induty)\n",
        "dfx_induty=scaler.transform(dfx_induty)"
      ],
      "execution_count": 315,
      "outputs": []
    },
    {
      "cell_type": "markdown",
      "metadata": {
        "id": "IzIQggVJBhN4"
      },
      "source": [
        "# 군집분석(KMeans)"
      ]
    },
    {
      "cell_type": "markdown",
      "metadata": {
        "id": "Sec69oZG3m-L"
      },
      "source": [
        "## Make model, traing and prediction"
      ]
    },
    {
      "cell_type": "code",
      "metadata": {
        "id": "fOmZnveUL0VP"
      },
      "source": [
        "from sklearn.cluster import KMeans"
      ],
      "execution_count": 316,
      "outputs": []
    },
    {
      "cell_type": "code",
      "metadata": {
        "id": "kDCIi_L9L4Lf"
      },
      "source": [
        "model=KMeans(n_clusters=37,random_state=0,algorithm='auto')"
      ],
      "execution_count": 317,
      "outputs": []
    },
    {
      "cell_type": "code",
      "metadata": {
        "colab": {
          "base_uri": "https://localhost:8080/"
        },
        "id": "IvQ6YIiBL-38",
        "outputId": "2e42510c-d96d-4221-b9c7-d1e257c01a42"
      },
      "source": [
        "model.fit(dfx_induty)"
      ],
      "execution_count": 318,
      "outputs": [
        {
          "output_type": "execute_result",
          "data": {
            "text/plain": [
              "KMeans(algorithm='auto', copy_x=True, init='k-means++', max_iter=300,\n",
              "       n_clusters=37, n_init=10, n_jobs=None, precompute_distances='auto',\n",
              "       random_state=0, tol=0.0001, verbose=0)"
            ]
          },
          "metadata": {},
          "execution_count": 318
        }
      ]
    },
    {
      "cell_type": "code",
      "metadata": {
        "colab": {
          "base_uri": "https://localhost:8080/"
        },
        "id": "3mTOrmeGMDho",
        "outputId": "07e5c2b1-9a0d-4fdc-f2bb-31d9aaefc44e"
      },
      "source": [
        "model.labels_"
      ],
      "execution_count": 319,
      "outputs": [
        {
          "output_type": "execute_result",
          "data": {
            "text/plain": [
              "array([4, 4, 4, ..., 3, 3, 3], dtype=int32)"
            ]
          },
          "metadata": {},
          "execution_count": 319
        }
      ]
    },
    {
      "cell_type": "code",
      "metadata": {
        "colab": {
          "base_uri": "https://localhost:8080/"
        },
        "id": "XAnyl8QUMIj5",
        "outputId": "a5784bac-8fbf-4882-f12d-47cb53af22a9"
      },
      "source": [
        "df_feature['지정업종']=model.labels_"
      ],
      "execution_count": 320,
      "outputs": [
        {
          "output_type": "stream",
          "name": "stderr",
          "text": [
            "/usr/local/lib/python3.7/dist-packages/ipykernel_launcher.py:1: SettingWithCopyWarning: \n",
            "A value is trying to be set on a copy of a slice from a DataFrame.\n",
            "Try using .loc[row_indexer,col_indexer] = value instead\n",
            "\n",
            "See the caveats in the documentation: https://pandas.pydata.org/pandas-docs/stable/user_guide/indexing.html#returning-a-view-versus-a-copy\n",
            "  \"\"\"Entry point for launching an IPython kernel.\n"
          ]
        }
      ]
    },
    {
      "cell_type": "code",
      "metadata": {
        "id": "SW384ogl6aq-"
      },
      "source": [
        "pred = pd.DataFrame(model.predict(dfx_induty))\n",
        "pred.columns=['pred']\n",
        "\n",
        "# concatenate labels to df as a new column\n",
        "r = pd.concat([df_feature,pred],axis=1)\n",
        "r = r.dropna()"
      ],
      "execution_count": 321,
      "outputs": []
    },
    {
      "cell_type": "code",
      "metadata": {
        "colab": {
          "base_uri": "https://localhost:8080/"
        },
        "id": "gv0LBRyZMTdF",
        "outputId": "68eb55bb-d26b-42fa-c4a4-55b8328e914f"
      },
      "source": [
        " print(r)"
      ],
      "execution_count": 322,
      "outputs": [
        {
          "output_type": "stream",
          "name": "stdout",
          "text": [
            "      지정업종      tCO2       TJ  pred\n",
            "1      4.0   21850.0    341.0   4.0\n",
            "2      4.0  109380.0   1727.0   4.0\n",
            "3      4.0   14747.0    208.0   4.0\n",
            "4      4.0    6755.0     96.0   7.0\n",
            "5      7.0  111653.0   1697.0   4.0\n",
            "...    ...       ...      ...   ...\n",
            "1056   3.0   57458.0   1195.0   3.0\n",
            "1057   3.0  191050.0   3883.0   3.0\n",
            "1058   3.0  323533.0   7495.0   3.0\n",
            "1059   3.0  881811.0  18213.0   3.0\n",
            "1060   3.0  465138.0   6985.0   3.0\n",
            "\n",
            "[1059 rows x 4 columns]\n"
          ]
        }
      ]
    },
    {
      "cell_type": "markdown",
      "metadata": {
        "id": "nuwCMrup4M2h"
      },
      "source": [
        "### Visualize result"
      ]
    },
    {
      "cell_type": "code",
      "metadata": {
        "id": "7_fXhTglOfJk"
      },
      "source": [
        "import matplotlib.pyplot as plt"
      ],
      "execution_count": 323,
      "outputs": []
    },
    {
      "cell_type": "code",
      "metadata": {
        "colab": {
          "base_uri": "https://localhost:8080/",
          "height": 276
        },
        "id": "GBZh10INOF-V",
        "outputId": "72164d1d-bf7f-4485-e803-e7c1e74bd932"
      },
      "source": [
        "centers = pd.DataFrame(model.cluster_centers_)\n",
        "center_x = centers[0]\n",
        "center_y = centers[1]\n",
        "\n",
        "# scatter plot\n",
        "plt.scatter(r['지정업종'],r['tCO2'],c=r['pred'])\n",
        "plt.scatter(center_x,center_y,s=50,marker='D',c='r')\n",
        "plt.show()"
      ],
      "execution_count": 342,
      "outputs": [
        {
          "output_type": "display_data",
          "data": {
            "image/png": "[encoded data removed]",
            "text/plain": [
              "<Figure size 432x288 with 1 Axes>"
            ]
          },
          "metadata": {
            "needs_background": "light"
          }
        }
      ]
    },
    {
      "cell_type": "markdown",
      "metadata": {
        "id": "MstNPbZE6MWN"
      },
      "source": [
        "## k-means clustering"
      ]
    },
    {
      "cell_type": "code",
      "metadata": {
        "colab": {
          "base_uri": "https://localhost:8080/",
          "height": 293
        },
        "id": "8ecyS3Gzqh-J",
        "outputId": "0ffaa1c0-75a4-4e4a-facb-465eb3a16dfb"
      },
      "source": [
        "plt.scatter(x='지정업종',y='tCO2',data=df_feature)"
      ],
      "execution_count": 326,
      "outputs": [
        {
          "output_type": "execute_result",
          "data": {
            "text/plain": [
              "<matplotlib.collections.PathCollection at 0x7fd2ef200790>"
            ]
          },
          "metadata": {},
          "execution_count": 326
        },
        {
          "output_type": "display_data",
          "data": {
            "image/png": "[encoded data removed]",
            "text/plain": [
              "<Figure size 432x288 with 1 Axes>"
            ]
          },
          "metadata": {
            "needs_background": "light"
          }
        }
      ]
    },
    {
      "cell_type": "code",
      "metadata": {
        "id": "iuTn-4Vu5mlY"
      },
      "source": [
        "import scipy as sp"
      ],
      "execution_count": 327,
      "outputs": []
    },
    {
      "cell_type": "code",
      "metadata": {
        "id": "Y9BcKWpR6QEd",
        "colab": {
          "base_uri": "https://localhost:8080/",
          "height": 200
        },
        "outputId": "b4e21737-d558-475b-b83d-0907649d03a9"
      },
      "source": [
        "points = df_feature[['tCO2', '지정업종']]\n",
        "points.head()"
      ],
      "execution_count": 328,
      "outputs": [
        {
          "output_type": "execute_result",
          "data": {
            "text/html": [
              "<div>\n",
              "<style scoped>\n",
              "    .dataframe tbody tr th:only-of-type {\n",
              "        vertical-align: middle;\n",
              "    }\n",
              "\n",
              "    .dataframe tbody tr th {\n",
              "        vertical-align: top;\n",
              "    }\n",
              "\n",
              "    .dataframe thead th {\n",
              "        text-align: right;\n",
              "    }\n",
              "</style>\n",
              "<table border=\"1\" class=\"dataframe\">\n",
              "  <thead>\n",
              "    <tr style=\"text-align: right;\">\n",
              "      <th></th>\n",
              "      <th>tCO2</th>\n",
              "      <th>지정업종</th>\n",
              "    </tr>\n",
              "  </thead>\n",
              "  <tbody>\n",
              "    <tr>\n",
              "      <th>1</th>\n",
              "      <td>21850.0</td>\n",
              "      <td>4</td>\n",
              "    </tr>\n",
              "    <tr>\n",
              "      <th>2</th>\n",
              "      <td>109380.0</td>\n",
              "      <td>4</td>\n",
              "    </tr>\n",
              "    <tr>\n",
              "      <th>3</th>\n",
              "      <td>14747.0</td>\n",
              "      <td>4</td>\n",
              "    </tr>\n",
              "    <tr>\n",
              "      <th>4</th>\n",
              "      <td>6755.0</td>\n",
              "      <td>4</td>\n",
              "    </tr>\n",
              "    <tr>\n",
              "      <th>5</th>\n",
              "      <td>111653.0</td>\n",
              "      <td>7</td>\n",
              "    </tr>\n",
              "  </tbody>\n",
              "</table>\n",
              "</div>"
            ],
            "text/plain": [
              "       tCO2  지정업종\n",
              "1   21850.0     4\n",
              "2  109380.0     4\n",
              "3   14747.0     4\n",
              "4    6755.0     4\n",
              "5  111653.0     7"
            ]
          },
          "metadata": {},
          "execution_count": 328
        }
      ]
    },
    {
      "cell_type": "code",
      "metadata": {
        "id": "OmuGrwV4537j",
        "colab": {
          "base_uri": "https://localhost:8080/",
          "height": 1000
        },
        "outputId": "35bdceb5-fdfd-4246-8f24-60a34e36dce1"
      },
      "source": [
        "centroids = points.sample(37, random_state=0)\n",
        "centroids"
      ],
      "execution_count": 329,
      "outputs": [
        {
          "output_type": "execute_result",
          "data": {
            "text/html": [
              "<div>\n",
              "<style scoped>\n",
              "    .dataframe tbody tr th:only-of-type {\n",
              "        vertical-align: middle;\n",
              "    }\n",
              "\n",
              "    .dataframe tbody tr th {\n",
              "        vertical-align: top;\n",
              "    }\n",
              "\n",
              "    .dataframe thead th {\n",
              "        text-align: right;\n",
              "    }\n",
              "</style>\n",
              "<table border=\"1\" class=\"dataframe\">\n",
              "  <thead>\n",
              "    <tr style=\"text-align: right;\">\n",
              "      <th></th>\n",
              "      <th>tCO2</th>\n",
              "      <th>지정업종</th>\n",
              "    </tr>\n",
              "  </thead>\n",
              "  <tbody>\n",
              "    <tr>\n",
              "      <th>419</th>\n",
              "      <td>28972.0</td>\n",
              "      <td>3</td>\n",
              "    </tr>\n",
              "    <tr>\n",
              "      <th>203</th>\n",
              "      <td>13860.0</td>\n",
              "      <td>10</td>\n",
              "    </tr>\n",
              "    <tr>\n",
              "      <th>683</th>\n",
              "      <td>37.0</td>\n",
              "      <td>3</td>\n",
              "    </tr>\n",
              "    <tr>\n",
              "      <th>317</th>\n",
              "      <td>14403.0</td>\n",
              "      <td>23</td>\n",
              "    </tr>\n",
              "    <tr>\n",
              "      <th>268</th>\n",
              "      <td>11072.0</td>\n",
              "      <td>10</td>\n",
              "    </tr>\n",
              "    <tr>\n",
              "      <th>791</th>\n",
              "      <td>346185.0</td>\n",
              "      <td>3</td>\n",
              "    </tr>\n",
              "    <tr>\n",
              "      <th>937</th>\n",
              "      <td>36750.0</td>\n",
              "      <td>3</td>\n",
              "    </tr>\n",
              "    <tr>\n",
              "      <th>296</th>\n",
              "      <td>14387.0</td>\n",
              "      <td>8</td>\n",
              "    </tr>\n",
              "    <tr>\n",
              "      <th>625</th>\n",
              "      <td>322315.0</td>\n",
              "      <td>3</td>\n",
              "    </tr>\n",
              "    <tr>\n",
              "      <th>982</th>\n",
              "      <td>129666.0</td>\n",
              "      <td>3</td>\n",
              "    </tr>\n",
              "    <tr>\n",
              "      <th>705</th>\n",
              "      <td>151456.0</td>\n",
              "      <td>3</td>\n",
              "    </tr>\n",
              "    <tr>\n",
              "      <th>76</th>\n",
              "      <td>23413.0</td>\n",
              "      <td>4</td>\n",
              "    </tr>\n",
              "    <tr>\n",
              "      <th>28</th>\n",
              "      <td>28979.0</td>\n",
              "      <td>19</td>\n",
              "    </tr>\n",
              "    <tr>\n",
              "      <th>316</th>\n",
              "      <td>16333.0</td>\n",
              "      <td>27</td>\n",
              "    </tr>\n",
              "    <tr>\n",
              "      <th>751</th>\n",
              "      <td>31031.0</td>\n",
              "      <td>3</td>\n",
              "    </tr>\n",
              "    <tr>\n",
              "      <th>32</th>\n",
              "      <td>40790.0</td>\n",
              "      <td>4</td>\n",
              "    </tr>\n",
              "    <tr>\n",
              "      <th>829</th>\n",
              "      <td>216064.0</td>\n",
              "      <td>2</td>\n",
              "    </tr>\n",
              "    <tr>\n",
              "      <th>480</th>\n",
              "      <td>30657.0</td>\n",
              "      <td>3</td>\n",
              "    </tr>\n",
              "    <tr>\n",
              "      <th>885</th>\n",
              "      <td>2057228.0</td>\n",
              "      <td>1</td>\n",
              "    </tr>\n",
              "    <tr>\n",
              "      <th>558</th>\n",
              "      <td>72082.0</td>\n",
              "      <td>32</td>\n",
              "    </tr>\n",
              "    <tr>\n",
              "      <th>379</th>\n",
              "      <td>17543.0</td>\n",
              "      <td>9</td>\n",
              "    </tr>\n",
              "    <tr>\n",
              "      <th>932</th>\n",
              "      <td>386822.0</td>\n",
              "      <td>3</td>\n",
              "    </tr>\n",
              "    <tr>\n",
              "      <th>280</th>\n",
              "      <td>22941.0</td>\n",
              "      <td>16</td>\n",
              "    </tr>\n",
              "    <tr>\n",
              "      <th>531</th>\n",
              "      <td>164832.0</td>\n",
              "      <td>2</td>\n",
              "    </tr>\n",
              "    <tr>\n",
              "      <th>614</th>\n",
              "      <td>90447.0</td>\n",
              "      <td>3</td>\n",
              "    </tr>\n",
              "    <tr>\n",
              "      <th>312</th>\n",
              "      <td>2105680.0</td>\n",
              "      <td>25</td>\n",
              "    </tr>\n",
              "    <tr>\n",
              "      <th>487</th>\n",
              "      <td>190062.0</td>\n",
              "      <td>2</td>\n",
              "    </tr>\n",
              "    <tr>\n",
              "      <th>396</th>\n",
              "      <td>6574.0</td>\n",
              "      <td>14</td>\n",
              "    </tr>\n",
              "    <tr>\n",
              "      <th>331</th>\n",
              "      <td>16340.0</td>\n",
              "      <td>10</td>\n",
              "    </tr>\n",
              "    <tr>\n",
              "      <th>123</th>\n",
              "      <td>59554.0</td>\n",
              "      <td>7</td>\n",
              "    </tr>\n",
              "    <tr>\n",
              "      <th>501</th>\n",
              "      <td>1187390.0</td>\n",
              "      <td>1</td>\n",
              "    </tr>\n",
              "    <tr>\n",
              "      <th>895</th>\n",
              "      <td>411703.0</td>\n",
              "      <td>2</td>\n",
              "    </tr>\n",
              "    <tr>\n",
              "      <th>554</th>\n",
              "      <td>1799605.0</td>\n",
              "      <td>1</td>\n",
              "    </tr>\n",
              "    <tr>\n",
              "      <th>98</th>\n",
              "      <td>15878.0</td>\n",
              "      <td>7</td>\n",
              "    </tr>\n",
              "    <tr>\n",
              "      <th>248</th>\n",
              "      <td>18372.0</td>\n",
              "      <td>9</td>\n",
              "    </tr>\n",
              "    <tr>\n",
              "      <th>359</th>\n",
              "      <td>66031.0</td>\n",
              "      <td>21</td>\n",
              "    </tr>\n",
              "    <tr>\n",
              "      <th>628</th>\n",
              "      <td>122722.0</td>\n",
              "      <td>3</td>\n",
              "    </tr>\n",
              "  </tbody>\n",
              "</table>\n",
              "</div>"
            ],
            "text/plain": [
              "          tCO2  지정업종\n",
              "419    28972.0     3\n",
              "203    13860.0    10\n",
              "683       37.0     3\n",
              "317    14403.0    23\n",
              "268    11072.0    10\n",
              "791   346185.0     3\n",
              "937    36750.0     3\n",
              "296    14387.0     8\n",
              "625   322315.0     3\n",
              "982   129666.0     3\n",
              "705   151456.0     3\n",
              "76     23413.0     4\n",
              "28     28979.0    19\n",
              "316    16333.0    27\n",
              "751    31031.0     3\n",
              "32     40790.0     4\n",
              "829   216064.0     2\n",
              "480    30657.0     3\n",
              "885  2057228.0     1\n",
              "558    72082.0    32\n",
              "379    17543.0     9\n",
              "932   386822.0     3\n",
              "280    22941.0    16\n",
              "531   164832.0     2\n",
              "614    90447.0     3\n",
              "312  2105680.0    25\n",
              "487   190062.0     2\n",
              "396     6574.0    14\n",
              "331    16340.0    10\n",
              "123    59554.0     7\n",
              "501  1187390.0     1\n",
              "895   411703.0     2\n",
              "554  1799605.0     1\n",
              "98     15878.0     7\n",
              "248    18372.0     9\n",
              "359    66031.0    21\n",
              "628   122722.0     3"
            ]
          },
          "metadata": {},
          "execution_count": 329
        }
      ]
    },
    {
      "cell_type": "code",
      "metadata": {
        "id": "dd-aOokPStlw"
      },
      "source": [
        "import numpy as np"
      ],
      "execution_count": 330,
      "outputs": []
    },
    {
      "cell_type": "code",
      "metadata": {
        "id": "NJqJfRRv5fC3"
      },
      "source": [
        "# 각 데이터에 대하여, 각 중심점과의 유클리드 거리 계산\n",
        "distance = sp.spatial.distance.cdist(points, centroids, 'euclidean')\n",
        "\n",
        "# 가장 거리가 짧은 중심점의 cluster로 할당\n",
        "cluster_num = np.argmin(distance, axis=1)\n",
        "\n",
        "# 결과 확인\n",
        "result = points.copy()\n",
        "result['cluster'] = np.array(cluster_num)"
      ],
      "execution_count": 331,
      "outputs": []
    },
    {
      "cell_type": "code",
      "metadata": {
        "colab": {
          "base_uri": "https://localhost:8080/",
          "height": 200
        },
        "id": "9Zy_yX4lraQ5",
        "outputId": "00098e16-0890-4f37-d06c-239267c8f49a"
      },
      "source": [
        "result.head()"
      ],
      "execution_count": 332,
      "outputs": [
        {
          "output_type": "execute_result",
          "data": {
            "text/html": [
              "<div>\n",
              "<style scoped>\n",
              "    .dataframe tbody tr th:only-of-type {\n",
              "        vertical-align: middle;\n",
              "    }\n",
              "\n",
              "    .dataframe tbody tr th {\n",
              "        vertical-align: top;\n",
              "    }\n",
              "\n",
              "    .dataframe thead th {\n",
              "        text-align: right;\n",
              "    }\n",
              "</style>\n",
              "<table border=\"1\" class=\"dataframe\">\n",
              "  <thead>\n",
              "    <tr style=\"text-align: right;\">\n",
              "      <th></th>\n",
              "      <th>tCO2</th>\n",
              "      <th>지정업종</th>\n",
              "      <th>cluster</th>\n",
              "    </tr>\n",
              "  </thead>\n",
              "  <tbody>\n",
              "    <tr>\n",
              "      <th>1</th>\n",
              "      <td>21850.0</td>\n",
              "      <td>4</td>\n",
              "      <td>22</td>\n",
              "    </tr>\n",
              "    <tr>\n",
              "      <th>2</th>\n",
              "      <td>109380.0</td>\n",
              "      <td>4</td>\n",
              "      <td>36</td>\n",
              "    </tr>\n",
              "    <tr>\n",
              "      <th>3</th>\n",
              "      <td>14747.0</td>\n",
              "      <td>4</td>\n",
              "      <td>3</td>\n",
              "    </tr>\n",
              "    <tr>\n",
              "      <th>4</th>\n",
              "      <td>6755.0</td>\n",
              "      <td>4</td>\n",
              "      <td>27</td>\n",
              "    </tr>\n",
              "    <tr>\n",
              "      <th>5</th>\n",
              "      <td>111653.0</td>\n",
              "      <td>7</td>\n",
              "      <td>36</td>\n",
              "    </tr>\n",
              "  </tbody>\n",
              "</table>\n",
              "</div>"
            ],
            "text/plain": [
              "       tCO2  지정업종  cluster\n",
              "1   21850.0     4       22\n",
              "2  109380.0     4       36\n",
              "3   14747.0     4        3\n",
              "4    6755.0     4       27\n",
              "5  111653.0     7       36"
            ]
          },
          "metadata": {},
          "execution_count": 332
        }
      ]
    },
    {
      "cell_type": "code",
      "metadata": {
        "id": "cydLTmN44kdu",
        "colab": {
          "base_uri": "https://localhost:8080/",
          "height": 276
        },
        "outputId": "ac96f084-5b6e-43dc-85f7-5e0915445fa4"
      },
      "source": [
        "center_x = centroids['지정업종']\n",
        "center_y = centroids['tCO2']\n",
        "\n",
        "plt.scatter(x='지정업종', y='tCO2', c='cluster', data=result)\n",
        "plt.scatter(center_x,center_y,s=50,marker='D',c='r')\n",
        "plt.show()"
      ],
      "execution_count": 346,
      "outputs": [
        {
          "output_type": "display_data",
          "data": {
            "image/png": "[encoded data removed]",
            "text/plain": [
              "<Figure size 432x288 with 1 Axes>"
            ]
          },
          "metadata": {
            "needs_background": "light"
          }
        }
      ]
    },
    {
      "cell_type": "code",
      "metadata": {
        "id": "OAd41je1Qfbg",
        "colab": {
          "base_uri": "https://localhost:8080/",
          "height": 1000
        },
        "outputId": "6623682d-1764-481e-97ee-2904bbf12b6c"
      },
      "source": [
        "centroids_2 = result.groupby('cluster').mean()\n",
        "centroids_2"
      ],
      "execution_count": 334,
      "outputs": [
        {
          "output_type": "execute_result",
          "data": {
            "text/html": [
              "<div>\n",
              "<style scoped>\n",
              "    .dataframe tbody tr th:only-of-type {\n",
              "        vertical-align: middle;\n",
              "    }\n",
              "\n",
              "    .dataframe tbody tr th {\n",
              "        vertical-align: top;\n",
              "    }\n",
              "\n",
              "    .dataframe thead th {\n",
              "        text-align: right;\n",
              "    }\n",
              "</style>\n",
              "<table border=\"1\" class=\"dataframe\">\n",
              "  <thead>\n",
              "    <tr style=\"text-align: right;\">\n",
              "      <th></th>\n",
              "      <th>tCO2</th>\n",
              "      <th>지정업종</th>\n",
              "    </tr>\n",
              "    <tr>\n",
              "      <th>cluster</th>\n",
              "      <th></th>\n",
              "      <th></th>\n",
              "    </tr>\n",
              "  </thead>\n",
              "  <tbody>\n",
              "    <tr>\n",
              "      <th>0</th>\n",
              "      <td>2.768795e+04</td>\n",
              "      <td>5.775000</td>\n",
              "    </tr>\n",
              "    <tr>\n",
              "      <th>1</th>\n",
              "      <td>1.354961e+04</td>\n",
              "      <td>11.739130</td>\n",
              "    </tr>\n",
              "    <tr>\n",
              "      <th>2</th>\n",
              "      <td>6.652857e+02</td>\n",
              "      <td>4.428571</td>\n",
              "    </tr>\n",
              "    <tr>\n",
              "      <th>3</th>\n",
              "      <td>1.470127e+04</td>\n",
              "      <td>7.363636</td>\n",
              "    </tr>\n",
              "    <tr>\n",
              "      <th>4</th>\n",
              "      <td>1.075020e+04</td>\n",
              "      <td>10.733333</td>\n",
              "    </tr>\n",
              "    <tr>\n",
              "      <th>5</th>\n",
              "      <td>3.534572e+05</td>\n",
              "      <td>5.400000</td>\n",
              "    </tr>\n",
              "    <tr>\n",
              "      <th>6</th>\n",
              "      <td>3.573576e+04</td>\n",
              "      <td>5.513514</td>\n",
              "    </tr>\n",
              "    <tr>\n",
              "      <th>7</th>\n",
              "      <td>1.432925e+04</td>\n",
              "      <td>5.500000</td>\n",
              "    </tr>\n",
              "    <tr>\n",
              "      <th>8</th>\n",
              "      <td>3.009059e+05</td>\n",
              "      <td>3.428571</td>\n",
              "    </tr>\n",
              "    <tr>\n",
              "      <th>9</th>\n",
              "      <td>1.343156e+05</td>\n",
              "      <td>3.150000</td>\n",
              "    </tr>\n",
              "    <tr>\n",
              "      <th>10</th>\n",
              "      <td>1.492628e+05</td>\n",
              "      <td>2.703704</td>\n",
              "    </tr>\n",
              "    <tr>\n",
              "      <th>11</th>\n",
              "      <td>2.462657e+04</td>\n",
              "      <td>9.102041</td>\n",
              "    </tr>\n",
              "    <tr>\n",
              "      <th>12</th>\n",
              "      <td>2.942767e+04</td>\n",
              "      <td>6.222222</td>\n",
              "    </tr>\n",
              "    <tr>\n",
              "      <th>13</th>\n",
              "      <td>1.625075e+04</td>\n",
              "      <td>15.000000</td>\n",
              "    </tr>\n",
              "    <tr>\n",
              "      <th>14</th>\n",
              "      <td>3.215716e+04</td>\n",
              "      <td>6.680000</td>\n",
              "    </tr>\n",
              "    <tr>\n",
              "      <th>15</th>\n",
              "      <td>4.397271e+04</td>\n",
              "      <td>5.846154</td>\n",
              "    </tr>\n",
              "    <tr>\n",
              "      <th>16</th>\n",
              "      <td>2.321773e+05</td>\n",
              "      <td>4.333333</td>\n",
              "    </tr>\n",
              "    <tr>\n",
              "      <th>17</th>\n",
              "      <td>3.024357e+04</td>\n",
              "      <td>5.428571</td>\n",
              "    </tr>\n",
              "    <tr>\n",
              "      <th>18</th>\n",
              "      <td>2.005138e+06</td>\n",
              "      <td>1.000000</td>\n",
              "    </tr>\n",
              "    <tr>\n",
              "      <th>19</th>\n",
              "      <td>7.553403e+04</td>\n",
              "      <td>5.297297</td>\n",
              "    </tr>\n",
              "    <tr>\n",
              "      <th>20</th>\n",
              "      <td>1.745772e+04</td>\n",
              "      <td>9.538462</td>\n",
              "    </tr>\n",
              "    <tr>\n",
              "      <th>21</th>\n",
              "      <td>3.840500e+05</td>\n",
              "      <td>3.000000</td>\n",
              "    </tr>\n",
              "    <tr>\n",
              "      <th>22</th>\n",
              "      <td>2.172518e+04</td>\n",
              "      <td>9.192982</td>\n",
              "    </tr>\n",
              "    <tr>\n",
              "      <th>23</th>\n",
              "      <td>1.678506e+05</td>\n",
              "      <td>6.400000</td>\n",
              "    </tr>\n",
              "    <tr>\n",
              "      <th>24</th>\n",
              "      <td>9.283793e+04</td>\n",
              "      <td>5.927536</td>\n",
              "    </tr>\n",
              "    <tr>\n",
              "      <th>25</th>\n",
              "      <td>1.063601e+07</td>\n",
              "      <td>3.428571</td>\n",
              "    </tr>\n",
              "    <tr>\n",
              "      <th>26</th>\n",
              "      <td>1.905412e+05</td>\n",
              "      <td>4.047619</td>\n",
              "    </tr>\n",
              "    <tr>\n",
              "      <th>27</th>\n",
              "      <td>7.307733e+03</td>\n",
              "      <td>7.266667</td>\n",
              "    </tr>\n",
              "    <tr>\n",
              "      <th>28</th>\n",
              "      <td>1.655025e+04</td>\n",
              "      <td>7.875000</td>\n",
              "    </tr>\n",
              "    <tr>\n",
              "      <th>29</th>\n",
              "      <td>5.669124e+04</td>\n",
              "      <td>6.555556</td>\n",
              "    </tr>\n",
              "    <tr>\n",
              "      <th>30</th>\n",
              "      <td>1.082225e+06</td>\n",
              "      <td>4.500000</td>\n",
              "    </tr>\n",
              "    <tr>\n",
              "      <th>31</th>\n",
              "      <td>5.458166e+05</td>\n",
              "      <td>4.000000</td>\n",
              "    </tr>\n",
              "    <tr>\n",
              "      <th>32</th>\n",
              "      <td>1.664745e+06</td>\n",
              "      <td>3.888889</td>\n",
              "    </tr>\n",
              "    <tr>\n",
              "      <th>33</th>\n",
              "      <td>1.557729e+04</td>\n",
              "      <td>8.970588</td>\n",
              "    </tr>\n",
              "    <tr>\n",
              "      <th>34</th>\n",
              "      <td>1.925200e+04</td>\n",
              "      <td>10.207317</td>\n",
              "    </tr>\n",
              "    <tr>\n",
              "      <th>35</th>\n",
              "      <td>6.637371e+04</td>\n",
              "      <td>5.214286</td>\n",
              "    </tr>\n",
              "    <tr>\n",
              "      <th>36</th>\n",
              "      <td>1.171670e+05</td>\n",
              "      <td>3.675000</td>\n",
              "    </tr>\n",
              "  </tbody>\n",
              "</table>\n",
              "</div>"
            ],
            "text/plain": [
              "                 tCO2       지정업종\n",
              "cluster                         \n",
              "0        2.768795e+04   5.775000\n",
              "1        1.354961e+04  11.739130\n",
              "2        6.652857e+02   4.428571\n",
              "3        1.470127e+04   7.363636\n",
              "4        1.075020e+04  10.733333\n",
              "5        3.534572e+05   5.400000\n",
              "6        3.573576e+04   5.513514\n",
              "7        1.432925e+04   5.500000\n",
              "8        3.009059e+05   3.428571\n",
              "9        1.343156e+05   3.150000\n",
              "10       1.492628e+05   2.703704\n",
              "11       2.462657e+04   9.102041\n",
              "12       2.942767e+04   6.222222\n",
              "13       1.625075e+04  15.000000\n",
              "14       3.215716e+04   6.680000\n",
              "15       4.397271e+04   5.846154\n",
              "16       2.321773e+05   4.333333\n",
              "17       3.024357e+04   5.428571\n",
              "18       2.005138e+06   1.000000\n",
              "19       7.553403e+04   5.297297\n",
              "20       1.745772e+04   9.538462\n",
              "21       3.840500e+05   3.000000\n",
              "22       2.172518e+04   9.192982\n",
              "23       1.678506e+05   6.400000\n",
              "24       9.283793e+04   5.927536\n",
              "25       1.063601e+07   3.428571\n",
              "26       1.905412e+05   4.047619\n",
              "27       7.307733e+03   7.266667\n",
              "28       1.655025e+04   7.875000\n",
              "29       5.669124e+04   6.555556\n",
              "30       1.082225e+06   4.500000\n",
              "31       5.458166e+05   4.000000\n",
              "32       1.664745e+06   3.888889\n",
              "33       1.557729e+04   8.970588\n",
              "34       1.925200e+04  10.207317\n",
              "35       6.637371e+04   5.214286\n",
              "36       1.171670e+05   3.675000"
            ]
          },
          "metadata": {},
          "execution_count": 334
        }
      ]
    },
    {
      "cell_type": "code",
      "metadata": {
        "id": "koI_S77CZJqr"
      },
      "source": [
        "# 각 데이터에 대하여, 각 중심점과의 유클리드 거리 계산\n",
        "distance2 = sp.spatial.distance.cdist(points, centroids_2, 'euclidean')\n",
        "\n",
        "# 가장 거리가 짧은 중심점의 cluster로 할당\n",
        "cluster_num2 = np.argmin(distance2, axis=1)\n",
        "\n",
        "# 결과 확인\n",
        "result2 = points.copy()\n",
        "result2['cluster2'] = np.array(cluster_num2)"
      ],
      "execution_count": 335,
      "outputs": []
    },
    {
      "cell_type": "code",
      "metadata": {
        "colab": {
          "base_uri": "https://localhost:8080/",
          "height": 200
        },
        "id": "748_CcpMvG6N",
        "outputId": "ebcfe3da-ac34-4111-bd9e-e8d05d603683"
      },
      "source": [
        "result2.head()"
      ],
      "execution_count": 336,
      "outputs": [
        {
          "output_type": "execute_result",
          "data": {
            "text/html": [
              "<div>\n",
              "<style scoped>\n",
              "    .dataframe tbody tr th:only-of-type {\n",
              "        vertical-align: middle;\n",
              "    }\n",
              "\n",
              "    .dataframe tbody tr th {\n",
              "        vertical-align: top;\n",
              "    }\n",
              "\n",
              "    .dataframe thead th {\n",
              "        text-align: right;\n",
              "    }\n",
              "</style>\n",
              "<table border=\"1\" class=\"dataframe\">\n",
              "  <thead>\n",
              "    <tr style=\"text-align: right;\">\n",
              "      <th></th>\n",
              "      <th>tCO2</th>\n",
              "      <th>지정업종</th>\n",
              "      <th>cluster2</th>\n",
              "    </tr>\n",
              "  </thead>\n",
              "  <tbody>\n",
              "    <tr>\n",
              "      <th>1</th>\n",
              "      <td>21850.0</td>\n",
              "      <td>4</td>\n",
              "      <td>22</td>\n",
              "    </tr>\n",
              "    <tr>\n",
              "      <th>2</th>\n",
              "      <td>109380.0</td>\n",
              "      <td>4</td>\n",
              "      <td>36</td>\n",
              "    </tr>\n",
              "    <tr>\n",
              "      <th>3</th>\n",
              "      <td>14747.0</td>\n",
              "      <td>4</td>\n",
              "      <td>3</td>\n",
              "    </tr>\n",
              "    <tr>\n",
              "      <th>4</th>\n",
              "      <td>6755.0</td>\n",
              "      <td>4</td>\n",
              "      <td>27</td>\n",
              "    </tr>\n",
              "    <tr>\n",
              "      <th>5</th>\n",
              "      <td>111653.0</td>\n",
              "      <td>7</td>\n",
              "      <td>36</td>\n",
              "    </tr>\n",
              "  </tbody>\n",
              "</table>\n",
              "</div>"
            ],
            "text/plain": [
              "       tCO2  지정업종  cluster2\n",
              "1   21850.0     4        22\n",
              "2  109380.0     4        36\n",
              "3   14747.0     4         3\n",
              "4    6755.0     4        27\n",
              "5  111653.0     7        36"
            ]
          },
          "metadata": {},
          "execution_count": 336
        }
      ]
    },
    {
      "cell_type": "code",
      "metadata": {
        "colab": {
          "base_uri": "https://localhost:8080/",
          "height": 276
        },
        "id": "2p3amcIhtXT0",
        "outputId": "ec4fde1c-8ee0-4929-cc1c-8166e243e8f3"
      },
      "source": [
        "center_x = centroids['지정업종']\n",
        "center_y = centroids['tCO2']\n",
        "\n",
        "plt.scatter(x='지정업종', y='tCO2', c='cluster2', data=result2)\n",
        "plt.scatter(center_x,center_y,s=50,marker='D',c='r')\n",
        "plt.show()"
      ],
      "execution_count": 347,
      "outputs": [
        {
          "output_type": "display_data",
          "data": {
            "image/png": "[encoded data removed]",
            "text/plain": [
              "<Figure size 432x288 with 1 Axes>"
            ]
          },
          "metadata": {
            "needs_background": "light"
          }
        }
      ]
    },
    {
      "cell_type": "code",
      "metadata": {
        "id": "fIKFrdSpvLUi"
      },
      "source": [
        ""
      ],
      "execution_count": 337,
      "outputs": []
    }
  ]
}