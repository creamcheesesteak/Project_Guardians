{
 "cells": [
  {
   "cell_type": "code",
   "execution_count": 2,
   "id": "a3d410a6",
   "metadata": {},
   "outputs": [],
   "source": [
    "from selenium import webdriver\n",
    "from selenium.webdriver.remote.webelement import WebElement\n",
    "from selenium.webdriver.common.keys import Keys\n",
    "from selenium.webdriver.support.ui import WebDriverWait\n",
    "from selenium.webdriver.common.by import By\n",
    "from selenium.webdriver.support import expected_conditions as EC\n",
    "from bs4 import BeautifulSoup\n",
    "import pandas as pd\n",
    "import time"
   ]
  },
  {
   "cell_type": "markdown",
   "id": "fdec9559",
   "metadata": {},
   "source": [
    "* 자신에게 맞는 chromedriver와 위치 설정 선행필요"
   ]
  },
  {
   "cell_type": "code",
   "execution_count": null,
   "id": "7364d774",
   "metadata": {},
   "outputs": [],
   "source": [
    "browser = webdriver.Chrome('./chromedriver.exe')\n",
    "browser.get('https://www.bigkinds.or.kr/v2/news/index.do')"
   ]
  },
  {
   "cell_type": "markdown",
   "id": "3d51fe4e",
   "metadata": {},
   "source": [
    "# 함수정의부"
   ]
  },
  {
   "cell_type": "code",
   "execution_count": null,
   "id": "1cc939a9",
   "metadata": {},
   "outputs": [],
   "source": [
    "def login(e_mail, password):\n",
    "    browser.find_element_by_xpath(\"//button[@class='btn-login login-modal-btn login-area-before']\").click()\n",
    "    browser.find_element_by_xpath(\"//input[@id='login-user-id']\").send_keys(e_mail)\n",
    "    browser.find_element_by_xpath(\"//input[@id='login-user-password']\").send_keys(password)\n",
    "    browser.find_element_by_xpath(\"//button[@id='login-btn']\").click()\n",
    "    time.sleep(5)\n",
    "    return"
   ]
  },
  {
   "cell_type": "code",
   "execution_count": null,
   "id": "35d68cc9",
   "metadata": {},
   "outputs": [],
   "source": [
    "def datasetting(start_date, end_date, search_word):\n",
    "    browser.get('https://www.bigkinds.or.kr/v2/news/index.do')\n",
    "\n",
    "    browser.find_element_by_xpath(\"//input[@id='total-search-key']\").send_keys(search_word)\n",
    "\n",
    "    browser.find_element_by_xpath(\"//div[@class='tab-btn-inner tab1']\").click()\n",
    "\n",
    "    start_date = browser.find_element_by_xpath(\"//input[@id='search-begin-date']\")\n",
    "    start_date.click()\n",
    "    start_date.send_keys(Keys.CONTROL + \"a\")\n",
    "    start_date.send_keys(start_date)\n",
    "\n",
    "    end_date = browser.find_element_by_xpath(\"//input[@id='search-end-date']\")\n",
    "    end_date.click()\n",
    "    end_date.send_keys(Keys.CONTROL + \"a\")\n",
    "    end_date.send_keys(end_date)\n",
    "\n",
    "    time.sleep(1)\n",
    "    browser.find_element_by_xpath(\"//button[@class='btn btn-search news-search-btn news-report-search-btn']\").click()\n",
    "\n",
    "    WebDriverWait(browser, 5).until(EC.presence_of_element_located((By.CSS_SELECTOR, \"div.collap-wrp > div.collap-head > button#collapse-step-3\")))\n",
    "    browser.find_element_by_css_selector('div.collap-wrp > div.collap-head > button#collapse-step-3').click()\n",
    "    WebDriverWait(browser, 3).until(EC.presence_of_element_located((By.CLASS_NAME, \"btn btn-wh ml-auto news-download-btn mobile-excel-download\")))\n",
    "    browser.find_element_by_xpath(\"//button[@class='btn btn-wh ml-auto news-download-btn mobile-excel-download']\").click()\n",
    "\n",
    "    return "
   ]
  },
  {
   "cell_type": "markdown",
   "id": "bc7ef706",
   "metadata": {},
   "source": [
    "* 미흡한부분 : [엑셀다운로드]를 클릭하면 다운로드 위치에 저장되는데. 이걸 지정해서 저장된 엑셀파일을 불러오는 코드 만들면 아래 전처리 내용을 바로 하도록 코딩해서 신문기사를 주기적으로 갱신되도록 할 수 있을 것 같음"
   ]
  },
  {
   "cell_type": "markdown",
   "id": "a3843e87",
   "metadata": {},
   "source": [
    "# 실행"
   ]
  },
  {
   "cell_type": "markdown",
   "id": "9114b6d0",
   "metadata": {},
   "source": [
    "* A조의 경우 일정시간마다 함수를 콜백해서 데이터를 갱신하는 내용을 추가하도록 했다고함"
   ]
  },
  {
   "cell_type": "code",
   "execution_count": null,
   "id": "03f06339",
   "metadata": {},
   "outputs": [],
   "source": [
    "# 파일 갱신\n",
    "login('Guardians555@gmail.com', 'Guardians555')\n",
    "datasetting('2021-01-01', '2021-09-25', '온실가스')"
   ]
  },
  {
   "cell_type": "markdown",
   "id": "73437601",
   "metadata": {},
   "source": [
    "# 데이터 전처리"
   ]
  },
  {
   "cell_type": "markdown",
   "id": "97ebbb2a",
   "metadata": {},
   "source": [
    "* 사진만 있는 기사, 짧은 정보성 기사는 의미없다고 판단해서 먼저 제목에 '온실가스'포함 그리고  keyword의 len가 가장 높은 순서대로 내림차순하여 5개 기사 선정"
   ]
  },
  {
   "cell_type": "code",
   "execution_count": 46,
   "id": "29b5ee7b",
   "metadata": {},
   "outputs": [
    {
     "data": {
      "text/html": [
       "<div>\n",
       "<style scoped>\n",
       "    .dataframe tbody tr th:only-of-type {\n",
       "        vertical-align: middle;\n",
       "    }\n",
       "\n",
       "    .dataframe tbody tr th {\n",
       "        vertical-align: top;\n",
       "    }\n",
       "\n",
       "    .dataframe thead th {\n",
       "        text-align: right;\n",
       "    }\n",
       "</style>\n",
       "<table border=\"1\" class=\"dataframe\">\n",
       "  <thead>\n",
       "    <tr style=\"text-align: right;\">\n",
       "      <th></th>\n",
       "      <th>date</th>\n",
       "      <th>press</th>\n",
       "      <th>title</th>\n",
       "      <th>keyword</th>\n",
       "      <th>url</th>\n",
       "    </tr>\n",
       "  </thead>\n",
       "  <tbody>\n",
       "    <tr>\n",
       "      <th>7</th>\n",
       "      <td>20210926</td>\n",
       "      <td>서울경제</td>\n",
       "      <td>탄소 중립 첫 발 BGF리테일, 온실가스 인벤토리 국제 인증서 획득</td>\n",
       "      <td>탄소,중립,BGF리테일,획득,온실,가스,인벤토리,국제,인증서,BGF리테일,물류,전문...</td>\n",
       "      <td>http://www.sedaily.com/NewsView/22RM56HXVV</td>\n",
       "    </tr>\n",
       "    <tr>\n",
       "      <th>11</th>\n",
       "      <td>20210926</td>\n",
       "      <td>아시아경제</td>\n",
       "      <td>BGF리테일 \"온실가스 인벤토리 구축 탄소중립 첫 발\"</td>\n",
       "      <td>BGF,리테일,온실,가스,인벤토리,구축,탄소중립,BGF리테일,자회사,물류,전문,BG...</td>\n",
       "      <td>https://www.asiae.co.kr/article/20210926120949...</td>\n",
       "    </tr>\n",
       "    <tr>\n",
       "      <th>17</th>\n",
       "      <td>20210926</td>\n",
       "      <td>디지털타임스</td>\n",
       "      <td>BGF리테일, 온실가스 관리 시스템 구축한다</td>\n",
       "      <td>BGF리테일,온실,가스,관리,구축,BGF리테일,통합,온실,가스,인벤토리,구축,검증,...</td>\n",
       "      <td>http://www.dt.co.kr/contents.html?article_no=2...</td>\n",
       "    </tr>\n",
       "    <tr>\n",
       "      <th>33</th>\n",
       "      <td>20210924</td>\n",
       "      <td>KBS</td>\n",
       "      <td>기후위기비상행동, “도, 2030년까지 온실가스 50% 줄여야”</td>\n",
       "      <td>기후위기비상행동,2030년,온실,가스,50%,기후,위기,전북,비상행동,정의당,전북도...</td>\n",
       "      <td>https://news.kbs.co.kr/news/view.do?ncd=528656...</td>\n",
       "    </tr>\n",
       "    <tr>\n",
       "      <th>34</th>\n",
       "      <td>20210924</td>\n",
       "      <td>KBS</td>\n",
       "      <td>정의당 전남도당, ‘온실가스 배출 1위’ 포스코 규탄</td>\n",
       "      <td>정의당,전남도당,1위,온실,가스,배출,포스코,규탄,정의당,전남도당,소본부,포스코,광...</td>\n",
       "      <td>https://news.kbs.co.kr/news/view.do?ncd=528655...</td>\n",
       "    </tr>\n",
       "  </tbody>\n",
       "</table>\n",
       "</div>"
      ],
      "text/plain": [
       "        date   press                                  title  \\\n",
       "7   20210926    서울경제  탄소 중립 첫 발 BGF리테일, 온실가스 인벤토리 국제 인증서 획득   \n",
       "11  20210926   아시아경제         BGF리테일 \"온실가스 인벤토리 구축 탄소중립 첫 발\"   \n",
       "17  20210926  디지털타임스               BGF리테일, 온실가스 관리 시스템 구축한다   \n",
       "33  20210924     KBS    기후위기비상행동, “도, 2030년까지 온실가스 50% 줄여야”   \n",
       "34  20210924     KBS          정의당 전남도당, ‘온실가스 배출 1위’ 포스코 규탄   \n",
       "\n",
       "                                              keyword  \\\n",
       "7   탄소,중립,BGF리테일,획득,온실,가스,인벤토리,국제,인증서,BGF리테일,물류,전문...   \n",
       "11  BGF,리테일,온실,가스,인벤토리,구축,탄소중립,BGF리테일,자회사,물류,전문,BG...   \n",
       "17  BGF리테일,온실,가스,관리,구축,BGF리테일,통합,온실,가스,인벤토리,구축,검증,...   \n",
       "33  기후위기비상행동,2030년,온실,가스,50%,기후,위기,전북,비상행동,정의당,전북도...   \n",
       "34  정의당,전남도당,1위,온실,가스,배출,포스코,규탄,정의당,전남도당,소본부,포스코,광...   \n",
       "\n",
       "                                                  url  \n",
       "7          http://www.sedaily.com/NewsView/22RM56HXVV  \n",
       "11  https://www.asiae.co.kr/article/20210926120949...  \n",
       "17  http://www.dt.co.kr/contents.html?article_no=2...  \n",
       "33  https://news.kbs.co.kr/news/view.do?ncd=528656...  \n",
       "34  https://news.kbs.co.kr/news/view.do?ncd=528655...  "
      ]
     },
     "execution_count": 46,
     "metadata": {},
     "output_type": "execute_result"
    }
   ],
   "source": [
    "df = pd.read_excel('./list.xlsx', names=['identical', 'date', 'press', 'name', 'title', 'c1', 'c2', 'c3', 'a1', 'a2', 'a3', 'person', 'place', 'institute', 'keyword', 'topkeyword', 'body', 'url', 'tf'])\n",
    "df = df[df.title.str.contains('온실가스')]\n",
    "dff = df[['date', 'press', 'title', 'keyword', 'url']]\n",
    "dff.head(5)"
   ]
  },
  {
   "cell_type": "code",
   "execution_count": 47,
   "id": "07af4867",
   "metadata": {},
   "outputs": [],
   "source": [
    "target = list(zip(dff.index.tolist(), dff.keyword.astype(str).tolist()))\n",
    "target.sort(key = lambda x:len(x[1]), reverse=True)"
   ]
  },
  {
   "cell_type": "code",
   "execution_count": 48,
   "id": "d61371f2",
   "metadata": {},
   "outputs": [],
   "source": [
    "index = []\n",
    "for i in target[0:5]:\n",
    "    index.append(i[0])"
   ]
  },
  {
   "cell_type": "code",
   "execution_count": 49,
   "id": "24ad5379",
   "metadata": {},
   "outputs": [
    {
     "data": {
      "text/html": [
       "<div>\n",
       "<style scoped>\n",
       "    .dataframe tbody tr th:only-of-type {\n",
       "        vertical-align: middle;\n",
       "    }\n",
       "\n",
       "    .dataframe tbody tr th {\n",
       "        vertical-align: top;\n",
       "    }\n",
       "\n",
       "    .dataframe thead th {\n",
       "        text-align: right;\n",
       "    }\n",
       "</style>\n",
       "<table border=\"1\" class=\"dataframe\">\n",
       "  <thead>\n",
       "    <tr style=\"text-align: right;\">\n",
       "      <th></th>\n",
       "      <th>date</th>\n",
       "      <th>press</th>\n",
       "      <th>title</th>\n",
       "      <th>keyword</th>\n",
       "      <th>url</th>\n",
       "    </tr>\n",
       "  </thead>\n",
       "  <tbody>\n",
       "    <tr>\n",
       "      <th>1676</th>\n",
       "      <td>20210825</td>\n",
       "      <td>한겨레</td>\n",
       "      <td>“신규 석탄발전소 7곳 가동되면 온실가스 감축 노력 물거품 돼”</td>\n",
       "      <td>신규,석탄,발전소,가동,온실,가스,감축,노력,물거품,기후솔루션,단체,이름,운동,거리...</td>\n",
       "      <td>http://www.hani.co.kr/arti/society/environment...</td>\n",
       "    </tr>\n",
       "    <tr>\n",
       "      <th>1854</th>\n",
       "      <td>20210823</td>\n",
       "      <td>한겨레</td>\n",
       "      <td>“온실가스 65만톤 감축” 산림청 홍보 뒤엔 숲 37% 파괴 있었다</td>\n",
       "      <td>온실,가스,감축,산림청,홍보,파괴,37%,한국,산림청,레드플러스,REDD,시범사업,...</td>\n",
       "      <td>http://www.hani.co.kr/arti/society/environment...</td>\n",
       "    </tr>\n",
       "    <tr>\n",
       "      <th>1093</th>\n",
       "      <td>20210903</td>\n",
       "      <td>머니투데이</td>\n",
       "      <td>국제사회에 대한 책임 ‘온실가스 감축’</td>\n",
       "      <td>국제사회,감축,책임,온실,가스,세상,기후위기,기본법,대응,탄소,중립,기업,환경,단체...</td>\n",
       "      <td>http://news.moneytoday.co.kr/view/mtview.php?n...</td>\n",
       "    </tr>\n",
       "    <tr>\n",
       "      <th>3039</th>\n",
       "      <td>20210802</td>\n",
       "      <td>내일신문</td>\n",
       "      <td>[개발사업 20년과 환경정책│② 이명박정부~문재인정부] 영주댐은 '만수위' 온실가스...</td>\n",
       "      <td>사업,환경정책,이명박정부,문재인정부,영주댐,만수위,온실,가스,감축,장마,시작,연일,...</td>\n",
       "      <td>http://www.naeil.com/news_view/?id_art=394437</td>\n",
       "    </tr>\n",
       "    <tr>\n",
       "      <th>6627</th>\n",
       "      <td>20210530</td>\n",
       "      <td>서울경제</td>\n",
       "      <td>[전문] 文대통령 \"온실가스 추가 감축\"...국제사회 재천명</td>\n",
       "      <td>대통령,감축,온실,가스,추가,국제사회,재천명,P4G,서울,녹색,미래,정상,회의,개회...</td>\n",
       "      <td>http://www.sedaily.com/NewsView/22MK9JVN6A</td>\n",
       "    </tr>\n",
       "  </tbody>\n",
       "</table>\n",
       "</div>"
      ],
      "text/plain": [
       "          date  press                                              title  \\\n",
       "1676  20210825    한겨레                “신규 석탄발전소 7곳 가동되면 온실가스 감축 노력 물거품 돼”   \n",
       "1854  20210823    한겨레              “온실가스 65만톤 감축” 산림청 홍보 뒤엔 숲 37% 파괴 있었다   \n",
       "1093  20210903  머니투데이                              국제사회에 대한 책임 ‘온실가스 감축’   \n",
       "3039  20210802   내일신문  [개발사업 20년과 환경정책│② 이명박정부~문재인정부] 영주댐은 '만수위' 온실가스...   \n",
       "6627  20210530   서울경제                  [전문] 文대통령 \"온실가스 추가 감축\"...국제사회 재천명   \n",
       "\n",
       "                                                keyword  \\\n",
       "1676  신규,석탄,발전소,가동,온실,가스,감축,노력,물거품,기후솔루션,단체,이름,운동,거리...   \n",
       "1854  온실,가스,감축,산림청,홍보,파괴,37%,한국,산림청,레드플러스,REDD,시범사업,...   \n",
       "1093  국제사회,감축,책임,온실,가스,세상,기후위기,기본법,대응,탄소,중립,기업,환경,단체...   \n",
       "3039  사업,환경정책,이명박정부,문재인정부,영주댐,만수위,온실,가스,감축,장마,시작,연일,...   \n",
       "6627  대통령,감축,온실,가스,추가,국제사회,재천명,P4G,서울,녹색,미래,정상,회의,개회...   \n",
       "\n",
       "                                                    url  \n",
       "1676  http://www.hani.co.kr/arti/society/environment...  \n",
       "1854  http://www.hani.co.kr/arti/society/environment...  \n",
       "1093  http://news.moneytoday.co.kr/view/mtview.php?n...  \n",
       "3039      http://www.naeil.com/news_view/?id_art=394437  \n",
       "6627         http://www.sedaily.com/NewsView/22MK9JVN6A  "
      ]
     },
     "execution_count": 49,
     "metadata": {},
     "output_type": "execute_result"
    }
   ],
   "source": [
    "df_target = dff.loc[index]\n",
    "df_target"
   ]
  },
  {
   "cell_type": "code",
   "execution_count": 50,
   "id": "9fc037f3",
   "metadata": {},
   "outputs": [
    {
     "data": {
      "text/plain": [
       "['http://www.hani.co.kr/arti/society/environment/1009003.html',\n",
       " 'http://www.hani.co.kr/arti/society/environment/1008681.html',\n",
       " 'http://news.moneytoday.co.kr/view/mtview.php?no=2021090117077846949&type=2',\n",
       " 'http://www.naeil.com/news_view/?id_art=394437',\n",
       " 'http://www.sedaily.com/NewsView/22MK9JVN6A']"
      ]
     },
     "execution_count": 50,
     "metadata": {},
     "output_type": "execute_result"
    }
   ],
   "source": [
    "df_target.url.tolist()"
   ]
  }
 ],
 "metadata": {
  "kernelspec": {
   "display_name": "Python 3",
   "language": "python",
   "name": "python3"
  },
  "language_info": {
   "codemirror_mode": {
    "name": "ipython",
    "version": 3
   },
   "file_extension": ".py",
   "mimetype": "text/x-python",
   "name": "python",
   "nbconvert_exporter": "python",
   "pygments_lexer": "ipython3",
   "version": "3.6.4"
  }
 },
 "nbformat": 4,
 "nbformat_minor": 5
}
