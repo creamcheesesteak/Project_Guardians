{
 "cells": [
  {
   "cell_type": "code",
   "execution_count": null,
   "id": "e8a4b1a1",
   "metadata": {},
   "outputs": [],
   "source": [
    "문제의식 4만개되는 기술을 합리적으로 구분(세분화)하는 방법 생각"
   ]
  },
  {
   "cell_type": "code",
   "execution_count": 2,
   "id": "0eb630dd",
   "metadata": {},
   "outputs": [],
   "source": [
    "import pandas as pd\n"
   ]
  },
  {
   "cell_type": "code",
   "execution_count": 7,
   "id": "a23e160a",
   "metadata": {
    "scrolled": true
   },
   "outputs": [
    {
     "data": {
      "text/html": [
       "<div>\n",
       "<style scoped>\n",
       "    .dataframe tbody tr th:only-of-type {\n",
       "        vertical-align: middle;\n",
       "    }\n",
       "\n",
       "    .dataframe tbody tr th {\n",
       "        vertical-align: top;\n",
       "    }\n",
       "\n",
       "    .dataframe thead th {\n",
       "        text-align: right;\n",
       "    }\n",
       "</style>\n",
       "<table border=\"1\" class=\"dataframe\">\n",
       "  <thead>\n",
       "    <tr style=\"text-align: right;\">\n",
       "      <th></th>\n",
       "      <th>no</th>\n",
       "      <th>sort</th>\n",
       "      <th>감축 대상 설비</th>\n",
       "      <th>개선 구분</th>\n",
       "      <th>act</th>\n",
       "      <th>투자비 회수기간</th>\n",
       "      <th>투자비 회수기간 단위</th>\n",
       "      <th>money</th>\n",
       "      <th>절감액 단위</th>\n",
       "      <th>투자비</th>\n",
       "      <th>투자비 단위</th>\n",
       "      <th>진단 연도</th>\n",
       "      <th>에너지 사용량 규모</th>\n",
       "      <th>에너지 절감 종류</th>\n",
       "      <th>에너지 절감량(연료)</th>\n",
       "      <th>연료 단위</th>\n",
       "      <th>에너지 절감량(전력)</th>\n",
       "      <th>전력 단위</th>\n",
       "      <th>deco2</th>\n",
       "      <th>감축량 단위</th>\n",
       "    </tr>\n",
       "  </thead>\n",
       "  <tbody>\n",
       "    <tr>\n",
       "      <th>0</th>\n",
       "      <td>31300</td>\n",
       "      <td>제조업</td>\n",
       "      <td>열사용설비(기타)</td>\n",
       "      <td>운전관리</td>\n",
       "      <td>에너지원단위 관리를 위한 FEMS도입</td>\n",
       "      <td>1.32</td>\n",
       "      <td>yr</td>\n",
       "      <td>38000.00</td>\n",
       "      <td>백만원/yr</td>\n",
       "      <td>50000.0</td>\n",
       "      <td>백만원</td>\n",
       "      <td>2018</td>\n",
       "      <td>20만 toe이상</td>\n",
       "      <td>기타</td>\n",
       "      <td>96556.70</td>\n",
       "      <td>toe/yr</td>\n",
       "      <td>11087.3</td>\n",
       "      <td>toe/yr</td>\n",
       "      <td>154652.80</td>\n",
       "      <td>tCO₂/yr</td>\n",
       "    </tr>\n",
       "    <tr>\n",
       "      <th>1</th>\n",
       "      <td>44240</td>\n",
       "      <td>제조업</td>\n",
       "      <td>로</td>\n",
       "      <td>신설비도입</td>\n",
       "      <td>NCC공정 고방사코팅제도입</td>\n",
       "      <td>0.56</td>\n",
       "      <td>yr</td>\n",
       "      <td>14289.00</td>\n",
       "      <td>백만원/yr</td>\n",
       "      <td>8000.0</td>\n",
       "      <td>백만원</td>\n",
       "      <td>2018</td>\n",
       "      <td>20만 toe이상</td>\n",
       "      <td>기타</td>\n",
       "      <td>25745.60</td>\n",
       "      <td>toe/yr</td>\n",
       "      <td>0.0</td>\n",
       "      <td>toe/yr</td>\n",
       "      <td>39622.50</td>\n",
       "      <td>tCO₂/yr</td>\n",
       "    </tr>\n",
       "    <tr>\n",
       "      <th>2</th>\n",
       "      <td>5525</td>\n",
       "      <td>제조업</td>\n",
       "      <td>수.발.배전 설비</td>\n",
       "      <td>폐공기+폐가스</td>\n",
       "      <td>폐열발전 Heat Blance 및</td>\n",
       "      <td>3.70</td>\n",
       "      <td>yr</td>\n",
       "      <td>27040.00</td>\n",
       "      <td>백만원/yr</td>\n",
       "      <td>100000.0</td>\n",
       "      <td>백만원</td>\n",
       "      <td>2016</td>\n",
       "      <td>20만 toe이상</td>\n",
       "      <td>(2011)전기(소비기준)</td>\n",
       "      <td>0.00</td>\n",
       "      <td>toe/yr</td>\n",
       "      <td>62197.0</td>\n",
       "      <td>toe/yr</td>\n",
       "      <td>34695.11</td>\n",
       "      <td>tCO₂/yr</td>\n",
       "    </tr>\n",
       "    <tr>\n",
       "      <th>3</th>\n",
       "      <td>48414</td>\n",
       "      <td>제조업</td>\n",
       "      <td>열사용설비(기타)</td>\n",
       "      <td>공정개선</td>\n",
       "      <td>PRC Driving Condensing Turbine을 Motor으로 교체하여 응...</td>\n",
       "      <td>0.31</td>\n",
       "      <td>yr</td>\n",
       "      <td>48190.09</td>\n",
       "      <td>백만원/yr</td>\n",
       "      <td>15000.0</td>\n",
       "      <td>백만원</td>\n",
       "      <td>2013</td>\n",
       "      <td>20만 toe이상</td>\n",
       "      <td>증기</td>\n",
       "      <td>21788.29</td>\n",
       "      <td>toe/yr</td>\n",
       "      <td>0.0</td>\n",
       "      <td>toe/yr</td>\n",
       "      <td>29757.54</td>\n",
       "      <td>tCO₂/yr</td>\n",
       "    </tr>\n",
       "    <tr>\n",
       "      <th>4</th>\n",
       "      <td>42104</td>\n",
       "      <td>제조업</td>\n",
       "      <td>열사용설비(기타)</td>\n",
       "      <td>신설비도입</td>\n",
       "      <td>19. [NC] PRC(401-JT) Driving Condensing Turbin...</td>\n",
       "      <td>0.68</td>\n",
       "      <td>yr</td>\n",
       "      <td>29381.00</td>\n",
       "      <td>백만원/yr</td>\n",
       "      <td>20000.0</td>\n",
       "      <td>백만원</td>\n",
       "      <td>2019</td>\n",
       "      <td>20만 toe이상</td>\n",
       "      <td>증기</td>\n",
       "      <td>76845.00</td>\n",
       "      <td>toe/yr</td>\n",
       "      <td>-43922.0</td>\n",
       "      <td>toe/yr</td>\n",
       "      <td>24452.81</td>\n",
       "      <td>tCO₂/yr</td>\n",
       "    </tr>\n",
       "  </tbody>\n",
       "</table>\n",
       "</div>"
      ],
      "text/plain": [
       "      no sort   감축 대상 설비    개선 구분  \\\n",
       "0  31300  제조업  열사용설비(기타)     운전관리   \n",
       "1  44240  제조업          로    신설비도입   \n",
       "2   5525  제조업  수.발.배전 설비  폐공기+폐가스   \n",
       "3  48414  제조업  열사용설비(기타)     공정개선   \n",
       "4  42104  제조업  열사용설비(기타)    신설비도입   \n",
       "\n",
       "                                                 act  투자비 회수기간 투자비 회수기간 단위  \\\n",
       "0                               에너지원단위 관리를 위한 FEMS도입      1.32          yr   \n",
       "1                                     NCC공정 고방사코팅제도입      0.56          yr   \n",
       "2                                폐열발전 Heat Blance 및       3.70          yr   \n",
       "3  PRC Driving Condensing Turbine을 Motor으로 교체하여 응...      0.31          yr   \n",
       "4  19. [NC] PRC(401-JT) Driving Condensing Turbin...      0.68          yr   \n",
       "\n",
       "      money  절감액 단위       투자비 투자비 단위  진단 연도 에너지 사용량 규모       에너지 절감 종류  \\\n",
       "0  38000.00  백만원/yr   50000.0    백만원   2018  20만 toe이상              기타   \n",
       "1  14289.00  백만원/yr    8000.0    백만원   2018  20만 toe이상              기타   \n",
       "2  27040.00  백만원/yr  100000.0    백만원   2016  20만 toe이상  (2011)전기(소비기준)   \n",
       "3  48190.09  백만원/yr   15000.0    백만원   2013  20만 toe이상              증기   \n",
       "4  29381.00  백만원/yr   20000.0    백만원   2019  20만 toe이상              증기   \n",
       "\n",
       "   에너지 절감량(연료)   연료 단위  에너지 절감량(전력)   전력 단위      deco2   감축량 단위  \n",
       "0     96556.70  toe/yr      11087.3  toe/yr  154652.80  tCO₂/yr  \n",
       "1     25745.60  toe/yr          0.0  toe/yr   39622.50  tCO₂/yr  \n",
       "2         0.00  toe/yr      62197.0  toe/yr   34695.11  tCO₂/yr  \n",
       "3     21788.29  toe/yr          0.0  toe/yr   29757.54  tCO₂/yr  \n",
       "4     76845.00  toe/yr     -43922.0  toe/yr   24452.81  tCO₂/yr  "
      ]
     },
     "execution_count": 7,
     "metadata": {},
     "output_type": "execute_result"
    }
   ],
   "source": [
    "df = pd.read_csv('./reduce_list.csv', encoding='cp949')\n",
    "df.head(5)"
   ]
  },
  {
   "cell_type": "code",
   "execution_count": 13,
   "id": "fecfb5b2",
   "metadata": {
    "scrolled": true
   },
   "outputs": [
    {
     "data": {
      "text/plain": [
       "{'10만teo ~ 20만toe',\n",
       " '1만teo ~ 2만toe',\n",
       " '20만 toe이상',\n",
       " '2만teo ~ 5만toe',\n",
       " '5만teo ~ 10만toe',\n",
       " '5천teo ~ 1만toe',\n",
       " '5천toe 이하'}"
      ]
     },
     "execution_count": 13,
     "metadata": {},
     "output_type": "execute_result"
    }
   ],
   "source": [
    "a = set(df['에너지 사용량 규모'].tolist())\n",
    "a"
   ]
  },
  {
   "cell_type": "code",
   "execution_count": null,
   "id": "1a69348f",
   "metadata": {},
   "outputs": [],
   "source": [
    "에너지 사용량 -> 이산화탄소로 전환 : \n",
    "    1. 산업별 가중평균: ex. 제조업(등류30%, 무연탄20%, 전력40%, LNG10%) -> 가중평균계수도출 -> 이산화탄소로 환산\n",
    "    2. 우리가 가지고 있는 데이터 선형 그래프의 기울기 -> 이산화탄소로 환산: 이산화탄소값 y= ax 에너지값 "
   ]
  },
  {
   "cell_type": "code",
   "execution_count": null,
   "id": "83db1276",
   "metadata": {},
   "outputs": [],
   "source": [
    "# 에너지 사용량 규모를 활용하지 않고 정훈님이 말한대로 한다면 입력탄소값의 10~20%을 최대값으로하는 기술만 보이게"
   ]
  },
  {
   "cell_type": "code",
   "execution_count": 17,
   "id": "b6d1ccbe",
   "metadata": {},
   "outputs": [
    {
     "data": {
      "text/plain": [
       "18070"
      ]
     },
     "execution_count": 17,
     "metadata": {},
     "output_type": "execute_result"
    }
   ],
   "source": [
    "len(df[df['에너지 사용량 규모'].str.contains('5천toe 이하')])"
   ]
  },
  {
   "cell_type": "code",
   "execution_count": 18,
   "id": "ad6cb15b",
   "metadata": {},
   "outputs": [
    {
     "data": {
      "text/plain": [
       "9074"
      ]
     },
     "execution_count": 18,
     "metadata": {},
     "output_type": "execute_result"
    }
   ],
   "source": [
    "len(df[df['에너지 사용량 규모'].str.contains('5천teo ~ 1만toe')])"
   ]
  },
  {
   "cell_type": "code",
   "execution_count": 19,
   "id": "2f64f7e1",
   "metadata": {},
   "outputs": [
    {
     "data": {
      "text/plain": [
       "5000"
      ]
     },
     "execution_count": 19,
     "metadata": {},
     "output_type": "execute_result"
    }
   ],
   "source": [
    "len(df[df['에너지 사용량 규모'].str.contains('1만teo ~ 2만toe')])"
   ]
  },
  {
   "cell_type": "code",
   "execution_count": 20,
   "id": "777de1e3",
   "metadata": {},
   "outputs": [
    {
     "data": {
      "text/plain": [
       "4161"
      ]
     },
     "execution_count": 20,
     "metadata": {},
     "output_type": "execute_result"
    }
   ],
   "source": [
    "len(df[df['에너지 사용량 규모'].str.contains('2만teo ~ 5만toe')])"
   ]
  },
  {
   "cell_type": "code",
   "execution_count": 21,
   "id": "89f7bb76",
   "metadata": {},
   "outputs": [
    {
     "data": {
      "text/plain": [
       "2272"
      ]
     },
     "execution_count": 21,
     "metadata": {},
     "output_type": "execute_result"
    }
   ],
   "source": [
    "len(df[df['에너지 사용량 규모'].str.contains('5만teo ~ 10만toe')])"
   ]
  },
  {
   "cell_type": "code",
   "execution_count": 22,
   "id": "41b8c570",
   "metadata": {},
   "outputs": [
    {
     "data": {
      "text/plain": [
       "1823"
      ]
     },
     "execution_count": 22,
     "metadata": {},
     "output_type": "execute_result"
    }
   ],
   "source": [
    "len(df[df['에너지 사용량 규모'].str.contains('10만teo ~ 20만toe')])"
   ]
  },
  {
   "cell_type": "code",
   "execution_count": 23,
   "id": "578eaf56",
   "metadata": {},
   "outputs": [
    {
     "data": {
      "text/plain": [
       "2122"
      ]
     },
     "execution_count": 23,
     "metadata": {},
     "output_type": "execute_result"
    }
   ],
   "source": [
    "len(df[df['에너지 사용량 규모'].str.contains('20만 toe이상')])"
   ]
  },
  {
   "cell_type": "code",
   "execution_count": null,
   "id": "fab5d48d",
   "metadata": {},
   "outputs": [],
   "source": [
    "# 에너지 절감 종류"
   ]
  },
  {
   "cell_type": "code",
   "execution_count": null,
   "id": "d965e691",
   "metadata": {},
   "outputs": [],
   "source": [
    "주력 에너지원 : Ex. 도시가스, 부탄, 등유 ..."
   ]
  },
  {
   "cell_type": "code",
   "execution_count": null,
   "id": "e59707e7",
   "metadata": {},
   "outputs": [],
   "source": [
    "절감기술 우선순위 : 연료절감, 전력절감, Co2절감   -> 내림차순 설정"
   ]
  },
  {
   "cell_type": "code",
   "execution_count": 31,
   "id": "62e691cb",
   "metadata": {
    "scrolled": true
   },
   "outputs": [
    {
     "data": {
      "text/plain": [
       "{'(2011)B-A유',\n",
       " '(2011)B-B유',\n",
       " '(2011)B-C유',\n",
       " '(2011)가스기타',\n",
       " '(2011)경유',\n",
       " '(2011)기타',\n",
       " '(2011)나프타',\n",
       " '(2011)도시가스(LNG)',\n",
       " '(2011)도시가스(LPG)',\n",
       " '(2011)등유',\n",
       " '(2011)부생연료유1호',\n",
       " '(2011)부생연료유2호',\n",
       " '(2011)부탄',\n",
       " '(2011)석유코크스',\n",
       " '(2011)석탄기타',\n",
       " '(2011)신탄',\n",
       " '(2011)연료용 수입무연탄',\n",
       " '(2011)연료용 유연탄(역청탄)',\n",
       " '(2011)온수',\n",
       " '(2011)유류기타',\n",
       " '(2011)윤활유',\n",
       " '(2011)전기(발전기준)',\n",
       " '(2011)전기(소비기준)',\n",
       " '(2011)전기기타',\n",
       " '(2011)증기',\n",
       " '(2011)천연가스(LNG)',\n",
       " '(2011)프로판',\n",
       " '---2011년 개정 후---',\n",
       " '---2017년 개정 후---',\n",
       " 'B-B유',\n",
       " 'B-C유',\n",
       " '가스기타',\n",
       " '경유',\n",
       " '국내무연탄',\n",
       " '기타',\n",
       " '나프타',\n",
       " '납사',\n",
       " '도시가스(LNG)',\n",
       " '도시가스(LPG)',\n",
       " '등유',\n",
       " '벙커 A유',\n",
       " '벙커 B유',\n",
       " '벙커 C유',\n",
       " '보일러등유',\n",
       " '부생연료1호',\n",
       " '부생연료2호',\n",
       " '부생연료유1호',\n",
       " '부생연료유2호',\n",
       " '부탄',\n",
       " '석유코크',\n",
       " '석유코크스',\n",
       " '석탄기타',\n",
       " '수입무연탄',\n",
       " '신탄',\n",
       " '신탄(목재)',\n",
       " '실내등유',\n",
       " '연료용 수입무연탄',\n",
       " '연료용 유연탄',\n",
       " '연료용 유연탄(역청탄)',\n",
       " '온수',\n",
       " '원료용 유연탄',\n",
       " '원유',\n",
       " '유류기타',\n",
       " '윤활유',\n",
       " '전기(발전기준)',\n",
       " '전기(소비기준)',\n",
       " '전기기타',\n",
       " '전력',\n",
       " '증기',\n",
       " '천연가스(LNG)',\n",
       " '코크스',\n",
       " '프로판',\n",
       " '휘발유'}"
      ]
     },
     "execution_count": 31,
     "metadata": {},
     "output_type": "execute_result"
    }
   ],
   "source": [
    "set(df['에너지 절감 종류'].tolist())"
   ]
  },
  {
   "cell_type": "code",
   "execution_count": 29,
   "id": "3b7e6771",
   "metadata": {
    "scrolled": true
   },
   "outputs": [
    {
     "data": {
      "text/html": [
       "<div>\n",
       "<style scoped>\n",
       "    .dataframe tbody tr th:only-of-type {\n",
       "        vertical-align: middle;\n",
       "    }\n",
       "\n",
       "    .dataframe tbody tr th {\n",
       "        vertical-align: top;\n",
       "    }\n",
       "\n",
       "    .dataframe thead th {\n",
       "        text-align: right;\n",
       "    }\n",
       "</style>\n",
       "<table border=\"1\" class=\"dataframe\">\n",
       "  <thead>\n",
       "    <tr style=\"text-align: right;\">\n",
       "      <th></th>\n",
       "      <th>no</th>\n",
       "      <th>sort</th>\n",
       "      <th>감축 대상 설비</th>\n",
       "      <th>개선 구분</th>\n",
       "      <th>act</th>\n",
       "      <th>투자비 회수기간</th>\n",
       "      <th>투자비 회수기간 단위</th>\n",
       "      <th>money</th>\n",
       "      <th>절감액 단위</th>\n",
       "      <th>투자비</th>\n",
       "      <th>투자비 단위</th>\n",
       "      <th>진단 연도</th>\n",
       "      <th>에너지 사용량 규모</th>\n",
       "      <th>에너지 절감 종류</th>\n",
       "      <th>에너지 절감량(연료)</th>\n",
       "      <th>연료 단위</th>\n",
       "      <th>에너지 절감량(전력)</th>\n",
       "      <th>전력 단위</th>\n",
       "      <th>deco2</th>\n",
       "      <th>감축량 단위</th>\n",
       "    </tr>\n",
       "  </thead>\n",
       "  <tbody>\n",
       "    <tr>\n",
       "      <th>49</th>\n",
       "      <td>26052</td>\n",
       "      <td>제조업</td>\n",
       "      <td>로</td>\n",
       "      <td>설비대체</td>\n",
       "      <td>#3 용해로는 2002년도에 설치 가동 중인 용해로로 열효율이 25%로 저조하므로,...</td>\n",
       "      <td>1.68</td>\n",
       "      <td>yr</td>\n",
       "      <td>358.0</td>\n",
       "      <td>백만원/yr</td>\n",
       "      <td>600.0</td>\n",
       "      <td>백만원</td>\n",
       "      <td>2010</td>\n",
       "      <td>5만teo ~ 10만toe</td>\n",
       "      <td>벙커 C유</td>\n",
       "      <td>4656.5</td>\n",
       "      <td>toe/yr</td>\n",
       "      <td>0.0</td>\n",
       "      <td>toe/yr</td>\n",
       "      <td>4074.44</td>\n",
       "      <td>tCO₂/yr</td>\n",
       "    </tr>\n",
       "    <tr>\n",
       "      <th>57</th>\n",
       "      <td>23326</td>\n",
       "      <td>제조업</td>\n",
       "      <td>열사용설비(기타)</td>\n",
       "      <td>열회수-폐가스</td>\n",
       "      <td>T-510 overhead의 폐열을 활용하여 T-350 Reboiler 열원으로 활용</td>\n",
       "      <td>1.89</td>\n",
       "      <td>yr</td>\n",
       "      <td>3169.0</td>\n",
       "      <td>백만원/yr</td>\n",
       "      <td>5980.0</td>\n",
       "      <td>백만원</td>\n",
       "      <td>2010</td>\n",
       "      <td>10만teo ~ 20만toe</td>\n",
       "      <td>벙커 C유</td>\n",
       "      <td>4320.0</td>\n",
       "      <td>toe/yr</td>\n",
       "      <td>-258.0</td>\n",
       "      <td>toe/yr</td>\n",
       "      <td>3641.28</td>\n",
       "      <td>tCO₂/yr</td>\n",
       "    </tr>\n",
       "    <tr>\n",
       "      <th>85</th>\n",
       "      <td>26704</td>\n",
       "      <td>제조업</td>\n",
       "      <td>열사용설비(반응기류)</td>\n",
       "      <td>열회수-배증기</td>\n",
       "      <td>PRS농축기 Flash vapor를 회수(MVR)하여 보일러 급수 예열</td>\n",
       "      <td>1.64</td>\n",
       "      <td>yr</td>\n",
       "      <td>1537.0</td>\n",
       "      <td>백만원/yr</td>\n",
       "      <td>2520.0</td>\n",
       "      <td>백만원</td>\n",
       "      <td>2007</td>\n",
       "      <td>10만teo ~ 20만toe</td>\n",
       "      <td>벙커 C유</td>\n",
       "      <td>3258.0</td>\n",
       "      <td>toe/yr</td>\n",
       "      <td>0.0</td>\n",
       "      <td>toe/yr</td>\n",
       "      <td>2850.75</td>\n",
       "      <td>tCO₂/yr</td>\n",
       "    </tr>\n",
       "    <tr>\n",
       "      <th>89</th>\n",
       "      <td>15742</td>\n",
       "      <td>제조업</td>\n",
       "      <td>열사용설비(기타)</td>\n",
       "      <td>열회수-폐가스</td>\n",
       "      <td>T-210 overhead의 폐열을 활용하여 Reboiler 열원으로 활용</td>\n",
       "      <td>2.51</td>\n",
       "      <td>yr</td>\n",
       "      <td>2564.0</td>\n",
       "      <td>백만원/yr</td>\n",
       "      <td>6435.0</td>\n",
       "      <td>백만원</td>\n",
       "      <td>2010</td>\n",
       "      <td>10만teo ~ 20만toe</td>\n",
       "      <td>벙커 C유</td>\n",
       "      <td>4152.0</td>\n",
       "      <td>toe/yr</td>\n",
       "      <td>-1582.0</td>\n",
       "      <td>toe/yr</td>\n",
       "      <td>2782.40</td>\n",
       "      <td>tCO₂/yr</td>\n",
       "    </tr>\n",
       "    <tr>\n",
       "      <th>95</th>\n",
       "      <td>30952</td>\n",
       "      <td>제조업</td>\n",
       "      <td>열사용설비(기타)</td>\n",
       "      <td>유류-전기</td>\n",
       "      <td>모터적용을 통한 압축기 구동 스팀 절감</td>\n",
       "      <td>1.35</td>\n",
       "      <td>yr</td>\n",
       "      <td>2584.0</td>\n",
       "      <td>백만원/yr</td>\n",
       "      <td>3500.0</td>\n",
       "      <td>백만원</td>\n",
       "      <td>2007</td>\n",
       "      <td>5만teo ~ 10만toe</td>\n",
       "      <td>벙커 C유</td>\n",
       "      <td>4157.0</td>\n",
       "      <td>toe/yr</td>\n",
       "      <td>-1785.0</td>\n",
       "      <td>toe/yr</td>\n",
       "      <td>2677.63</td>\n",
       "      <td>tCO₂/yr</td>\n",
       "    </tr>\n",
       "    <tr>\n",
       "      <th>...</th>\n",
       "      <td>...</td>\n",
       "      <td>...</td>\n",
       "      <td>...</td>\n",
       "      <td>...</td>\n",
       "      <td>...</td>\n",
       "      <td>...</td>\n",
       "      <td>...</td>\n",
       "      <td>...</td>\n",
       "      <td>...</td>\n",
       "      <td>...</td>\n",
       "      <td>...</td>\n",
       "      <td>...</td>\n",
       "      <td>...</td>\n",
       "      <td>...</td>\n",
       "      <td>...</td>\n",
       "      <td>...</td>\n",
       "      <td>...</td>\n",
       "      <td>...</td>\n",
       "      <td>...</td>\n",
       "      <td>...</td>\n",
       "    </tr>\n",
       "    <tr>\n",
       "      <th>41211</th>\n",
       "      <td>20857</td>\n",
       "      <td>폐기물 및 재생사업</td>\n",
       "      <td>보일러</td>\n",
       "      <td>신설비도입</td>\n",
       "      <td>BFP 증기 Turbine 설치</td>\n",
       "      <td>2.08</td>\n",
       "      <td>yr</td>\n",
       "      <td>168.0</td>\n",
       "      <td>백만원/yr</td>\n",
       "      <td>350.0</td>\n",
       "      <td>백만원</td>\n",
       "      <td>2007</td>\n",
       "      <td>5만teo ~ 10만toe</td>\n",
       "      <td>벙커 C유</td>\n",
       "      <td>438.0</td>\n",
       "      <td>toe/yr</td>\n",
       "      <td>0.0</td>\n",
       "      <td>toe/yr</td>\n",
       "      <td>383.30</td>\n",
       "      <td>tCO₂/yr</td>\n",
       "    </tr>\n",
       "    <tr>\n",
       "      <th>41219</th>\n",
       "      <td>7958</td>\n",
       "      <td>폐기물 및 재생사업</td>\n",
       "      <td>보일러</td>\n",
       "      <td>열회수-폐수</td>\n",
       "      <td>Make-up Water 승온(2안)</td>\n",
       "      <td>3.31</td>\n",
       "      <td>yr</td>\n",
       "      <td>121.0</td>\n",
       "      <td>백만원/yr</td>\n",
       "      <td>400.0</td>\n",
       "      <td>백만원</td>\n",
       "      <td>2007</td>\n",
       "      <td>5만teo ~ 10만toe</td>\n",
       "      <td>벙커 C유</td>\n",
       "      <td>425.0</td>\n",
       "      <td>toe/yr</td>\n",
       "      <td>0.0</td>\n",
       "      <td>toe/yr</td>\n",
       "      <td>371.90</td>\n",
       "      <td>tCO₂/yr</td>\n",
       "    </tr>\n",
       "    <tr>\n",
       "      <th>41292</th>\n",
       "      <td>18622</td>\n",
       "      <td>폐기물 및 재생사업</td>\n",
       "      <td>열사용설비(기타)</td>\n",
       "      <td>공정개선</td>\n",
       "      <td>Blow down 폐열회수를 통한 에너지절감</td>\n",
       "      <td>2.26</td>\n",
       "      <td>yr</td>\n",
       "      <td>177.0</td>\n",
       "      <td>백만원/yr</td>\n",
       "      <td>400.0</td>\n",
       "      <td>백만원</td>\n",
       "      <td>2011</td>\n",
       "      <td>10만teo ~ 20만toe</td>\n",
       "      <td>벙커 C유</td>\n",
       "      <td>230.0</td>\n",
       "      <td>toe/yr</td>\n",
       "      <td>0.0</td>\n",
       "      <td>toe/yr</td>\n",
       "      <td>201.25</td>\n",
       "      <td>tCO₂/yr</td>\n",
       "    </tr>\n",
       "    <tr>\n",
       "      <th>41301</th>\n",
       "      <td>25105</td>\n",
       "      <td>폐기물 및 재생사업</td>\n",
       "      <td>보일러</td>\n",
       "      <td>부속장치교체및보완</td>\n",
       "      <td>GD-H1101 Heater의 Future Rows에 Tube 추가하여 Flue G...</td>\n",
       "      <td>1.75</td>\n",
       "      <td>yr</td>\n",
       "      <td>200.0</td>\n",
       "      <td>백만원/yr</td>\n",
       "      <td>350.0</td>\n",
       "      <td>백만원</td>\n",
       "      <td>2012</td>\n",
       "      <td>10만teo ~ 20만toe</td>\n",
       "      <td>벙커 C유</td>\n",
       "      <td>218.0</td>\n",
       "      <td>toe/yr</td>\n",
       "      <td>0.0</td>\n",
       "      <td>toe/yr</td>\n",
       "      <td>190.75</td>\n",
       "      <td>tCO₂/yr</td>\n",
       "    </tr>\n",
       "    <tr>\n",
       "      <th>41563</th>\n",
       "      <td>15380</td>\n",
       "      <td>폐기물 및 재생사업</td>\n",
       "      <td>보일러</td>\n",
       "      <td>열회수-배증기</td>\n",
       "      <td>Co-Gen 보일러 2차 Flash Tank 설치</td>\n",
       "      <td>2.55</td>\n",
       "      <td>yr</td>\n",
       "      <td>15.7</td>\n",
       "      <td>백만원/yr</td>\n",
       "      <td>40.0</td>\n",
       "      <td>백만원</td>\n",
       "      <td>2007</td>\n",
       "      <td>5만teo ~ 10만toe</td>\n",
       "      <td>벙커 C유</td>\n",
       "      <td>45.6</td>\n",
       "      <td>toe/yr</td>\n",
       "      <td>0.0</td>\n",
       "      <td>toe/yr</td>\n",
       "      <td>39.90</td>\n",
       "      <td>tCO₂/yr</td>\n",
       "    </tr>\n",
       "  </tbody>\n",
       "</table>\n",
       "<p>723 rows × 20 columns</p>\n",
       "</div>"
      ],
      "text/plain": [
       "          no        sort     감축 대상 설비      개선 구분  \\\n",
       "49     26052         제조업            로       설비대체   \n",
       "57     23326         제조업    열사용설비(기타)    열회수-폐가스   \n",
       "85     26704         제조업  열사용설비(반응기류)    열회수-배증기   \n",
       "89     15742         제조업    열사용설비(기타)    열회수-폐가스   \n",
       "95     30952         제조업    열사용설비(기타)      유류-전기   \n",
       "...      ...         ...          ...        ...   \n",
       "41211  20857  폐기물 및 재생사업          보일러      신설비도입   \n",
       "41219   7958  폐기물 및 재생사업          보일러     열회수-폐수   \n",
       "41292  18622  폐기물 및 재생사업    열사용설비(기타)       공정개선   \n",
       "41301  25105  폐기물 및 재생사업          보일러  부속장치교체및보완   \n",
       "41563  15380  폐기물 및 재생사업          보일러    열회수-배증기   \n",
       "\n",
       "                                                     act  투자비 회수기간  \\\n",
       "49     #3 용해로는 2002년도에 설치 가동 중인 용해로로 열효율이 25%로 저조하므로,...      1.68   \n",
       "57       T-510 overhead의 폐열을 활용하여 T-350 Reboiler 열원으로 활용      1.89   \n",
       "85               PRS농축기 Flash vapor를 회수(MVR)하여 보일러 급수 예열      1.64   \n",
       "89             T-210 overhead의 폐열을 활용하여 Reboiler 열원으로 활용      2.51   \n",
       "95                                 모터적용을 통한 압축기 구동 스팀 절감      1.35   \n",
       "...                                                  ...       ...   \n",
       "41211                                  BFP 증기 Turbine 설치      2.08   \n",
       "41219                               Make-up Water 승온(2안)      3.31   \n",
       "41292                           Blow down 폐열회수를 통한 에너지절감      2.26   \n",
       "41301  GD-H1101 Heater의 Future Rows에 Tube 추가하여 Flue G...      1.75   \n",
       "41563                        Co-Gen 보일러 2차 Flash Tank 설치      2.55   \n",
       "\n",
       "      투자비 회수기간 단위   money  절감액 단위     투자비 투자비 단위  진단 연도       에너지 사용량 규모  \\\n",
       "49             yr   358.0  백만원/yr   600.0    백만원   2010   5만teo ~ 10만toe   \n",
       "57             yr  3169.0  백만원/yr  5980.0    백만원   2010  10만teo ~ 20만toe   \n",
       "85             yr  1537.0  백만원/yr  2520.0    백만원   2007  10만teo ~ 20만toe   \n",
       "89             yr  2564.0  백만원/yr  6435.0    백만원   2010  10만teo ~ 20만toe   \n",
       "95             yr  2584.0  백만원/yr  3500.0    백만원   2007   5만teo ~ 10만toe   \n",
       "...           ...     ...     ...     ...    ...    ...              ...   \n",
       "41211          yr   168.0  백만원/yr   350.0    백만원   2007   5만teo ~ 10만toe   \n",
       "41219          yr   121.0  백만원/yr   400.0    백만원   2007   5만teo ~ 10만toe   \n",
       "41292          yr   177.0  백만원/yr   400.0    백만원   2011  10만teo ~ 20만toe   \n",
       "41301          yr   200.0  백만원/yr   350.0    백만원   2012  10만teo ~ 20만toe   \n",
       "41563          yr    15.7  백만원/yr    40.0    백만원   2007   5만teo ~ 10만toe   \n",
       "\n",
       "      에너지 절감 종류  에너지 절감량(연료)   연료 단위  에너지 절감량(전력)   전력 단위    deco2   감축량 단위  \n",
       "49        벙커 C유       4656.5  toe/yr          0.0  toe/yr  4074.44  tCO₂/yr  \n",
       "57        벙커 C유       4320.0  toe/yr       -258.0  toe/yr  3641.28  tCO₂/yr  \n",
       "85        벙커 C유       3258.0  toe/yr          0.0  toe/yr  2850.75  tCO₂/yr  \n",
       "89        벙커 C유       4152.0  toe/yr      -1582.0  toe/yr  2782.40  tCO₂/yr  \n",
       "95        벙커 C유       4157.0  toe/yr      -1785.0  toe/yr  2677.63  tCO₂/yr  \n",
       "...         ...          ...     ...          ...     ...      ...      ...  \n",
       "41211     벙커 C유        438.0  toe/yr          0.0  toe/yr   383.30  tCO₂/yr  \n",
       "41219     벙커 C유        425.0  toe/yr          0.0  toe/yr   371.90  tCO₂/yr  \n",
       "41292     벙커 C유        230.0  toe/yr          0.0  toe/yr   201.25  tCO₂/yr  \n",
       "41301     벙커 C유        218.0  toe/yr          0.0  toe/yr   190.75  tCO₂/yr  \n",
       "41563     벙커 C유         45.6  toe/yr          0.0  toe/yr    39.90  tCO₂/yr  \n",
       "\n",
       "[723 rows x 20 columns]"
      ]
     },
     "execution_count": 29,
     "metadata": {},
     "output_type": "execute_result"
    }
   ],
   "source": [
    "df[df['에너지 절감 종류'].str.contains('벙커 C유')]"
   ]
  },
  {
   "cell_type": "code",
   "execution_count": null,
   "id": "dd844609",
   "metadata": {},
   "outputs": [],
   "source": [
    "# 30% 캡"
   ]
  },
  {
   "cell_type": "code",
   "execution_count": null,
   "id": "ec346540",
   "metadata": {},
   "outputs": [],
   "source": [
    "감축량 적용:\n",
    "    1. 30% 캡이내 -> 그냥표시\n",
    "    2. 감축량이 30%를 초과하면, 30%까지 적용된 값 출력, 대신 -> '너무 많은 기술을 적용하였습니다. 귀사의 규모에 비해 절감기술 적용을 위한 투자비가 너무 큽니다.' -> 기술소요 투자비 보여줄 것\n",
    "    "
   ]
  },
  {
   "cell_type": "code",
   "execution_count": null,
   "id": "20b662b8",
   "metadata": {},
   "outputs": [],
   "source": [
    "# 결론/솔루션 하단\n",
    "    +선택한 기술 정보\n",
    "    + 절감 선호에 따른 탑10~20출력 -> df 그대로 뿌려주면됨"
   ]
  },
  {
   "cell_type": "code",
   "execution_count": null,
   "id": "51981b8c",
   "metadata": {},
   "outputs": [],
   "source": [
    "Q. 솔루션이 도움이 되지 않았습니까? \n",
    "    -> 클릭시 다른 페이지로 이동 : 타블로에 db다 넣어서 (옵션: 에너지사용량규모,  업종, 감축대상설비, 개선구분 -> 선택) 지가 스스로 선택해서 볼 수 있도록"
   ]
  },
  {
   "cell_type": "code",
   "execution_count": null,
   "id": "362ff254",
   "metadata": {},
   "outputs": [],
   "source": []
  },
  {
   "cell_type": "code",
   "execution_count": null,
   "id": "b9868f84",
   "metadata": {},
   "outputs": [],
   "source": []
  },
  {
   "cell_type": "code",
   "execution_count": null,
   "id": "adb4221d",
   "metadata": {},
   "outputs": [],
   "source": []
  }
 ],
 "metadata": {
  "kernelspec": {
   "display_name": "Python 3",
   "language": "python",
   "name": "python3"
  },
  "language_info": {
   "codemirror_mode": {
    "name": "ipython",
    "version": 3
   },
   "file_extension": ".py",
   "mimetype": "text/x-python",
   "name": "python",
   "nbconvert_exporter": "python",
   "pygments_lexer": "ipython3",
   "version": "3.6.4"
  }
 },
 "nbformat": 4,
 "nbformat_minor": 5
}
