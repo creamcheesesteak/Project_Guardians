{
 "cells": [
  {
   "cell_type": "code",
   "execution_count": 161,
   "id": "cada1b4d",
   "metadata": {},
   "outputs": [],
   "source": [
    "# 이전에 쓰던거 복붙해서 한거라서 기재된 라이브러리를 다 쓰는게 아니라 신경안쓰셔도됨\n",
    "from selenium import webdriver\n",
    "from selenium.webdriver.remote.webelement import WebElement\n",
    "from selenium.webdriver.common.keys import Keys\n",
    "from selenium.webdriver.support.ui import WebDriverWait\n",
    "from selenium.webdriver.common.by import By\n",
    "from selenium.webdriver.support import expected_conditions as EC\n",
    "from bs4 import BeautifulSoup\n",
    "import pandas as pd\n",
    "import time"
   ]
  },
  {
   "cell_type": "code",
   "execution_count": 162,
   "id": "2ed12a17",
   "metadata": {},
   "outputs": [],
   "source": [
    "browser = webdriver.Chrome('./chromedriver.exe')\n",
    "browser.get('https://ets.krx.co.kr/main/main.jsp')"
   ]
  },
  {
   "cell_type": "code",
   "execution_count": 163,
   "id": "8233d415",
   "metadata": {},
   "outputs": [],
   "source": [
    "# 탭클릭\n",
    "browser.find_element_by_xpath(\"//button[@class='isu-button btn-dropdown']\").click()"
   ]
  },
  {
   "cell_type": "code",
   "execution_count": 164,
   "id": "aa235888",
   "metadata": {},
   "outputs": [],
   "source": [
    "# 탭선택 xpath경로의 마지막 li[숫자] : 1~11\n",
    "browser.find_element_by_xpath(\"/html/body/div[1]/div[2]/div[3]/div[1]/div[1]/div[2]/ul/li[1]/a\").click()"
   ]
  },
  {
   "cell_type": "code",
   "execution_count": 165,
   "id": "fe916b68",
   "metadata": {},
   "outputs": [],
   "source": [
    "html = browser.page_source"
   ]
  },
  {
   "cell_type": "code",
   "execution_count": 166,
   "id": "fb6d86c2",
   "metadata": {},
   "outputs": [],
   "source": [
    "soup = BeautifulSoup(html, 'html.parser')"
   ]
  },
  {
   "cell_type": "code",
   "execution_count": 167,
   "id": "98763ebb",
   "metadata": {},
   "outputs": [],
   "source": [
    "contents = soup.select('div.info-content')"
   ]
  },
  {
   "cell_type": "code",
   "execution_count": 168,
   "id": "90a4e6f7",
   "metadata": {
    "scrolled": true
   },
   "outputs": [
    {
     "data": {
      "text/plain": [
       "[<div class=\"info-content\">\n",
       " <table>\n",
       " <thead>\n",
       " <tr>\n",
       " <th>날짜</th>\n",
       " <th>종가</th>\n",
       " <th>대비</th>\n",
       " <th>등락률(%)</th>\n",
       " <th>거래량(톤)</th>\n",
       " </tr>\n",
       " </thead>\n",
       " <tbody class=\"info-data-table\"><tr><td>2021/10/05</td><td>31,000</td><td>0</td><td>0.00</td><td>4,000</td></tr><tr><td>2021/10/01</td><td>31,000</td><td><span class=\"up\">500</span></td><td>1.64</td><td>7,500</td></tr><tr><td>2021/09/30</td><td>30,500</td><td><span class=\"up\">750</span></td><td>2.52</td><td>7,500</td></tr><tr><td>2021/09/29</td><td>29,750</td><td>0</td><td>0.00</td><td>4,627</td></tr><tr><td>2021/09/28</td><td>29,750</td><td><span class=\"up\">650</span></td><td>2.23</td><td>10,000</td></tr></tbody>\n",
       " </table>\n",
       " </div>]"
      ]
     },
     "execution_count": 168,
     "metadata": {},
     "output_type": "execute_result"
    }
   ],
   "source": [
    "contents"
   ]
  },
  {
   "cell_type": "code",
   "execution_count": 169,
   "id": "5a9cdb93",
   "metadata": {},
   "outputs": [
    {
     "data": {
      "text/plain": [
       "'<div class=\"info-content\">\\n<table>\\n<thead>\\n<tr>\\n<th>날짜</th>\\n<th>종가</th>\\n<th>대비</th>\\n<th>등락률(%)</th>\\n<th>거래량(톤)</th>\\n</tr>\\n</thead>\\n<tbody class=\"info-data-table\"><tr><td>2021/10/05</td><td>31,000</td><td>0</td><td>0.00</td><td>4,000</td></tr><tr><td>2021/10/01</td><td>31,000</td><td><span class=\"up\">500</span></td><td>1.64</td><td>7,500</td></tr><tr><td>2021/09/30</td><td>30,500</td><td><span class=\"up\">750</span></td><td>2.52</td><td>7,500</td></tr><tr><td>2021/09/29</td><td>29,750</td><td>0</td><td>0.00</td><td>4,627</td></tr><tr><td>2021/09/28</td><td>29,750</td><td><span class=\"up\">650</span></td><td>2.23</td><td>10,000</td></tr></tbody>\\n</table>\\n</div>'"
      ]
     },
     "execution_count": 169,
     "metadata": {},
     "output_type": "execute_result"
    }
   ],
   "source": [
    "targets = contents[0]\n",
    "targets = str(targets)\n",
    "targets"
   ]
  },
  {
   "cell_type": "code",
   "execution_count": 170,
   "id": "e3e88817",
   "metadata": {
    "scrolled": true
   },
   "outputs": [],
   "source": [
    "target = targets.split('<td>')\n",
    "target = target[1:]"
   ]
  },
  {
   "cell_type": "code",
   "execution_count": 171,
   "id": "6cf8cf4d",
   "metadata": {},
   "outputs": [],
   "source": [
    "# 불순물 뭐가 있는지 확인해서 나오는 것들 공백으로 대체함\n",
    "shift = {'</td>':'', '<td>':'', '</tr>':'', '<tr>':'', '</span>':'', '<span>':'', '<span class=\"up\">':'', '<span class=\"down\">':'', '</tbody>':'', '\\n':'', '</table>':'', '</div>':''}"
   ]
  },
  {
   "cell_type": "code",
   "execution_count": 172,
   "id": "49226612",
   "metadata": {},
   "outputs": [],
   "source": [
    "def replace_all(text, dic):\n",
    "    for i, j in dic.items():\n",
    "        text = text.replace(i, j)\n",
    "    return text"
   ]
  },
  {
   "cell_type": "code",
   "execution_count": 173,
   "id": "9c9a26e8",
   "metadata": {},
   "outputs": [
    {
     "data": {
      "text/plain": [
       "['2021/10/05',\n",
       " '31,000',\n",
       " '0',\n",
       " '0.00',\n",
       " '4,000',\n",
       " '2021/10/01',\n",
       " '31,000',\n",
       " '500',\n",
       " '1.64',\n",
       " '7,500',\n",
       " '2021/09/30',\n",
       " '30,500',\n",
       " '750',\n",
       " '2.52',\n",
       " '7,500',\n",
       " '2021/09/29',\n",
       " '29,750',\n",
       " '0',\n",
       " '0.00',\n",
       " '4,627',\n",
       " '2021/09/28',\n",
       " '29,750',\n",
       " '650',\n",
       " '2.23',\n",
       " '10,000']"
      ]
     },
     "execution_count": 173,
     "metadata": {},
     "output_type": "execute_result"
    }
   ],
   "source": [
    "raw = []\n",
    "for i in target:\n",
    "    raw.append(replace_all(i, shift))\n",
    "raw"
   ]
  },
  {
   "cell_type": "code",
   "execution_count": null,
   "id": "9a3f4bb6",
   "metadata": {},
   "outputs": [],
   "source": []
  }
 ],
 "metadata": {
  "kernelspec": {
   "display_name": "Python 3",
   "language": "python",
   "name": "python3"
  },
  "language_info": {
   "codemirror_mode": {
    "name": "ipython",
    "version": 3
   },
   "file_extension": ".py",
   "mimetype": "text/x-python",
   "name": "python",
   "nbconvert_exporter": "python",
   "pygments_lexer": "ipython3",
   "version": "3.6.4"
  }
 },
 "nbformat": 4,
 "nbformat_minor": 5
}
