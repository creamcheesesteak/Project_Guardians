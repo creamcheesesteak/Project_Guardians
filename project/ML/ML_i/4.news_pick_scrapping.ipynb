{
 "cells": [
  {
   "cell_type": "code",
   "execution_count": 1,
   "id": "bbb670f3",
   "metadata": {},
   "outputs": [],
   "source": [
    "from selenium import webdriver\n",
    "from selenium.webdriver.remote.webelement import WebElement\n",
    "from selenium.webdriver.common.keys import Keys\n",
    "from selenium.webdriver.support.ui import WebDriverWait\n",
    "from selenium.webdriver.common.by import By\n",
    "from selenium.webdriver.support import expected_conditions as EC\n",
    "from bs4 import BeautifulSoup\n",
    "import requests\n",
    "import pandas as pd\n",
    "import csv\n",
    "import time\n",
    "import re"
   ]
  },
  {
   "cell_type": "code",
   "execution_count": 8,
   "id": "6b9fa8e6",
   "metadata": {},
   "outputs": [],
   "source": [
    "browser = webdriver.Chrome('./chromedriver.exe')\n",
    "browser.get('https://www.bigkinds.or.kr/v2/news/index.do')"
   ]
  },
  {
   "cell_type": "code",
   "execution_count": null,
   "id": "67838091",
   "metadata": {},
   "outputs": [],
   "source": [
    "# 기간 설정 ['시작날짜', '마지막날짜']\n",
    "date = ['2021-01-01', '2021-09-25']\n",
    "\n",
    "# 키워드\n",
    "word = '온실가스'"
   ]
  },
  {
   "cell_type": "code",
   "execution_count": null,
   "id": "fd04b8e9",
   "metadata": {},
   "outputs": [],
   "source": [
    "browser.find_element_by_xpath(\"//input[@id='total-search-key']\").send_keys(word)"
   ]
  },
  {
   "cell_type": "code",
   "execution_count": null,
   "id": "858ee3dc",
   "metadata": {},
   "outputs": [],
   "source": [
    "browser.find_element_by_xpath(\"//div[@class='tab-btn-inner tab1']\").click()"
   ]
  },
  {
   "cell_type": "code",
   "execution_count": null,
   "id": "b6fdd1f0",
   "metadata": {},
   "outputs": [],
   "source": [
    "start_date = browser.find_element_by_xpath(\"//input[@id='search-begin-date']\")\n",
    "start_date.click()\n",
    "start_date.send_keys(Keys.CONTROL + \"a\")\n",
    "start_date.send_keys(date[0])\n",
    "\n",
    "end_date = browser.find_element_by_xpath(\"//input[@id='search-end-date']\")\n",
    "end_date.click()\n",
    "end_date.send_keys(Keys.CONTROL + \"a\")\n",
    "end_date.send_keys(date[1])\n",
    "\n",
    "time.sleep(1)\n",
    "browser.find_element_by_xpath(\"//button[@class='btn btn-search news-search-btn news-report-search-btn']\").click()"
   ]
  },
  {
   "cell_type": "code",
   "execution_count": null,
   "id": "bd30f307",
   "metadata": {},
   "outputs": [],
   "source": [
    "WebDriverWait(browser, 5).until(EC.presence_of_element_located((By.CSS_SELECTOR, \"div.collap-wrp > div.collap-head > button#collapse-step-3\")))\n",
    "browser.find_element_by_css_selector('div.collap-wrp > div.collap-head > button#collapse-step-3').click()\n",
    "WebDriverWait(browser, 3).until(EC.presence_of_element_located((By.CLASS_NAME, \"btn btn-wh ml-auto news-download-btn mobile-excel-download\")))\n",
    "browser.find_element_by_xpath(\"//button[@class='btn btn-wh ml-auto news-download-btn mobile-excel-download']\").click()"
   ]
  },
  {
   "cell_type": "code",
   "execution_count": null,
   "id": "253a60a8",
   "metadata": {},
   "outputs": [],
   "source": [
    "WebDriverWait(browser, 2).until(EC.presence_of_element_located((By.CLASS_NAME, \"news-inner\")))"
   ]
  },
  {
   "cell_type": "code",
   "execution_count": null,
   "id": "ee8fa3d2",
   "metadata": {},
   "outputs": [],
   "source": []
  },
  {
   "cell_type": "code",
   "execution_count": null,
   "id": "41dfc590",
   "metadata": {},
   "outputs": [],
   "source": []
  },
  {
   "cell_type": "code",
   "execution_count": null,
   "id": "57f4af3b",
   "metadata": {},
   "outputs": [],
   "source": []
  },
  {
   "cell_type": "code",
   "execution_count": null,
   "id": "33a2695c",
   "metadata": {},
   "outputs": [],
   "source": [
    "browser.find_element_by_xpath(\"//button[@class='btn-login login-modal-btn login-area-before']\").click()"
   ]
  },
  {
   "cell_type": "code",
   "execution_count": null,
   "id": "8dc8bc40",
   "metadata": {},
   "outputs": [],
   "source": [
    "browser.find_element_by_xpath(\"//input[@id='login-user-id']\").send_keys(e_mail)"
   ]
  },
  {
   "cell_type": "code",
   "execution_count": null,
   "id": "2aa95067",
   "metadata": {},
   "outputs": [],
   "source": [
    "browser.find_element_by_xpath(\"//input[@id='login-user-password']\").send_keys(password)"
   ]
  },
  {
   "cell_type": "code",
   "execution_count": null,
   "id": "a71c1fb6",
   "metadata": {},
   "outputs": [],
   "source": [
    "browser.find_element_by_xpath(\"//button[@id='login-btn']\").click()"
   ]
  },
  {
   "cell_type": "code",
   "execution_count": null,
   "id": "6cedeab4",
   "metadata": {},
   "outputs": [],
   "source": []
  },
  {
   "cell_type": "code",
   "execution_count": null,
   "id": "16445ae1",
   "metadata": {},
   "outputs": [],
   "source": [
    "login-user-password"
   ]
  },
  {
   "cell_type": "code",
   "execution_count": null,
   "id": "51b19e83",
   "metadata": {},
   "outputs": [],
   "source": [
    "login-btn"
   ]
  },
  {
   "cell_type": "code",
   "execution_count": null,
   "id": "3f4f94d5",
   "metadata": {},
   "outputs": [],
   "source": []
  },
  {
   "cell_type": "code",
   "execution_count": 9,
   "id": "c2104e05",
   "metadata": {},
   "outputs": [],
   "source": [
    "import os"
   ]
  },
  {
   "cell_type": "code",
   "execution_count": 30,
   "id": "22b767e8",
   "metadata": {},
   "outputs": [],
   "source": [
    "folder_path = '.\\\\time\\\\sample'"
   ]
  },
  {
   "cell_type": "code",
   "execution_count": 31,
   "id": "6e87002b",
   "metadata": {},
   "outputs": [],
   "source": [
    "folder_list = os.listdir(folder_path)"
   ]
  },
  {
   "cell_type": "code",
   "execution_count": 32,
   "id": "6fa67bdd",
   "metadata": {},
   "outputs": [
    {
     "name": "stdout",
     "output_type": "stream",
     "text": [
      "['list.xlsx']\n"
     ]
    }
   ],
   "source": [
    "print(folder_list)"
   ]
  },
  {
   "cell_type": "code",
   "execution_count": 33,
   "id": "ee426ac5",
   "metadata": {},
   "outputs": [
    {
     "ename": "NotADirectoryError",
     "evalue": "[WinError 267] 디렉터리 이름이 올바르지 않습니다: '.\\\\time\\\\sample\\\\list.xlsx'",
     "output_type": "error",
     "traceback": [
      "\u001b[1;31m---------------------------------------------------------------------------\u001b[0m",
      "\u001b[1;31mNotADirectoryError\u001b[0m                        Traceback (most recent call last)",
      "\u001b[1;32m<ipython-input-33-fcaebb4865d7>\u001b[0m in \u001b[0;36m<module>\u001b[1;34m\u001b[0m\n\u001b[0;32m      1\u001b[0m \u001b[1;32mfor\u001b[0m \u001b[0mfolder_name\u001b[0m \u001b[1;32min\u001b[0m \u001b[0mfolder_list\u001b[0m \u001b[1;33m:\u001b[0m\u001b[1;33m\u001b[0m\u001b[0m\n\u001b[0;32m      2\u001b[0m     \u001b[0mfile_path\u001b[0m \u001b[1;33m=\u001b[0m \u001b[0mfolder_path\u001b[0m \u001b[1;33m+\u001b[0m \u001b[1;34m\"\\\\\"\u001b[0m \u001b[1;33m+\u001b[0m \u001b[0mfolder_name\u001b[0m\u001b[1;33m\u001b[0m\u001b[0m\n\u001b[1;32m----> 3\u001b[1;33m     \u001b[0mfile_list\u001b[0m \u001b[1;33m=\u001b[0m \u001b[0mos\u001b[0m\u001b[1;33m.\u001b[0m\u001b[0mlistdir\u001b[0m\u001b[1;33m(\u001b[0m\u001b[0mfile_path\u001b[0m\u001b[1;33m)\u001b[0m\u001b[1;33m\u001b[0m\u001b[0m\n\u001b[0m",
      "\u001b[1;31mNotADirectoryError\u001b[0m: [WinError 267] 디렉터리 이름이 올바르지 않습니다: '.\\\\time\\\\sample\\\\list.xlsx'"
     ]
    }
   ],
   "source": [
    "for folder_name in folder_list :\n",
    "    file_path = folder_path + \"\\\\\" + folder_name\n",
    "    file_list = os.listdir(file_path)"
   ]
  },
  {
   "cell_type": "code",
   "execution_count": null,
   "id": "23aa4749",
   "metadata": {},
   "outputs": [],
   "source": []
  },
  {
   "cell_type": "code",
   "execution_count": null,
   "id": "ddc5c585",
   "metadata": {},
   "outputs": [],
   "source": []
  },
  {
   "cell_type": "code",
   "execution_count": null,
   "id": "1c15b65b",
   "metadata": {},
   "outputs": [],
   "source": []
  },
  {
   "cell_type": "code",
   "execution_count": null,
   "id": "279c68a4",
   "metadata": {},
   "outputs": [],
   "source": []
  }
 ],
 "metadata": {
  "kernelspec": {
   "display_name": "Python 3",
   "language": "python",
   "name": "python3"
  },
  "language_info": {
   "codemirror_mode": {
    "name": "ipython",
    "version": 3
   },
   "file_extension": ".py",
   "mimetype": "text/x-python",
   "name": "python",
   "nbconvert_exporter": "python",
   "pygments_lexer": "ipython3",
   "version": "3.6.4"
  }
 },
 "nbformat": 4,
 "nbformat_minor": 5
}
