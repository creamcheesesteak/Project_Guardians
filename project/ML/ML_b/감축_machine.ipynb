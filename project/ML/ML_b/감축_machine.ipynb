{
  "nbformat": 4,
  "nbformat_minor": 0,
  "metadata": {
    "colab": {
      "name": "감축_machine.ipynb",
      "provenance": [],
      "authorship_tag": "ABX9TyO36ZhgltYgglS6bMTrFfKl",
      "include_colab_link": true
    },
    "kernelspec": {
      "name": "python3",
      "display_name": "Python 3"
    },
    "language_info": {
      "name": "python"
    }
  },
  "cells": [
    {
      "cell_type": "markdown",
      "metadata": {
        "id": "view-in-github",
        "colab_type": "text"
      },
      "source": [
        "<a href=\"https://colab.research.google.com/github/creamcheesesteak/Project_Guardians/blob/master/project/ML/ML_b/%EA%B0%90%EC%B6%95_machine.ipynb\" target=\"_parent\"><img src=\"https://colab.research.google.com/assets/colab-badge.svg\" alt=\"Open In Colab\"/></a>"
      ]
    },
    {
      "cell_type": "code",
      "metadata": {
        "id": "fRZcc-z0HAU-"
      },
      "source": [
        "# 단계 1: 폰트 설치\n",
        "import matplotlib.font_manager as fm\n",
        "\n",
        "!apt-get -qq -y install fonts-nanum > /dev/null\n",
        "fontpath = '/usr/share/fonts/truetype/nanum/NanumBarunGothic.ttf'\n",
        "font = fm.FontProperties(fname=fontpath, size=9)\n",
        "fm._rebuild()"
      ],
      "execution_count": null,
      "outputs": []
    },
    {
      "cell_type": "code",
      "metadata": {
        "id": "1cpheUb7M1xX"
      },
      "source": [
        "# 단계 2: 런타임 재시작\n",
        "import os\n",
        "os.kill(os.getpid(), 9)"
      ],
      "execution_count": null,
      "outputs": []
    },
    {
      "cell_type": "code",
      "metadata": {
        "id": "v48z179pM2J9"
      },
      "source": [
        "# 단계 3: 한글 폰트 설정\n",
        "import matplotlib.pyplot as plt\n",
        "import matplotlib as mpl\n",
        "import matplotlib.font_manager as fm\n",
        "\n",
        "# 마이너스 표시 문제\n",
        "mpl.rcParams['axes.unicode_minus'] = False\n",
        "\t\n",
        "# 한글 폰트 설정\n",
        "path = '/usr/share/fonts/truetype/nanum/NanumGothicBold.ttf'\n",
        "font_name = fm.FontProperties(fname=path, size=18).get_name()\n",
        "plt.rc('font', family=font_name)\n",
        "fm._rebuild()"
      ],
      "execution_count": null,
      "outputs": []
    },
    {
      "cell_type": "code",
      "metadata": {
        "id": "8gvXbFcy7fZc"
      },
      "source": [
        "import pandas as pd\n",
        "import numpy as np\n",
        "import matplotlib.pyplot as plt\n",
        "import seaborn as sns"
      ],
      "execution_count": null,
      "outputs": []
    },
    {
      "cell_type": "code",
      "metadata": {
        "id": "jQ6aasSm-N_U"
      },
      "source": [
        "df_tech = pd.read_csv('(컬럼보존)에너지_및_온실가스_감축기술.csv',encoding='cp949')"
      ],
      "execution_count": null,
      "outputs": []
    },
    {
      "cell_type": "code",
      "metadata": {
        "id": "ntIM9KbALcLc"
      },
      "source": [
        "df_tech2 = pd.read_csv('에너지_및_온실가스_감축기술.csv')"
      ],
      "execution_count": null,
      "outputs": []
    },
    {
      "cell_type": "code",
      "metadata": {
        "colab": {
          "base_uri": "https://localhost:8080/",
          "height": 134
        },
        "id": "EKDb7fBeL1YL",
        "outputId": "60f442bf-3d83-4455-db2d-40dcc665a2b3"
      },
      "source": [
        "df_tech2.head(1)"
      ],
      "execution_count": null,
      "outputs": [
        {
          "output_type": "execute_result",
          "data": {
            "text/html": [
              "<div>\n",
              "<style scoped>\n",
              "    .dataframe tbody tr th:only-of-type {\n",
              "        vertical-align: middle;\n",
              "    }\n",
              "\n",
              "    .dataframe tbody tr th {\n",
              "        vertical-align: top;\n",
              "    }\n",
              "\n",
              "    .dataframe thead th {\n",
              "        text-align: right;\n",
              "    }\n",
              "</style>\n",
              "<table border=\"1\" class=\"dataframe\">\n",
              "  <thead>\n",
              "    <tr style=\"text-align: right;\">\n",
              "      <th></th>\n",
              "      <th>NO</th>\n",
              "      <th>INDUTY</th>\n",
              "      <th>TRGT_EQMT</th>\n",
              "      <th>CLSF_IMPRV</th>\n",
              "      <th>IMPRV_ACT</th>\n",
              "      <th>ROI_PD</th>\n",
              "      <th>ROI_PD_UNIT</th>\n",
              "      <th>RDC_COST</th>\n",
              "      <th>RDC_COST_UNIT</th>\n",
              "      <th>INVST_COST</th>\n",
              "      <th>INVST_COST_UNIT</th>\n",
              "      <th>DGN_YR</th>\n",
              "      <th>ENG_CNSM_SCL</th>\n",
              "      <th>RDC_ENG_SORT</th>\n",
              "      <th>AMNT_RDC_ENG_FUEL</th>\n",
              "      <th>AMNT_RDC_ENG_FUEL_UNIT</th>\n",
              "      <th>AMNT_RDC_ENG_ELTC</th>\n",
              "      <th>AMNT_RDC_ENG_ELTC_UNIT</th>\n",
              "      <th>AMNT_RDC_GHG</th>\n",
              "      <th>AMNT_RDC_GHG_UNIT</th>\n",
              "    </tr>\n",
              "  </thead>\n",
              "  <tbody>\n",
              "    <tr>\n",
              "      <th>0</th>\n",
              "      <td>1</td>\n",
              "      <td>폐기물</td>\n",
              "      <td>공기 압축기 설비</td>\n",
              "      <td>신설비도입</td>\n",
              "      <td>VSD 공기압축기 도입</td>\n",
              "      <td>5.0</td>\n",
              "      <td>yr</td>\n",
              "      <td>3.0</td>\n",
              "      <td>백만원/yr</td>\n",
              "      <td>15.0</td>\n",
              "      <td>백만원</td>\n",
              "      <td>2020</td>\n",
              "      <td>5천toe 이하</td>\n",
              "      <td>전기(소비기준)</td>\n",
              "      <td>0.0</td>\n",
              "      <td>toe/yr</td>\n",
              "      <td>6.6</td>\n",
              "      <td>toe/yr</td>\n",
              "      <td>3.6</td>\n",
              "      <td>tCO₂/yr</td>\n",
              "    </tr>\n",
              "  </tbody>\n",
              "</table>\n",
              "</div>"
            ],
            "text/plain": [
              "   NO INDUTY  TRGT_EQMT  ... AMNT_RDC_ENG_ELTC_UNIT AMNT_RDC_GHG  AMNT_RDC_GHG_UNIT\n",
              "0   1    폐기물  공기 압축기 설비  ...                 toe/yr          3.6            tCO₂/yr\n",
              "\n",
              "[1 rows x 20 columns]"
            ]
          },
          "metadata": {},
          "execution_count": 13
        }
      ]
    },
    {
      "cell_type": "code",
      "metadata": {
        "colab": {
          "base_uri": "https://localhost:8080/"
        },
        "id": "8AKca2t0Bw-T",
        "outputId": "93fd2675-87bb-48a1-8688-dd00b84655be"
      },
      "source": [
        "df_tech.info()"
      ],
      "execution_count": null,
      "outputs": [
        {
          "output_type": "stream",
          "name": "stdout",
          "text": [
            "<class 'pandas.core.frame.DataFrame'>\n",
            "RangeIndex: 53882 entries, 0 to 53881\n",
            "Data columns (total 20 columns):\n",
            " #   Column       Non-Null Count  Dtype  \n",
            "---  ------       --------------  -----  \n",
            " 0   연번           53882 non-null  int64  \n",
            " 1   업종           53882 non-null  object \n",
            " 2   감축 대상 설비     53882 non-null  object \n",
            " 3   개선 구분        53882 non-null  object \n",
            " 4   개선활동명        53882 non-null  object \n",
            " 5   투자비 회수기간     53882 non-null  float64\n",
            " 6   투자비 회수기간 단위  53882 non-null  object \n",
            " 7   절감액          53882 non-null  float64\n",
            " 8   절감액 단위       53882 non-null  object \n",
            " 9   투자비          53882 non-null  float64\n",
            " 10  투자비 단위       53882 non-null  object \n",
            " 11  진단 연도        53882 non-null  int64  \n",
            " 12  에너지 사용량 규모   53882 non-null  object \n",
            " 13  에너지 절감 종류    53882 non-null  object \n",
            " 14  에너지 절감량(연료)  53882 non-null  float64\n",
            " 15  연료 단위        53882 non-null  object \n",
            " 16  에너지 절감량(전력)  53882 non-null  float64\n",
            " 17  전력 단위        53882 non-null  object \n",
            " 18  온실가스 감축량     53882 non-null  float64\n",
            " 19  감축량 단위       53882 non-null  object \n",
            "dtypes: float64(6), int64(2), object(12)\n",
            "memory usage: 8.2+ MB\n"
          ]
        }
      ]
    },
    {
      "cell_type": "code",
      "metadata": {
        "id": "oNoRY2lDB0vT"
      },
      "source": [
        "df_tech_edit = df_tech[['연번','업종','감축 대상 설비','개선 구분','개선활동명','투자비 회수기간','투자비 회수기간 단위','절감액','절감액 단위','투자비','투자비 단위','진단 연도','에너지 사용량 규모','에너지 절감 종류','에너지 절감량(연료)','에너지 절감량(전력)','온실가스 감축량']]"
      ],
      "execution_count": null,
      "outputs": []
    },
    {
      "cell_type": "code",
      "metadata": {
        "colab": {
          "base_uri": "https://localhost:8080/"
        },
        "id": "6AUsErO2DEhL",
        "outputId": "6cb31076-3920-4e91-df08-5aa805c650ea"
      },
      "source": [
        "df_tech_edit.info()"
      ],
      "execution_count": null,
      "outputs": [
        {
          "output_type": "stream",
          "name": "stdout",
          "text": [
            "<class 'pandas.core.frame.DataFrame'>\n",
            "RangeIndex: 53882 entries, 0 to 53881\n",
            "Data columns (total 17 columns):\n",
            " #   Column       Non-Null Count  Dtype  \n",
            "---  ------       --------------  -----  \n",
            " 0   연번           53882 non-null  int64  \n",
            " 1   업종           53882 non-null  object \n",
            " 2   감축 대상 설비     53882 non-null  object \n",
            " 3   개선 구분        53882 non-null  object \n",
            " 4   개선활동명        53882 non-null  object \n",
            " 5   투자비 회수기간     53882 non-null  float64\n",
            " 6   투자비 회수기간 단위  53882 non-null  object \n",
            " 7   절감액          53882 non-null  float64\n",
            " 8   절감액 단위       53882 non-null  object \n",
            " 9   투자비          53882 non-null  float64\n",
            " 10  투자비 단위       53882 non-null  object \n",
            " 11  진단 연도        53882 non-null  int64  \n",
            " 12  에너지 사용량 규모   53882 non-null  object \n",
            " 13  에너지 절감 종류    53882 non-null  object \n",
            " 14  에너지 절감량(연료)  53882 non-null  float64\n",
            " 15  에너지 절감량(전력)  53882 non-null  float64\n",
            " 16  온실가스 감축량     53882 non-null  float64\n",
            "dtypes: float64(6), int64(2), object(9)\n",
            "memory usage: 7.0+ MB\n"
          ]
        }
      ]
    },
    {
      "cell_type": "code",
      "metadata": {
        "colab": {
          "base_uri": "https://localhost:8080/"
        },
        "id": "gwCelzLJDJX-",
        "outputId": "859e65f8-7d51-46e8-a247-7dc128204f5e"
      },
      "source": [
        "df_tech_edit.isnull().sum()"
      ],
      "execution_count": null,
      "outputs": [
        {
          "output_type": "execute_result",
          "data": {
            "text/plain": [
              "연번             0\n",
              "업종             0\n",
              "감축 대상 설비       0\n",
              "개선 구분          0\n",
              "개선활동명          0\n",
              "투자비 회수기간       0\n",
              "투자비 회수기간 단위    0\n",
              "절감액            0\n",
              "절감액 단위         0\n",
              "투자비            0\n",
              "투자비 단위         0\n",
              "진단 연도          0\n",
              "에너지 사용량 규모     0\n",
              "에너지 절감 종류      0\n",
              "에너지 절감량(연료)    0\n",
              "에너지 절감량(전력)    0\n",
              "온실가스 감축량       0\n",
              "dtype: int64"
            ]
          },
          "metadata": {},
          "execution_count": 7
        }
      ]
    },
    {
      "cell_type": "code",
      "metadata": {
        "id": "ceBuG8apDmk5"
      },
      "source": [
        "df_corr = df_tech_edit.corr()"
      ],
      "execution_count": null,
      "outputs": []
    },
    {
      "cell_type": "code",
      "metadata": {
        "colab": {
          "base_uri": "https://localhost:8080/",
          "height": 1000
        },
        "id": "GrQpng_tD86h",
        "outputId": "039e4661-8811-4949-90b5-d22785434c58"
      },
      "source": [
        "plt.figure(figsize=(10, 10))\n",
        "sns.set(font_scale=0.8)\n",
        "sns.heatmap(df_corr, annot=True, cbar=False);\n",
        "plt.show()"
      ],
      "execution_count": null,
      "outputs": [
        {
          "output_type": "stream",
          "name": "stderr",
          "text": [
            "/usr/local/lib/python3.7/dist-packages/matplotlib/backends/backend_agg.py:214: RuntimeWarning: Glyph 50672 missing from current font.\n",
            "  font.set_text(s, 0.0, flags=flags)\n",
            "/usr/local/lib/python3.7/dist-packages/matplotlib/backends/backend_agg.py:214: RuntimeWarning: Glyph 48264 missing from current font.\n",
            "  font.set_text(s, 0.0, flags=flags)\n",
            "/usr/local/lib/python3.7/dist-packages/matplotlib/backends/backend_agg.py:214: RuntimeWarning: Glyph 53804 missing from current font.\n",
            "  font.set_text(s, 0.0, flags=flags)\n",
            "/usr/local/lib/python3.7/dist-packages/matplotlib/backends/backend_agg.py:214: RuntimeWarning: Glyph 51088 missing from current font.\n",
            "  font.set_text(s, 0.0, flags=flags)\n",
            "/usr/local/lib/python3.7/dist-packages/matplotlib/backends/backend_agg.py:214: RuntimeWarning: Glyph 48708 missing from current font.\n",
            "  font.set_text(s, 0.0, flags=flags)\n",
            "/usr/local/lib/python3.7/dist-packages/matplotlib/backends/backend_agg.py:214: RuntimeWarning: Glyph 54924 missing from current font.\n",
            "  font.set_text(s, 0.0, flags=flags)\n",
            "/usr/local/lib/python3.7/dist-packages/matplotlib/backends/backend_agg.py:214: RuntimeWarning: Glyph 49688 missing from current font.\n",
            "  font.set_text(s, 0.0, flags=flags)\n",
            "/usr/local/lib/python3.7/dist-packages/matplotlib/backends/backend_agg.py:214: RuntimeWarning: Glyph 44592 missing from current font.\n",
            "  font.set_text(s, 0.0, flags=flags)\n",
            "/usr/local/lib/python3.7/dist-packages/matplotlib/backends/backend_agg.py:214: RuntimeWarning: Glyph 44036 missing from current font.\n",
            "  font.set_text(s, 0.0, flags=flags)\n",
            "/usr/local/lib/python3.7/dist-packages/matplotlib/backends/backend_agg.py:214: RuntimeWarning: Glyph 51208 missing from current font.\n",
            "  font.set_text(s, 0.0, flags=flags)\n",
            "/usr/local/lib/python3.7/dist-packages/matplotlib/backends/backend_agg.py:214: RuntimeWarning: Glyph 44048 missing from current font.\n",
            "  font.set_text(s, 0.0, flags=flags)\n",
            "/usr/local/lib/python3.7/dist-packages/matplotlib/backends/backend_agg.py:214: RuntimeWarning: Glyph 50529 missing from current font.\n",
            "  font.set_text(s, 0.0, flags=flags)\n",
            "/usr/local/lib/python3.7/dist-packages/matplotlib/backends/backend_agg.py:214: RuntimeWarning: Glyph 51652 missing from current font.\n",
            "  font.set_text(s, 0.0, flags=flags)\n",
            "/usr/local/lib/python3.7/dist-packages/matplotlib/backends/backend_agg.py:214: RuntimeWarning: Glyph 45800 missing from current font.\n",
            "  font.set_text(s, 0.0, flags=flags)\n",
            "/usr/local/lib/python3.7/dist-packages/matplotlib/backends/backend_agg.py:214: RuntimeWarning: Glyph 46020 missing from current font.\n",
            "  font.set_text(s, 0.0, flags=flags)\n",
            "/usr/local/lib/python3.7/dist-packages/matplotlib/backends/backend_agg.py:214: RuntimeWarning: Glyph 50640 missing from current font.\n",
            "  font.set_text(s, 0.0, flags=flags)\n",
            "/usr/local/lib/python3.7/dist-packages/matplotlib/backends/backend_agg.py:214: RuntimeWarning: Glyph 45320 missing from current font.\n",
            "  font.set_text(s, 0.0, flags=flags)\n",
            "/usr/local/lib/python3.7/dist-packages/matplotlib/backends/backend_agg.py:214: RuntimeWarning: Glyph 51648 missing from current font.\n",
            "  font.set_text(s, 0.0, flags=flags)\n",
            "/usr/local/lib/python3.7/dist-packages/matplotlib/backends/backend_agg.py:214: RuntimeWarning: Glyph 47049 missing from current font.\n",
            "  font.set_text(s, 0.0, flags=flags)\n",
            "/usr/local/lib/python3.7/dist-packages/matplotlib/backends/backend_agg.py:214: RuntimeWarning: Glyph 47308 missing from current font.\n",
            "  font.set_text(s, 0.0, flags=flags)\n",
            "/usr/local/lib/python3.7/dist-packages/matplotlib/backends/backend_agg.py:214: RuntimeWarning: Glyph 51204 missing from current font.\n",
            "  font.set_text(s, 0.0, flags=flags)\n",
            "/usr/local/lib/python3.7/dist-packages/matplotlib/backends/backend_agg.py:214: RuntimeWarning: Glyph 47141 missing from current font.\n",
            "  font.set_text(s, 0.0, flags=flags)\n",
            "/usr/local/lib/python3.7/dist-packages/matplotlib/backends/backend_agg.py:214: RuntimeWarning: Glyph 50728 missing from current font.\n",
            "  font.set_text(s, 0.0, flags=flags)\n",
            "/usr/local/lib/python3.7/dist-packages/matplotlib/backends/backend_agg.py:214: RuntimeWarning: Glyph 49892 missing from current font.\n",
            "  font.set_text(s, 0.0, flags=flags)\n",
            "/usr/local/lib/python3.7/dist-packages/matplotlib/backends/backend_agg.py:214: RuntimeWarning: Glyph 44032 missing from current font.\n",
            "  font.set_text(s, 0.0, flags=flags)\n",
            "/usr/local/lib/python3.7/dist-packages/matplotlib/backends/backend_agg.py:214: RuntimeWarning: Glyph 49828 missing from current font.\n",
            "  font.set_text(s, 0.0, flags=flags)\n",
            "/usr/local/lib/python3.7/dist-packages/matplotlib/backends/backend_agg.py:214: RuntimeWarning: Glyph 52629 missing from current font.\n",
            "  font.set_text(s, 0.0, flags=flags)\n",
            "/usr/local/lib/python3.7/dist-packages/matplotlib/backends/backend_agg.py:183: RuntimeWarning: Glyph 50672 missing from current font.\n",
            "  font.set_text(s, 0, flags=flags)\n",
            "/usr/local/lib/python3.7/dist-packages/matplotlib/backends/backend_agg.py:183: RuntimeWarning: Glyph 48264 missing from current font.\n",
            "  font.set_text(s, 0, flags=flags)\n",
            "/usr/local/lib/python3.7/dist-packages/matplotlib/backends/backend_agg.py:183: RuntimeWarning: Glyph 53804 missing from current font.\n",
            "  font.set_text(s, 0, flags=flags)\n",
            "/usr/local/lib/python3.7/dist-packages/matplotlib/backends/backend_agg.py:183: RuntimeWarning: Glyph 51088 missing from current font.\n",
            "  font.set_text(s, 0, flags=flags)\n",
            "/usr/local/lib/python3.7/dist-packages/matplotlib/backends/backend_agg.py:183: RuntimeWarning: Glyph 48708 missing from current font.\n",
            "  font.set_text(s, 0, flags=flags)\n",
            "/usr/local/lib/python3.7/dist-packages/matplotlib/backends/backend_agg.py:183: RuntimeWarning: Glyph 54924 missing from current font.\n",
            "  font.set_text(s, 0, flags=flags)\n",
            "/usr/local/lib/python3.7/dist-packages/matplotlib/backends/backend_agg.py:183: RuntimeWarning: Glyph 49688 missing from current font.\n",
            "  font.set_text(s, 0, flags=flags)\n",
            "/usr/local/lib/python3.7/dist-packages/matplotlib/backends/backend_agg.py:183: RuntimeWarning: Glyph 44592 missing from current font.\n",
            "  font.set_text(s, 0, flags=flags)\n",
            "/usr/local/lib/python3.7/dist-packages/matplotlib/backends/backend_agg.py:183: RuntimeWarning: Glyph 44036 missing from current font.\n",
            "  font.set_text(s, 0, flags=flags)\n",
            "/usr/local/lib/python3.7/dist-packages/matplotlib/backends/backend_agg.py:183: RuntimeWarning: Glyph 51208 missing from current font.\n",
            "  font.set_text(s, 0, flags=flags)\n",
            "/usr/local/lib/python3.7/dist-packages/matplotlib/backends/backend_agg.py:183: RuntimeWarning: Glyph 44048 missing from current font.\n",
            "  font.set_text(s, 0, flags=flags)\n",
            "/usr/local/lib/python3.7/dist-packages/matplotlib/backends/backend_agg.py:183: RuntimeWarning: Glyph 50529 missing from current font.\n",
            "  font.set_text(s, 0, flags=flags)\n",
            "/usr/local/lib/python3.7/dist-packages/matplotlib/backends/backend_agg.py:183: RuntimeWarning: Glyph 51652 missing from current font.\n",
            "  font.set_text(s, 0, flags=flags)\n",
            "/usr/local/lib/python3.7/dist-packages/matplotlib/backends/backend_agg.py:183: RuntimeWarning: Glyph 45800 missing from current font.\n",
            "  font.set_text(s, 0, flags=flags)\n",
            "/usr/local/lib/python3.7/dist-packages/matplotlib/backends/backend_agg.py:183: RuntimeWarning: Glyph 46020 missing from current font.\n",
            "  font.set_text(s, 0, flags=flags)\n",
            "/usr/local/lib/python3.7/dist-packages/matplotlib/backends/backend_agg.py:183: RuntimeWarning: Glyph 50640 missing from current font.\n",
            "  font.set_text(s, 0, flags=flags)\n",
            "/usr/local/lib/python3.7/dist-packages/matplotlib/backends/backend_agg.py:183: RuntimeWarning: Glyph 45320 missing from current font.\n",
            "  font.set_text(s, 0, flags=flags)\n",
            "/usr/local/lib/python3.7/dist-packages/matplotlib/backends/backend_agg.py:183: RuntimeWarning: Glyph 51648 missing from current font.\n",
            "  font.set_text(s, 0, flags=flags)\n",
            "/usr/local/lib/python3.7/dist-packages/matplotlib/backends/backend_agg.py:183: RuntimeWarning: Glyph 47049 missing from current font.\n",
            "  font.set_text(s, 0, flags=flags)\n",
            "/usr/local/lib/python3.7/dist-packages/matplotlib/backends/backend_agg.py:183: RuntimeWarning: Glyph 47308 missing from current font.\n",
            "  font.set_text(s, 0, flags=flags)\n",
            "/usr/local/lib/python3.7/dist-packages/matplotlib/backends/backend_agg.py:183: RuntimeWarning: Glyph 51204 missing from current font.\n",
            "  font.set_text(s, 0, flags=flags)\n",
            "/usr/local/lib/python3.7/dist-packages/matplotlib/backends/backend_agg.py:183: RuntimeWarning: Glyph 47141 missing from current font.\n",
            "  font.set_text(s, 0, flags=flags)\n",
            "/usr/local/lib/python3.7/dist-packages/matplotlib/backends/backend_agg.py:183: RuntimeWarning: Glyph 50728 missing from current font.\n",
            "  font.set_text(s, 0, flags=flags)\n",
            "/usr/local/lib/python3.7/dist-packages/matplotlib/backends/backend_agg.py:183: RuntimeWarning: Glyph 49892 missing from current font.\n",
            "  font.set_text(s, 0, flags=flags)\n",
            "/usr/local/lib/python3.7/dist-packages/matplotlib/backends/backend_agg.py:183: RuntimeWarning: Glyph 44032 missing from current font.\n",
            "  font.set_text(s, 0, flags=flags)\n",
            "/usr/local/lib/python3.7/dist-packages/matplotlib/backends/backend_agg.py:183: RuntimeWarning: Glyph 49828 missing from current font.\n",
            "  font.set_text(s, 0, flags=flags)\n",
            "/usr/local/lib/python3.7/dist-packages/matplotlib/backends/backend_agg.py:183: RuntimeWarning: Glyph 52629 missing from current font.\n",
            "  font.set_text(s, 0, flags=flags)\n"
          ]
        },
        {
          "output_type": "display_data",
          "data": {
            "image/png": "[encoded data removed]",
            "text/plain": [
              "<Figure size 720x720 with 1 Axes>"
            ]
          },
          "metadata": {}
        }
      ]
    },
    {
      "cell_type": "code",
      "metadata": {
        "colab": {
          "base_uri": "https://localhost:8080/",
          "height": 682
        },
        "id": "FoPeOlS7FAfa",
        "outputId": "95859250-cb4c-4125-f492-b5c0f849ead3"
      },
      "source": [
        "df_corr2 = df_tech2.corr()\n",
        "\n",
        "plt.figure(figsize=(10, 10))\n",
        "sns.set(font_scale=0.8)\n",
        "sns.heatmap(df_corr2, annot=True, cbar=False);\n",
        "plt.show()"
      ],
      "execution_count": null,
      "outputs": [
        {
          "output_type": "display_data",
          "data": {
            "image/png": "[encoded data removed]",
            "text/plain": [
              "<Figure size 720x720 with 1 Axes>"
            ]
          },
          "metadata": {}
        }
      ]
    },
    {
      "cell_type": "code",
      "metadata": {
        "colab": {
          "base_uri": "https://localhost:8080/"
        },
        "id": "YEGn-Q6WklIP",
        "outputId": "8494ba5c-e896-42a4-ed71-949ae7a19067"
      },
      "source": [
        "df_tech2.info()"
      ],
      "execution_count": null,
      "outputs": [
        {
          "output_type": "stream",
          "name": "stdout",
          "text": [
            "<class 'pandas.core.frame.DataFrame'>\n",
            "RangeIndex: 56641 entries, 0 to 56640\n",
            "Data columns (total 20 columns):\n",
            " #   Column                  Non-Null Count  Dtype  \n",
            "---  ------                  --------------  -----  \n",
            " 0   NO                      56641 non-null  int64  \n",
            " 1   INDUTY                  56641 non-null  object \n",
            " 2   TRGT_EQMT               56641 non-null  object \n",
            " 3   CLSF_IMPRV              56641 non-null  object \n",
            " 4   IMPRV_ACT               56641 non-null  object \n",
            " 5   ROI_PD                  56641 non-null  float64\n",
            " 6   ROI_PD_UNIT             56641 non-null  object \n",
            " 7   RDC_COST                56641 non-null  float64\n",
            " 8   RDC_COST_UNIT           56641 non-null  object \n",
            " 9   INVST_COST              56641 non-null  float64\n",
            " 10  INVST_COST_UNIT         56641 non-null  object \n",
            " 11  DGN_YR                  56641 non-null  int64  \n",
            " 12  ENG_CNSM_SCL            56641 non-null  object \n",
            " 13  RDC_ENG_SORT            56641 non-null  object \n",
            " 14  AMNT_RDC_ENG_FUEL       56641 non-null  float64\n",
            " 15  AMNT_RDC_ENG_FUEL_UNIT  56641 non-null  object \n",
            " 16  AMNT_RDC_ENG_ELTC       56641 non-null  float64\n",
            " 17  AMNT_RDC_ENG_ELTC_UNIT  56641 non-null  object \n",
            " 18  AMNT_RDC_GHG            56641 non-null  float64\n",
            " 19  AMNT_RDC_GHG_UNIT       56641 non-null  object \n",
            "dtypes: float64(6), int64(2), object(12)\n",
            "memory usage: 8.6+ MB\n"
          ]
        }
      ]
    },
    {
      "cell_type": "code",
      "metadata": {
        "id": "p_hdOGOWlold"
      },
      "source": [
        "# AMNT RDC ENG FUEL - 에너지 절감량(연료), RDC COST - 절감액, INVST_COST - 투자비    /    AMNT_RDC_GHG - 온실가스 감축량            "
      ],
      "execution_count": null,
      "outputs": []
    },
    {
      "cell_type": "code",
      "metadata": {
        "colab": {
          "base_uri": "https://localhost:8080/"
        },
        "id": "VskN11ZukCG5",
        "outputId": "2802caa9-3227-4209-d1e2-344b8a0d0efc"
      },
      "source": [
        "# 변수 간의 상관관계 분석 - AMNT_RDC_GHG 변수와 상관관계가 높은 순서대로 정리\n",
        "corr_order = df_corr2.loc[:'AMNT_RDC_ENG_FUEL', 'AMNT_RDC_GHG'].abs().sort_values(ascending=False)\n",
        "corr_order"
      ],
      "execution_count": null,
      "outputs": [
        {
          "output_type": "execute_result",
          "data": {
            "text/plain": [
              "AMNT_RDC_ENG_FUEL    0.736676\n",
              "RDC_COST             0.686764\n",
              "INVST_COST           0.539295\n",
              "ROI_PD               0.011302\n",
              "NO                   0.010051\n",
              "DGN_YR               0.000626\n",
              "Name: AMNT_RDC_GHG, dtype: float64"
            ]
          },
          "metadata": {},
          "execution_count": 8
        }
      ]
    },
    {
      "cell_type": "code",
      "metadata": {
        "colab": {
          "base_uri": "https://localhost:8080/",
          "height": 203
        },
        "id": "5mIDJ_HJjv6L",
        "outputId": "ae54cbc1-8741-4e86-8e5c-0565349f9f64"
      },
      "source": [
        "# AMNT_RDC_GHG 변수와 상관관계가 높은 4개 변수를 추출\n",
        "plot_cols = ['AMNT_RDC_GHG', 'AMNT_RDC_ENG_FUEL', 'RDC_COST','INVST_COST']\n",
        "plot_df = df_tech2.loc[:, plot_cols]\n",
        "plot_df.head()"
      ],
      "execution_count": null,
      "outputs": [
        {
          "output_type": "execute_result",
          "data": {
            "text/html": [
              "<div>\n",
              "<style scoped>\n",
              "    .dataframe tbody tr th:only-of-type {\n",
              "        vertical-align: middle;\n",
              "    }\n",
              "\n",
              "    .dataframe tbody tr th {\n",
              "        vertical-align: top;\n",
              "    }\n",
              "\n",
              "    .dataframe thead th {\n",
              "        text-align: right;\n",
              "    }\n",
              "</style>\n",
              "<table border=\"1\" class=\"dataframe\">\n",
              "  <thead>\n",
              "    <tr style=\"text-align: right;\">\n",
              "      <th></th>\n",
              "      <th>AMNT_RDC_GHG</th>\n",
              "      <th>AMNT_RDC_ENG_FUEL</th>\n",
              "      <th>RDC_COST</th>\n",
              "      <th>INVST_COST</th>\n",
              "    </tr>\n",
              "  </thead>\n",
              "  <tbody>\n",
              "    <tr>\n",
              "      <th>0</th>\n",
              "      <td>3.60</td>\n",
              "      <td>0.00</td>\n",
              "      <td>3.00</td>\n",
              "      <td>15.00</td>\n",
              "    </tr>\n",
              "    <tr>\n",
              "      <th>1</th>\n",
              "      <td>4.54</td>\n",
              "      <td>43.44</td>\n",
              "      <td>10.01</td>\n",
              "      <td>50.00</td>\n",
              "    </tr>\n",
              "    <tr>\n",
              "      <th>2</th>\n",
              "      <td>0.10</td>\n",
              "      <td>0.00</td>\n",
              "      <td>0.09</td>\n",
              "      <td>0.45</td>\n",
              "    </tr>\n",
              "    <tr>\n",
              "      <th>3</th>\n",
              "      <td>170.74</td>\n",
              "      <td>0.00</td>\n",
              "      <td>141.23</td>\n",
              "      <td>706.15</td>\n",
              "    </tr>\n",
              "    <tr>\n",
              "      <th>4</th>\n",
              "      <td>17.40</td>\n",
              "      <td>37.30</td>\n",
              "      <td>10.00</td>\n",
              "      <td>50.00</td>\n",
              "    </tr>\n",
              "  </tbody>\n",
              "</table>\n",
              "</div>"
            ],
            "text/plain": [
              "   AMNT_RDC_GHG  AMNT_RDC_ENG_FUEL  RDC_COST  INVST_COST\n",
              "0          3.60               0.00      3.00       15.00\n",
              "1          4.54              43.44     10.01       50.00\n",
              "2          0.10               0.00      0.09        0.45\n",
              "3        170.74               0.00    141.23      706.15\n",
              "4         17.40              37.30     10.00       50.00"
            ]
          },
          "metadata": {},
          "execution_count": 59
        }
      ]
    },
    {
      "cell_type": "code",
      "metadata": {
        "colab": {
          "base_uri": "https://localhost:8080/",
          "height": 608
        },
        "id": "I-t-M_xWoF2r",
        "outputId": "cc589dad-ad42-45f1-aeab-7c18817779be"
      },
      "source": [
        "# regplot으로 선형회귀선 표시\n",
        "plt.figure(figsize=(10,10))\n",
        "for idx, col in enumerate(plot_cols[1:]):\n",
        "    ax1 = plt.subplot(2, 2, idx+1)\n",
        "    sns.regplot(x=col, y=plot_cols[0], data=plot_df, ax=ax1)    \n",
        "plt.show()"
      ],
      "execution_count": null,
      "outputs": [
        {
          "output_type": "display_data",
          "data": {
            "image/png": "[encoded data removed]",
            "text/plain": [
              "<Figure size 720x720 with 3 Axes>"
            ]
          },
          "metadata": {}
        }
      ]
    },
    {
      "cell_type": "code",
      "metadata": {
        "colab": {
          "base_uri": "https://localhost:8080/",
          "height": 370
        },
        "id": "JyTiNm15oPyY",
        "outputId": "87e66075-ec24-4ece-f74d-4ffc29a67c47"
      },
      "source": [
        "# AMNT_RDC_GHG 데이터의 분포\n",
        "sns.displot(x='AMNT_RDC_GHG', kind='hist', data=df_tech2)\n",
        "plt.show()"
      ],
      "execution_count": null,
      "outputs": [
        {
          "output_type": "display_data",
          "data": {
            "image/png": "[encoded data removed]",
            "text/plain": [
              "<Figure size 360x360 with 1 Axes>"
            ]
          },
          "metadata": {}
        }
      ]
    },
    {
      "cell_type": "markdown",
      "metadata": {
        "id": "rKbAgHfwruPP"
      },
      "source": [
        "# 데이터 전처리"
      ]
    },
    {
      "cell_type": "code",
      "metadata": {
        "id": "vr91P7VRsKjV"
      },
      "source": [
        "df_2 = plot_df"
      ],
      "execution_count": null,
      "outputs": []
    },
    {
      "cell_type": "code",
      "metadata": {
        "colab": {
          "base_uri": "https://localhost:8080/",
          "height": 417
        },
        "id": "AzEMaQ_ntEcn",
        "outputId": "6fd1e4ec-2242-4244-ab5f-dc23e3c15352"
      },
      "source": [
        "df_2"
      ],
      "execution_count": null,
      "outputs": [
        {
          "output_type": "execute_result",
          "data": {
            "text/html": [
              "<div>\n",
              "<style scoped>\n",
              "    .dataframe tbody tr th:only-of-type {\n",
              "        vertical-align: middle;\n",
              "    }\n",
              "\n",
              "    .dataframe tbody tr th {\n",
              "        vertical-align: top;\n",
              "    }\n",
              "\n",
              "    .dataframe thead th {\n",
              "        text-align: right;\n",
              "    }\n",
              "</style>\n",
              "<table border=\"1\" class=\"dataframe\">\n",
              "  <thead>\n",
              "    <tr style=\"text-align: right;\">\n",
              "      <th></th>\n",
              "      <th>AMNT_RDC_GHG</th>\n",
              "      <th>AMNT_RDC_ENG_FUEL</th>\n",
              "      <th>RDC_COST</th>\n",
              "      <th>INVST_COST</th>\n",
              "    </tr>\n",
              "  </thead>\n",
              "  <tbody>\n",
              "    <tr>\n",
              "      <th>0</th>\n",
              "      <td>3.60</td>\n",
              "      <td>0.108225</td>\n",
              "      <td>0.010264</td>\n",
              "      <td>15.00</td>\n",
              "    </tr>\n",
              "    <tr>\n",
              "      <th>1</th>\n",
              "      <td>4.54</td>\n",
              "      <td>0.108626</td>\n",
              "      <td>0.010408</td>\n",
              "      <td>50.00</td>\n",
              "    </tr>\n",
              "    <tr>\n",
              "      <th>2</th>\n",
              "      <td>0.10</td>\n",
              "      <td>0.108225</td>\n",
              "      <td>0.010204</td>\n",
              "      <td>0.45</td>\n",
              "    </tr>\n",
              "    <tr>\n",
              "      <th>3</th>\n",
              "      <td>170.74</td>\n",
              "      <td>0.108225</td>\n",
              "      <td>0.013103</td>\n",
              "      <td>706.15</td>\n",
              "    </tr>\n",
              "    <tr>\n",
              "      <th>4</th>\n",
              "      <td>17.40</td>\n",
              "      <td>0.108569</td>\n",
              "      <td>0.010407</td>\n",
              "      <td>50.00</td>\n",
              "    </tr>\n",
              "    <tr>\n",
              "      <th>...</th>\n",
              "      <td>...</td>\n",
              "      <td>...</td>\n",
              "      <td>...</td>\n",
              "      <td>...</td>\n",
              "    </tr>\n",
              "    <tr>\n",
              "      <th>56636</th>\n",
              "      <td>3.60</td>\n",
              "      <td>0.108225</td>\n",
              "      <td>0.010241</td>\n",
              "      <td>0.00</td>\n",
              "    </tr>\n",
              "    <tr>\n",
              "      <th>56637</th>\n",
              "      <td>2.80</td>\n",
              "      <td>0.108265</td>\n",
              "      <td>0.010249</td>\n",
              "      <td>0.00</td>\n",
              "    </tr>\n",
              "    <tr>\n",
              "      <th>56638</th>\n",
              "      <td>5.30</td>\n",
              "      <td>0.108225</td>\n",
              "      <td>0.010282</td>\n",
              "      <td>0.00</td>\n",
              "    </tr>\n",
              "    <tr>\n",
              "      <th>56639</th>\n",
              "      <td>2.10</td>\n",
              "      <td>0.108256</td>\n",
              "      <td>0.010241</td>\n",
              "      <td>0.00</td>\n",
              "    </tr>\n",
              "    <tr>\n",
              "      <th>56640</th>\n",
              "      <td>7.20</td>\n",
              "      <td>0.108329</td>\n",
              "      <td>0.010346</td>\n",
              "      <td>0.00</td>\n",
              "    </tr>\n",
              "  </tbody>\n",
              "</table>\n",
              "<p>56641 rows × 4 columns</p>\n",
              "</div>"
            ],
            "text/plain": [
              "       AMNT_RDC_GHG  AMNT_RDC_ENG_FUEL  RDC_COST  INVST_COST\n",
              "0              3.60           0.108225  0.010264       15.00\n",
              "1              4.54           0.108626  0.010408       50.00\n",
              "2              0.10           0.108225  0.010204        0.45\n",
              "3            170.74           0.108225  0.013103      706.15\n",
              "4             17.40           0.108569  0.010407       50.00\n",
              "...             ...                ...       ...         ...\n",
              "56636          3.60           0.108225  0.010241        0.00\n",
              "56637          2.80           0.108265  0.010249        0.00\n",
              "56638          5.30           0.108225  0.010282        0.00\n",
              "56639          2.10           0.108256  0.010241        0.00\n",
              "56640          7.20           0.108329  0.010346        0.00\n",
              "\n",
              "[56641 rows x 4 columns]"
            ]
          },
          "metadata": {},
          "execution_count": 58
        }
      ]
    },
    {
      "cell_type": "code",
      "metadata": {
        "colab": {
          "base_uri": "https://localhost:8080/",
          "height": 203
        },
        "id": "vKCWTfdnqfLA",
        "outputId": "1acf0611-9708-4c88-c92c-ba821561d991"
      },
      "source": [
        "# 사이킷런 MinMaxScaler 적용 \n",
        "from sklearn.preprocessing import MinMaxScaler\n",
        "scaler=MinMaxScaler()\n",
        "\n",
        "df_scaled = df_2.iloc[:, 1:4]\n",
        "scaler.fit(df_scaled)\n",
        "df_scaled = scaler.transform(df_scaled)\n",
        "\n",
        "# 스케일링 변환된 값을 데이터프레임에 반영\n",
        "df_2.iloc[:, 1:4] = df_scaled[:, :]\n",
        "df_2.head()"
      ],
      "execution_count": null,
      "outputs": [
        {
          "output_type": "execute_result",
          "data": {
            "text/html": [
              "<div>\n",
              "<style scoped>\n",
              "    .dataframe tbody tr th:only-of-type {\n",
              "        vertical-align: middle;\n",
              "    }\n",
              "\n",
              "    .dataframe tbody tr th {\n",
              "        vertical-align: top;\n",
              "    }\n",
              "\n",
              "    .dataframe thead th {\n",
              "        text-align: right;\n",
              "    }\n",
              "</style>\n",
              "<table border=\"1\" class=\"dataframe\">\n",
              "  <thead>\n",
              "    <tr style=\"text-align: right;\">\n",
              "      <th></th>\n",
              "      <th>AMNT_RDC_GHG</th>\n",
              "      <th>AMNT_RDC_ENG_FUEL</th>\n",
              "      <th>RDC_COST</th>\n",
              "      <th>INVST_COST</th>\n",
              "    </tr>\n",
              "  </thead>\n",
              "  <tbody>\n",
              "    <tr>\n",
              "      <th>0</th>\n",
              "      <td>3.60</td>\n",
              "      <td>0.108225</td>\n",
              "      <td>0.010264</td>\n",
              "      <td>0.000150</td>\n",
              "    </tr>\n",
              "    <tr>\n",
              "      <th>1</th>\n",
              "      <td>4.54</td>\n",
              "      <td>0.108626</td>\n",
              "      <td>0.010408</td>\n",
              "      <td>0.000500</td>\n",
              "    </tr>\n",
              "    <tr>\n",
              "      <th>2</th>\n",
              "      <td>0.10</td>\n",
              "      <td>0.108225</td>\n",
              "      <td>0.010204</td>\n",
              "      <td>0.000005</td>\n",
              "    </tr>\n",
              "    <tr>\n",
              "      <th>3</th>\n",
              "      <td>170.74</td>\n",
              "      <td>0.108225</td>\n",
              "      <td>0.013103</td>\n",
              "      <td>0.007062</td>\n",
              "    </tr>\n",
              "    <tr>\n",
              "      <th>4</th>\n",
              "      <td>17.40</td>\n",
              "      <td>0.108569</td>\n",
              "      <td>0.010407</td>\n",
              "      <td>0.000500</td>\n",
              "    </tr>\n",
              "  </tbody>\n",
              "</table>\n",
              "</div>"
            ],
            "text/plain": [
              "   AMNT_RDC_GHG  AMNT_RDC_ENG_FUEL  RDC_COST  INVST_COST\n",
              "0          3.60           0.108225  0.010264    0.000150\n",
              "1          4.54           0.108626  0.010408    0.000500\n",
              "2          0.10           0.108225  0.010204    0.000005\n",
              "3        170.74           0.108225  0.013103    0.007062\n",
              "4         17.40           0.108569  0.010407    0.000500"
            ]
          },
          "metadata": {},
          "execution_count": 60
        }
      ]
    },
    {
      "cell_type": "markdown",
      "metadata": {
        "id": "Y0a2tWvHwBeD"
      },
      "source": [
        "# 학습용 / 테스트 데이터셋 분할"
      ]
    },
    {
      "cell_type": "code",
      "metadata": {
        "colab": {
          "base_uri": "https://localhost:8080/"
        },
        "id": "nlSftKn5sBb5",
        "outputId": "87a5d05f-0482-44e0-8e68-7cdb9f083a22"
      },
      "source": [
        "# 학습 - 테스트 데이터셋 분할\n",
        "from sklearn.model_selection import train_test_split\n",
        "X_data = df_2.loc[:,['AMNT_RDC_ENG_FUEL','RDC_COST','INVST_COST']]\n",
        "y_data = df_2.loc[:,'AMNT_RDC_GHG']\n",
        "\n",
        "X_train, X_test, y_train, y_test = train_test_split(X_data, y_data, test_size=0.2,shuffle=True,random_state=12)\n",
        "\n",
        "print(X_train.shape,y_train.shape,X_test.shape,y_test.shape,sep='\\n')"
      ],
      "execution_count": null,
      "outputs": [
        {
          "output_type": "stream",
          "name": "stdout",
          "text": [
            "(45312, 3)\n",
            "(45312,)\n",
            "(11329, 3)\n",
            "(11329,)\n"
          ]
        }
      ]
    },
    {
      "cell_type": "markdown",
      "metadata": {
        "id": "VyZGNCgPwG1y"
      },
      "source": [
        "# 선형회귀"
      ]
    },
    {
      "cell_type": "code",
      "metadata": {
        "colab": {
          "base_uri": "https://localhost:8080/",
          "height": 321
        },
        "id": "uJXQFvxNuzd0",
        "outputId": "f8a82759-6a6f-4cc1-d3cd-29bf8e5f3de6"
      },
      "source": [
        "# 선형 회귀 모형\n",
        "from sklearn.linear_model import LinearRegression\n",
        "lr = LinearRegression()\n",
        "lr.fit(X_train, y_train)\n",
        "\n",
        "# 예측\n",
        "y_test_pred = lr.predict(X_test)\n",
        "\n",
        "# 예측값, 실제값의 분포\n",
        "plt.figure(figsize=(10, 5))\n",
        "plt.scatter(X_test['AMNT_RDC_ENG_FUEL'], y_test, label='y_test')  \n",
        "plt.scatter(X_test['AMNT_RDC_ENG_FUEL'], y_test_pred, c='r', label='y_pred')\n",
        "plt.legend(loc='best')\n",
        "plt.show()"
      ],
      "execution_count": null,
      "outputs": [
        {
          "output_type": "display_data",
          "data": {
            "image/png": "[encoded data removed]",
            "text/plain": [
              "<Figure size 720x360 with 1 Axes>"
            ]
          },
          "metadata": {}
        }
      ]
    },
    {
      "cell_type": "code",
      "metadata": {
        "colab": {
          "base_uri": "https://localhost:8080/"
        },
        "id": "IokSX-GLvNNI",
        "outputId": "33f4f857-bc62-4eb0-ea41-e4409582a260"
      },
      "source": [
        "# 평가\n",
        "from sklearn.metrics import mean_squared_error\n",
        "y_train_pred = lr.predict(X_train)\n",
        "\n",
        "train_mse = mean_squared_error(y_train, y_train_pred)\n",
        "print(\"Train MSE: %.4f\" % train_mse)\n",
        "\n",
        "test_mse = mean_squared_error(y_test, y_test_pred)\n",
        "print(\"Test MSE: %.4f\" % test_mse)"
      ],
      "execution_count": null,
      "outputs": [
        {
          "output_type": "stream",
          "name": "stdout",
          "text": [
            "Train MSE: 296868.8498\n",
            "Test MSE: 288204.5815\n"
          ]
        }
      ]
    },
    {
      "cell_type": "markdown",
      "metadata": {
        "id": "cGhtNjmHwOzM"
      },
      "source": [
        "# 비선형 회귀"
      ]
    },
    {
      "cell_type": "code",
      "metadata": {
        "colab": {
          "base_uri": "https://localhost:8080/"
        },
        "id": "_l5PuCBVvWyk",
        "outputId": "3ab69c61-b746-4568-8297-91f3241b9e4e"
      },
      "source": [
        "# XGBoost\n",
        "from xgboost import XGBRegressor\n",
        "xgbr = XGBRegressor(objective='reg:squarederror', max_depth=3, random_state=12)\n",
        "xgbr.fit(X_train, y_train)\n",
        "\n",
        "y_train_pred = xgbr.predict(X_train)\n",
        "train_mse = mean_squared_error(y_train, y_train_pred)\n",
        "print(\"Train MSE: %.4f\" % train_mse)  \n",
        "\n",
        "y_test_pred = xgbr.predict(X_test)\n",
        "test_mse = mean_squared_error(y_test, y_test_pred)\n",
        "print(\"Test MSE: %.4f\" % test_mse)"
      ],
      "execution_count": null,
      "outputs": [
        {
          "output_type": "stream",
          "name": "stdout",
          "text": [
            "Train MSE: 36841.6548\n",
            "Test MSE: 1410399.7601\n"
          ]
        }
      ]
    },
    {
      "cell_type": "code",
      "metadata": {
        "colab": {
          "base_uri": "https://localhost:8080/"
        },
        "id": "28TGGSUawir4",
        "outputId": "5f0cfda5-cdd3-431d-b0b3-ac15c48b5db1"
      },
      "source": [
        "# AMNT RDC ENG FUEL - 에너지 절감량(연료), RDC COST - 절감액, INVST_COST - 투자비    /    AMNT_RDC_GHG - 온실가스 감축량 \n",
        "\n",
        "print(df_tech2['AMNT_RDC_ENG_FUEL'].value_counts(), df_tech2['RDC_COST'].value_counts(),df_tech2['INVST_COST'].value_counts(),sep='\\n\\n')"
      ],
      "execution_count": null,
      "outputs": [
        {
          "output_type": "stream",
          "name": "stdout",
          "text": [
            "0.00      40120\n",
            "3.50         32\n",
            "2.00         29\n",
            "3.00         29\n",
            "3.60         29\n",
            "          ...  \n",
            "76.68         1\n",
            "62.52         1\n",
            "258.30        1\n",
            "790.99        1\n",
            "25.24         1\n",
            "Name: AMNT_RDC_ENG_FUEL, Length: 8282, dtype: int64\n",
            "\n",
            "2.00       194\n",
            "3.00       188\n",
            "1.20       184\n",
            "5.00       184\n",
            "1.80       176\n",
            "          ... \n",
            "1947.40      1\n",
            "143.20       1\n",
            "2059.22      1\n",
            "23.15        1\n",
            "177.34       1\n",
            "Name: RDC_COST, Length: 11084, dtype: int64\n",
            "\n",
            "0.00       4394\n",
            "10.00      1939\n",
            "5.00       1654\n",
            "20.00      1500\n",
            "30.00      1251\n",
            "           ... \n",
            "58.70         1\n",
            "47.37         1\n",
            "7.88          1\n",
            "2450.00       1\n",
            "184.92        1\n",
            "Name: INVST_COST, Length: 6864, dtype: int64\n"
          ]
        }
      ]
    },
    {
      "cell_type": "code",
      "metadata": {
        "colab": {
          "base_uri": "https://localhost:8080/"
        },
        "id": "vw_a04DszatV",
        "outputId": "6773d1af-b2e2-4206-e94d-fa81c29a1858"
      },
      "source": [
        "print(df_tech2['AMNT_RDC_ENG_FUEL'].describe(), df_tech2['RDC_COST'].describe(),df_tech2['INVST_COST'].describe(),sep='\\n\\n')"
      ],
      "execution_count": null,
      "outputs": [
        {
          "output_type": "stream",
          "name": "stdout",
          "text": [
            "count    56641.000000\n",
            "mean        62.375013\n",
            "std        744.087011\n",
            "min     -11718.000000\n",
            "25%          0.000000\n",
            "50%          0.000000\n",
            "75%          4.550000\n",
            "max      96556.700000\n",
            "Name: AMNT_RDC_ENG_FUEL, dtype: float64\n",
            "\n",
            "count    56641.000000\n",
            "mean        67.915615\n",
            "std        492.072818\n",
            "min       -496.700000\n",
            "25%          4.700000\n",
            "50%         12.700000\n",
            "75%         36.200000\n",
            "max      48190.090000\n",
            "Name: RDC_COST, dtype: float64\n",
            "\n",
            "count     56641.000000\n",
            "mean        108.360033\n",
            "std         864.793790\n",
            "min           0.000000\n",
            "25%           4.500000\n",
            "50%          15.680000\n",
            "75%          51.000000\n",
            "max      100000.000000\n",
            "Name: INVST_COST, dtype: float64\n"
          ]
        }
      ]
    },
    {
      "cell_type": "code",
      "metadata": {
        "id": "8ar5pLG50KRM"
      },
      "source": [
        ""
      ],
      "execution_count": null,
      "outputs": []
    }
  ]
}