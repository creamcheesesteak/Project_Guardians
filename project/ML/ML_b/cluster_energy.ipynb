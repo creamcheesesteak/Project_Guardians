{
  "nbformat": 4,
  "nbformat_minor": 0,
  "metadata": {
    "colab": {
      "name": "cluster_energy.ipynb",
      "provenance": [],
      "authorship_tag": "ABX9TyN7rPZEIYmHPYZQbpDmPzJ9",
      "include_colab_link": true
    },
    "kernelspec": {
      "name": "python3",
      "display_name": "Python 3"
    },
    "language_info": {
      "name": "python"
    }
  },
  "cells": [
    {
      "cell_type": "markdown",
      "metadata": {
        "id": "view-in-github",
        "colab_type": "text"
      },
      "source": [
        "<a href=\"https://colab.research.google.com/github/creamcheesesteak/Project_Guardians/blob/master/project/ML/ML_b/cluster_energy.ipynb\" target=\"_parent\"><img src=\"https://colab.research.google.com/assets/colab-badge.svg\" alt=\"Open In Colab\"/></a>"
      ]
    },
    {
      "cell_type": "markdown",
      "metadata": {
        "id": "liFSym_GRKmo"
      },
      "source": [
        "## 전처리"
      ]
    },
    {
      "cell_type": "code",
      "metadata": {
        "id": "eSsbIrUuvAef"
      },
      "source": [
        "import pandas as pd"
      ],
      "execution_count": null,
      "outputs": []
    },
    {
      "cell_type": "code",
      "metadata": {
        "id": "t9I1-5n8F8GT"
      },
      "source": [
        "df_2015 = pd.read_excel('2015년 업체별 명세서 주요정보.xlsx')"
      ],
      "execution_count": null,
      "outputs": []
    },
    {
      "cell_type": "code",
      "metadata": {
        "id": "Nt6XgWBWvLZH"
      },
      "source": [
        "df_2016 = pd.read_excel('2016년 업체별 명세서 주요정보.xlsx')"
      ],
      "execution_count": null,
      "outputs": []
    },
    {
      "cell_type": "code",
      "metadata": {
        "id": "uCwNC590vyNn"
      },
      "source": [
        "df_2017 = pd.read_excel('(수정)2017년도 업체별 명세서 주요정보(업데이트)_18.12.20.기준.xls', header=2)"
      ],
      "execution_count": null,
      "outputs": []
    },
    {
      "cell_type": "code",
      "metadata": {
        "id": "sZdotIHCvyke"
      },
      "source": [
        "df_2018 = pd.read_excel('(수정)2018년도 업체별 명세서 주요정보(업데이트)_19.08.08.기준.xls', header=2)"
      ],
      "execution_count": null,
      "outputs": []
    },
    {
      "cell_type": "code",
      "metadata": {
        "id": "3ZbaqoA3vy1d"
      },
      "source": [
        "df_2019 = pd.read_excel('(수정)2019년도 업체별 명세서 주요정보(업데이트)_20.11.26.기준(수정).xlsx')"
      ],
      "execution_count": null,
      "outputs": []
    },
    {
      "cell_type": "code",
      "metadata": {
        "id": "1Eoe3CsfvzI6"
      },
      "source": [
        "df_2020 = pd.read_excel('(수정)2020년도 업체별 명세서 주요정보_21.6.25기준(정정 최종).xlsx', header = 1)"
      ],
      "execution_count": null,
      "outputs": []
    },
    {
      "cell_type": "code",
      "metadata": {
        "colab": {
          "base_uri": "https://localhost:8080/",
          "height": 467
        },
        "id": "QpP0r6mGN61C",
        "outputId": "0585ca6b-caa6-419d-cd65-1e17477be6c7"
      },
      "source": [
        "df_2019"
      ],
      "execution_count": null,
      "outputs": [
        {
          "output_type": "execute_result",
          "data": {
            "text/html": [
              "<div>\n",
              "<style scoped>\n",
              "    .dataframe tbody tr th:only-of-type {\n",
              "        vertical-align: middle;\n",
              "    }\n",
              "\n",
              "    .dataframe tbody tr th {\n",
              "        vertical-align: top;\n",
              "    }\n",
              "\n",
              "    .dataframe thead th {\n",
              "        text-align: right;\n",
              "    }\n",
              "</style>\n",
              "<table border=\"1\" class=\"dataframe\">\n",
              "  <thead>\n",
              "    <tr style=\"text-align: right;\">\n",
              "      <th></th>\n",
              "      <th>Unnamed: 0</th>\n",
              "      <th>Unnamed: 1</th>\n",
              "      <th>Unnamed: 2</th>\n",
              "      <th>Unnamed: 3</th>\n",
              "      <th>Unnamed: 4</th>\n",
              "      <th>Unnamed: 5</th>\n",
              "      <th>Unnamed: 6</th>\n",
              "      <th>Unnamed: 7</th>\n",
              "      <th>Unnamed: 8</th>\n",
              "      <th>Unnamed: 9</th>\n",
              "      <th>Unnamed: 10</th>\n",
              "    </tr>\n",
              "  </thead>\n",
              "  <tbody>\n",
              "    <tr>\n",
              "      <th>0</th>\n",
              "      <td>NaN</td>\n",
              "      <td>NaN</td>\n",
              "      <td>NaN</td>\n",
              "      <td>관리업체별 명세서 제출 현황</td>\n",
              "      <td>NaN</td>\n",
              "      <td>NaN</td>\n",
              "      <td>NaN</td>\n",
              "      <td>NaN</td>\n",
              "      <td>NaN</td>\n",
              "      <td>NaN</td>\n",
              "      <td>NaN</td>\n",
              "    </tr>\n",
              "    <tr>\n",
              "      <th>1</th>\n",
              "      <td>NaN</td>\n",
              "      <td>NaN</td>\n",
              "      <td>NaN</td>\n",
              "      <td>NaN</td>\n",
              "      <td>NaN</td>\n",
              "      <td>NaN</td>\n",
              "      <td>NaN</td>\n",
              "      <td>NaN</td>\n",
              "      <td>NaN</td>\n",
              "      <td>NaN</td>\n",
              "      <td>NaN</td>\n",
              "    </tr>\n",
              "    <tr>\n",
              "      <th>2</th>\n",
              "      <td>NaN</td>\n",
              "      <td>NaN</td>\n",
              "      <td>NaN</td>\n",
              "      <td>NaN</td>\n",
              "      <td>NaN</td>\n",
              "      <td>NaN</td>\n",
              "      <td>NaN</td>\n",
              "      <td>NaN</td>\n",
              "      <td>NaN</td>\n",
              "      <td>NaN</td>\n",
              "      <td>NaN</td>\n",
              "    </tr>\n",
              "    <tr>\n",
              "      <th>3</th>\n",
              "      <td>NaN</td>\n",
              "      <td>NaN</td>\n",
              "      <td>NaN</td>\n",
              "      <td>NaN</td>\n",
              "      <td>NaN</td>\n",
              "      <td>NaN</td>\n",
              "      <td>NaN</td>\n",
              "      <td>NaN</td>\n",
              "      <td>NaN</td>\n",
              "      <td>NaN</td>\n",
              "      <td>NaN</td>\n",
              "    </tr>\n",
              "    <tr>\n",
              "      <th>4</th>\n",
              "      <td>NaN</td>\n",
              "      <td>구분</td>\n",
              "      <td>제출연도</td>\n",
              "      <td>관리업체</td>\n",
              "      <td>제출갯수</td>\n",
              "      <td>제출일자</td>\n",
              "      <td>비공개신청</td>\n",
              "      <td>재제출요청</td>\n",
              "      <td>검증보고서</td>\n",
              "      <td>센터제출일자</td>\n",
              "      <td>관리업체코드</td>\n",
              "    </tr>\n",
              "    <tr>\n",
              "      <th>...</th>\n",
              "      <td>...</td>\n",
              "      <td>...</td>\n",
              "      <td>...</td>\n",
              "      <td>...</td>\n",
              "      <td>...</td>\n",
              "      <td>...</td>\n",
              "      <td>...</td>\n",
              "      <td>...</td>\n",
              "      <td>...</td>\n",
              "      <td>...</td>\n",
              "      <td>...</td>\n",
              "    </tr>\n",
              "    <tr>\n",
              "      <th>618</th>\n",
              "      <td>NaN</td>\n",
              "      <td>항공</td>\n",
              "      <td>2019</td>\n",
              "      <td>아시아나항공</td>\n",
              "      <td>1</td>\n",
              "      <td>2019-07-01</td>\n",
              "      <td>NaN</td>\n",
              "      <td>NaN</td>\n",
              "      <td>O</td>\n",
              "      <td>NaN</td>\n",
              "      <td>M0051100001</td>\n",
              "    </tr>\n",
              "    <tr>\n",
              "      <th>619</th>\n",
              "      <td>NaN</td>\n",
              "      <td>항공</td>\n",
              "      <td>2019</td>\n",
              "      <td>에어부산(주)</td>\n",
              "      <td>1</td>\n",
              "      <td>2019-07-04</td>\n",
              "      <td>NaN</td>\n",
              "      <td>NaN</td>\n",
              "      <td>O</td>\n",
              "      <td>NaN</td>\n",
              "      <td>M2200120013</td>\n",
              "    </tr>\n",
              "    <tr>\n",
              "      <th>620</th>\n",
              "      <td>NaN</td>\n",
              "      <td>항공</td>\n",
              "      <td>2019</td>\n",
              "      <td>제주항공(주)</td>\n",
              "      <td>1</td>\n",
              "      <td>2019-03-29</td>\n",
              "      <td>NaN</td>\n",
              "      <td>NaN</td>\n",
              "      <td>O</td>\n",
              "      <td>NaN</td>\n",
              "      <td>M2400130002</td>\n",
              "    </tr>\n",
              "    <tr>\n",
              "      <th>621</th>\n",
              "      <td>NaN</td>\n",
              "      <td>항공</td>\n",
              "      <td>2019</td>\n",
              "      <td>주식회사 진에어</td>\n",
              "      <td>1</td>\n",
              "      <td>2019-03-29</td>\n",
              "      <td>NaN</td>\n",
              "      <td>NaN</td>\n",
              "      <td>O</td>\n",
              "      <td>NaN</td>\n",
              "      <td>M2400140003</td>\n",
              "    </tr>\n",
              "    <tr>\n",
              "      <th>622</th>\n",
              "      <td>NaN</td>\n",
              "      <td>항공</td>\n",
              "      <td>2019</td>\n",
              "      <td>주식회사 티웨이항공</td>\n",
              "      <td>1</td>\n",
              "      <td>2019-03-28</td>\n",
              "      <td>NaN</td>\n",
              "      <td>NaN</td>\n",
              "      <td>O</td>\n",
              "      <td>NaN</td>\n",
              "      <td>M2400140004</td>\n",
              "    </tr>\n",
              "  </tbody>\n",
              "</table>\n",
              "<p>623 rows × 11 columns</p>\n",
              "</div>"
            ],
            "text/plain": [
              "     Unnamed: 0 Unnamed: 1 Unnamed: 2  ... Unnamed: 8 Unnamed: 9  Unnamed: 10\n",
              "0           NaN        NaN        NaN  ...        NaN        NaN          NaN\n",
              "1           NaN        NaN        NaN  ...        NaN        NaN          NaN\n",
              "2           NaN        NaN        NaN  ...        NaN        NaN          NaN\n",
              "3           NaN        NaN        NaN  ...        NaN        NaN          NaN\n",
              "4           NaN         구분       제출연도  ...      검증보고서     센터제출일자       관리업체코드\n",
              "..          ...        ...        ...  ...        ...        ...          ...\n",
              "618         NaN         항공       2019  ...          O        NaN  M0051100001\n",
              "619         NaN         항공       2019  ...          O        NaN  M2200120013\n",
              "620         NaN         항공       2019  ...          O        NaN  M2400130002\n",
              "621         NaN         항공       2019  ...          O        NaN  M2400140003\n",
              "622         NaN         항공       2019  ...          O        NaN  M2400140004\n",
              "\n",
              "[623 rows x 11 columns]"
            ]
          },
          "metadata": {},
          "execution_count": 8
        }
      ]
    },
    {
      "cell_type": "code",
      "metadata": {
        "id": "qY3831uKQDNV"
      },
      "source": [
        "df_2019 = pd.read_excel('(수정2)2019년도 업체별 명세서 주요정보(업데이트)_20.11.26.기준(수정).xlsx')"
      ],
      "execution_count": null,
      "outputs": []
    },
    {
      "cell_type": "code",
      "metadata": {
        "id": "0P91kSgUQEu8"
      },
      "source": [
        "df_2019"
      ],
      "execution_count": null,
      "outputs": []
    },
    {
      "cell_type": "code",
      "metadata": {
        "colab": {
          "base_uri": "https://localhost:8080/"
        },
        "id": "aQXvZohTwQPo",
        "outputId": "ca5c486e-407a-4f65-cb85-2021bf9ed971"
      },
      "source": [
        "df_2015.info()\n",
        "df_2016.info()\n",
        "df_2017.info()\n",
        "df_2018.info()\n",
        "df_2019.info()\n",
        "df_2020.info()"
      ],
      "execution_count": null,
      "outputs": [
        {
          "output_type": "stream",
          "name": "stdout",
          "text": [
            "<class 'pandas.core.frame.DataFrame'>\n",
            "RangeIndex: 864 entries, 0 to 863\n",
            "Data columns (total 10 columns):\n",
            " #   Column          Non-Null Count  Dtype \n",
            "---  ------          --------------  ----- \n",
            " 0   번호              864 non-null    int64 \n",
            " 1   관장기관(주무관청)      864 non-null    object\n",
            " 2   관리업체            864 non-null    object\n",
            " 3   대상연도            864 non-null    int64 \n",
            " 4   지정구분            864 non-null    object\n",
            " 5   지정업종            864 non-null    object\n",
            " 6   온실가스 배출량(tCO2)  860 non-null    object\n",
            " 7   에너지 사용량(TJ)     860 non-null    object\n",
            " 8   검증수행기관          860 non-null    object\n",
            " 9   비고              6 non-null      object\n",
            "dtypes: int64(2), object(8)\n",
            "memory usage: 67.6+ KB\n",
            "<class 'pandas.core.frame.DataFrame'>\n",
            "RangeIndex: 898 entries, 0 to 897\n",
            "Data columns (total 10 columns):\n",
            " #   Column          Non-Null Count  Dtype  \n",
            "---  ------          --------------  -----  \n",
            " 0   번호              898 non-null    int64  \n",
            " 1   관장기관(주무관청)      898 non-null    object \n",
            " 2   관리업체            898 non-null    object \n",
            " 3   대상연도            898 non-null    int64  \n",
            " 4   지정구분            898 non-null    object \n",
            " 5   지정업종            898 non-null    object \n",
            " 6   온실가스 배출량(tCO2)  896 non-null    float64\n",
            " 7   에너지 사용량(TJ)     896 non-null    float64\n",
            " 8   검증수행기관          898 non-null    object \n",
            " 9   비고              0 non-null      float64\n",
            "dtypes: float64(3), int64(2), object(5)\n",
            "memory usage: 70.3+ KB\n",
            "<class 'pandas.core.frame.DataFrame'>\n",
            "RangeIndex: 958 entries, 0 to 957\n",
            "Data columns (total 10 columns):\n",
            " #   Column          Non-Null Count  Dtype \n",
            "---  ------          --------------  ----- \n",
            " 0   번호              958 non-null    int64 \n",
            " 1   관장기관(주무관청)      958 non-null    object\n",
            " 2   관리업체            958 non-null    object\n",
            " 3   대상연도            958 non-null    int64 \n",
            " 4   지정구분            958 non-null    object\n",
            " 5   지정업종            958 non-null    object\n",
            " 6   온실가스 배출량(tCO2)  958 non-null    object\n",
            " 7   에너지 사용량(TJ)     958 non-null    object\n",
            " 8   검증수행기관          958 non-null    object\n",
            " 9   비고              1 non-null      object\n",
            "dtypes: int64(2), object(8)\n",
            "memory usage: 75.0+ KB\n",
            "<class 'pandas.core.frame.DataFrame'>\n",
            "RangeIndex: 1004 entries, 0 to 1003\n",
            "Data columns (total 10 columns):\n",
            " #   Column          Non-Null Count  Dtype \n",
            "---  ------          --------------  ----- \n",
            " 0   번호              1004 non-null   int64 \n",
            " 1   관장기관(주무관청)      1004 non-null   object\n",
            " 2   관리업체            1004 non-null   object\n",
            " 3   대상연도            1004 non-null   int64 \n",
            " 4   지정구분            1004 non-null   object\n",
            " 5   지정업종            1004 non-null   object\n",
            " 6   온실가스 배출량(tCO2)  1004 non-null   object\n",
            " 7   에너지 사용량(TJ)     1004 non-null   object\n",
            " 8   검증수행기관          1004 non-null   object\n",
            " 9   비고              1 non-null      object\n",
            "dtypes: int64(2), object(8)\n",
            "memory usage: 78.6+ KB\n",
            "<class 'pandas.core.frame.DataFrame'>\n",
            "RangeIndex: 1045 entries, 0 to 1044\n",
            "Data columns (total 10 columns):\n",
            " #   Column          Non-Null Count  Dtype  \n",
            "---  ------          --------------  -----  \n",
            " 0   번호              1045 non-null   int64  \n",
            " 1   관장기관(주무관청)      1045 non-null   object \n",
            " 2   관리업체            1045 non-null   object \n",
            " 3   대상연도            1045 non-null   int64  \n",
            " 4   지정구분            1045 non-null   object \n",
            " 5   지정업종            1045 non-null   object \n",
            " 6   온실가스 배출량(tCO2)  1045 non-null   object \n",
            " 7   에너지 사용량(TJ)     1045 non-null   object \n",
            " 8   검증수행기관          1045 non-null   object \n",
            " 9   비고              0 non-null      float64\n",
            "dtypes: float64(1), int64(2), object(7)\n",
            "memory usage: 81.8+ KB\n",
            "<class 'pandas.core.frame.DataFrame'>\n",
            "RangeIndex: 1063 entries, 0 to 1062\n",
            "Data columns (total 10 columns):\n",
            " #   Column          Non-Null Count  Dtype  \n",
            "---  ------          --------------  -----  \n",
            " 0   번호              1062 non-null   object \n",
            " 1   관장기관(주무관청)      1061 non-null   object \n",
            " 2   관리업체            1061 non-null   object \n",
            " 3   대상연도            1061 non-null   float64\n",
            " 4   지정구분            1061 non-null   object \n",
            " 5   지정업종            1061 non-null   object \n",
            " 6   온실가스 배출량(tCO2)  1061 non-null   object \n",
            " 7   에너지 사용량(TJ)     1061 non-null   object \n",
            " 8   검증수행기관          1061 non-null   object \n",
            " 9   비고              1 non-null      object \n",
            "dtypes: float64(1), object(9)\n",
            "memory usage: 83.2+ KB\n"
          ]
        }
      ]
    },
    {
      "cell_type": "code",
      "metadata": {
        "id": "UUwCRoGRIng6"
      },
      "source": [
        "df_2015.rename(columns = {'온실가스 배출량(tCO₂eq)' : '온실가스 배출량(tCO2)'}, inplace = True)"
      ],
      "execution_count": null,
      "outputs": []
    },
    {
      "cell_type": "code",
      "metadata": {
        "id": "KHQY05JsJqO6"
      },
      "source": [
        "df_2015.columns = ['번호','관장기관(주무관청)','관리업체','대상연도','지정구분','지정업종','온실가스 배출량(tCO2)','에너지 사용량(TJ)','검증수행기관','비고']\n",
        "df_2016.columns = ['번호','관장기관(주무관청)','관리업체','대상연도','지정구분','지정업종','온실가스 배출량(tCO2)','에너지 사용량(TJ)','검증수행기관','비고']\n",
        "df_2017.columns = ['번호','관장기관(주무관청)','관리업체','대상연도','지정구분','지정업종','온실가스 배출량(tCO2)','에너지 사용량(TJ)','검증수행기관','비고']\n",
        "df_2018.columns = ['번호','관장기관(주무관청)','관리업체','대상연도','지정구분','지정업종','온실가스 배출량(tCO2)','에너지 사용량(TJ)','검증수행기관','비고']\n",
        "df_2019.columns = ['번호','관장기관(주무관청)','관리업체','대상연도','지정구분','지정업종','온실가스 배출량(tCO2)','에너지 사용량(TJ)','검증수행기관','비고']\n"
      ],
      "execution_count": null,
      "outputs": []
    },
    {
      "cell_type": "code",
      "metadata": {
        "id": "CA3B6mARwhAt"
      },
      "source": [
        "df_2015_to_2020 = pd.concat([df_2015,df_2016,df_2017,df_2018,df_2019,df_2020])"
      ],
      "execution_count": null,
      "outputs": []
    },
    {
      "cell_type": "code",
      "metadata": {
        "colab": {
          "base_uri": "https://localhost:8080/",
          "height": 534
        },
        "id": "ASu1Fs4GHhdJ",
        "outputId": "204af138-d877-4563-9143-b6fac87cc38f"
      },
      "source": [
        "df_2015_to_2020"
      ],
      "execution_count": null,
      "outputs": [
        {
          "output_type": "execute_result",
          "data": {
            "text/html": [
              "<div>\n",
              "<style scoped>\n",
              "    .dataframe tbody tr th:only-of-type {\n",
              "        vertical-align: middle;\n",
              "    }\n",
              "\n",
              "    .dataframe tbody tr th {\n",
              "        vertical-align: top;\n",
              "    }\n",
              "\n",
              "    .dataframe thead th {\n",
              "        text-align: right;\n",
              "    }\n",
              "</style>\n",
              "<table border=\"1\" class=\"dataframe\">\n",
              "  <thead>\n",
              "    <tr style=\"text-align: right;\">\n",
              "      <th></th>\n",
              "      <th>번호</th>\n",
              "      <th>관장기관(주무관청)</th>\n",
              "      <th>관리업체</th>\n",
              "      <th>대상연도</th>\n",
              "      <th>지정구분</th>\n",
              "      <th>지정업종</th>\n",
              "      <th>온실가스 배출량(tCO2)</th>\n",
              "      <th>에너지 사용량(TJ)</th>\n",
              "      <th>검증수행기관</th>\n",
              "      <th>비고</th>\n",
              "    </tr>\n",
              "  </thead>\n",
              "  <tbody>\n",
              "    <tr>\n",
              "      <th>0</th>\n",
              "      <td>1</td>\n",
              "      <td>국토교통부</td>\n",
              "      <td>(주)강원랜드</td>\n",
              "      <td>2015.0</td>\n",
              "      <td>사업장</td>\n",
              "      <td>건물</td>\n",
              "      <td>71204</td>\n",
              "      <td>1393</td>\n",
              "      <td>한국표준협회</td>\n",
              "      <td>NaN</td>\n",
              "    </tr>\n",
              "    <tr>\n",
              "      <th>1</th>\n",
              "      <td>2</td>\n",
              "      <td>국토교통부</td>\n",
              "      <td>(주)국민은행</td>\n",
              "      <td>2015.0</td>\n",
              "      <td>업체</td>\n",
              "      <td>건물</td>\n",
              "      <td>121180</td>\n",
              "      <td>1828</td>\n",
              "      <td>한국표준협회</td>\n",
              "      <td>NaN</td>\n",
              "    </tr>\n",
              "    <tr>\n",
              "      <th>2</th>\n",
              "      <td>3</td>\n",
              "      <td>국토교통부</td>\n",
              "      <td>(주)대명레저산업</td>\n",
              "      <td>2015.0</td>\n",
              "      <td>사업장</td>\n",
              "      <td>건물</td>\n",
              "      <td>48533</td>\n",
              "      <td>973</td>\n",
              "      <td>한국표준협회</td>\n",
              "      <td>NaN</td>\n",
              "    </tr>\n",
              "    <tr>\n",
              "      <th>3</th>\n",
              "      <td>4</td>\n",
              "      <td>국토교통부</td>\n",
              "      <td>(주)무주덕유산리조트</td>\n",
              "      <td>2015.0</td>\n",
              "      <td>사업장</td>\n",
              "      <td>건물</td>\n",
              "      <td>20157</td>\n",
              "      <td>356</td>\n",
              "      <td>이큐에이㈜</td>\n",
              "      <td>NaN</td>\n",
              "    </tr>\n",
              "    <tr>\n",
              "      <th>4</th>\n",
              "      <td>5</td>\n",
              "      <td>국토교통부</td>\n",
              "      <td>(주)휘닉스중앙평창</td>\n",
              "      <td>2015.0</td>\n",
              "      <td>사업장</td>\n",
              "      <td>건물</td>\n",
              "      <td>22200</td>\n",
              "      <td>435</td>\n",
              "      <td>(주)한국경영인증원</td>\n",
              "      <td>NaN</td>\n",
              "    </tr>\n",
              "    <tr>\n",
              "      <th>...</th>\n",
              "      <td>...</td>\n",
              "      <td>...</td>\n",
              "      <td>...</td>\n",
              "      <td>...</td>\n",
              "      <td>...</td>\n",
              "      <td>...</td>\n",
              "      <td>...</td>\n",
              "      <td>...</td>\n",
              "      <td>...</td>\n",
              "      <td>...</td>\n",
              "    </tr>\n",
              "    <tr>\n",
              "      <th>1058</th>\n",
              "      <td>1059</td>\n",
              "      <td>환경부</td>\n",
              "      <td>효성화학 주식회사</td>\n",
              "      <td>2020.0</td>\n",
              "      <td>업체</td>\n",
              "      <td>산업</td>\n",
              "      <td>881811</td>\n",
              "      <td>18213</td>\n",
              "      <td>(재)한국품질재단</td>\n",
              "      <td>NaN</td>\n",
              "    </tr>\n",
              "    <tr>\n",
              "      <th>1059</th>\n",
              "      <td>1060</td>\n",
              "      <td>환경부</td>\n",
              "      <td>휴비스</td>\n",
              "      <td>2020.0</td>\n",
              "      <td>업체</td>\n",
              "      <td>산업</td>\n",
              "      <td>465138</td>\n",
              "      <td>6985</td>\n",
              "      <td>한국표준협회</td>\n",
              "      <td>NaN</td>\n",
              "    </tr>\n",
              "    <tr>\n",
              "      <th>1060</th>\n",
              "      <td>1061</td>\n",
              "      <td>환경부</td>\n",
              "      <td>휴켐스 주식회사</td>\n",
              "      <td>2020.0</td>\n",
              "      <td>사업장</td>\n",
              "      <td>산업</td>\n",
              "      <td>132580</td>\n",
              "      <td>1194</td>\n",
              "      <td>㈜한국품질보증원</td>\n",
              "      <td>NaN</td>\n",
              "    </tr>\n",
              "    <tr>\n",
              "      <th>1061</th>\n",
              "      <td>NaN</td>\n",
              "      <td>NaN</td>\n",
              "      <td>NaN</td>\n",
              "      <td>NaN</td>\n",
              "      <td>NaN</td>\n",
              "      <td>NaN</td>\n",
              "      <td>NaN</td>\n",
              "      <td>NaN</td>\n",
              "      <td>NaN</td>\n",
              "      <td>NaN</td>\n",
              "    </tr>\n",
              "    <tr>\n",
              "      <th>1062</th>\n",
              "      <td>※ 온실가스 배출량 및 에너지 사용량 : 직접+간접</td>\n",
              "      <td>NaN</td>\n",
              "      <td>NaN</td>\n",
              "      <td>NaN</td>\n",
              "      <td>NaN</td>\n",
              "      <td>NaN</td>\n",
              "      <td>NaN</td>\n",
              "      <td>NaN</td>\n",
              "      <td>NaN</td>\n",
              "      <td>NaN</td>\n",
              "    </tr>\n",
              "  </tbody>\n",
              "</table>\n",
              "<p>5832 rows × 10 columns</p>\n",
              "</div>"
            ],
            "text/plain": [
              "                                번호 관장기관(주무관청)  ...      검증수행기관   비고\n",
              "0                                1      국토교통부  ...      한국표준협회  NaN\n",
              "1                                2      국토교통부  ...      한국표준협회  NaN\n",
              "2                                3      국토교통부  ...      한국표준협회  NaN\n",
              "3                                4      국토교통부  ...       이큐에이㈜  NaN\n",
              "4                                5      국토교통부  ...  (주)한국경영인증원  NaN\n",
              "...                            ...        ...  ...         ...  ...\n",
              "1058                          1059        환경부  ...   (재)한국품질재단  NaN\n",
              "1059                          1060        환경부  ...      한국표준협회  NaN\n",
              "1060                          1061        환경부  ...    ㈜한국품질보증원  NaN\n",
              "1061                           NaN        NaN  ...         NaN  NaN\n",
              "1062  ※ 온실가스 배출량 및 에너지 사용량 : 직접+간접        NaN  ...         NaN  NaN\n",
              "\n",
              "[5832 rows x 10 columns]"
            ]
          },
          "metadata": {},
          "execution_count": 16
        }
      ]
    },
    {
      "cell_type": "code",
      "metadata": {
        "colab": {
          "base_uri": "https://localhost:8080/"
        },
        "id": "IxoN0JfHHpSc",
        "outputId": "d3ce196a-48d3-4042-f353-43b30f70d1da"
      },
      "source": [
        "df_2015_to_2020['비고'].unique()"
      ],
      "execution_count": null,
      "outputs": [
        {
          "output_type": "execute_result",
          "data": {
            "text/plain": [
              "array([nan, '2016년 명세서 공개심사 위원회 결정사항', '2018년 명세서 공개심사 위원회 결정사항',\n",
              "       '2019년 명세서 공개심사 위원회 결정사항', '2021년 명세서 공개심사 위원회 결정사항'], dtype=object)"
            ]
          },
          "metadata": {},
          "execution_count": 18
        }
      ]
    },
    {
      "cell_type": "code",
      "metadata": {
        "id": "L74j19hcICWe"
      },
      "source": [
        "df_2015_to_2020.drop(['비고'],axis=1,inplace=True)"
      ],
      "execution_count": null,
      "outputs": []
    },
    {
      "cell_type": "code",
      "metadata": {
        "colab": {
          "base_uri": "https://localhost:8080/",
          "height": 518
        },
        "id": "kvGsZIKYKp9W",
        "outputId": "f5f45a05-55b8-47ce-e85d-1d2bb28c04a4"
      },
      "source": [
        "df_2015_to_2020"
      ],
      "execution_count": null,
      "outputs": [
        {
          "output_type": "execute_result",
          "data": {
            "text/html": [
              "<div>\n",
              "<style scoped>\n",
              "    .dataframe tbody tr th:only-of-type {\n",
              "        vertical-align: middle;\n",
              "    }\n",
              "\n",
              "    .dataframe tbody tr th {\n",
              "        vertical-align: top;\n",
              "    }\n",
              "\n",
              "    .dataframe thead th {\n",
              "        text-align: right;\n",
              "    }\n",
              "</style>\n",
              "<table border=\"1\" class=\"dataframe\">\n",
              "  <thead>\n",
              "    <tr style=\"text-align: right;\">\n",
              "      <th></th>\n",
              "      <th>번호</th>\n",
              "      <th>관장기관(주무관청)</th>\n",
              "      <th>관리업체</th>\n",
              "      <th>대상연도</th>\n",
              "      <th>지정구분</th>\n",
              "      <th>지정업종</th>\n",
              "      <th>온실가스 배출량(tCO2)</th>\n",
              "      <th>에너지 사용량(TJ)</th>\n",
              "      <th>검증수행기관</th>\n",
              "    </tr>\n",
              "  </thead>\n",
              "  <tbody>\n",
              "    <tr>\n",
              "      <th>0</th>\n",
              "      <td>1</td>\n",
              "      <td>국토교통부</td>\n",
              "      <td>(주)강원랜드</td>\n",
              "      <td>2015.0</td>\n",
              "      <td>사업장</td>\n",
              "      <td>건물</td>\n",
              "      <td>71204</td>\n",
              "      <td>1393</td>\n",
              "      <td>한국표준협회</td>\n",
              "    </tr>\n",
              "    <tr>\n",
              "      <th>1</th>\n",
              "      <td>2</td>\n",
              "      <td>국토교통부</td>\n",
              "      <td>(주)국민은행</td>\n",
              "      <td>2015.0</td>\n",
              "      <td>업체</td>\n",
              "      <td>건물</td>\n",
              "      <td>121180</td>\n",
              "      <td>1828</td>\n",
              "      <td>한국표준협회</td>\n",
              "    </tr>\n",
              "    <tr>\n",
              "      <th>2</th>\n",
              "      <td>3</td>\n",
              "      <td>국토교통부</td>\n",
              "      <td>(주)대명레저산업</td>\n",
              "      <td>2015.0</td>\n",
              "      <td>사업장</td>\n",
              "      <td>건물</td>\n",
              "      <td>48533</td>\n",
              "      <td>973</td>\n",
              "      <td>한국표준협회</td>\n",
              "    </tr>\n",
              "    <tr>\n",
              "      <th>3</th>\n",
              "      <td>4</td>\n",
              "      <td>국토교통부</td>\n",
              "      <td>(주)무주덕유산리조트</td>\n",
              "      <td>2015.0</td>\n",
              "      <td>사업장</td>\n",
              "      <td>건물</td>\n",
              "      <td>20157</td>\n",
              "      <td>356</td>\n",
              "      <td>이큐에이㈜</td>\n",
              "    </tr>\n",
              "    <tr>\n",
              "      <th>4</th>\n",
              "      <td>5</td>\n",
              "      <td>국토교통부</td>\n",
              "      <td>(주)휘닉스중앙평창</td>\n",
              "      <td>2015.0</td>\n",
              "      <td>사업장</td>\n",
              "      <td>건물</td>\n",
              "      <td>22200</td>\n",
              "      <td>435</td>\n",
              "      <td>(주)한국경영인증원</td>\n",
              "    </tr>\n",
              "    <tr>\n",
              "      <th>...</th>\n",
              "      <td>...</td>\n",
              "      <td>...</td>\n",
              "      <td>...</td>\n",
              "      <td>...</td>\n",
              "      <td>...</td>\n",
              "      <td>...</td>\n",
              "      <td>...</td>\n",
              "      <td>...</td>\n",
              "      <td>...</td>\n",
              "    </tr>\n",
              "    <tr>\n",
              "      <th>1058</th>\n",
              "      <td>1059</td>\n",
              "      <td>환경부</td>\n",
              "      <td>효성화학 주식회사</td>\n",
              "      <td>2020.0</td>\n",
              "      <td>업체</td>\n",
              "      <td>산업</td>\n",
              "      <td>881811</td>\n",
              "      <td>18213</td>\n",
              "      <td>(재)한국품질재단</td>\n",
              "    </tr>\n",
              "    <tr>\n",
              "      <th>1059</th>\n",
              "      <td>1060</td>\n",
              "      <td>환경부</td>\n",
              "      <td>휴비스</td>\n",
              "      <td>2020.0</td>\n",
              "      <td>업체</td>\n",
              "      <td>산업</td>\n",
              "      <td>465138</td>\n",
              "      <td>6985</td>\n",
              "      <td>한국표준협회</td>\n",
              "    </tr>\n",
              "    <tr>\n",
              "      <th>1060</th>\n",
              "      <td>1061</td>\n",
              "      <td>환경부</td>\n",
              "      <td>휴켐스 주식회사</td>\n",
              "      <td>2020.0</td>\n",
              "      <td>사업장</td>\n",
              "      <td>산업</td>\n",
              "      <td>132580</td>\n",
              "      <td>1194</td>\n",
              "      <td>㈜한국품질보증원</td>\n",
              "    </tr>\n",
              "    <tr>\n",
              "      <th>1061</th>\n",
              "      <td>NaN</td>\n",
              "      <td>NaN</td>\n",
              "      <td>NaN</td>\n",
              "      <td>NaN</td>\n",
              "      <td>NaN</td>\n",
              "      <td>NaN</td>\n",
              "      <td>NaN</td>\n",
              "      <td>NaN</td>\n",
              "      <td>NaN</td>\n",
              "    </tr>\n",
              "    <tr>\n",
              "      <th>1062</th>\n",
              "      <td>※ 온실가스 배출량 및 에너지 사용량 : 직접+간접</td>\n",
              "      <td>NaN</td>\n",
              "      <td>NaN</td>\n",
              "      <td>NaN</td>\n",
              "      <td>NaN</td>\n",
              "      <td>NaN</td>\n",
              "      <td>NaN</td>\n",
              "      <td>NaN</td>\n",
              "      <td>NaN</td>\n",
              "    </tr>\n",
              "  </tbody>\n",
              "</table>\n",
              "<p>5832 rows × 9 columns</p>\n",
              "</div>"
            ],
            "text/plain": [
              "                                번호 관장기관(주무관청)  ... 에너지 사용량(TJ)      검증수행기관\n",
              "0                                1      국토교통부  ...        1393      한국표준협회\n",
              "1                                2      국토교통부  ...        1828      한국표준협회\n",
              "2                                3      국토교통부  ...         973      한국표준협회\n",
              "3                                4      국토교통부  ...         356       이큐에이㈜\n",
              "4                                5      국토교통부  ...         435  (주)한국경영인증원\n",
              "...                            ...        ...  ...         ...         ...\n",
              "1058                          1059        환경부  ...       18213   (재)한국품질재단\n",
              "1059                          1060        환경부  ...        6985      한국표준협회\n",
              "1060                          1061        환경부  ...        1194    ㈜한국품질보증원\n",
              "1061                           NaN        NaN  ...         NaN         NaN\n",
              "1062  ※ 온실가스 배출량 및 에너지 사용량 : 직접+간접        NaN  ...         NaN         NaN\n",
              "\n",
              "[5832 rows x 9 columns]"
            ]
          },
          "metadata": {},
          "execution_count": 21
        }
      ]
    },
    {
      "cell_type": "code",
      "metadata": {
        "colab": {
          "base_uri": "https://localhost:8080/"
        },
        "id": "rT7qIytvLPfi",
        "outputId": "9105e3cf-ba0e-4026-f3d5-c81b5cdb18b9"
      },
      "source": [
        "df_2015_to_2020.info()"
      ],
      "execution_count": null,
      "outputs": [
        {
          "output_type": "stream",
          "name": "stdout",
          "text": [
            "<class 'pandas.core.frame.DataFrame'>\n",
            "Int64Index: 5832 entries, 0 to 1062\n",
            "Data columns (total 9 columns):\n",
            " #   Column          Non-Null Count  Dtype  \n",
            "---  ------          --------------  -----  \n",
            " 0   번호              5831 non-null   object \n",
            " 1   관장기관(주무관청)      5830 non-null   object \n",
            " 2   관리업체            5830 non-null   object \n",
            " 3   대상연도            5830 non-null   float64\n",
            " 4   지정구분            5830 non-null   object \n",
            " 5   지정업종            5830 non-null   object \n",
            " 6   온실가스 배출량(tCO2)  5824 non-null   object \n",
            " 7   에너지 사용량(TJ)     5824 non-null   object \n",
            " 8   검증수행기관          5826 non-null   object \n",
            "dtypes: float64(1), object(8)\n",
            "memory usage: 455.6+ KB\n"
          ]
        }
      ]
    },
    {
      "cell_type": "code",
      "metadata": {
        "id": "hN_l2ubzLRyk"
      },
      "source": [
        "df_result = df_2015_to_2020.dropna()"
      ],
      "execution_count": null,
      "outputs": []
    },
    {
      "cell_type": "code",
      "metadata": {
        "colab": {
          "base_uri": "https://localhost:8080/"
        },
        "id": "makTUK7mLUY_",
        "outputId": "55bec084-a48a-4c63-f483-c6d4831203ea"
      },
      "source": [
        "df_result.info()"
      ],
      "execution_count": null,
      "outputs": [
        {
          "output_type": "stream",
          "name": "stdout",
          "text": [
            "<class 'pandas.core.frame.DataFrame'>\n",
            "Int64Index: 5824 entries, 0 to 1060\n",
            "Data columns (total 9 columns):\n",
            " #   Column          Non-Null Count  Dtype  \n",
            "---  ------          --------------  -----  \n",
            " 0   번호              5824 non-null   object \n",
            " 1   관장기관(주무관청)      5824 non-null   object \n",
            " 2   관리업체            5824 non-null   object \n",
            " 3   대상연도            5824 non-null   float64\n",
            " 4   지정구분            5824 non-null   object \n",
            " 5   지정업종            5824 non-null   object \n",
            " 6   온실가스 배출량(tCO2)  5824 non-null   object \n",
            " 7   에너지 사용량(TJ)     5824 non-null   object \n",
            " 8   검증수행기관          5824 non-null   object \n",
            "dtypes: float64(1), object(8)\n",
            "memory usage: 455.0+ KB\n"
          ]
        }
      ]
    },
    {
      "cell_type": "code",
      "metadata": {
        "colab": {
          "base_uri": "https://localhost:8080/"
        },
        "id": "BgyVr0ceRWuC",
        "outputId": "6767a391-7ebb-42e1-9c9c-198f8dd32ac0"
      },
      "source": [
        "df_result['번호'].unique()"
      ],
      "execution_count": null,
      "outputs": [
        {
          "output_type": "execute_result",
          "data": {
            "text/plain": [
              "array([1, 2, 3, ..., 1059, 1060, 1061], dtype=object)"
            ]
          },
          "metadata": {},
          "execution_count": 29
        }
      ]
    },
    {
      "cell_type": "code",
      "metadata": {
        "colab": {
          "base_uri": "https://localhost:8080/"
        },
        "id": "Y78gDg1nRkq5",
        "outputId": "eb3f3366-666c-4460-d9d2-dfd616036014"
      },
      "source": [
        "print(df_result['번호'].unique(),\n",
        "df_result['관장기관(주무관청)'].unique(),\n",
        "df_result['관리업체'].unique(),\n",
        "df_result['대상연도'].unique(),\n",
        "df_result['지정구분'].unique(),\n",
        "df_result['지정업종'].unique(),\n",
        "df_result['온실가스 배출량(tCO2)'].unique(),\n",
        "df_result['에너지 사용량(TJ)'].unique(),\n",
        "df_result['검증수행기관'].unique(), sep='\\n\\n')\n"
      ],
      "execution_count": null,
      "outputs": [
        {
          "output_type": "stream",
          "name": "stdout",
          "text": [
            "[1 2 3 ... 1059 1060 1061]\n",
            "\n",
            "['국토교통부' '산업통상자원부' '환경부' '농림축산식품부' '해양수산부']\n",
            "\n",
            "['(주)강원랜드' '(주)국민은행' '(주)대명레저산업' ... '주식회사 엘지에너지솔루션' '주식회사 케이씨씨실리콘'\n",
            " '한화솔루션 주식회사']\n",
            "\n",
            "[2015. 2016. 2017. 2018. 2019. 2020.]\n",
            "\n",
            "['사업장' '업체']\n",
            "\n",
            "['건물' '광업' '기계' '디스플레이' '목재' '반도체' '집단에너지' '산업단지' '발전 · 에너지' '비철금속' '석유화학'\n",
            " '섬유' '수도' '시멘트' '유리 · 요업' '유리' '요업' '음식료품' '자동차' '전기전자' '정유' '제지' '조선'\n",
            " '철강' '통신' '폐기물' '항공' '건설' '교통(여객)' '교통(철도)' '교통(화물)' '교통(항공)' '교통(해운)'\n",
            " '반도체.디스플레이.전기전자' '발전에너지' '식료품 제조업' '음료제조업' '지정외 폐기물처리업' '지정외 폐기물처리업 등'\n",
            " '하수, 폐수 및 분뇨 처리업' '하수처리업' '산업' '담배제조업' '수송' '전환' '공공기타']\n",
            "\n",
            "[71204 121180 48533 ... 881811 465138 132580]\n",
            "\n",
            "[1393 1828 973 ... 18213 6985 1194]\n",
            "\n",
            "['한국표준협회' '이큐에이㈜' '(주)한국경영인증원' '(재)한국품질재단' '(주)비에스아이그룹코리아' '환경보전협회'\n",
            " '㈜한국품질보증원' '㈜디엔브이지엘비즈니스어슈어런스코리아' '한국산업기술시험원' '티유브이슈드코리아㈜' '안진회계법인'\n",
            " '로이드인증원㈜' '한국생산성본부인증원(주)' '(주)신화엔지니어링종합건축사사무소' '대일이엔씨기술(주)' '한국가스안전공사'\n",
            " '(재)한국화학융합시험연구원' '산림조합중앙회' '지속가능인증원주식회사' '㈜한국경영인증원' '㈜디엔브이비즈니스어슈어런스코리아']\n"
          ]
        }
      ]
    },
    {
      "cell_type": "code",
      "metadata": {
        "id": "zSRwzih1xf3H"
      },
      "source": [
        "pd.get_dummies(df_result['지정업종'])"
      ],
      "execution_count": null,
      "outputs": []
    },
    {
      "cell_type": "code",
      "metadata": {
        "id": "xUHKRaSiLgrZ"
      },
      "source": [
        "df_result.to_excel('2015-2020_업체별_명세서_주요정보.xlsx')"
      ],
      "execution_count": null,
      "outputs": []
    },
    {
      "cell_type": "markdown",
      "metadata": {
        "id": "SmztNIEdRPb3"
      },
      "source": [
        "## 전처리 2 및 군집화"
      ]
    },
    {
      "cell_type": "code",
      "metadata": {
        "id": "0c5eMRlTMeLg"
      },
      "source": [
        "import pandas as pd\n",
        "df_result = pd.read_excel('2015-2020_업체별_명세서_주요정보.xlsx')"
      ],
      "execution_count": null,
      "outputs": []
    },
    {
      "cell_type": "code",
      "metadata": {
        "colab": {
          "base_uri": "https://localhost:8080/",
          "height": 467
        },
        "id": "sZjeecLaTIWm",
        "outputId": "355e2701-6edc-4f78-de54-542f170ee20b"
      },
      "source": [
        "df_result"
      ],
      "execution_count": null,
      "outputs": [
        {
          "output_type": "execute_result",
          "data": {
            "text/html": [
              "<div>\n",
              "<style scoped>\n",
              "    .dataframe tbody tr th:only-of-type {\n",
              "        vertical-align: middle;\n",
              "    }\n",
              "\n",
              "    .dataframe tbody tr th {\n",
              "        vertical-align: top;\n",
              "    }\n",
              "\n",
              "    .dataframe thead th {\n",
              "        text-align: right;\n",
              "    }\n",
              "</style>\n",
              "<table border=\"1\" class=\"dataframe\">\n",
              "  <thead>\n",
              "    <tr style=\"text-align: right;\">\n",
              "      <th></th>\n",
              "      <th>Unnamed: 0</th>\n",
              "      <th>번호</th>\n",
              "      <th>관장기관(주무관청)</th>\n",
              "      <th>관리업체</th>\n",
              "      <th>대상연도</th>\n",
              "      <th>지정구분</th>\n",
              "      <th>지정업종</th>\n",
              "      <th>온실가스 배출량(tCO2)</th>\n",
              "      <th>에너지 사용량(TJ)</th>\n",
              "      <th>검증수행기관</th>\n",
              "    </tr>\n",
              "  </thead>\n",
              "  <tbody>\n",
              "    <tr>\n",
              "      <th>0</th>\n",
              "      <td>0</td>\n",
              "      <td>1</td>\n",
              "      <td>국토교통부</td>\n",
              "      <td>(주)강원랜드</td>\n",
              "      <td>2015</td>\n",
              "      <td>사업장</td>\n",
              "      <td>건물</td>\n",
              "      <td>71204</td>\n",
              "      <td>1393</td>\n",
              "      <td>한국표준협회</td>\n",
              "    </tr>\n",
              "    <tr>\n",
              "      <th>1</th>\n",
              "      <td>1</td>\n",
              "      <td>2</td>\n",
              "      <td>국토교통부</td>\n",
              "      <td>(주)국민은행</td>\n",
              "      <td>2015</td>\n",
              "      <td>업체</td>\n",
              "      <td>건물</td>\n",
              "      <td>121180</td>\n",
              "      <td>1828</td>\n",
              "      <td>한국표준협회</td>\n",
              "    </tr>\n",
              "    <tr>\n",
              "      <th>2</th>\n",
              "      <td>2</td>\n",
              "      <td>3</td>\n",
              "      <td>국토교통부</td>\n",
              "      <td>(주)대명레저산업</td>\n",
              "      <td>2015</td>\n",
              "      <td>사업장</td>\n",
              "      <td>건물</td>\n",
              "      <td>48533</td>\n",
              "      <td>973</td>\n",
              "      <td>한국표준협회</td>\n",
              "    </tr>\n",
              "    <tr>\n",
              "      <th>3</th>\n",
              "      <td>3</td>\n",
              "      <td>4</td>\n",
              "      <td>국토교통부</td>\n",
              "      <td>(주)무주덕유산리조트</td>\n",
              "      <td>2015</td>\n",
              "      <td>사업장</td>\n",
              "      <td>건물</td>\n",
              "      <td>20157</td>\n",
              "      <td>356</td>\n",
              "      <td>이큐에이㈜</td>\n",
              "    </tr>\n",
              "    <tr>\n",
              "      <th>4</th>\n",
              "      <td>4</td>\n",
              "      <td>5</td>\n",
              "      <td>국토교통부</td>\n",
              "      <td>(주)휘닉스중앙평창</td>\n",
              "      <td>2015</td>\n",
              "      <td>사업장</td>\n",
              "      <td>건물</td>\n",
              "      <td>22200</td>\n",
              "      <td>435</td>\n",
              "      <td>(주)한국경영인증원</td>\n",
              "    </tr>\n",
              "    <tr>\n",
              "      <th>...</th>\n",
              "      <td>...</td>\n",
              "      <td>...</td>\n",
              "      <td>...</td>\n",
              "      <td>...</td>\n",
              "      <td>...</td>\n",
              "      <td>...</td>\n",
              "      <td>...</td>\n",
              "      <td>...</td>\n",
              "      <td>...</td>\n",
              "      <td>...</td>\n",
              "    </tr>\n",
              "    <tr>\n",
              "      <th>5819</th>\n",
              "      <td>1056</td>\n",
              "      <td>1057</td>\n",
              "      <td>환경부</td>\n",
              "      <td>효성첨단소재 주식회사</td>\n",
              "      <td>2020</td>\n",
              "      <td>업체</td>\n",
              "      <td>산업</td>\n",
              "      <td>191050</td>\n",
              "      <td>3883</td>\n",
              "      <td>(재)한국품질재단</td>\n",
              "    </tr>\n",
              "    <tr>\n",
              "      <th>5820</th>\n",
              "      <td>1057</td>\n",
              "      <td>1058</td>\n",
              "      <td>환경부</td>\n",
              "      <td>효성티앤씨 주식회사</td>\n",
              "      <td>2020</td>\n",
              "      <td>업체</td>\n",
              "      <td>산업</td>\n",
              "      <td>323533</td>\n",
              "      <td>7495</td>\n",
              "      <td>(재)한국품질재단</td>\n",
              "    </tr>\n",
              "    <tr>\n",
              "      <th>5821</th>\n",
              "      <td>1058</td>\n",
              "      <td>1059</td>\n",
              "      <td>환경부</td>\n",
              "      <td>효성화학 주식회사</td>\n",
              "      <td>2020</td>\n",
              "      <td>업체</td>\n",
              "      <td>산업</td>\n",
              "      <td>881811</td>\n",
              "      <td>18213</td>\n",
              "      <td>(재)한국품질재단</td>\n",
              "    </tr>\n",
              "    <tr>\n",
              "      <th>5822</th>\n",
              "      <td>1059</td>\n",
              "      <td>1060</td>\n",
              "      <td>환경부</td>\n",
              "      <td>휴비스</td>\n",
              "      <td>2020</td>\n",
              "      <td>업체</td>\n",
              "      <td>산업</td>\n",
              "      <td>465138</td>\n",
              "      <td>6985</td>\n",
              "      <td>한국표준협회</td>\n",
              "    </tr>\n",
              "    <tr>\n",
              "      <th>5823</th>\n",
              "      <td>1060</td>\n",
              "      <td>1061</td>\n",
              "      <td>환경부</td>\n",
              "      <td>휴켐스 주식회사</td>\n",
              "      <td>2020</td>\n",
              "      <td>사업장</td>\n",
              "      <td>산업</td>\n",
              "      <td>132580</td>\n",
              "      <td>1194</td>\n",
              "      <td>㈜한국품질보증원</td>\n",
              "    </tr>\n",
              "  </tbody>\n",
              "</table>\n",
              "<p>5824 rows × 10 columns</p>\n",
              "</div>"
            ],
            "text/plain": [
              "      Unnamed: 0    번호 관장기관(주무관청)  ... 온실가스 배출량(tCO2)  에너지 사용량(TJ)      검증수행기관\n",
              "0              0     1      국토교통부  ...          71204         1393      한국표준협회\n",
              "1              1     2      국토교통부  ...         121180         1828      한국표준협회\n",
              "2              2     3      국토교통부  ...          48533          973      한국표준협회\n",
              "3              3     4      국토교통부  ...          20157          356       이큐에이㈜\n",
              "4              4     5      국토교통부  ...          22200          435  (주)한국경영인증원\n",
              "...          ...   ...        ...  ...            ...          ...         ...\n",
              "5819        1056  1057        환경부  ...         191050         3883   (재)한국품질재단\n",
              "5820        1057  1058        환경부  ...         323533         7495   (재)한국품질재단\n",
              "5821        1058  1059        환경부  ...         881811        18213   (재)한국품질재단\n",
              "5822        1059  1060        환경부  ...         465138         6985      한국표준협회\n",
              "5823        1060  1061        환경부  ...         132580         1194    ㈜한국품질보증원\n",
              "\n",
              "[5824 rows x 10 columns]"
            ]
          },
          "metadata": {},
          "execution_count": 147
        }
      ]
    },
    {
      "cell_type": "code",
      "metadata": {
        "id": "xYeam53KTLol"
      },
      "source": [
        "df_result = df_result.drop(['Unnamed: 0','번호','검증수행기관'], axis=1)"
      ],
      "execution_count": null,
      "outputs": []
    },
    {
      "cell_type": "code",
      "metadata": {
        "colab": {
          "base_uri": "https://localhost:8080/",
          "height": 417
        },
        "id": "OJNbGrkATYYB",
        "outputId": "f8a0cf47-ff2c-4e5a-eaa5-ad93bcd8303b"
      },
      "source": [
        "df_result"
      ],
      "execution_count": null,
      "outputs": [
        {
          "output_type": "execute_result",
          "data": {
            "text/html": [
              "<div>\n",
              "<style scoped>\n",
              "    .dataframe tbody tr th:only-of-type {\n",
              "        vertical-align: middle;\n",
              "    }\n",
              "\n",
              "    .dataframe tbody tr th {\n",
              "        vertical-align: top;\n",
              "    }\n",
              "\n",
              "    .dataframe thead th {\n",
              "        text-align: right;\n",
              "    }\n",
              "</style>\n",
              "<table border=\"1\" class=\"dataframe\">\n",
              "  <thead>\n",
              "    <tr style=\"text-align: right;\">\n",
              "      <th></th>\n",
              "      <th>관장기관(주무관청)</th>\n",
              "      <th>관리업체</th>\n",
              "      <th>대상연도</th>\n",
              "      <th>지정구분</th>\n",
              "      <th>지정업종</th>\n",
              "      <th>온실가스 배출량(tCO2)</th>\n",
              "      <th>에너지 사용량(TJ)</th>\n",
              "    </tr>\n",
              "  </thead>\n",
              "  <tbody>\n",
              "    <tr>\n",
              "      <th>0</th>\n",
              "      <td>국토교통부</td>\n",
              "      <td>(주)강원랜드</td>\n",
              "      <td>2015</td>\n",
              "      <td>사업장</td>\n",
              "      <td>건물</td>\n",
              "      <td>71204</td>\n",
              "      <td>1393</td>\n",
              "    </tr>\n",
              "    <tr>\n",
              "      <th>1</th>\n",
              "      <td>국토교통부</td>\n",
              "      <td>(주)국민은행</td>\n",
              "      <td>2015</td>\n",
              "      <td>업체</td>\n",
              "      <td>건물</td>\n",
              "      <td>121180</td>\n",
              "      <td>1828</td>\n",
              "    </tr>\n",
              "    <tr>\n",
              "      <th>2</th>\n",
              "      <td>국토교통부</td>\n",
              "      <td>(주)대명레저산업</td>\n",
              "      <td>2015</td>\n",
              "      <td>사업장</td>\n",
              "      <td>건물</td>\n",
              "      <td>48533</td>\n",
              "      <td>973</td>\n",
              "    </tr>\n",
              "    <tr>\n",
              "      <th>3</th>\n",
              "      <td>국토교통부</td>\n",
              "      <td>(주)무주덕유산리조트</td>\n",
              "      <td>2015</td>\n",
              "      <td>사업장</td>\n",
              "      <td>건물</td>\n",
              "      <td>20157</td>\n",
              "      <td>356</td>\n",
              "    </tr>\n",
              "    <tr>\n",
              "      <th>4</th>\n",
              "      <td>국토교통부</td>\n",
              "      <td>(주)휘닉스중앙평창</td>\n",
              "      <td>2015</td>\n",
              "      <td>사업장</td>\n",
              "      <td>건물</td>\n",
              "      <td>22200</td>\n",
              "      <td>435</td>\n",
              "    </tr>\n",
              "    <tr>\n",
              "      <th>...</th>\n",
              "      <td>...</td>\n",
              "      <td>...</td>\n",
              "      <td>...</td>\n",
              "      <td>...</td>\n",
              "      <td>...</td>\n",
              "      <td>...</td>\n",
              "      <td>...</td>\n",
              "    </tr>\n",
              "    <tr>\n",
              "      <th>5819</th>\n",
              "      <td>환경부</td>\n",
              "      <td>효성첨단소재 주식회사</td>\n",
              "      <td>2020</td>\n",
              "      <td>업체</td>\n",
              "      <td>산업</td>\n",
              "      <td>191050</td>\n",
              "      <td>3883</td>\n",
              "    </tr>\n",
              "    <tr>\n",
              "      <th>5820</th>\n",
              "      <td>환경부</td>\n",
              "      <td>효성티앤씨 주식회사</td>\n",
              "      <td>2020</td>\n",
              "      <td>업체</td>\n",
              "      <td>산업</td>\n",
              "      <td>323533</td>\n",
              "      <td>7495</td>\n",
              "    </tr>\n",
              "    <tr>\n",
              "      <th>5821</th>\n",
              "      <td>환경부</td>\n",
              "      <td>효성화학 주식회사</td>\n",
              "      <td>2020</td>\n",
              "      <td>업체</td>\n",
              "      <td>산업</td>\n",
              "      <td>881811</td>\n",
              "      <td>18213</td>\n",
              "    </tr>\n",
              "    <tr>\n",
              "      <th>5822</th>\n",
              "      <td>환경부</td>\n",
              "      <td>휴비스</td>\n",
              "      <td>2020</td>\n",
              "      <td>업체</td>\n",
              "      <td>산업</td>\n",
              "      <td>465138</td>\n",
              "      <td>6985</td>\n",
              "    </tr>\n",
              "    <tr>\n",
              "      <th>5823</th>\n",
              "      <td>환경부</td>\n",
              "      <td>휴켐스 주식회사</td>\n",
              "      <td>2020</td>\n",
              "      <td>사업장</td>\n",
              "      <td>산업</td>\n",
              "      <td>132580</td>\n",
              "      <td>1194</td>\n",
              "    </tr>\n",
              "  </tbody>\n",
              "</table>\n",
              "<p>5824 rows × 7 columns</p>\n",
              "</div>"
            ],
            "text/plain": [
              "     관장기관(주무관청)         관리업체  대상연도 지정구분 지정업종 온실가스 배출량(tCO2) 에너지 사용량(TJ)\n",
              "0         국토교통부      (주)강원랜드  2015  사업장   건물          71204        1393\n",
              "1         국토교통부      (주)국민은행  2015   업체   건물         121180        1828\n",
              "2         국토교통부    (주)대명레저산업  2015  사업장   건물          48533         973\n",
              "3         국토교통부  (주)무주덕유산리조트  2015  사업장   건물          20157         356\n",
              "4         국토교통부   (주)휘닉스중앙평창  2015  사업장   건물          22200         435\n",
              "...         ...          ...   ...  ...  ...            ...         ...\n",
              "5819        환경부  효성첨단소재 주식회사  2020   업체   산업         191050        3883\n",
              "5820        환경부   효성티앤씨 주식회사  2020   업체   산업         323533        7495\n",
              "5821        환경부    효성화학 주식회사  2020   업체   산업         881811       18213\n",
              "5822        환경부          휴비스  2020   업체   산업         465138        6985\n",
              "5823        환경부     휴켐스 주식회사  2020  사업장   산업         132580        1194\n",
              "\n",
              "[5824 rows x 7 columns]"
            ]
          },
          "metadata": {},
          "execution_count": 149
        }
      ]
    },
    {
      "cell_type": "code",
      "metadata": {
        "colab": {
          "base_uri": "https://localhost:8080/"
        },
        "id": "HqrsB62M6eUG",
        "outputId": "2f27e39d-2db4-4474-a031-5f9fdafe36f8"
      },
      "source": [
        "df_result.info()"
      ],
      "execution_count": null,
      "outputs": [
        {
          "output_type": "stream",
          "name": "stdout",
          "text": [
            "<class 'pandas.core.frame.DataFrame'>\n",
            "RangeIndex: 5824 entries, 0 to 5823\n",
            "Data columns (total 7 columns):\n",
            " #   Column          Non-Null Count  Dtype \n",
            "---  ------          --------------  ----- \n",
            " 0   관장기관(주무관청)      5824 non-null   object\n",
            " 1   관리업체            5824 non-null   object\n",
            " 2   대상연도            5824 non-null   int64 \n",
            " 3   지정구분            5824 non-null   object\n",
            " 4   지정업종            5824 non-null   object\n",
            " 5   온실가스 배출량(tCO2)  5824 non-null   object\n",
            " 6   에너지 사용량(TJ)     5824 non-null   object\n",
            "dtypes: int64(1), object(6)\n",
            "memory usage: 318.6+ KB\n"
          ]
        }
      ]
    },
    {
      "cell_type": "code",
      "metadata": {
        "colab": {
          "base_uri": "https://localhost:8080/"
        },
        "id": "suqh4G936mNl",
        "outputId": "649ff08b-cdc9-48b8-c594-7d219634e464"
      },
      "source": [
        "df_result['온실가스 배출량(tCO2)'].value_counts()\n"
      ],
      "execution_count": null,
      "outputs": [
        {
          "output_type": "execute_result",
          "data": {
            "text/plain": [
              "*****      10\n",
              "18581       3\n",
              "17491       3\n",
              "17922       3\n",
              "14611       3\n",
              "           ..\n",
              "30000       1\n",
              "1521222     1\n",
              "22197       1\n",
              "21811       1\n",
              "3481600     1\n",
              "Name: 온실가스 배출량(tCO2), Length: 5667, dtype: int64"
            ]
          },
          "metadata": {},
          "execution_count": 69
        }
      ]
    },
    {
      "cell_type": "code",
      "metadata": {
        "colab": {
          "base_uri": "https://localhost:8080/"
        },
        "id": "fvA2ZziW-uvS",
        "outputId": "3238f98a-94c9-404b-9cc4-35189f160c53"
      },
      "source": [
        "for i in df_result['온실가스 배출량(tCO2)']:\n",
        "  if type(i) is not int:\n",
        "    print(i)"
      ],
      "execution_count": null,
      "outputs": [
        {
          "output_type": "stream",
          "name": "stdout",
          "text": [
            "*****\n",
            "*****\n",
            "*****\n",
            "*****\n",
            "*****\n",
            "*****\n",
            "*****\n",
            "*****\n",
            "*****\n",
            "*****\n"
          ]
        }
      ]
    },
    {
      "cell_type": "code",
      "metadata": {
        "colab": {
          "base_uri": "https://localhost:8080/"
        },
        "id": "Ni-RdAQJ61J7",
        "outputId": "e66b9a24-a2f8-407f-dd77-e00f2d4ca2d9"
      },
      "source": [
        "for i in df_result['에너지 사용량(TJ)']:\n",
        "  if type(i) is not int:\n",
        "    print(i)"
      ],
      "execution_count": null,
      "outputs": [
        {
          "output_type": "stream",
          "name": "stdout",
          "text": [
            "*****\n",
            "*****\n",
            "*****\n",
            "*****\n",
            "*****\n",
            "*****\n",
            "*****\n",
            "*****\n",
            "*****\n",
            "***\n"
          ]
        }
      ]
    },
    {
      "cell_type": "code",
      "metadata": {
        "colab": {
          "base_uri": "https://localhost:8080/",
          "height": 417
        },
        "id": "Oc5o8ETXD4Zj",
        "outputId": "153fe3ec-a282-4218-c1b1-d542d1a45a49"
      },
      "source": [
        "df_result.head(5334)"
      ],
      "execution_count": null,
      "outputs": [
        {
          "output_type": "execute_result",
          "data": {
            "text/html": [
              "<div>\n",
              "<style scoped>\n",
              "    .dataframe tbody tr th:only-of-type {\n",
              "        vertical-align: middle;\n",
              "    }\n",
              "\n",
              "    .dataframe tbody tr th {\n",
              "        vertical-align: top;\n",
              "    }\n",
              "\n",
              "    .dataframe thead th {\n",
              "        text-align: right;\n",
              "    }\n",
              "</style>\n",
              "<table border=\"1\" class=\"dataframe\">\n",
              "  <thead>\n",
              "    <tr style=\"text-align: right;\">\n",
              "      <th></th>\n",
              "      <th>관장기관(주무관청)</th>\n",
              "      <th>관리업체</th>\n",
              "      <th>대상연도</th>\n",
              "      <th>지정구분</th>\n",
              "      <th>지정업종</th>\n",
              "      <th>온실가스 배출량(tCO2)</th>\n",
              "      <th>에너지 사용량(TJ)</th>\n",
              "    </tr>\n",
              "  </thead>\n",
              "  <tbody>\n",
              "    <tr>\n",
              "      <th>0</th>\n",
              "      <td>국토교통부</td>\n",
              "      <td>(주)강원랜드</td>\n",
              "      <td>2015</td>\n",
              "      <td>사업장</td>\n",
              "      <td>건물</td>\n",
              "      <td>71204</td>\n",
              "      <td>1393</td>\n",
              "    </tr>\n",
              "    <tr>\n",
              "      <th>1</th>\n",
              "      <td>국토교통부</td>\n",
              "      <td>(주)국민은행</td>\n",
              "      <td>2015</td>\n",
              "      <td>업체</td>\n",
              "      <td>건물</td>\n",
              "      <td>121180</td>\n",
              "      <td>1828</td>\n",
              "    </tr>\n",
              "    <tr>\n",
              "      <th>2</th>\n",
              "      <td>국토교통부</td>\n",
              "      <td>(주)대명레저산업</td>\n",
              "      <td>2015</td>\n",
              "      <td>사업장</td>\n",
              "      <td>건물</td>\n",
              "      <td>48533</td>\n",
              "      <td>973</td>\n",
              "    </tr>\n",
              "    <tr>\n",
              "      <th>3</th>\n",
              "      <td>국토교통부</td>\n",
              "      <td>(주)무주덕유산리조트</td>\n",
              "      <td>2015</td>\n",
              "      <td>사업장</td>\n",
              "      <td>건물</td>\n",
              "      <td>20157</td>\n",
              "      <td>356</td>\n",
              "    </tr>\n",
              "    <tr>\n",
              "      <th>4</th>\n",
              "      <td>국토교통부</td>\n",
              "      <td>(주)휘닉스중앙평창</td>\n",
              "      <td>2015</td>\n",
              "      <td>사업장</td>\n",
              "      <td>건물</td>\n",
              "      <td>22200</td>\n",
              "      <td>435</td>\n",
              "    </tr>\n",
              "    <tr>\n",
              "      <th>...</th>\n",
              "      <td>...</td>\n",
              "      <td>...</td>\n",
              "      <td>...</td>\n",
              "      <td>...</td>\n",
              "      <td>...</td>\n",
              "      <td>...</td>\n",
              "      <td>...</td>\n",
              "    </tr>\n",
              "    <tr>\n",
              "      <th>5329</th>\n",
              "      <td>환경부</td>\n",
              "      <td>당진시</td>\n",
              "      <td>2020</td>\n",
              "      <td>업체</td>\n",
              "      <td>지정외 폐기물처리업 등</td>\n",
              "      <td>35802</td>\n",
              "      <td>242</td>\n",
              "    </tr>\n",
              "    <tr>\n",
              "      <th>5330</th>\n",
              "      <td>환경부</td>\n",
              "      <td>대구광역시</td>\n",
              "      <td>2020</td>\n",
              "      <td>업체</td>\n",
              "      <td>폐기물</td>\n",
              "      <td>586705</td>\n",
              "      <td>4741</td>\n",
              "    </tr>\n",
              "    <tr>\n",
              "      <th>5331</th>\n",
              "      <td>환경부</td>\n",
              "      <td>대구그린파워(주)</td>\n",
              "      <td>2020</td>\n",
              "      <td>업체</td>\n",
              "      <td>전환</td>\n",
              "      <td>829427</td>\n",
              "      <td>16510</td>\n",
              "    </tr>\n",
              "    <tr>\n",
              "      <th>5332</th>\n",
              "      <td>환경부</td>\n",
              "      <td>대구염색산업단지관리공단</td>\n",
              "      <td>2020</td>\n",
              "      <td>업체</td>\n",
              "      <td>전환</td>\n",
              "      <td>656181</td>\n",
              "      <td>7367</td>\n",
              "    </tr>\n",
              "    <tr>\n",
              "      <th>5333</th>\n",
              "      <td>환경부</td>\n",
              "      <td>대구텍 유한책임회사</td>\n",
              "      <td>2020</td>\n",
              "      <td>사업장</td>\n",
              "      <td>산업</td>\n",
              "      <td>*****</td>\n",
              "      <td>***</td>\n",
              "    </tr>\n",
              "  </tbody>\n",
              "</table>\n",
              "<p>5334 rows × 7 columns</p>\n",
              "</div>"
            ],
            "text/plain": [
              "     관장기관(주무관청)          관리업체  대상연도  ...          지정업종 온실가스 배출량(tCO2) 에너지 사용량(TJ)\n",
              "0         국토교통부       (주)강원랜드  2015  ...            건물          71204        1393\n",
              "1         국토교통부       (주)국민은행  2015  ...            건물         121180        1828\n",
              "2         국토교통부     (주)대명레저산업  2015  ...            건물          48533         973\n",
              "3         국토교통부   (주)무주덕유산리조트  2015  ...            건물          20157         356\n",
              "4         국토교통부    (주)휘닉스중앙평창  2015  ...            건물          22200         435\n",
              "...         ...           ...   ...  ...           ...            ...         ...\n",
              "5329        환경부           당진시  2020  ...  지정외 폐기물처리업 등          35802         242\n",
              "5330        환경부         대구광역시  2020  ...           폐기물         586705        4741\n",
              "5331        환경부     대구그린파워(주)  2020  ...            전환         829427       16510\n",
              "5332        환경부  대구염색산업단지관리공단  2020  ...            전환         656181        7367\n",
              "5333        환경부    대구텍 유한책임회사  2020  ...            산업          *****         ***\n",
              "\n",
              "[5334 rows x 7 columns]"
            ]
          },
          "metadata": {},
          "execution_count": 157
        }
      ]
    },
    {
      "cell_type": "code",
      "metadata": {
        "id": "mutu3hLW_RsZ"
      },
      "source": [
        "# df_INDUTY = df_tech_edit[df_tech_edit['INDUTY']=='-'].index\n",
        "# df_tech_edit2 = df_tech_edit.drop(df_INDUTY)\n",
        "\n",
        "\n",
        "df_tCO2_drop = df_result[df_result['온실가스 배출량(tCO2)']=='*****'].index\n",
        "#df_TJ_drop2 = df_result[df_result['에너지 사용량(TJ)']=='***'].index   ***** 와 같은 행에 있어서 중복"
      ],
      "execution_count": null,
      "outputs": []
    },
    {
      "cell_type": "code",
      "metadata": {
        "id": "H7PHx3f3CG1f"
      },
      "source": [
        "df_result = df_result.drop(df_tCO2_drop)"
      ],
      "execution_count": null,
      "outputs": []
    },
    {
      "cell_type": "code",
      "metadata": {
        "colab": {
          "base_uri": "https://localhost:8080/"
        },
        "id": "mKVzGeoLC-NR",
        "outputId": "d17141b3-fc04-4e80-a4b3-eec1e8d3e3f7"
      },
      "source": [
        "df_result.info()"
      ],
      "execution_count": null,
      "outputs": [
        {
          "output_type": "stream",
          "name": "stdout",
          "text": [
            "<class 'pandas.core.frame.DataFrame'>\n",
            "Int64Index: 5814 entries, 0 to 5823\n",
            "Data columns (total 10 columns):\n",
            " #   Column          Non-Null Count  Dtype \n",
            "---  ------          --------------  ----- \n",
            " 0   Unnamed: 0      5814 non-null   int64 \n",
            " 1   번호              5814 non-null   int64 \n",
            " 2   관장기관(주무관청)      5814 non-null   object\n",
            " 3   관리업체            5814 non-null   object\n",
            " 4   대상연도            5814 non-null   int64 \n",
            " 5   지정구분            5814 non-null   object\n",
            " 6   지정업종            5814 non-null   object\n",
            " 7   온실가스 배출량(tCO2)  5814 non-null   object\n",
            " 8   에너지 사용량(TJ)     5814 non-null   object\n",
            " 9   검증수행기관          5814 non-null   object\n",
            "dtypes: int64(3), object(7)\n",
            "memory usage: 499.6+ KB\n"
          ]
        }
      ]
    },
    {
      "cell_type": "code",
      "metadata": {
        "id": "98et9kLui0Up"
      },
      "source": [
        "#df_result.to_excel('(*결측치제거)2015-2020_업체별_명세서_주요정보.xlsx')"
      ],
      "execution_count": null,
      "outputs": []
    },
    {
      "cell_type": "code",
      "metadata": {
        "colab": {
          "base_uri": "https://localhost:8080/"
        },
        "id": "J6C0MxKWf0bk",
        "outputId": "dc7b77b6-fdcb-44ac-d1c5-4b0972dd4d59"
      },
      "source": [
        "df_result['지정업종'].unique()"
      ],
      "execution_count": null,
      "outputs": [
        {
          "output_type": "execute_result",
          "data": {
            "text/plain": [
              "array(['건물', '광업', '기계', '디스플레이', '목재', '반도체', '집단에너지', '산업단지',\n",
              "       '발전 · 에너지', '비철금속', '석유화학', '섬유', '수도', '시멘트', '유리 · 요업', '유리',\n",
              "       '요업', '음식료품', '자동차', '전기전자', '정유', '제지', '조선', '철강', '통신', '폐기물',\n",
              "       '항공', '건설', '교통(여객)', '교통(철도)', '교통(화물)', '교통(항공)', '교통(해운)',\n",
              "       '반도체.디스플레이.전기전자', '발전에너지', '식료품 제조업', '음료제조업', '지정외 폐기물처리업',\n",
              "       '지정외 폐기물처리업 등', '하수, 폐수 및 분뇨 처리업', '하수처리업', '산업', '담배제조업', '수송',\n",
              "       '전환', '공공기타'], dtype=object)"
            ]
          },
          "metadata": {},
          "execution_count": 10
        }
      ]
    },
    {
      "cell_type": "code",
      "metadata": {
        "colab": {
          "base_uri": "https://localhost:8080/"
        },
        "id": "6mFj51-4iTjo",
        "outputId": "e5f8e0da-b5b8-481e-a930-09870a3e2f49"
      },
      "source": [
        "df_result['지정업종'].unique().size"
      ],
      "execution_count": null,
      "outputs": [
        {
          "output_type": "execute_result",
          "data": {
            "text/plain": [
              "46"
            ]
          },
          "metadata": {},
          "execution_count": 11
        }
      ]
    },
    {
      "cell_type": "markdown",
      "metadata": {
        "id": "cyxaCYGeO6HA"
      },
      "source": [
        "## 군집화"
      ]
    },
    {
      "cell_type": "code",
      "metadata": {
        "id": "4UQtNdCKTwPp"
      },
      "source": [
        "from sklearn.feature_extraction.text import TfidfVectorizer\n",
        "from nltk.stem import WordNetLemmatizer\n",
        "import nltk"
      ],
      "execution_count": null,
      "outputs": []
    },
    {
      "cell_type": "code",
      "metadata": {
        "colab": {
          "base_uri": "https://localhost:8080/"
        },
        "id": "ezbI91-2vaqS",
        "outputId": "ceceffb9-28d6-4a71-e0a5-dcdbf452ae3b"
      },
      "source": [
        "tfidf_vect = TfidfVectorizer(ngram_range=(1,2),min_df=0.05, max_df=0.85)\n",
        "ftr_vect1 = tfidf_vect.fit_transform(df_result['지정업종'])\n",
        "ftr_vect1"
      ],
      "execution_count": null,
      "outputs": [
        {
          "output_type": "execute_result",
          "data": {
            "text/plain": [
              "<5814x7 sparse matrix of type '<class 'numpy.float64'>'\n",
              "\twith 3267 stored elements in Compressed Sparse Row format>"
            ]
          },
          "metadata": {},
          "execution_count": 163
        }
      ]
    },
    {
      "cell_type": "code",
      "metadata": {
        "id": "u7TJUNObxH3n"
      },
      "source": [
        "from sklearn.cluster import KMeans\n",
        "kmeans = KMeans(n_clusters = 3,max_iter=10000,random_state=42)\n",
        "kind_of_work_label = kmeans.fit_predict(ftr_vect1)"
      ],
      "execution_count": null,
      "outputs": []
    },
    {
      "cell_type": "code",
      "metadata": {
        "colab": {
          "base_uri": "https://localhost:8080/"
        },
        "id": "Z186SHlVyZqK",
        "outputId": "94c140e1-a4ff-4b46-95e0-9f5cd97f6b8b"
      },
      "source": [
        "kind_of_work_label"
      ],
      "execution_count": null,
      "outputs": [
        {
          "output_type": "execute_result",
          "data": {
            "text/plain": [
              "array([2, 2, 2, ..., 0, 0, 0], dtype=int32)"
            ]
          },
          "metadata": {},
          "execution_count": 165
        }
      ]
    },
    {
      "cell_type": "code",
      "metadata": {
        "id": "ZbuUcpFryirK"
      },
      "source": [
        "df_result['kind_of_work_label'] = kind_of_work_label"
      ],
      "execution_count": null,
      "outputs": []
    },
    {
      "cell_type": "code",
      "metadata": {
        "id": "zOxH2h7-zCjM"
      },
      "source": [
        "df_result.head(50)"
      ],
      "execution_count": null,
      "outputs": []
    },
    {
      "cell_type": "code",
      "metadata": {
        "id": "iLiPdpv0zFOI"
      },
      "source": [
        "import seaborn as sns\n",
        "import matplotlib.pyplot as plt\n",
        "#plt.style.use('seaborn_white')"
      ],
      "execution_count": null,
      "outputs": []
    },
    {
      "cell_type": "code",
      "metadata": {
        "colab": {
          "base_uri": "https://localhost:8080/"
        },
        "id": "tbMilkF56IEn",
        "outputId": "2be243e9-d562-463c-9acf-23e00d8e97c8"
      },
      "source": [
        "type(df_result['온실가스 배출량(tCO2)'][0])"
      ],
      "execution_count": null,
      "outputs": [
        {
          "output_type": "execute_result",
          "data": {
            "text/plain": [
              "int"
            ]
          },
          "metadata": {},
          "execution_count": 65
        }
      ]
    },
    {
      "cell_type": "code",
      "metadata": {
        "colab": {
          "base_uri": "https://localhost:8080/"
        },
        "id": "GZ9nkrfb26kl",
        "outputId": "c14ad38f-fa58-46b3-dac2-20cd3195240b"
      },
      "source": [
        "type(df_result['kind_of_work_label'][0])"
      ],
      "execution_count": null,
      "outputs": [
        {
          "output_type": "execute_result",
          "data": {
            "text/plain": [
              "numpy.int32"
            ]
          },
          "metadata": {},
          "execution_count": 55
        }
      ]
    },
    {
      "cell_type": "code",
      "metadata": {
        "colab": {
          "base_uri": "https://localhost:8080/",
          "height": 793
        },
        "id": "svpiNx3W1osF",
        "outputId": "62d1e367-4354-4131-b85a-baa8ce617f82"
      },
      "source": [
        "sns.lmplot(x = '온실가스 배출량(tCO2)',y = '에너지 사용량(TJ)',data=df_result,fit_reg=False,size=6, hue='kind_of_work_label')\n",
        "plt.show()"
      ],
      "execution_count": null,
      "outputs": [
        {
          "output_type": "stream",
          "name": "stderr",
          "text": [
            "/usr/local/lib/python3.7/dist-packages/seaborn/regression.py:580: UserWarning: The `size` parameter has been renamed to `height`; please update your code.\n",
            "  warnings.warn(msg, UserWarning)\n"
          ]
        },
        {
          "output_type": "error",
          "ename": "TypeError",
          "evalue": "ignored",
          "traceback": [
            "\u001b[0;31m---------------------------------------------------------------------------\u001b[0m",
            "\u001b[0;31mTypeError\u001b[0m                                 Traceback (most recent call last)",
            "\u001b[0;32m<ipython-input-60-34330b375ab0>\u001b[0m in \u001b[0;36m<module>\u001b[0;34m()\u001b[0m\n\u001b[0;32m----> 1\u001b[0;31m \u001b[0msns\u001b[0m\u001b[0;34m.\u001b[0m\u001b[0mlmplot\u001b[0m\u001b[0;34m(\u001b[0m\u001b[0mx\u001b[0m \u001b[0;34m=\u001b[0m \u001b[0;34m'온실가스 배출량(tCO2)'\u001b[0m\u001b[0;34m,\u001b[0m\u001b[0my\u001b[0m \u001b[0;34m=\u001b[0m \u001b[0;34m'에너지 사용량(TJ)'\u001b[0m\u001b[0;34m,\u001b[0m\u001b[0mdata\u001b[0m\u001b[0;34m=\u001b[0m\u001b[0mdf_result\u001b[0m\u001b[0;34m,\u001b[0m\u001b[0mfit_reg\u001b[0m\u001b[0;34m=\u001b[0m\u001b[0;32mFalse\u001b[0m\u001b[0;34m,\u001b[0m\u001b[0msize\u001b[0m\u001b[0;34m=\u001b[0m\u001b[0;36m6\u001b[0m\u001b[0;34m,\u001b[0m \u001b[0mhue\u001b[0m\u001b[0;34m=\u001b[0m\u001b[0;34m'kind_of_work_label'\u001b[0m\u001b[0;34m)\u001b[0m\u001b[0;34m\u001b[0m\u001b[0;34m\u001b[0m\u001b[0m\n\u001b[0m\u001b[1;32m      2\u001b[0m \u001b[0mplt\u001b[0m\u001b[0;34m.\u001b[0m\u001b[0mshow\u001b[0m\u001b[0;34m(\u001b[0m\u001b[0;34m)\u001b[0m\u001b[0;34m\u001b[0m\u001b[0;34m\u001b[0m\u001b[0m\n",
            "\u001b[0;32m/usr/local/lib/python3.7/dist-packages/seaborn/_decorators.py\u001b[0m in \u001b[0;36minner_f\u001b[0;34m(*args, **kwargs)\u001b[0m\n\u001b[1;32m     44\u001b[0m             )\n\u001b[1;32m     45\u001b[0m         \u001b[0mkwargs\u001b[0m\u001b[0;34m.\u001b[0m\u001b[0mupdate\u001b[0m\u001b[0;34m(\u001b[0m\u001b[0;34m{\u001b[0m\u001b[0mk\u001b[0m\u001b[0;34m:\u001b[0m \u001b[0marg\u001b[0m \u001b[0;32mfor\u001b[0m \u001b[0mk\u001b[0m\u001b[0;34m,\u001b[0m \u001b[0marg\u001b[0m \u001b[0;32min\u001b[0m \u001b[0mzip\u001b[0m\u001b[0;34m(\u001b[0m\u001b[0msig\u001b[0m\u001b[0;34m.\u001b[0m\u001b[0mparameters\u001b[0m\u001b[0;34m,\u001b[0m \u001b[0margs\u001b[0m\u001b[0;34m)\u001b[0m\u001b[0;34m}\u001b[0m\u001b[0;34m)\u001b[0m\u001b[0;34m\u001b[0m\u001b[0;34m\u001b[0m\u001b[0m\n\u001b[0;32m---> 46\u001b[0;31m         \u001b[0;32mreturn\u001b[0m \u001b[0mf\u001b[0m\u001b[0;34m(\u001b[0m\u001b[0;34m**\u001b[0m\u001b[0mkwargs\u001b[0m\u001b[0;34m)\u001b[0m\u001b[0;34m\u001b[0m\u001b[0;34m\u001b[0m\u001b[0m\n\u001b[0m\u001b[1;32m     47\u001b[0m     \u001b[0;32mreturn\u001b[0m \u001b[0minner_f\u001b[0m\u001b[0;34m\u001b[0m\u001b[0;34m\u001b[0m\u001b[0m\n\u001b[1;32m     48\u001b[0m \u001b[0;34m\u001b[0m\u001b[0m\n",
            "\u001b[0;32m/usr/local/lib/python3.7/dist-packages/seaborn/regression.py\u001b[0m in \u001b[0;36mlmplot\u001b[0;34m(x, y, data, hue, col, row, palette, col_wrap, height, aspect, markers, sharex, sharey, hue_order, col_order, row_order, legend, legend_out, x_estimator, x_bins, x_ci, scatter, fit_reg, ci, n_boot, units, seed, order, logistic, lowess, robust, logx, x_partial, y_partial, truncate, x_jitter, y_jitter, scatter_kws, line_kws, size)\u001b[0m\n\u001b[1;32m    615\u001b[0m     \u001b[0;32mif\u001b[0m \u001b[0msharex\u001b[0m\u001b[0;34m:\u001b[0m\u001b[0;34m\u001b[0m\u001b[0;34m\u001b[0m\u001b[0m\n\u001b[1;32m    616\u001b[0m         \u001b[0;32mfor\u001b[0m \u001b[0max\u001b[0m \u001b[0;32min\u001b[0m \u001b[0mfacets\u001b[0m\u001b[0;34m.\u001b[0m\u001b[0maxes\u001b[0m\u001b[0;34m.\u001b[0m\u001b[0mflat\u001b[0m\u001b[0;34m:\u001b[0m\u001b[0;34m\u001b[0m\u001b[0;34m\u001b[0m\u001b[0m\n\u001b[0;32m--> 617\u001b[0;31m             \u001b[0max\u001b[0m\u001b[0;34m.\u001b[0m\u001b[0mscatter\u001b[0m\u001b[0;34m(\u001b[0m\u001b[0mdata\u001b[0m\u001b[0;34m[\u001b[0m\u001b[0mx\u001b[0m\u001b[0;34m]\u001b[0m\u001b[0;34m,\u001b[0m \u001b[0mnp\u001b[0m\u001b[0;34m.\u001b[0m\u001b[0mones\u001b[0m\u001b[0;34m(\u001b[0m\u001b[0mlen\u001b[0m\u001b[0;34m(\u001b[0m\u001b[0mdata\u001b[0m\u001b[0;34m)\u001b[0m\u001b[0;34m)\u001b[0m \u001b[0;34m*\u001b[0m \u001b[0mdata\u001b[0m\u001b[0;34m[\u001b[0m\u001b[0my\u001b[0m\u001b[0;34m]\u001b[0m\u001b[0;34m.\u001b[0m\u001b[0mmean\u001b[0m\u001b[0;34m(\u001b[0m\u001b[0;34m)\u001b[0m\u001b[0;34m)\u001b[0m\u001b[0;34m.\u001b[0m\u001b[0mremove\u001b[0m\u001b[0;34m(\u001b[0m\u001b[0;34m)\u001b[0m\u001b[0;34m\u001b[0m\u001b[0;34m\u001b[0m\u001b[0m\n\u001b[0m\u001b[1;32m    618\u001b[0m \u001b[0;34m\u001b[0m\u001b[0m\n\u001b[1;32m    619\u001b[0m     \u001b[0;31m# Draw the regression plot on each facet\u001b[0m\u001b[0;34m\u001b[0m\u001b[0;34m\u001b[0m\u001b[0;34m\u001b[0m\u001b[0m\n",
            "\u001b[0;32m/usr/local/lib/python3.7/dist-packages/pandas/core/generic.py\u001b[0m in \u001b[0;36mstat_func\u001b[0;34m(self, axis, skipna, level, numeric_only, **kwargs)\u001b[0m\n\u001b[1;32m  11473\u001b[0m             \u001b[0;32mreturn\u001b[0m \u001b[0mself\u001b[0m\u001b[0;34m.\u001b[0m\u001b[0m_agg_by_level\u001b[0m\u001b[0;34m(\u001b[0m\u001b[0mname\u001b[0m\u001b[0;34m,\u001b[0m \u001b[0maxis\u001b[0m\u001b[0;34m=\u001b[0m\u001b[0maxis\u001b[0m\u001b[0;34m,\u001b[0m \u001b[0mlevel\u001b[0m\u001b[0;34m=\u001b[0m\u001b[0mlevel\u001b[0m\u001b[0;34m,\u001b[0m \u001b[0mskipna\u001b[0m\u001b[0;34m=\u001b[0m\u001b[0mskipna\u001b[0m\u001b[0;34m)\u001b[0m\u001b[0;34m\u001b[0m\u001b[0;34m\u001b[0m\u001b[0m\n\u001b[1;32m  11474\u001b[0m         return self._reduce(\n\u001b[0;32m> 11475\u001b[0;31m             \u001b[0mfunc\u001b[0m\u001b[0;34m,\u001b[0m \u001b[0mname\u001b[0m\u001b[0;34m=\u001b[0m\u001b[0mname\u001b[0m\u001b[0;34m,\u001b[0m \u001b[0maxis\u001b[0m\u001b[0;34m=\u001b[0m\u001b[0maxis\u001b[0m\u001b[0;34m,\u001b[0m \u001b[0mskipna\u001b[0m\u001b[0;34m=\u001b[0m\u001b[0mskipna\u001b[0m\u001b[0;34m,\u001b[0m \u001b[0mnumeric_only\u001b[0m\u001b[0;34m=\u001b[0m\u001b[0mnumeric_only\u001b[0m\u001b[0;34m\u001b[0m\u001b[0;34m\u001b[0m\u001b[0m\n\u001b[0m\u001b[1;32m  11476\u001b[0m         )\n\u001b[1;32m  11477\u001b[0m \u001b[0;34m\u001b[0m\u001b[0m\n",
            "\u001b[0;32m/usr/local/lib/python3.7/dist-packages/pandas/core/series.py\u001b[0m in \u001b[0;36m_reduce\u001b[0;34m(self, op, name, axis, skipna, numeric_only, filter_type, **kwds)\u001b[0m\n\u001b[1;32m   4247\u001b[0m                 )\n\u001b[1;32m   4248\u001b[0m             \u001b[0;32mwith\u001b[0m \u001b[0mnp\u001b[0m\u001b[0;34m.\u001b[0m\u001b[0merrstate\u001b[0m\u001b[0;34m(\u001b[0m\u001b[0mall\u001b[0m\u001b[0;34m=\u001b[0m\u001b[0;34m\"ignore\"\u001b[0m\u001b[0;34m)\u001b[0m\u001b[0;34m:\u001b[0m\u001b[0;34m\u001b[0m\u001b[0;34m\u001b[0m\u001b[0m\n\u001b[0;32m-> 4249\u001b[0;31m                 \u001b[0;32mreturn\u001b[0m \u001b[0mop\u001b[0m\u001b[0;34m(\u001b[0m\u001b[0mdelegate\u001b[0m\u001b[0;34m,\u001b[0m \u001b[0mskipna\u001b[0m\u001b[0;34m=\u001b[0m\u001b[0mskipna\u001b[0m\u001b[0;34m,\u001b[0m \u001b[0;34m**\u001b[0m\u001b[0mkwds\u001b[0m\u001b[0;34m)\u001b[0m\u001b[0;34m\u001b[0m\u001b[0;34m\u001b[0m\u001b[0m\n\u001b[0m\u001b[1;32m   4250\u001b[0m \u001b[0;34m\u001b[0m\u001b[0m\n\u001b[1;32m   4251\u001b[0m     \u001b[0;32mdef\u001b[0m \u001b[0m_reindex_indexer\u001b[0m\u001b[0;34m(\u001b[0m\u001b[0mself\u001b[0m\u001b[0;34m,\u001b[0m \u001b[0mnew_index\u001b[0m\u001b[0;34m,\u001b[0m \u001b[0mindexer\u001b[0m\u001b[0;34m,\u001b[0m \u001b[0mcopy\u001b[0m\u001b[0;34m)\u001b[0m\u001b[0;34m:\u001b[0m\u001b[0;34m\u001b[0m\u001b[0;34m\u001b[0m\u001b[0m\n",
            "\u001b[0;32m/usr/local/lib/python3.7/dist-packages/pandas/core/nanops.py\u001b[0m in \u001b[0;36m_f\u001b[0;34m(*args, **kwargs)\u001b[0m\n\u001b[1;32m     69\u001b[0m             \u001b[0;32mtry\u001b[0m\u001b[0;34m:\u001b[0m\u001b[0;34m\u001b[0m\u001b[0;34m\u001b[0m\u001b[0m\n\u001b[1;32m     70\u001b[0m                 \u001b[0;32mwith\u001b[0m \u001b[0mnp\u001b[0m\u001b[0;34m.\u001b[0m\u001b[0merrstate\u001b[0m\u001b[0;34m(\u001b[0m\u001b[0minvalid\u001b[0m\u001b[0;34m=\u001b[0m\u001b[0;34m\"ignore\"\u001b[0m\u001b[0;34m)\u001b[0m\u001b[0;34m:\u001b[0m\u001b[0;34m\u001b[0m\u001b[0;34m\u001b[0m\u001b[0m\n\u001b[0;32m---> 71\u001b[0;31m                     \u001b[0;32mreturn\u001b[0m \u001b[0mf\u001b[0m\u001b[0;34m(\u001b[0m\u001b[0;34m*\u001b[0m\u001b[0margs\u001b[0m\u001b[0;34m,\u001b[0m \u001b[0;34m**\u001b[0m\u001b[0mkwargs\u001b[0m\u001b[0;34m)\u001b[0m\u001b[0;34m\u001b[0m\u001b[0;34m\u001b[0m\u001b[0m\n\u001b[0m\u001b[1;32m     72\u001b[0m             \u001b[0;32mexcept\u001b[0m \u001b[0mValueError\u001b[0m \u001b[0;32mas\u001b[0m \u001b[0me\u001b[0m\u001b[0;34m:\u001b[0m\u001b[0;34m\u001b[0m\u001b[0;34m\u001b[0m\u001b[0m\n\u001b[1;32m     73\u001b[0m                 \u001b[0;31m# we want to transform an object array\u001b[0m\u001b[0;34m\u001b[0m\u001b[0;34m\u001b[0m\u001b[0;34m\u001b[0m\u001b[0m\n",
            "\u001b[0;32m/usr/local/lib/python3.7/dist-packages/pandas/core/nanops.py\u001b[0m in \u001b[0;36mf\u001b[0;34m(values, axis, skipna, **kwds)\u001b[0m\n\u001b[1;32m    127\u001b[0m                     \u001b[0mresult\u001b[0m \u001b[0;34m=\u001b[0m \u001b[0malt\u001b[0m\u001b[0;34m(\u001b[0m\u001b[0mvalues\u001b[0m\u001b[0;34m,\u001b[0m \u001b[0maxis\u001b[0m\u001b[0;34m=\u001b[0m\u001b[0maxis\u001b[0m\u001b[0;34m,\u001b[0m \u001b[0mskipna\u001b[0m\u001b[0;34m=\u001b[0m\u001b[0mskipna\u001b[0m\u001b[0;34m,\u001b[0m \u001b[0;34m**\u001b[0m\u001b[0mkwds\u001b[0m\u001b[0;34m)\u001b[0m\u001b[0;34m\u001b[0m\u001b[0;34m\u001b[0m\u001b[0m\n\u001b[1;32m    128\u001b[0m             \u001b[0;32melse\u001b[0m\u001b[0;34m:\u001b[0m\u001b[0;34m\u001b[0m\u001b[0;34m\u001b[0m\u001b[0m\n\u001b[0;32m--> 129\u001b[0;31m                 \u001b[0mresult\u001b[0m \u001b[0;34m=\u001b[0m \u001b[0malt\u001b[0m\u001b[0;34m(\u001b[0m\u001b[0mvalues\u001b[0m\u001b[0;34m,\u001b[0m \u001b[0maxis\u001b[0m\u001b[0;34m=\u001b[0m\u001b[0maxis\u001b[0m\u001b[0;34m,\u001b[0m \u001b[0mskipna\u001b[0m\u001b[0;34m=\u001b[0m\u001b[0mskipna\u001b[0m\u001b[0;34m,\u001b[0m \u001b[0;34m**\u001b[0m\u001b[0mkwds\u001b[0m\u001b[0;34m)\u001b[0m\u001b[0;34m\u001b[0m\u001b[0;34m\u001b[0m\u001b[0m\n\u001b[0m\u001b[1;32m    130\u001b[0m \u001b[0;34m\u001b[0m\u001b[0m\n\u001b[1;32m    131\u001b[0m             \u001b[0;32mreturn\u001b[0m \u001b[0mresult\u001b[0m\u001b[0;34m\u001b[0m\u001b[0;34m\u001b[0m\u001b[0m\n",
            "\u001b[0;32m/usr/local/lib/python3.7/dist-packages/pandas/core/nanops.py\u001b[0m in \u001b[0;36mnanmean\u001b[0;34m(values, axis, skipna, mask)\u001b[0m\n\u001b[1;32m    561\u001b[0m         \u001b[0mdtype_count\u001b[0m \u001b[0;34m=\u001b[0m \u001b[0mdtype\u001b[0m\u001b[0;34m\u001b[0m\u001b[0;34m\u001b[0m\u001b[0m\n\u001b[1;32m    562\u001b[0m     \u001b[0mcount\u001b[0m \u001b[0;34m=\u001b[0m \u001b[0m_get_counts\u001b[0m\u001b[0;34m(\u001b[0m\u001b[0mvalues\u001b[0m\u001b[0;34m.\u001b[0m\u001b[0mshape\u001b[0m\u001b[0;34m,\u001b[0m \u001b[0mmask\u001b[0m\u001b[0;34m,\u001b[0m \u001b[0maxis\u001b[0m\u001b[0;34m,\u001b[0m \u001b[0mdtype\u001b[0m\u001b[0;34m=\u001b[0m\u001b[0mdtype_count\u001b[0m\u001b[0;34m)\u001b[0m\u001b[0;34m\u001b[0m\u001b[0;34m\u001b[0m\u001b[0m\n\u001b[0;32m--> 563\u001b[0;31m     \u001b[0mthe_sum\u001b[0m \u001b[0;34m=\u001b[0m \u001b[0m_ensure_numeric\u001b[0m\u001b[0;34m(\u001b[0m\u001b[0mvalues\u001b[0m\u001b[0;34m.\u001b[0m\u001b[0msum\u001b[0m\u001b[0;34m(\u001b[0m\u001b[0maxis\u001b[0m\u001b[0;34m,\u001b[0m \u001b[0mdtype\u001b[0m\u001b[0;34m=\u001b[0m\u001b[0mdtype_sum\u001b[0m\u001b[0;34m)\u001b[0m\u001b[0;34m)\u001b[0m\u001b[0;34m\u001b[0m\u001b[0;34m\u001b[0m\u001b[0m\n\u001b[0m\u001b[1;32m    564\u001b[0m \u001b[0;34m\u001b[0m\u001b[0m\n\u001b[1;32m    565\u001b[0m     \u001b[0;32mif\u001b[0m \u001b[0maxis\u001b[0m \u001b[0;32mis\u001b[0m \u001b[0;32mnot\u001b[0m \u001b[0;32mNone\u001b[0m \u001b[0;32mand\u001b[0m \u001b[0mgetattr\u001b[0m\u001b[0;34m(\u001b[0m\u001b[0mthe_sum\u001b[0m\u001b[0;34m,\u001b[0m \u001b[0;34m\"ndim\"\u001b[0m\u001b[0;34m,\u001b[0m \u001b[0;32mFalse\u001b[0m\u001b[0;34m)\u001b[0m\u001b[0;34m:\u001b[0m\u001b[0;34m\u001b[0m\u001b[0;34m\u001b[0m\u001b[0m\n",
            "\u001b[0;32m/usr/local/lib/python3.7/dist-packages/numpy/core/_methods.py\u001b[0m in \u001b[0;36m_sum\u001b[0;34m(a, axis, dtype, out, keepdims, initial, where)\u001b[0m\n\u001b[1;32m     45\u001b[0m def _sum(a, axis=None, dtype=None, out=None, keepdims=False,\n\u001b[1;32m     46\u001b[0m          initial=_NoValue, where=True):\n\u001b[0;32m---> 47\u001b[0;31m     \u001b[0;32mreturn\u001b[0m \u001b[0mumr_sum\u001b[0m\u001b[0;34m(\u001b[0m\u001b[0ma\u001b[0m\u001b[0;34m,\u001b[0m \u001b[0maxis\u001b[0m\u001b[0;34m,\u001b[0m \u001b[0mdtype\u001b[0m\u001b[0;34m,\u001b[0m \u001b[0mout\u001b[0m\u001b[0;34m,\u001b[0m \u001b[0mkeepdims\u001b[0m\u001b[0;34m,\u001b[0m \u001b[0minitial\u001b[0m\u001b[0;34m,\u001b[0m \u001b[0mwhere\u001b[0m\u001b[0;34m)\u001b[0m\u001b[0;34m\u001b[0m\u001b[0;34m\u001b[0m\u001b[0m\n\u001b[0m\u001b[1;32m     48\u001b[0m \u001b[0;34m\u001b[0m\u001b[0m\n\u001b[1;32m     49\u001b[0m def _prod(a, axis=None, dtype=None, out=None, keepdims=False,\n",
            "\u001b[0;31mTypeError\u001b[0m: unsupported operand type(s) for +: 'int' and 'str'"
          ]
        },
        {
          "output_type": "display_data",
          "data": {
            "image/png": "[encoded data removed]",
            "text/plain": [
              "<Figure size 432x432 with 1 Axes>"
            ]
          },
          "metadata": {
            "needs_background": "light"
          }
        }
      ]
    },
    {
      "cell_type": "code",
      "metadata": {
        "colab": {
          "base_uri": "https://localhost:8080/",
          "height": 1000
        },
        "id": "KFdn-foy6Cor",
        "outputId": "25f5401f-bd92-4f93-e0ff-10c22d549613"
      },
      "source": [
        "sns.lmplot(x = '온실가스 배출량(tCO2)',y = '에너지 사용량(TJ)',data=df_result,fit_reg=False,size=6, hue='kind_of_work_label')\n",
        "plt.show()"
      ],
      "execution_count": null,
      "outputs": [
        {
          "output_type": "stream",
          "name": "stderr",
          "text": [
            "/usr/local/lib/python3.7/dist-packages/seaborn/regression.py:580: UserWarning: The `size` parameter has been renamed to `height`; please update your code.\n",
            "  warnings.warn(msg, UserWarning)\n",
            "/usr/local/lib/python3.7/dist-packages/matplotlib/backends/backend_agg.py:214: RuntimeWarning: Glyph 50728 missing from current font.\n",
            "  font.set_text(s, 0.0, flags=flags)\n",
            "/usr/local/lib/python3.7/dist-packages/matplotlib/backends/backend_agg.py:214: RuntimeWarning: Glyph 49892 missing from current font.\n",
            "  font.set_text(s, 0.0, flags=flags)\n",
            "/usr/local/lib/python3.7/dist-packages/matplotlib/backends/backend_agg.py:214: RuntimeWarning: Glyph 44032 missing from current font.\n",
            "  font.set_text(s, 0.0, flags=flags)\n",
            "/usr/local/lib/python3.7/dist-packages/matplotlib/backends/backend_agg.py:214: RuntimeWarning: Glyph 49828 missing from current font.\n",
            "  font.set_text(s, 0.0, flags=flags)\n",
            "/usr/local/lib/python3.7/dist-packages/matplotlib/backends/backend_agg.py:214: RuntimeWarning: Glyph 48176 missing from current font.\n",
            "  font.set_text(s, 0.0, flags=flags)\n",
            "/usr/local/lib/python3.7/dist-packages/matplotlib/backends/backend_agg.py:214: RuntimeWarning: Glyph 52636 missing from current font.\n",
            "  font.set_text(s, 0.0, flags=flags)\n",
            "/usr/local/lib/python3.7/dist-packages/matplotlib/backends/backend_agg.py:214: RuntimeWarning: Glyph 47049 missing from current font.\n",
            "  font.set_text(s, 0.0, flags=flags)\n",
            "/usr/local/lib/python3.7/dist-packages/matplotlib/backends/backend_agg.py:183: RuntimeWarning: Glyph 50728 missing from current font.\n",
            "  font.set_text(s, 0, flags=flags)\n",
            "/usr/local/lib/python3.7/dist-packages/matplotlib/backends/backend_agg.py:183: RuntimeWarning: Glyph 49892 missing from current font.\n",
            "  font.set_text(s, 0, flags=flags)\n",
            "/usr/local/lib/python3.7/dist-packages/matplotlib/backends/backend_agg.py:183: RuntimeWarning: Glyph 44032 missing from current font.\n",
            "  font.set_text(s, 0, flags=flags)\n",
            "/usr/local/lib/python3.7/dist-packages/matplotlib/backends/backend_agg.py:183: RuntimeWarning: Glyph 49828 missing from current font.\n",
            "  font.set_text(s, 0, flags=flags)\n",
            "/usr/local/lib/python3.7/dist-packages/matplotlib/backends/backend_agg.py:183: RuntimeWarning: Glyph 48176 missing from current font.\n",
            "  font.set_text(s, 0, flags=flags)\n",
            "/usr/local/lib/python3.7/dist-packages/matplotlib/backends/backend_agg.py:183: RuntimeWarning: Glyph 52636 missing from current font.\n",
            "  font.set_text(s, 0, flags=flags)\n",
            "/usr/local/lib/python3.7/dist-packages/matplotlib/backends/backend_agg.py:183: RuntimeWarning: Glyph 47049 missing from current font.\n",
            "  font.set_text(s, 0, flags=flags)\n",
            "/usr/local/lib/python3.7/dist-packages/matplotlib/backends/backend_agg.py:214: RuntimeWarning: Glyph 50640 missing from current font.\n",
            "  font.set_text(s, 0.0, flags=flags)\n",
            "/usr/local/lib/python3.7/dist-packages/matplotlib/backends/backend_agg.py:214: RuntimeWarning: Glyph 45320 missing from current font.\n",
            "  font.set_text(s, 0.0, flags=flags)\n",
            "/usr/local/lib/python3.7/dist-packages/matplotlib/backends/backend_agg.py:214: RuntimeWarning: Glyph 51648 missing from current font.\n",
            "  font.set_text(s, 0.0, flags=flags)\n",
            "/usr/local/lib/python3.7/dist-packages/matplotlib/backends/backend_agg.py:214: RuntimeWarning: Glyph 49324 missing from current font.\n",
            "  font.set_text(s, 0.0, flags=flags)\n",
            "/usr/local/lib/python3.7/dist-packages/matplotlib/backends/backend_agg.py:214: RuntimeWarning: Glyph 50857 missing from current font.\n",
            "  font.set_text(s, 0.0, flags=flags)\n",
            "/usr/local/lib/python3.7/dist-packages/matplotlib/backends/backend_agg.py:183: RuntimeWarning: Glyph 50640 missing from current font.\n",
            "  font.set_text(s, 0, flags=flags)\n",
            "/usr/local/lib/python3.7/dist-packages/matplotlib/backends/backend_agg.py:183: RuntimeWarning: Glyph 45320 missing from current font.\n",
            "  font.set_text(s, 0, flags=flags)\n",
            "/usr/local/lib/python3.7/dist-packages/matplotlib/backends/backend_agg.py:183: RuntimeWarning: Glyph 51648 missing from current font.\n",
            "  font.set_text(s, 0, flags=flags)\n",
            "/usr/local/lib/python3.7/dist-packages/matplotlib/backends/backend_agg.py:183: RuntimeWarning: Glyph 49324 missing from current font.\n",
            "  font.set_text(s, 0, flags=flags)\n",
            "/usr/local/lib/python3.7/dist-packages/matplotlib/backends/backend_agg.py:183: RuntimeWarning: Glyph 50857 missing from current font.\n",
            "  font.set_text(s, 0, flags=flags)\n"
          ]
        },
        {
          "output_type": "display_data",
          "data": {
            "image/png": "[encoded data removed]",
            "text/plain": [
              "<Figure size 534.25x432 with 1 Axes>"
            ]
          },
          "metadata": {
            "needs_background": "light"
          }
        }
      ]
    },
    {
      "cell_type": "code",
      "metadata": {
        "id": "hAGhdgN6ErJT"
      },
      "source": [
        "kmeans2 = KMeans(n_clusters = 6,max_iter=10000,random_state=42)\n",
        "kind_of_work_label2 = kmeans2.fit_predict(ftr_vect1)"
      ],
      "execution_count": null,
      "outputs": []
    },
    {
      "cell_type": "code",
      "metadata": {
        "id": "Mg3X0Jmlbtvh"
      },
      "source": [
        "df_result['kind_of_work_label2'] = kind_of_work_label2"
      ],
      "execution_count": null,
      "outputs": []
    },
    {
      "cell_type": "code",
      "metadata": {
        "colab": {
          "base_uri": "https://localhost:8080/",
          "height": 1000
        },
        "id": "S0E8cJnQbXuA",
        "outputId": "08913f9f-44a0-4627-9616-b62051e65606"
      },
      "source": [
        "sns.lmplot(x = '온실가스 배출량(tCO2)',y = '에너지 사용량(TJ)',data=df_result,fit_reg=False,size=6, hue='kind_of_work_label2')\n",
        "plt.show()"
      ],
      "execution_count": null,
      "outputs": [
        {
          "output_type": "stream",
          "name": "stderr",
          "text": [
            "/usr/local/lib/python3.7/dist-packages/seaborn/regression.py:580: UserWarning: The `size` parameter has been renamed to `height`; please update your code.\n",
            "  warnings.warn(msg, UserWarning)\n",
            "/usr/local/lib/python3.7/dist-packages/matplotlib/backends/backend_agg.py:214: RuntimeWarning: Glyph 50728 missing from current font.\n",
            "  font.set_text(s, 0.0, flags=flags)\n",
            "/usr/local/lib/python3.7/dist-packages/matplotlib/backends/backend_agg.py:214: RuntimeWarning: Glyph 49892 missing from current font.\n",
            "  font.set_text(s, 0.0, flags=flags)\n",
            "/usr/local/lib/python3.7/dist-packages/matplotlib/backends/backend_agg.py:214: RuntimeWarning: Glyph 44032 missing from current font.\n",
            "  font.set_text(s, 0.0, flags=flags)\n",
            "/usr/local/lib/python3.7/dist-packages/matplotlib/backends/backend_agg.py:214: RuntimeWarning: Glyph 49828 missing from current font.\n",
            "  font.set_text(s, 0.0, flags=flags)\n",
            "/usr/local/lib/python3.7/dist-packages/matplotlib/backends/backend_agg.py:214: RuntimeWarning: Glyph 48176 missing from current font.\n",
            "  font.set_text(s, 0.0, flags=flags)\n",
            "/usr/local/lib/python3.7/dist-packages/matplotlib/backends/backend_agg.py:214: RuntimeWarning: Glyph 52636 missing from current font.\n",
            "  font.set_text(s, 0.0, flags=flags)\n",
            "/usr/local/lib/python3.7/dist-packages/matplotlib/backends/backend_agg.py:214: RuntimeWarning: Glyph 47049 missing from current font.\n",
            "  font.set_text(s, 0.0, flags=flags)\n",
            "/usr/local/lib/python3.7/dist-packages/matplotlib/backends/backend_agg.py:183: RuntimeWarning: Glyph 50728 missing from current font.\n",
            "  font.set_text(s, 0, flags=flags)\n",
            "/usr/local/lib/python3.7/dist-packages/matplotlib/backends/backend_agg.py:183: RuntimeWarning: Glyph 49892 missing from current font.\n",
            "  font.set_text(s, 0, flags=flags)\n",
            "/usr/local/lib/python3.7/dist-packages/matplotlib/backends/backend_agg.py:183: RuntimeWarning: Glyph 44032 missing from current font.\n",
            "  font.set_text(s, 0, flags=flags)\n",
            "/usr/local/lib/python3.7/dist-packages/matplotlib/backends/backend_agg.py:183: RuntimeWarning: Glyph 49828 missing from current font.\n",
            "  font.set_text(s, 0, flags=flags)\n",
            "/usr/local/lib/python3.7/dist-packages/matplotlib/backends/backend_agg.py:183: RuntimeWarning: Glyph 48176 missing from current font.\n",
            "  font.set_text(s, 0, flags=flags)\n",
            "/usr/local/lib/python3.7/dist-packages/matplotlib/backends/backend_agg.py:183: RuntimeWarning: Glyph 52636 missing from current font.\n",
            "  font.set_text(s, 0, flags=flags)\n",
            "/usr/local/lib/python3.7/dist-packages/matplotlib/backends/backend_agg.py:183: RuntimeWarning: Glyph 47049 missing from current font.\n",
            "  font.set_text(s, 0, flags=flags)\n",
            "/usr/local/lib/python3.7/dist-packages/matplotlib/backends/backend_agg.py:214: RuntimeWarning: Glyph 50640 missing from current font.\n",
            "  font.set_text(s, 0.0, flags=flags)\n",
            "/usr/local/lib/python3.7/dist-packages/matplotlib/backends/backend_agg.py:214: RuntimeWarning: Glyph 45320 missing from current font.\n",
            "  font.set_text(s, 0.0, flags=flags)\n",
            "/usr/local/lib/python3.7/dist-packages/matplotlib/backends/backend_agg.py:214: RuntimeWarning: Glyph 51648 missing from current font.\n",
            "  font.set_text(s, 0.0, flags=flags)\n",
            "/usr/local/lib/python3.7/dist-packages/matplotlib/backends/backend_agg.py:214: RuntimeWarning: Glyph 49324 missing from current font.\n",
            "  font.set_text(s, 0.0, flags=flags)\n",
            "/usr/local/lib/python3.7/dist-packages/matplotlib/backends/backend_agg.py:214: RuntimeWarning: Glyph 50857 missing from current font.\n",
            "  font.set_text(s, 0.0, flags=flags)\n",
            "/usr/local/lib/python3.7/dist-packages/matplotlib/backends/backend_agg.py:183: RuntimeWarning: Glyph 50640 missing from current font.\n",
            "  font.set_text(s, 0, flags=flags)\n",
            "/usr/local/lib/python3.7/dist-packages/matplotlib/backends/backend_agg.py:183: RuntimeWarning: Glyph 45320 missing from current font.\n",
            "  font.set_text(s, 0, flags=flags)\n",
            "/usr/local/lib/python3.7/dist-packages/matplotlib/backends/backend_agg.py:183: RuntimeWarning: Glyph 51648 missing from current font.\n",
            "  font.set_text(s, 0, flags=flags)\n",
            "/usr/local/lib/python3.7/dist-packages/matplotlib/backends/backend_agg.py:183: RuntimeWarning: Glyph 49324 missing from current font.\n",
            "  font.set_text(s, 0, flags=flags)\n",
            "/usr/local/lib/python3.7/dist-packages/matplotlib/backends/backend_agg.py:183: RuntimeWarning: Glyph 50857 missing from current font.\n",
            "  font.set_text(s, 0, flags=flags)\n"
          ]
        },
        {
          "output_type": "display_data",
          "data": {
            "image/png": "[encoded data removed]",
            "text/plain": [
              "<Figure size 540.625x432 with 1 Axes>"
            ]
          },
          "metadata": {
            "needs_background": "light"
          }
        }
      ]
    },
    {
      "cell_type": "code",
      "metadata": {
        "id": "IyLWxWh-by_S"
      },
      "source": [
        ""
      ],
      "execution_count": null,
      "outputs": []
    }
  ]
}