{
  "nbformat": 4,
  "nbformat_minor": 0,
  "metadata": {
    "colab": {
      "name": "CLSF_IMPRV_top5_sorting.ipynb",
      "provenance": [],
      "collapsed_sections": [
        "VooziBGkp1-d",
        "zjWrtemsadP5"
      ],
      "authorship_tag": "ABX9TyPD8Qy+HC4nx6sGo755zLgc",
      "include_colab_link": true
    },
    "kernelspec": {
      "name": "python3",
      "display_name": "Python 3"
    },
    "language_info": {
      "name": "python"
    }
  },
  "cells": [
    {
      "cell_type": "markdown",
      "metadata": {
        "id": "view-in-github",
        "colab_type": "text"
      },
      "source": [
        "<a href=\"https://colab.research.google.com/github/creamcheesesteak/Project_Guardians/blob/master/project/ML/ML_b/CLSF_IMPRV_top5_sorting.ipynb\" target=\"_parent\"><img src=\"https://colab.research.google.com/assets/colab-badge.svg\" alt=\"Open In Colab\"/></a>"
      ]
    },
    {
      "cell_type": "markdown",
      "metadata": {
        "id": "VooziBGkp1-d"
      },
      "source": [
        "# 한글폰트"
      ]
    },
    {
      "cell_type": "code",
      "metadata": {
        "colab": {
          "base_uri": "https://localhost:8080/"
        },
        "id": "kCbyY0A4o8Ya",
        "outputId": "7261aed6-4262-4504-ea5c-55efd389dbf7"
      },
      "source": [
        "# 폰트 설치\n",
        "!sudo apt-get install -y fonts-nanum\n",
        "!sudo fc-cache -fv\n",
        "!rm ~/.cache/matplotlib -rf"
      ],
      "execution_count": null,
      "outputs": [
        {
          "output_type": "stream",
          "name": "stdout",
          "text": [
            "Reading package lists... Done\n",
            "Building dependency tree       \n",
            "Reading state information... Done\n",
            "fonts-nanum is already the newest version (20170925-1).\n",
            "0 upgraded, 0 newly installed, 0 to remove and 90 not upgraded.\n",
            "/usr/share/fonts: caching, new cache contents: 0 fonts, 1 dirs\n",
            "/usr/share/fonts/truetype: caching, new cache contents: 0 fonts, 3 dirs\n",
            "/usr/share/fonts/truetype/humor-sans: caching, new cache contents: 1 fonts, 0 dirs\n",
            "/usr/share/fonts/truetype/liberation: caching, new cache contents: 16 fonts, 0 dirs\n",
            "/usr/share/fonts/truetype/nanum: caching, new cache contents: 31 fonts, 0 dirs\n",
            "/usr/local/share/fonts: caching, new cache contents: 0 fonts, 0 dirs\n",
            "/root/.local/share/fonts: skipping, no such directory\n",
            "/root/.fonts: skipping, no such directory\n",
            "/var/cache/fontconfig: cleaning cache directory\n",
            "/root/.cache/fontconfig: not cleaning non-existent cache directory\n",
            "/root/.fontconfig: not cleaning non-existent cache directory\n",
            "fc-cache: succeeded\n"
          ]
        }
      ]
    },
    {
      "cell_type": "code",
      "metadata": {
        "id": "FHBzTOqpqFPk"
      },
      "source": [
        "# 시각화 모듈 임포트\n",
        "import matplotlib.pyplot as plt\n",
        "import seaborn as sns\n",
        "import matplotlib\n",
        "from matplotlib import font_manager, rc\n",
        "\n",
        "# colab 내 그래프를 바로 그리기 위한 설정\n",
        "%matplotlib inline\n",
        "\n",
        "# unicode minus를 사용하지 않기 위한 설정 (minus 깨짐현상 방지)\n",
        "plt.rcParams['axes.unicode_minus'] = False\n",
        "\n",
        "# font 적용\n",
        "plt.rc('font', family = 'NanumBarunGothic')\n",
        "\n",
        "# ggplot 으로 그래프 스타일 설정\n",
        "plt.style.use('ggplot')\n",
        "\n",
        "# 레티나 설정 : 글자가 흐릿하게 보이는 현상 방지\n",
        "%config InlineBackend.figure_format = 'retina'"
      ],
      "execution_count": null,
      "outputs": []
    },
    {
      "cell_type": "code",
      "metadata": {
        "id": "wBeAdNtpqF8H"
      },
      "source": [
        "# warning 방지\n",
        "import warnings  \n",
        "warnings.filterwarnings(action = 'ignore')"
      ],
      "execution_count": null,
      "outputs": []
    },
    {
      "cell_type": "markdown",
      "metadata": {
        "id": "MVnAKaRVp4zR"
      },
      "source": [
        "# 전처리 ( 컬럼 8개 통합 )"
      ]
    },
    {
      "cell_type": "code",
      "metadata": {
        "id": "nbxN4UsIG5zW"
      },
      "source": [
        "import pandas as pd\n",
        "import matplotlib.pyplot as plt\n",
        "import seaborn as sns"
      ],
      "execution_count": null,
      "outputs": []
    },
    {
      "cell_type": "code",
      "metadata": {
        "id": "0qz84PKdHBZx"
      },
      "source": [
        "df_tech2 = pd.read_csv('에너지_및_온실가스_감축기술.csv')"
      ],
      "execution_count": null,
      "outputs": []
    },
    {
      "cell_type": "code",
      "metadata": {
        "id": "RY8_CgFCLe4C"
      },
      "source": [
        "df_tech = pd.read_csv('(컬럼보존)에너지_및_온실가스_감축기술.csv',encoding = 'cp949')"
      ],
      "execution_count": null,
      "outputs": []
    },
    {
      "cell_type": "code",
      "metadata": {
        "colab": {
          "base_uri": "https://localhost:8080/",
          "height": 134
        },
        "id": "k-UYJcHOIkwZ",
        "outputId": "c7436d9f-1c8e-4957-879c-e4c22d79f086"
      },
      "source": [
        "df_tech2.head(1)"
      ],
      "execution_count": null,
      "outputs": [
        {
          "output_type": "execute_result",
          "data": {
            "text/html": [
              "<div>\n",
              "<style scoped>\n",
              "    .dataframe tbody tr th:only-of-type {\n",
              "        vertical-align: middle;\n",
              "    }\n",
              "\n",
              "    .dataframe tbody tr th {\n",
              "        vertical-align: top;\n",
              "    }\n",
              "\n",
              "    .dataframe thead th {\n",
              "        text-align: right;\n",
              "    }\n",
              "</style>\n",
              "<table border=\"1\" class=\"dataframe\">\n",
              "  <thead>\n",
              "    <tr style=\"text-align: right;\">\n",
              "      <th></th>\n",
              "      <th>NO</th>\n",
              "      <th>INDUTY</th>\n",
              "      <th>TRGT_EQMT</th>\n",
              "      <th>CLSF_IMPRV</th>\n",
              "      <th>IMPRV_ACT</th>\n",
              "      <th>ROI_PD</th>\n",
              "      <th>ROI_PD_UNIT</th>\n",
              "      <th>RDC_COST</th>\n",
              "      <th>RDC_COST_UNIT</th>\n",
              "      <th>INVST_COST</th>\n",
              "      <th>INVST_COST_UNIT</th>\n",
              "      <th>DGN_YR</th>\n",
              "      <th>ENG_CNSM_SCL</th>\n",
              "      <th>RDC_ENG_SORT</th>\n",
              "      <th>AMNT_RDC_ENG_FUEL</th>\n",
              "      <th>AMNT_RDC_ENG_FUEL_UNIT</th>\n",
              "      <th>AMNT_RDC_ENG_ELTC</th>\n",
              "      <th>AMNT_RDC_ENG_ELTC_UNIT</th>\n",
              "      <th>AMNT_RDC_GHG</th>\n",
              "      <th>AMNT_RDC_GHG_UNIT</th>\n",
              "    </tr>\n",
              "  </thead>\n",
              "  <tbody>\n",
              "    <tr>\n",
              "      <th>0</th>\n",
              "      <td>1</td>\n",
              "      <td>폐기물</td>\n",
              "      <td>공기 압축기 설비</td>\n",
              "      <td>신설비도입</td>\n",
              "      <td>VSD 공기압축기 도입</td>\n",
              "      <td>5.0</td>\n",
              "      <td>yr</td>\n",
              "      <td>3.0</td>\n",
              "      <td>백만원/yr</td>\n",
              "      <td>15.0</td>\n",
              "      <td>백만원</td>\n",
              "      <td>2020</td>\n",
              "      <td>5천toe 이하</td>\n",
              "      <td>전기(소비기준)</td>\n",
              "      <td>0.0</td>\n",
              "      <td>toe/yr</td>\n",
              "      <td>6.6</td>\n",
              "      <td>toe/yr</td>\n",
              "      <td>3.6</td>\n",
              "      <td>tCO₂/yr</td>\n",
              "    </tr>\n",
              "  </tbody>\n",
              "</table>\n",
              "</div>"
            ],
            "text/plain": [
              "   NO INDUTY  TRGT_EQMT  ... AMNT_RDC_ENG_ELTC_UNIT AMNT_RDC_GHG  AMNT_RDC_GHG_UNIT\n",
              "0   1    폐기물  공기 압축기 설비  ...                 toe/yr          3.6            tCO₂/yr\n",
              "\n",
              "[1 rows x 20 columns]"
            ]
          },
          "metadata": {},
          "execution_count": 4
        }
      ]
    },
    {
      "cell_type": "code",
      "metadata": {
        "colab": {
          "base_uri": "https://localhost:8080/",
          "height": 265
        },
        "id": "ueh0s6g4ImtT",
        "outputId": "4396cec3-5b16-4c8a-aa82-b7f8c2c34d08"
      },
      "source": [
        "# plt.scatter(df_tech2['AMNT_RDC_GHG'],df_tech2['AMNT_RDC_ENG_ELTC'], c=df_tech2['AMNT_RDC_ENG_FUEL'])\n",
        "# plt.show()"
      ],
      "execution_count": null,
      "outputs": [
        {
          "output_type": "display_data",
          "data": {
            "image/png": "[encoded data removed]",
            "text/plain": [
              "<Figure size 432x288 with 1 Axes>"
            ]
          },
          "metadata": {
            "needs_background": "light"
          }
        }
      ]
    },
    {
      "cell_type": "code",
      "metadata": {
        "colab": {
          "base_uri": "https://localhost:8080/"
        },
        "id": "1By6rk4vJIio",
        "outputId": "c6f410d3-024a-4916-ff42-147c2966addf"
      },
      "source": [
        "df_tech2['CLSF_IMPRV'].value_counts().head(50)"
      ],
      "execution_count": null,
      "outputs": [
        {
          "output_type": "execute_result",
          "data": {
            "text/plain": [
              "회전수제어설비도입        5820\n",
              "운전방법개선           5523\n",
              "신설비도입            3964\n",
              "절전형조명설비개체        3435\n",
              "공기비조정            2763\n",
              "운전관리             2345\n",
              "노후설비대체           2152\n",
              "보온강화             2121\n",
              "적정용량화            2107\n",
              "열회수-폐가스          1841\n",
              "적정압력관리           1532\n",
              "고효율전동기설치         1532\n",
              "배공기열회수           1307\n",
              "역률개선             1306\n",
              "운전대수조정           1217\n",
              "조명개선             1201\n",
              "설비대체             1174\n",
              "기타설비보완           1137\n",
              "적정온도관리           1136\n",
              "부속장치교쳬및보완        1089\n",
              "전기기타             1060\n",
              "폐열회수              971\n",
              "관리방법개선            757\n",
              "열회수-응축수           700\n",
              "적정유량관리            651\n",
              "기존설비통폐합           645\n",
              "공정개선              593\n",
              "보온단열강화            591\n",
              "열회수-폐수            521\n",
              "설비보완              479\n",
              "조명제어시스템도입         426\n",
              "열회수-배증기           411\n",
              "자동제어시스템도입         385\n",
              "누증.누설방지           337\n",
              "최대부하 또는 부하율관리     284\n",
              "열회수-냉각수           257\n",
              "부속장치교체및보완         244\n",
              "모터절전기도입           241\n",
              "최대전력관리장치설치        237\n",
              "공운전방지             197\n",
              "적정배관및교체           173\n",
              "건물부문              157\n",
              "연료대체              155\n",
              "적정전압관리            139\n",
              "불완전연소방지           100\n",
              "불필요개소 소등           95\n",
              "트랩교체               90\n",
              "열원대체               81\n",
              "절전형안정기개체           74\n",
              "자연채광이용             70\n",
              "Name: CLSF_IMPRV, dtype: int64"
            ]
          },
          "metadata": {},
          "execution_count": 10
        }
      ]
    },
    {
      "cell_type": "code",
      "metadata": {
        "colab": {
          "base_uri": "https://localhost:8080/"
        },
        "id": "cyuVYLvVLNfl",
        "outputId": "c5a10f2f-44d0-47b5-a175-8d3ddb7bbcd7"
      },
      "source": [
        "df_tech2['CLSF_IMPRV'].value_counts().tail(50)"
      ],
      "execution_count": null,
      "outputs": [
        {
          "output_type": "execute_result",
          "data": {
            "text/plain": [
              "건물부문            157\n",
              "연료대체            155\n",
              "적정전압관리          139\n",
              "불완전연소방지         100\n",
              "불필요개소 소등         95\n",
              "트랩교체             90\n",
              "열원대체             81\n",
              "절전형안정기개체         74\n",
              "자연채광이용           70\n",
              "조업개선             66\n",
              "기타(분류불가)         65\n",
              "환기량 조정           53\n",
              "조도적정화            52\n",
              "열회수-제품현열         52\n",
              "벽단열              50\n",
              "조업공정개선기타         42\n",
              "생산성향상            38\n",
              "실온조정             36\n",
              "공법개선             36\n",
              "고조도반사갓설치         35\n",
              "폐공기+폐가스          26\n",
              "가스-유류            21\n",
              "유류-전기            20\n",
              "차압발전도입           20\n",
              "세관               18\n",
              "스팀터어빈            18\n",
              "회로분리             16\n",
              "조업(냉난방)시간조정      15\n",
              "심야전력도입           14\n",
              "열회수-제품형          13\n",
              "공급전압방식적정화        11\n",
              "지붕단열             11\n",
              "계측설비보강           10\n",
              "흡수식냉온수기도입        10\n",
              "전기-전기            10\n",
              "환기량조정             8\n",
              "빙축열도입             8\n",
              "전기-연료             7\n",
              "유류-유류             6\n",
              "가스터어빈             6\n",
              "열병합도입 기타          5\n",
              "전기-가스             3\n",
              "냉난방시간조정           3\n",
              "유류-폐기물            3\n",
              "이중창화              3\n",
              "전격방지기설치           2\n",
              "운전관리 합리화(전기)      2\n",
              "유류-목재             2\n",
              "조명개선(전기)          1\n",
              "전기-유류             1\n",
              "Name: CLSF_IMPRV, dtype: int64"
            ]
          },
          "metadata": {},
          "execution_count": 14
        }
      ]
    },
    {
      "cell_type": "code",
      "metadata": {
        "colab": {
          "base_uri": "https://localhost:8080/"
        },
        "id": "EKQtwG7cKhSw",
        "outputId": "0038d21d-f861-49c6-b56f-9ddd7e21a10b"
      },
      "source": [
        "for i in df_tech2['CLSF_IMPRV']:\n",
        "  if i == '전기-유류':\n",
        "    print(len(i))"
      ],
      "execution_count": null,
      "outputs": [
        {
          "output_type": "stream",
          "name": "stdout",
          "text": [
            "5\n"
          ]
        }
      ]
    },
    {
      "cell_type": "code",
      "metadata": {
        "id": "qSXIRh8pOLkF"
      },
      "source": [
        "df_tech2[df_tech2['CLSF_IMPRV'].isin(['전기-유류'])]"
      ],
      "execution_count": null,
      "outputs": []
    },
    {
      "cell_type": "code",
      "metadata": {
        "colab": {
          "base_uri": "https://localhost:8080/"
        },
        "id": "7yE9-vunMDpC",
        "outputId": "0c1ada72-ac95-4c2a-f8ec-c4cd2ffe96d1"
      },
      "source": [
        "df_tech2.iloc[4]"
      ],
      "execution_count": null,
      "outputs": [
        {
          "output_type": "execute_result",
          "data": {
            "text/plain": [
              "NO                                      5\n",
              "INDUTY                                건축물\n",
              "TRGT_EQMT                    냉동 및 열-펌프 설비\n",
              "CLSF_IMPRV                         노후설비대체\n",
              "IMPRV_ACT                 골프장 흡수식 냉온수기 교체\n",
              "ROI_PD                                  5\n",
              "ROI_PD_UNIT                            yr\n",
              "RDC_COST                               10\n",
              "RDC_COST_UNIT                      백만원/yr\n",
              "INVST_COST                             50\n",
              "INVST_COST_UNIT                       백만원\n",
              "DGN_YR                               2020\n",
              "ENG_CNSM_SCL                5천teo ~ 1만toe\n",
              "RDC_ENG_SORT                         전기기타\n",
              "AMNT_RDC_ENG_FUEL                    37.3\n",
              "AMNT_RDC_ENG_FUEL_UNIT             toe/yr\n",
              "AMNT_RDC_ENG_ELTC                   -11.9\n",
              "AMNT_RDC_ENG_ELTC_UNIT             toe/yr\n",
              "AMNT_RDC_GHG                         17.4\n",
              "AMNT_RDC_GHG_UNIT                 tCO₂/yr\n",
              "Name: 4, dtype: object"
            ]
          },
          "metadata": {},
          "execution_count": 29
        }
      ]
    },
    {
      "cell_type": "code",
      "metadata": {
        "colab": {
          "base_uri": "https://localhost:8080/"
        },
        "id": "dlbW8Hv4OyKz",
        "outputId": "1aedb8b7-c96e-4fb0-b6f2-091be79739f7"
      },
      "source": [
        "df_tech['업종'].unique()"
      ],
      "execution_count": null,
      "outputs": [
        {
          "output_type": "execute_result",
          "data": {
            "text/plain": [
              "array(['폐기물', '제조업 기타', '식품', '요업', '건축물', '화학 / 석유화학', '섬유/ 피혁', '철강',\n",
              "       '수송기계', '전기전자 (반도체 디스플레이 포함)', '기계', '제지목재', '발전 / 에너지 - 수도', '정유',\n",
              "       '발전 / 에너지 - 가스', '농업, 임업 및 어업', '시멘트', '비철금속', '수송', '광업'],\n",
              "      dtype=object)"
            ]
          },
          "metadata": {},
          "execution_count": 36
        }
      ]
    },
    {
      "cell_type": "code",
      "metadata": {
        "colab": {
          "base_uri": "https://localhost:8080/"
        },
        "id": "C6jlnzikPdgn",
        "outputId": "d9dddb40-5919-4a58-fea4-60546b92821e"
      },
      "source": [
        "df_tech['업종'].unique().size"
      ],
      "execution_count": null,
      "outputs": [
        {
          "output_type": "execute_result",
          "data": {
            "text/plain": [
              "20"
            ]
          },
          "metadata": {},
          "execution_count": 64
        }
      ]
    },
    {
      "cell_type": "markdown",
      "metadata": {
        "id": "7Jt5j3tmPKHP"
      },
      "source": [
        "'농업, 임업 및 어업',  \n",
        "'광업',   \n",
        "'제조업',   \n",
        "'전기, 가스, 증기 및 수도사업',    \n",
        " '하수폐기처리원료재생환경복원',              \n",
        " '건설업',  \n",
        " '도매 및 소매업',   \n",
        " '운수업'  "
      ]
    },
    {
      "cell_type": "markdown",
      "metadata": {
        "id": "WfOraTEOPkiw"
      },
      "source": [
        "'폐기물',  \n",
        "'제조업 기타',   \n",
        "'식품',   \n",
        "'요업',   \n",
        "'건축물',   \n",
        "'화학 / 석유화학',   \n",
        "'섬유/ 피혁',   \n",
        "'철강',  \n",
        " '수송기계',   \n",
        " '전기전자 (반도체 디스플레이 포함)',   \n",
        " '기계',   \n",
        " '제지목재',   \n",
        " '발전 / 에너지 - 수도',   \n",
        " '정유',  \n",
        " '발전 / 에너지 - 가스',   \n",
        " '농업, 임업 및 어업',   \n",
        " '시멘트',   \n",
        " '비철금속',   \n",
        " '수송',   \n",
        " '광업'  "
      ]
    },
    {
      "cell_type": "code",
      "metadata": {
        "id": "Wp6OuYUpabuM"
      },
      "source": [
        "# '농업, 임업 및 어업',                                            '농업, 임업 및 어업'\n",
        "# '광업',                                                          '광업',  '비철금속'\n",
        "# '제조업',                                                        '제조업 기타',  '전기전자 (반도체 디스플레이 포함)', '요업' , '화학 / 석유화학',\n",
        "#                                                                  '기계'\n",
        "# '전기, 가스, 증기 및 수도사업',                                  '발전 / 에너지 - 수도', '발전 / 에너지 - 가스'\n",
        "# '하수폐기처리원료재생환경복원',                                  '폐기물', '정유'\n",
        "# '건설업',                                                        '건축물', '철강', '제지목재', '시멘트'\n",
        "# '도매 및 소매업',                                                '식품', '섬유/ 피혁' \n",
        "# '운수업'                                                         '수송', '수송기계'"
      ],
      "execution_count": null,
      "outputs": []
    },
    {
      "cell_type": "code",
      "metadata": {
        "id": "lI9RIz54PCvb"
      },
      "source": [
        "# '농업, 임업 및 어업' -> 변환 불필요\n",
        "\n",
        "# 광업\n",
        "df_tech.loc[df_tech['업종'] == '비철금속', '업종'] = '광업'\n",
        "df_tech.loc[df_tech['업종'] == '철강', '업종'] = '광업'\n",
        "\n",
        "# 제조업\n",
        "df_tech.loc[df_tech['업종'] == '제조업 기타', '업종'] = '제조업'\n",
        "df_tech.loc[df_tech['업종'] == '전기전자 (반도체 디스플레이 포함)', '업종'] = '제조업'\n",
        "df_tech.loc[df_tech['업종'] == '요업', '업종'] = '제조업'\n",
        "df_tech.loc[df_tech['업종'] == '화학 / 석유화학', '업종'] = '제조업'\n",
        "df_tech.loc[df_tech['업종'] == '기계', '업종'] = '제조업'\n",
        "\n",
        "# 전기, 가스, 증기 및 수도사업\n",
        "df_tech.loc[df_tech['업종'] == '발전 / 에너지 - 수도', '업종'] = '전기, 가스, 증기 및 수도사업'\n",
        "df_tech.loc[df_tech['업종'] == '발전 / 에너지 - 가스', '업종'] = '전기, 가스, 증기 및 수도사업'\n",
        "\n",
        "# 하수폐기처리원료재생환경복원\n",
        "df_tech.loc[df_tech['업종'] == '폐기물', '업종'] = '하수폐기처리원료재생환경복원'\n",
        "df_tech.loc[df_tech['업종'] == '정유', '업종'] = '하수폐기처리원료재생환경복원'\n",
        "\n",
        "# 건설업 \n",
        "df_tech.loc[df_tech['업종'] == '건축물', '업종'] = '건설업'\n",
        "df_tech.loc[df_tech['업종'] == '제지목재', '업종'] = '건설업'\n",
        "df_tech.loc[df_tech['업종'] == '시멘트', '업종'] = '건설업'\n",
        "\n",
        "# 도매 및 소매업\n",
        "df_tech.loc[df_tech['업종'] == '식품', '업종'] = '도매 및 소매업'\n",
        "df_tech.loc[df_tech['업종'] == '섬유/ 피혁', '업종'] = '도매 및 소매업'\n",
        "\n",
        "# 운수업     \n",
        "df_tech.loc[df_tech['업종'] == '수송', '업종'] = '운수업'\n",
        "df_tech.loc[df_tech['업종'] == '수송기계', '업종'] = '운수업'\n"
      ],
      "execution_count": null,
      "outputs": []
    },
    {
      "cell_type": "code",
      "metadata": {
        "colab": {
          "base_uri": "https://localhost:8080/"
        },
        "id": "pCpUbh1Kcwjv",
        "outputId": "730d9e93-bb66-49ac-8c2d-5d89937fd69e"
      },
      "source": [
        "df_tech['업종'].value_counts()"
      ],
      "execution_count": null,
      "outputs": [
        {
          "output_type": "execute_result",
          "data": {
            "text/plain": [
              "제조업                  22059\n",
              "건설업                  12996\n",
              "도매 및 소매업              7499\n",
              "광업                    5521\n",
              "운수업                   4175\n",
              "하수폐기처리원료재생환경복원        1189\n",
              "전기, 가스, 증기 및 수도사업      421\n",
              "농업, 임업 및 어업             22\n",
              "Name: 업종, dtype: int64"
            ]
          },
          "metadata": {},
          "execution_count": 66
        }
      ]
    },
    {
      "cell_type": "code",
      "metadata": {
        "colab": {
          "base_uri": "https://localhost:8080/"
        },
        "id": "BVkQMKb9eOQP",
        "outputId": "c344c472-3762-4e32-bc7d-2b60af34a95c"
      },
      "source": [
        "df_tech['업종'].value_counts()"
      ],
      "execution_count": null,
      "outputs": [
        {
          "output_type": "execute_result",
          "data": {
            "text/plain": [
              "건축물                    10470\n",
              "화학 / 석유화학               7439\n",
              "철강                      5404\n",
              "전기전자 (반도체 디스플레이 포함)     4759\n",
              "식품                      4580\n",
              "수송기계                    4162\n",
              "기계                      3450\n",
              "제조업 기타                  3344\n",
              "요업                      3067\n",
              "섬유/ 피혁                  2919\n",
              "제지목재                    2363\n",
              "폐기물                      711\n",
              "정유                       478\n",
              "발전 / 에너지 - 수도            376\n",
              "시멘트                      163\n",
              "비철금속                      88\n",
              "발전 / 에너지 - 가스             45\n",
              "광업                        29\n",
              "농업, 임업 및 어업               22\n",
              "수송                        13\n",
              "Name: 업종, dtype: int64"
            ]
          },
          "metadata": {},
          "execution_count": 62
        }
      ]
    },
    {
      "cell_type": "code",
      "metadata": {
        "id": "MUBxrfJog4QP"
      },
      "source": [
        "df_tech.to_csv('(업종8개+전처리)에너지_및_온실가스_감축기술.csv', encoding='cp949', index = False)"
      ],
      "execution_count": null,
      "outputs": []
    },
    {
      "cell_type": "markdown",
      "metadata": {
        "id": "oGDNiNdsp7pg"
      },
      "source": [
        "# 탑3 sorting"
      ]
    },
    {
      "cell_type": "code",
      "metadata": {
        "id": "KBimQgexDyw-"
      },
      "source": [
        "import pandas as pd"
      ],
      "execution_count": 2,
      "outputs": []
    },
    {
      "cell_type": "code",
      "metadata": {
        "id": "d7DO4xtxj3aV"
      },
      "source": [
        "df_tech_edit = pd.read_csv('(업종8개+전처리)에너지_및_온실가스_감축기술.csv', encoding='cp949')"
      ],
      "execution_count": 3,
      "outputs": []
    },
    {
      "cell_type": "code",
      "metadata": {
        "colab": {
          "base_uri": "https://localhost:8080/"
        },
        "id": "qYPW2WOCj87c",
        "outputId": "7070d654-374a-44f7-9eaa-648998a60ca3"
      },
      "source": [
        "df_tech_edit.info()"
      ],
      "execution_count": 4,
      "outputs": [
        {
          "output_type": "stream",
          "name": "stdout",
          "text": [
            "<class 'pandas.core.frame.DataFrame'>\n",
            "RangeIndex: 53882 entries, 0 to 53881\n",
            "Data columns (total 20 columns):\n",
            " #   Column       Non-Null Count  Dtype  \n",
            "---  ------       --------------  -----  \n",
            " 0   연번           53882 non-null  int64  \n",
            " 1   업종           53882 non-null  object \n",
            " 2   감축 대상 설비     53882 non-null  object \n",
            " 3   개선 구분        53882 non-null  object \n",
            " 4   개선활동명        53882 non-null  object \n",
            " 5   투자비 회수기간     53882 non-null  float64\n",
            " 6   투자비 회수기간 단위  53882 non-null  object \n",
            " 7   절감액          53882 non-null  float64\n",
            " 8   절감액 단위       53882 non-null  object \n",
            " 9   투자비          53882 non-null  float64\n",
            " 10  투자비 단위       53882 non-null  object \n",
            " 11  진단 연도        53882 non-null  int64  \n",
            " 12  에너지 사용량 규모   53882 non-null  object \n",
            " 13  에너지 절감 종류    53882 non-null  object \n",
            " 14  에너지 절감량(연료)  53882 non-null  float64\n",
            " 15  연료 단위        53882 non-null  object \n",
            " 16  에너지 절감량(전력)  53882 non-null  float64\n",
            " 17  전력 단위        53882 non-null  object \n",
            " 18  온실가스 감축량     53882 non-null  float64\n",
            " 19  감축량 단위       53882 non-null  object \n",
            "dtypes: float64(6), int64(2), object(12)\n",
            "memory usage: 8.2+ MB\n"
          ]
        }
      ]
    },
    {
      "cell_type": "markdown",
      "metadata": {
        "id": "f6fTDFK2MkdF"
      },
      "source": [
        "## 상관관계 분석"
      ]
    },
    {
      "cell_type": "code",
      "metadata": {
        "id": "4aUcIAz6kA5L"
      },
      "source": [
        "df_corr = df_tech_edit.corr()"
      ],
      "execution_count": null,
      "outputs": []
    },
    {
      "cell_type": "code",
      "metadata": {
        "colab": {
          "base_uri": "https://localhost:8080/",
          "height": 657
        },
        "id": "BB8NOEkumwSw",
        "outputId": "306238a6-2acd-4a15-952c-066686b41a3c"
      },
      "source": [
        "plt.figure(figsize=(10, 10))\n",
        "sns.set(font=\"NanumBarunGothic\", font_scale=0.8)\n",
        "sns.heatmap(df_corr, annot=True, cbar=False);\n",
        "plt.show()"
      ],
      "execution_count": null,
      "outputs": [
        {
          "output_type": "display_data",
          "data": {
            "image/png": "[encoded data removed]",
            "text/plain": [
              "<Figure size 720x720 with 1 Axes>"
            ]
          },
          "metadata": {
            "image/png": {
              "width": 654,
              "height": 640
            }
          }
        }
      ]
    },
    {
      "cell_type": "code",
      "metadata": {
        "colab": {
          "base_uri": "https://localhost:8080/"
        },
        "id": "pdIg_rFMmyEv",
        "outputId": "f2a845ca-6c44-4ae2-e5c0-94cbe2a76266"
      },
      "source": [
        "corr_order = df_corr.loc[:'에너지 절감량(연료)', '온실가스 감축량'].abs().sort_values(ascending=False)\n",
        "corr_order"
      ],
      "execution_count": null,
      "outputs": [
        {
          "output_type": "execute_result",
          "data": {
            "text/plain": [
              "에너지 절감량(연료)    0.769951\n",
              "절감액            0.702666\n",
              "투자비            0.555400\n",
              "투자비 회수기간       0.012489\n",
              "연번             0.011208\n",
              "진단 연도          0.000376\n",
              "Name: 온실가스 감축량, dtype: float64"
            ]
          },
          "metadata": {},
          "execution_count": 8
        }
      ]
    },
    {
      "cell_type": "markdown",
      "metadata": {
        "id": "3Z9ZHLqZMoCc"
      },
      "source": [
        "## 개선 구분 컬럼 자세히보기"
      ]
    },
    {
      "cell_type": "code",
      "metadata": {
        "colab": {
          "base_uri": "https://localhost:8080/"
        },
        "id": "R7SA-QnpnIS7",
        "outputId": "12f87926-dcb4-456b-d43a-268cfe889886"
      },
      "source": [
        "df_tech_edit['개선 구분'].unique()"
      ],
      "execution_count": null,
      "outputs": [
        {
          "output_type": "execute_result",
          "data": {
            "text/plain": [
              "array(['신설비도입', '운전방법개선', '노후설비대체', '기존설비통폐합', '기타(분류불가)', '절전형조명설비개체',\n",
              "       '조명개선', '고효율전동기설치', '조명제어시스템도입', '흡수식냉온수기도입', '운전관리', '부속장치교체및보완',\n",
              "       '자연채광이용', '설비대체', '전기기타', '회전수제어설비도입', '보온강화', '운전대수조정', '공기비조정',\n",
              "       '열회수-응축수', '보온단열강화', '적정온도관리', '적정압력관리', '지붕단열', '적정용량화', '기타설비보완',\n",
              "       '열회수-배증기', '배공기열회수', '관리방법개선', '건물부문', '역률개선', '열회수-폐가스', '폐열회수',\n",
              "       '벽단열', '설비보완', '공정개선', '절전형안정기개체', '적정전압관리', '부속장치교쳬및보완',\n",
              "       '자동제어시스템도입', '심야전력도입', '고조도반사갓설치', '트랩교체', '열회수-냉각수', '적정유량관리',\n",
              "       '스팀터어빈', '모터절전기도입', '열회수-폐수', '열원대체', '최대부하 또는 부하율관리',\n",
              "       '최대전력관리장치설치', '환기량 조정', '유류-전기', '차압발전도입', '실온조정', '생산성향상',\n",
              "       '공운전방지', '적정배관및교체', '연료대체', '불완전연소방지', '불필요개소 소등', '가스터어빈',\n",
              "       '가스-유류', '열회수-제품현열', '전기-연료', '열회수-제품형', '조업공정개선기타', '공급전압방식적정화',\n",
              "       '열병합도입 기타', '계측설비보강', '공법개선', '전격방지기설치', '누증.누설방지', '빙축열도입',\n",
              "       '조업(냉난방)시간조정', '폐공기+폐가스', '조도적정화', '전기-가스', '조업개선', '세관', '유류-유류',\n",
              "       '이중창화', '전기-전기', '유류-폐기물', '회로분리', '유류-목재', '운전관리 합리화(전기)',\n",
              "       '전기-유류', '환기량조정', '냉난방시간조정'], dtype=object)"
            ]
          },
          "metadata": {},
          "execution_count": 14
        }
      ]
    },
    {
      "cell_type": "code",
      "metadata": {
        "id": "8M4IGgRbyXF3",
        "colab": {
          "base_uri": "https://localhost:8080/"
        },
        "outputId": "d271f2ed-4410-42b7-ef8b-060c57036d1a"
      },
      "source": [
        "df_tech_edit['개선 구분'].value_counts().head(50)"
      ],
      "execution_count": 6,
      "outputs": [
        {
          "output_type": "execute_result",
          "data": {
            "text/plain": [
              "회전수제어설비도입        5685\n",
              "운전방법개선           5358\n",
              "신설비도입            3799\n",
              "절전형조명설비개체        3341\n",
              "공기비조정            2591\n",
              "운전관리             2263\n",
              "노후설비대체           2106\n",
              "적정용량화            2052\n",
              "보온강화             1968\n",
              "열회수-폐가스          1765\n",
              "적정압력관리           1496\n",
              "고효율전동기설치         1408\n",
              "배공기열회수           1252\n",
              "조명개선             1189\n",
              "운전대수조정           1163\n",
              "설비대체             1138\n",
              "기타설비보완           1119\n",
              "적정온도관리           1106\n",
              "부속장치교쳬및보완        1074\n",
              "역률개선             1027\n",
              "전기기타              982\n",
              "폐열회수              916\n",
              "관리방법개선            720\n",
              "열회수-응축수           646\n",
              "적정유량관리            640\n",
              "기존설비통폐합           621\n",
              "보온단열강화            576\n",
              "공정개선              560\n",
              "열회수-폐수            487\n",
              "설비보완              464\n",
              "조명제어시스템도입         410\n",
              "열회수-배증기           383\n",
              "자동제어시스템도입         365\n",
              "누증.누설방지           302\n",
              "열회수-냉각수           240\n",
              "부속장치교체및보완         234\n",
              "모터절전기도입           232\n",
              "공운전방지             191\n",
              "적정배관및교체           166\n",
              "건물부문              153\n",
              "최대부하 또는 부하율관리     142\n",
              "적정전압관리            134\n",
              "연료대체              114\n",
              "불완전연소방지            95\n",
              "불필요개소 소등           92\n",
              "트랩교체               80\n",
              "열원대체               79\n",
              "최대전력관리장치설치         75\n",
              "절전형안정기개체           68\n",
              "자연채광이용             67\n",
              "Name: 개선 구분, dtype: int64"
            ]
          },
          "metadata": {},
          "execution_count": 6
        }
      ]
    },
    {
      "cell_type": "code",
      "metadata": {
        "colab": {
          "base_uri": "https://localhost:8080/"
        },
        "id": "L8SmAaGIEkkf",
        "outputId": "91b4781a-d113-4b15-cf9b-88e7bcc9fe1f"
      },
      "source": [
        "df_tech_edit['개선 구분'].value_counts().tail(50)"
      ],
      "execution_count": 7,
      "outputs": [
        {
          "output_type": "execute_result",
          "data": {
            "text/plain": [
              "최대부하 또는 부하율관리    142\n",
              "적정전압관리           134\n",
              "연료대체             114\n",
              "불완전연소방지           95\n",
              "불필요개소 소등          92\n",
              "트랩교체              80\n",
              "열원대체              79\n",
              "최대전력관리장치설치        75\n",
              "절전형안정기개체          68\n",
              "자연채광이용            67\n",
              "조업개선              63\n",
              "기타(분류불가)          56\n",
              "환기량 조정            52\n",
              "열회수-제품현열          50\n",
              "조도적정화             49\n",
              "벽단열               49\n",
              "조업공정개선기타          41\n",
              "생산성향상             38\n",
              "실온조정              35\n",
              "공법개선              33\n",
              "고조도반사갓설치          33\n",
              "폐공기+폐가스           25\n",
              "차압발전도입            20\n",
              "스팀터어빈             18\n",
              "세관                18\n",
              "가스-유류             17\n",
              "회로분리              16\n",
              "열회수-제품형           13\n",
              "조업(냉난방)시간조정       12\n",
              "유류-전기             12\n",
              "공급전압방식적정화         11\n",
              "흡수식냉온수기도입         10\n",
              "전기-전기              9\n",
              "계측설비보강             8\n",
              "지붕단열               8\n",
              "전기-연료              7\n",
              "환기량조정              7\n",
              "가스터어빈              6\n",
              "열병합도입 기타           5\n",
              "빙축열도입              5\n",
              "전기-가스              3\n",
              "이중창화               3\n",
              "심야전력도입             3\n",
              "냉난방시간조정            3\n",
              "전격방지기설치            2\n",
              "유류-유류              2\n",
              "유류-목재              2\n",
              "운전관리 합리화(전기)       2\n",
              "유류-폐기물             1\n",
              "전기-유류              1\n",
              "Name: 개선 구분, dtype: int64"
            ]
          },
          "metadata": {},
          "execution_count": 7
        }
      ]
    },
    {
      "cell_type": "markdown",
      "metadata": {
        "id": "PiG_6kRjMvET"
      },
      "source": [
        "## 업종별 탑3"
      ]
    },
    {
      "cell_type": "markdown",
      "metadata": {
        "id": "zjWrtemsadP5"
      },
      "source": [
        "### 시도1"
      ]
    },
    {
      "cell_type": "code",
      "metadata": {
        "colab": {
          "base_uri": "https://localhost:8080/"
        },
        "id": "JF8ABWaqICYL",
        "outputId": "1937dc00-ddf0-4517-ef99-dea13380b931"
      },
      "source": [
        "#df_sol_1['업종'].value_counts()"
      ],
      "execution_count": 24,
      "outputs": [
        {
          "output_type": "execute_result",
          "data": {
            "text/plain": [
              "제조업                  2633\n",
              "건설업                  1163\n",
              "도매 및 소매업              673\n",
              "광업                    641\n",
              "운수업                   380\n",
              "하수폐기처리원료재생환경복원        154\n",
              "전기, 가스, 증기 및 수도사업      36\n",
              "농업, 임업 및 어업             5\n",
              "Name: 업종, dtype: int64"
            ]
          },
          "metadata": {},
          "execution_count": 24
        }
      ]
    },
    {
      "cell_type": "code",
      "metadata": {
        "id": "VRf2186vs_Be"
      },
      "source": [
        "# df_sol_1 = df_tech_edit[df_tech_edit['개선 구분'] == '회전수제어설비도입']\n",
        "# df_sol_1_건설업  = df_sol_1[]\n",
        "# -----------------------------------------------------------------------------------------------\n",
        "\n",
        "# 업종별로 나누기\n",
        "\n",
        "df_sol_제조업 = df_tech_edit[df_tech_edit['업종']=='제조업']\n",
        "df_sol_건설업 = df_tech_edit[df_tech_edit['업종']=='건설업']\n",
        "df_sol_도매_및_소매업 = df_tech_edit[df_tech_edit['업종']=='도매 및 소매업']\n",
        "df_sol_광업 = df_tech_edit[df_tech_edit['업종']=='광업']\n",
        "df_sol_운수업 = df_tech_edit[df_tech_edit['업종']=='운수업']\n",
        "df_sol_하수폐기처리원료재생환경복원 = df_tech_edit[df_tech_edit['업종']=='하수폐기처리원료재생환경복원']\n",
        "df_sol_전기_가스_증기_및_수도사업 = df_tech_edit[df_tech_edit['업종']=='전기, 가스, 증기 및 수도사업']\n",
        "df_sol_농업_임업_및_어업 = df_tech_edit[df_tech_edit['업종']=='농업, 임업 및 어업']"
      ],
      "execution_count": 37,
      "outputs": []
    },
    {
      "cell_type": "code",
      "metadata": {
        "colab": {
          "base_uri": "https://localhost:8080/"
        },
        "id": "LYDkTfAMNLdF",
        "outputId": "16ae8189-4f74-44db-e908-7f5339761338"
      },
      "source": [
        "# 잘 들어갔나 확인\n",
        "\n",
        "print( df_sol_제조업['업종'].value_counts(),\n",
        "      df_sol_건설업['업종'].value_counts(),\n",
        "      df_sol_도매_및_소매업['업종'].value_counts(),\n",
        "      df_sol_광업['업종'].value_counts(),\n",
        "      df_sol_운수업['업종'].value_counts(),\n",
        "      df_sol_하수폐기처리원료재생환경복원['업종'].value_counts(),\n",
        "      df_sol_전기_가스_증기_및_수도사업['업종'].value_counts(),\n",
        "      df_sol_농업_임업_및_어업['업종'].value_counts(), sep='\\n\\n')"
      ],
      "execution_count": 46,
      "outputs": [
        {
          "output_type": "stream",
          "name": "stdout",
          "text": [
            "제조업    22059\n",
            "Name: 업종, dtype: int64\n",
            "\n",
            "건설업    12996\n",
            "Name: 업종, dtype: int64\n",
            "\n",
            "도매 및 소매업    7499\n",
            "Name: 업종, dtype: int64\n",
            "\n",
            "광업    5521\n",
            "Name: 업종, dtype: int64\n",
            "\n",
            "운수업    4175\n",
            "Name: 업종, dtype: int64\n",
            "\n",
            "하수폐기처리원료재생환경복원    1189\n",
            "Name: 업종, dtype: int64\n",
            "\n",
            "전기, 가스, 증기 및 수도사업    421\n",
            "Name: 업종, dtype: int64\n",
            "\n",
            "농업, 임업 및 어업    22\n",
            "Name: 업종, dtype: int64\n"
          ]
        }
      ]
    },
    {
      "cell_type": "code",
      "metadata": {
        "colab": {
          "base_uri": "https://localhost:8080/"
        },
        "id": "dKFgYSndMYXp",
        "outputId": "626965f9-71c1-4556-82fa-4e613976e5a8"
      },
      "source": [
        "# 잘 들어갔나 확인 (위랑 비교)\n",
        "df_tech_edit['업종'].value_counts()"
      ],
      "execution_count": 40,
      "outputs": [
        {
          "output_type": "execute_result",
          "data": {
            "text/plain": [
              "제조업                  22059\n",
              "건설업                  12996\n",
              "도매 및 소매업              7499\n",
              "광업                    5521\n",
              "운수업                   4175\n",
              "하수폐기처리원료재생환경복원        1189\n",
              "전기, 가스, 증기 및 수도사업      421\n",
              "농업, 임업 및 어업             22\n",
              "Name: 업종, dtype: int64"
            ]
          },
          "metadata": {},
          "execution_count": 40
        }
      ]
    },
    {
      "cell_type": "code",
      "metadata": {
        "id": "A03zsDtdI6l1"
      },
      "source": [
        " df_sol_제조업.sort_values(by=['온실가스 감축량','감축 대상 설비','에너지 절감량(연료)','절감액'], ascending=[False,False,False,False]).head(5)"
      ],
      "execution_count": null,
      "outputs": []
    },
    {
      "cell_type": "code",
      "metadata": {
        "id": "raXLSPjSOsf_"
      },
      "source": [
        "df_sol_건설업.sort_values(by=['온실가스 감축량','감축 대상 설비','에너지 절감량(연료)','절감액'], ascending=[False,False,False,False]).head(5)"
      ],
      "execution_count": 69,
      "outputs": []
    },
    {
      "cell_type": "code",
      "metadata": {
        "id": "44qNxRxvQPFe"
      },
      "source": [
        "df_sol_도매_및_소매업.sort_values(by=['온실가스 감축량','감축 대상 설비','에너지 절감량(연료)','절감액'], ascending=[False,False,False,False]).head(5)"
      ],
      "execution_count": 70,
      "outputs": []
    },
    {
      "cell_type": "code",
      "metadata": {
        "id": "g94WRh7pQWmk"
      },
      "source": [
        "df_sol_광업.sort_values(by=['온실가스 감축량','감축 대상 설비','에너지 절감량(연료)','절감액'], ascending=[False,False,False,False]).head(5)"
      ],
      "execution_count": 72,
      "outputs": []
    },
    {
      "cell_type": "code",
      "metadata": {
        "id": "FGE-yIAsQiLc"
      },
      "source": [
        "df_sol_운수업.sort_values(by=['온실가스 감축량','감축 대상 설비','에너지 절감량(연료)','절감액'], ascending=[False,False,False,False]).head(5)"
      ],
      "execution_count": 73,
      "outputs": []
    },
    {
      "cell_type": "code",
      "metadata": {
        "id": "RyNceTKrQj0j"
      },
      "source": [
        "df_sol_하수폐기처리원료재생환경복원.sort_values(by=['온실가스 감축량','감축 대상 설비','에너지 절감량(연료)','절감액'], ascending=[False,False,False,False]).head(5)"
      ],
      "execution_count": 74,
      "outputs": []
    },
    {
      "cell_type": "code",
      "metadata": {
        "id": "ZAnegk8fQljl"
      },
      "source": [
        "df_sol_전기_가스_증기_및_수도사업.sort_values(by=['온실가스 감축량','감축 대상 설비','에너지 절감량(연료)','절감액'], ascending=[False,False,False,False]).head(5)"
      ],
      "execution_count": 75,
      "outputs": []
    },
    {
      "cell_type": "code",
      "metadata": {
        "id": "vj9Vs-KCQm69"
      },
      "source": [
        "df_sol_농업_임업_및_어업.sort_values(by=['온실가스 감축량','감축 대상 설비','에너지 절감량(연료)','절감액'], ascending=[False,False,False,False]).head(5)"
      ],
      "execution_count": 76,
      "outputs": []
    },
    {
      "cell_type": "code",
      "metadata": {
        "id": "UsM3QjSzTsGS"
      },
      "source": [
        "# 따로 넣기\n",
        "\n",
        "df_sort_제조업 = df_sol_제조업.sort_values(by=['온실가스 감축량','감축 대상 설비','에너지 절감량(연료)','절감액'], ascending=[False,False,False,False]).head(5)\n",
        "df_sort_건설업 = df_sol_건설업.sort_values(by=['온실가스 감축량','감축 대상 설비','에너지 절감량(연료)','절감액'], ascending=[False,False,False,False]).head(5)\n",
        "df_sort_도매_및_소매업 = df_sol_도매_및_소매업.sort_values(by=['온실가스 감축량','감축 대상 설비','에너지 절감량(연료)','절감액'], ascending=[False,False,False,False]).head(5)\n",
        "df_sort_광업 = df_sol_광업.sort_values(by=['온실가스 감축량','감축 대상 설비','에너지 절감량(연료)','절감액'], ascending=[False,False,False,False]).head(5)\n",
        "df_sort_운수업 =df_sol_운수업.sort_values(by=['온실가스 감축량','감축 대상 설비','에너지 절감량(연료)','절감액'], ascending=[False,False,False,False]).head(5)\n",
        "df_sort_하수폐기처리원료재생환경복원 = df_sol_하수폐기처리원료재생환경복원.sort_values(by=['온실가스 감축량','감축 대상 설비','에너지 절감량(연료)','절감액'], ascending=[False,False,False,False]).head(5)\n",
        "df_sort_전기_가스_증기_및_수도사업 = df_sol_전기_가스_증기_및_수도사업.sort_values(by=['온실가스 감축량','감축 대상 설비','에너지 절감량(연료)','절감액'], ascending=[False,False,False,False]).head(5)\n",
        "df_sort_농업_임업_및_어업 = df_sol_농업_임업_및_어업.sort_values(by=['온실가스 감축량','감축 대상 설비','에너지 절감량(연료)','절감액'], ascending=[False,False,False,False]).head(5)"
      ],
      "execution_count": null,
      "outputs": []
    },
    {
      "cell_type": "code",
      "metadata": {
        "colab": {
          "base_uri": "https://localhost:8080/"
        },
        "id": "BdsiaTy0Q1cP",
        "outputId": "b53c6c99-a5f0-4c55-9f53-c56d64f7f82b"
      },
      "source": [
        "print(df_sort_제조업,\n",
        "      df_sort_건설업,\n",
        "      df_sort_도매_및_소매업,\n",
        "      df_sort_광업,\n",
        "      df_sort_운수업,\n",
        "      df_sort_하수폐기처리원료재생환경복원,\n",
        "      df_sort_전기_가스_증기_및_수도사업,\n",
        "      df_sort_농업_임업_및_어업, sep='\\n\\n\\n')"
      ],
      "execution_count": 82,
      "outputs": [
        {
          "output_type": "stream",
          "name": "stdout",
          "text": [
            "          연번   업종   감축 대상 설비    개선 구분  ... 에너지 절감량(전력)   전력 단위   온실가스 감축량   감축량 단위\n",
            "29969  31300  제조업  열사용설비(기타)     운전관리  ...     11087.3  toe/yr  154652.80  tCO₂/yr\n",
            "42278  44240  제조업          로    신설비도입  ...         0.0  toe/yr   39622.50  tCO₂/yr\n",
            "5262    5525  제조업  수.발.배전 설비  폐공기+폐가스  ...     62197.0  toe/yr   34695.11  tCO₂/yr\n",
            "46224  48414  제조업  열사용설비(기타)     공정개선  ...         0.0  toe/yr   29757.54  tCO₂/yr\n",
            "40265  42104  제조업  열사용설비(기타)    신설비도입  ...    -43922.0  toe/yr   24452.81  tCO₂/yr\n",
            "\n",
            "[5 rows x 20 columns]\n",
            "\n",
            "\n",
            "          연번   업종     감축 대상 설비    개선 구분  ... 에너지 절감량(전력)   전력 단위 온실가스 감축량   감축량 단위\n",
            "11867  12402  건설업    수.발.배전 설비  열회수-폐가스  ...    16569.75  toe/yr  9397.30  tCO₂/yr\n",
            "45554  47707  건설업            요     보온강화  ...        0.00  toe/yr  6889.95  tCO₂/yr\n",
            "14529  15159  건설업  열사용설비(반응기류)    전기-연료  ...    -6140.40  toe/yr  5077.46  tCO₂/yr\n",
            "48847  51189  건설업          보일러     연료대체  ...        0.00  toe/yr  4046.00  tCO₂/yr\n",
            "19829  20692  건설업          보일러  열회수-폐가스  ...     -180.60  toe/yr  3945.40  tCO₂/yr\n",
            "\n",
            "[5 rows x 20 columns]\n",
            "\n",
            "\n",
            "          연번        업종     감축 대상 설비  ...   전력 단위 온실가스 감축량   감축량 단위\n",
            "9957   10421  도매 및 소매업          보일러  ...  toe/yr  7078.00  tCO₂/yr\n",
            "51574  54069  도매 및 소매업          보일러  ...  toe/yr  4085.61  tCO₂/yr\n",
            "49667  52051  도매 및 소매업  열사용설비(반응기류)  ...  toe/yr  2615.00  tCO₂/yr\n",
            "22547  23534  도매 및 소매업  열사용설비(염색기류)  ...  toe/yr  2393.38  tCO₂/yr\n",
            "5481    5753  도매 및 소매업  열사용설비(반응기류)  ...  toe/yr  1299.17  tCO₂/yr\n",
            "\n",
            "[5 rows x 20 columns]\n",
            "\n",
            "\n",
            "          연번  업종 감축 대상 설비  개선 구분  ... 에너지 절감량(전력)   전력 단위  온실가스 감축량   감축량 단위\n",
            "26101  27262  광업        로   폐열회수  ...         0.0  toe/yr  31837.00  tCO₂/yr\n",
            "19640  20496  광업        로   폐열회수  ...         0.0  toe/yr  15971.90  tCO₂/yr\n",
            "35490  37082  광업        로   폐열회수  ...         0.0  toe/yr  13592.40  tCO₂/yr\n",
            "24589  25675  광업        로  신설비도입  ...         0.0  toe/yr   9698.13  tCO₂/yr\n",
            "9141    9561  광업        로   폐열회수  ...         0.0  toe/yr   9395.80  tCO₂/yr\n",
            "\n",
            "[5 rows x 20 columns]\n",
            "\n",
            "\n",
            "          연번   업종   감축 대상 설비      개선 구분  ... 에너지 절감량(전력)   전력 단위 온실가스 감축량   감축량 단위\n",
            "1627    1723  운수업      조명 설비       조명개선  ...     9334.30  toe/yr  5206.92  tCO₂/yr\n",
            "36196  37838  운수업      요로 설비       공정개선  ...     3290.20  toe/yr  1655.62  tCO₂/yr\n",
            "6928    7268  운수업      조명 설비  절전형조명설비개체  ...     2215.11  toe/yr  1235.65  tCO₂/yr\n",
            "29163  30458  운수업  공기 압축기 설비     운전방법개선  ...     2289.74  toe/yr  1231.13  tCO₂/yr\n",
            "1871    1976  운수업        보일러    열회수-배증기  ...        0.00  toe/yr  1037.87  tCO₂/yr\n",
            "\n",
            "[5 rows x 20 columns]\n",
            "\n",
            "\n",
            "          연번              업종     감축 대상 설비  ...   전력 단위 온실가스 감축량   감축량 단위\n",
            "37771  39489  하수폐기처리원료재생환경복원  열사용설비(반응기류)  ...  toe/yr  24103.0  tCO₂/yr\n",
            "2946    3111  하수폐기처리원료재생환경복원  열사용설비(반응기류)  ...  toe/yr  20268.3  tCO₂/yr\n",
            "13748  14349  하수폐기처리원료재생환경복원    열사용설비(기타)  ...  toe/yr  19145.0  tCO₂/yr\n",
            "39572  41386  하수폐기처리원료재생환경복원  열사용설비(반응기류)  ...  toe/yr  15806.0  tCO₂/yr\n",
            "26904  28103  하수폐기처리원료재생환경복원    열사용설비(기타)  ...  toe/yr  15006.0  tCO₂/yr\n",
            "\n",
            "[5 rows x 20 columns]\n",
            "\n",
            "\n",
            "          연번                 업종 감축 대상 설비  ...   전력 단위 온실가스 감축량   감축량 단위\n",
            "34647  36209  전기, 가스, 증기 및 수도사업    펌프 설비  ...  toe/yr  1699.05  tCO₂/yr\n",
            "49886  52291  전기, 가스, 증기 및 수도사업    펌프 설비  ...  toe/yr  1212.00  tCO₂/yr\n",
            "38211  39957  전기, 가스, 증기 및 수도사업    펌프 설비  ...  toe/yr   974.52  tCO₂/yr\n",
            "29073  30367  전기, 가스, 증기 및 수도사업    펌프 설비  ...  toe/yr   648.44  tCO₂/yr\n",
            "3554    3750  전기, 가스, 증기 및 수도사업    펌프 설비  ...  toe/yr   360.78  tCO₂/yr\n",
            "\n",
            "[5 rows x 20 columns]\n",
            "\n",
            "\n",
            "          연번           업종      감축 대상 설비  ...   전력 단위 온실가스 감축량   감축량 단위\n",
            "1147    1213  농업, 임업 및 어업  냉동 및 열-펌프 설비  ...  toe/yr    44.49  tCO₂/yr\n",
            "16599  17306  농업, 임업 및 어업         펌프 설비  ...  toe/yr    42.12  tCO₂/yr\n",
            "37364  39060  농업, 임업 및 어업     공기 압축기 설비  ...  toe/yr    35.36  tCO₂/yr\n",
            "14558  15189  농업, 임업 및 어업  냉동 및 열-펌프 설비  ...  toe/yr    35.07  tCO₂/yr\n",
            "12023  12565  농업, 임업 및 어업         펌프 설비  ...  toe/yr    33.23  tCO₂/yr\n",
            "\n",
            "[5 rows x 20 columns]\n"
          ]
        }
      ]
    },
    {
      "cell_type": "code",
      "metadata": {
        "colab": {
          "base_uri": "https://localhost:8080/"
        },
        "id": "yPSxfHIQTH5G",
        "outputId": "ad824fbd-249f-422f-e843-2d94b49d49f3"
      },
      "source": [
        "df_sol_전기_가스_증기_및_수도사업['감축 대상 설비'].value_counts()"
      ],
      "execution_count": 80,
      "outputs": [
        {
          "output_type": "execute_result",
          "data": {
            "text/plain": [
              "펌프 설비           210\n",
              "조명 설비            53\n",
              "기타전기설비           37\n",
              "공기 압축기 설비        24\n",
              "수.발.배전 설비        23\n",
              "동력설비             22\n",
              "보일러              12\n",
              "송풍기 설비            9\n",
              "열사용설비(기타)         9\n",
              "로                 7\n",
              "공조기 설비            5\n",
              "열사용 설비            4\n",
              "냉동 및 열-펌프 설비      4\n",
              "일반 생산 전력 설비       1\n",
              "열사용설비             1\n",
              "Name: 감축 대상 설비, dtype: int64"
            ]
          },
          "metadata": {},
          "execution_count": 80
        }
      ]
    },
    {
      "cell_type": "code",
      "metadata": {
        "colab": {
          "base_uri": "https://localhost:8080/"
        },
        "id": "aw2Wk2pVU8GT",
        "outputId": "20205938-67b2-42e4-868f-253b83965807"
      },
      "source": [
        "df_sol_건설업['감축 대상 설비']"
      ],
      "execution_count": 85,
      "outputs": [
        {
          "output_type": "execute_result",
          "data": {
            "text/plain": [
              "4        냉동 및 열-펌프 설비\n",
              "16              조명 설비\n",
              "19             기타전기설비\n",
              "23       냉동 및 열-펌프 설비\n",
              "25              펌프 설비\n",
              "             ...     \n",
              "53876           펌프 설비\n",
              "53878             보일러\n",
              "53879           펌프 설비\n",
              "53880             보일러\n",
              "53881             보일러\n",
              "Name: 감축 대상 설비, Length: 12996, dtype: object"
            ]
          },
          "metadata": {},
          "execution_count": 85
        }
      ]
    },
    {
      "cell_type": "markdown",
      "metadata": {
        "id": "3jiWgzFAaA2B"
      },
      "source": [
        "### 시도2 (됨)"
      ]
    },
    {
      "cell_type": "code",
      "metadata": {
        "id": "JtDkoeidaQLO"
      },
      "source": [
        "df_sol_제조업.sort_values(by=['온실가스 감축량','에너지 절감량(연료)','절감액','감축 대상 설비'], ascending=[False,False,False,False]).head(5)"
      ],
      "execution_count": null,
      "outputs": []
    },
    {
      "cell_type": "code",
      "metadata": {
        "id": "n8Pn8vk5VGsH"
      },
      "source": [
        "# df_sol_temp = df_sol_제조업.sort_values(by=['온실가스 감축량','감축 대상 설비','에너지 절감량(연료)','절감액'], ascending=[False,False,False,False])\n",
        "# df_sol_temp = df_sol_temp.drop_duplicates(['감축 대상 설비'], keep = 'first',inplace=False)\n",
        "# df_sol_temp = df_sol_temp.head(5)\n",
        "\n",
        "# print(df_sol_temp)"
      ],
      "execution_count": null,
      "outputs": []
    },
    {
      "cell_type": "code",
      "metadata": {
        "id": "bAvO9O5Ma1z7"
      },
      "source": [
        "df_sort_제조업2 = df_sol_제조업.sort_values(by=['온실가스 감축량','에너지 절감량(연료)','절감액','감축 대상 설비'], ascending=[False,False,False,False])\n",
        "df_sort_제조업2 = df_sort_제조업2.drop_duplicates(['감축 대상 설비'], keep = 'first',inplace=False)\n",
        "df_sort_제조업2 = df_sort_제조업2.head(5)"
      ],
      "execution_count": 101,
      "outputs": []
    },
    {
      "cell_type": "code",
      "metadata": {
        "id": "_fdeCrHIa4pO"
      },
      "source": [
        "df_sort_건설업2 = df_sol_건설업.sort_values(by=['온실가스 감축량','에너지 절감량(연료)','절감액','감축 대상 설비'], ascending=[False,False,False,False])\n",
        "df_sort_건설업2 = df_sort_건설업2.drop_duplicates(['감축 대상 설비'], keep = 'first',inplace=False)\n",
        "df_sort_건설업2 = df_sort_건설업2.head(5)"
      ],
      "execution_count": 102,
      "outputs": []
    },
    {
      "cell_type": "code",
      "metadata": {
        "id": "_cQhGXFZa5C_"
      },
      "source": [
        "df_sort_도매_및_소매업2 = df_sol_도매_및_소매업.sort_values(by=['온실가스 감축량','에너지 절감량(연료)','절감액','감축 대상 설비'], ascending=[False,False,False,False])\n",
        "df_sort_도매_및_소매업2 = df_sort_도매_및_소매업2.drop_duplicates(['감축 대상 설비'], keep = 'first',inplace=False)\n",
        "df_sort_도매_및_소매업2 = df_sort_도매_및_소매업2.head(5)"
      ],
      "execution_count": 103,
      "outputs": []
    },
    {
      "cell_type": "code",
      "metadata": {
        "id": "d6hduEIua5fj"
      },
      "source": [
        "df_sort_광업2 = df_sol_광업.sort_values(by=['온실가스 감축량','에너지 절감량(연료)','절감액','감축 대상 설비'], ascending=[False,False,False,False])\n",
        "df_sort_광업2 = df_sort_광업2.drop_duplicates(['감축 대상 설비'], keep = 'first',inplace=False)\n",
        "df_sort_광업2 = df_sort_광업2.head(5)"
      ],
      "execution_count": 104,
      "outputs": []
    },
    {
      "cell_type": "code",
      "metadata": {
        "id": "czIFVPJFa52v"
      },
      "source": [
        "df_sort_운수업2 = df_sol_운수업.sort_values(by=['온실가스 감축량','에너지 절감량(연료)','절감액','감축 대상 설비'], ascending=[False,False,False,False])\n",
        "df_sort_운수업2 = df_sort_운수업2.drop_duplicates(['감축 대상 설비'], keep = 'first',inplace=False)\n",
        "df_sort_운수업2 = df_sort_운수업2.head(5)"
      ],
      "execution_count": 105,
      "outputs": []
    },
    {
      "cell_type": "code",
      "metadata": {
        "id": "GOva5QLYa6KI"
      },
      "source": [
        "df_sort_하수폐기처리원료재생환경복원2 = df_sol_하수폐기처리원료재생환경복원.sort_values(by=['온실가스 감축량','에너지 절감량(연료)','절감액','감축 대상 설비'], ascending=[False,False,False,False])\n",
        "df_sort_하수폐기처리원료재생환경복원2 = df_sort_하수폐기처리원료재생환경복원2.drop_duplicates(['감축 대상 설비'], keep = 'first',inplace=False)\n",
        "df_sort_하수폐기처리원료재생환경복원2 = df_sort_하수폐기처리원료재생환경복원2.head(5)"
      ],
      "execution_count": 106,
      "outputs": []
    },
    {
      "cell_type": "code",
      "metadata": {
        "id": "KR227za3a6dR"
      },
      "source": [
        "df_sort_전기_가스_증기_및_수도사업2 = df_sol_전기_가스_증기_및_수도사업.sort_values(by=['온실가스 감축량','에너지 절감량(연료)','절감액','감축 대상 설비'], ascending=[False,False,False,False])\n",
        "df_sort_전기_가스_증기_및_수도사업2 = df_sort_전기_가스_증기_및_수도사업2.drop_duplicates(['감축 대상 설비'], keep = 'first',inplace=False)\n",
        "df_sort_전기_가스_증기_및_수도사업2 = df_sort_전기_가스_증기_및_수도사업2.head(5)"
      ],
      "execution_count": 107,
      "outputs": []
    },
    {
      "cell_type": "code",
      "metadata": {
        "id": "rqb4ZLxxb10-"
      },
      "source": [
        "df_sort_농업_임업_및_어업2 = df_sol_농업_임업_및_어업.sort_values(by=['온실가스 감축량','에너지 절감량(연료)','절감액','감축 대상 설비'], ascending=[False,False,False,False])\n",
        "df_sort_농업_임업_및_어업2 = df_sort_농업_임업_및_어업2.drop_duplicates(['감축 대상 설비'], keep = 'first',inplace=False)\n",
        "df_sort_농업_임업_및_어업2 = df_sort_농업_임업_및_어업2.head(5)"
      ],
      "execution_count": 108,
      "outputs": []
    },
    {
      "cell_type": "code",
      "metadata": {
        "colab": {
          "base_uri": "https://localhost:8080/"
        },
        "id": "xpDMv0DXbCDk",
        "outputId": "89017f67-d69a-4fbd-836b-bf977f5be4cf"
      },
      "source": [
        "print(df_sort_제조업2,\n",
        "      df_sort_건설업2,\n",
        "      df_sort_도매_및_소매업2,\n",
        "      df_sort_광업2,\n",
        "      df_sort_운수업2,\n",
        "      df_sort_하수폐기처리원료재생환경복원2,\n",
        "      df_sort_전기_가스_증기_및_수도사업2,\n",
        "      df_sort_농업_임업_및_어업2, sep='\\n\\n\\n')"
      ],
      "execution_count": 109,
      "outputs": [
        {
          "output_type": "stream",
          "name": "stdout",
          "text": [
            "          연번   업종   감축 대상 설비    개선 구분  ... 에너지 절감량(전력)   전력 단위   온실가스 감축량   감축량 단위\n",
            "29969  31300  제조업  열사용설비(기타)     운전관리  ...     11087.3  toe/yr  154652.80  tCO₂/yr\n",
            "42278  44240  제조업          로    신설비도입  ...         0.0  toe/yr   39622.50  tCO₂/yr\n",
            "5262    5525  제조업  수.발.배전 설비  폐공기+폐가스  ...     62197.0  toe/yr   34695.11  tCO₂/yr\n",
            "39959  41784  제조업  공기 압축기 설비    신설비도입  ...     41749.3  toe/yr   22788.92  tCO₂/yr\n",
            "45848  48016  제조업          요     운전관리  ...         0.0  toe/yr   20559.26  tCO₂/yr\n",
            "\n",
            "[5 rows x 20 columns]\n",
            "\n",
            "\n",
            "          연번   업종     감축 대상 설비    개선 구분  ... 에너지 절감량(전력)   전력 단위 온실가스 감축량   감축량 단위\n",
            "11867  12402  건설업    수.발.배전 설비  열회수-폐가스  ...    16569.75  toe/yr  9397.30  tCO₂/yr\n",
            "45554  47707  건설업            요     보온강화  ...        0.00  toe/yr  6889.95  tCO₂/yr\n",
            "14529  15159  건설업  열사용설비(반응기류)    전기-연료  ...    -6140.40  toe/yr  5077.46  tCO₂/yr\n",
            "48847  51189  건설업          보일러     연료대체  ...        0.00  toe/yr  4046.00  tCO₂/yr\n",
            "46842  49077  건설업  열사용설비(건조기류)  열회수-배증기  ...       45.40  toe/yr  3886.00  tCO₂/yr\n",
            "\n",
            "[5 rows x 20 columns]\n",
            "\n",
            "\n",
            "          연번        업종     감축 대상 설비  ...   전력 단위 온실가스 감축량   감축량 단위\n",
            "9957   10421  도매 및 소매업          보일러  ...  toe/yr  7078.00  tCO₂/yr\n",
            "49667  52051  도매 및 소매업  열사용설비(반응기류)  ...  toe/yr  2615.00  tCO₂/yr\n",
            "22547  23534  도매 및 소매업  열사용설비(염색기류)  ...  toe/yr  2393.38  tCO₂/yr\n",
            "6577    6899  도매 및 소매업    수.발.배전 설비  ...  toe/yr  1077.72  tCO₂/yr\n",
            "45272  47405  도매 및 소매업    열사용설비(기타)  ...  toe/yr  1037.64  tCO₂/yr\n",
            "\n",
            "[5 rows x 20 columns]\n",
            "\n",
            "\n",
            "          연번  업종   감축 대상 설비   개선 구분  ... 에너지 절감량(전력)   전력 단위  온실가스 감축량   감축량 단위\n",
            "26101  27262  광업          로    폐열회수  ...        0.00  toe/yr  31837.00  tCO₂/yr\n",
            "46323  48520  광업     기타전기설비    공정개선  ...    10527.23  toe/yr   6290.02  tCO₂/yr\n",
            "32337  33788  광업        보일러  배공기열회수  ...    16835.00  toe/yr   6266.00  tCO₂/yr\n",
            "36010  37639  광업  열사용설비(기타)    폐열회수  ...     6069.00  toe/yr   3385.19  tCO₂/yr\n",
            "22961  23973  광업  수.발.배전 설비   가스터어빈  ...    12685.00  toe/yr   2736.00  tCO₂/yr\n",
            "\n",
            "[5 rows x 20 columns]\n",
            "\n",
            "\n",
            "          연번   업종   감축 대상 설비      개선 구분  ... 에너지 절감량(전력)   전력 단위 온실가스 감축량   감축량 단위\n",
            "1627    1723  운수업      조명 설비       조명개선  ...     9334.30  toe/yr  5206.92  tCO₂/yr\n",
            "36196  37838  운수업      요로 설비       공정개선  ...     3290.20  toe/yr  1655.62  tCO₂/yr\n",
            "29163  30458  운수업  공기 압축기 설비     운전방법개선  ...     2289.74  toe/yr  1231.13  tCO₂/yr\n",
            "1871    1976  운수업        보일러    열회수-배증기  ...        0.00  toe/yr  1037.87  tCO₂/yr\n",
            "21716  22667  운수업     공조기 설비  자동제어시스템도입  ...     1814.00  toe/yr   975.34  tCO₂/yr\n",
            "\n",
            "[5 rows x 20 columns]\n",
            "\n",
            "\n",
            "          연번              업종     감축 대상 설비  ...   전력 단위  온실가스 감축량   감축량 단위\n",
            "37771  39489  하수폐기처리원료재생환경복원  열사용설비(반응기류)  ...  toe/yr  24103.00  tCO₂/yr\n",
            "13748  14349  하수폐기처리원료재생환경복원    열사용설비(기타)  ...  toe/yr  19145.00  tCO₂/yr\n",
            "42735  44722  하수폐기처리원료재생환경복원          보일러  ...  toe/yr   8310.00  tCO₂/yr\n",
            "28276  29527  하수폐기처리원료재생환경복원            로  ...  toe/yr   5404.00  tCO₂/yr\n",
            "12790  13358  하수폐기처리원료재생환경복원    수.발.배전 설비  ...  toe/yr   3997.82  tCO₂/yr\n",
            "\n",
            "[5 rows x 20 columns]\n",
            "\n",
            "\n",
            "          연번                 업종   감축 대상 설비  ...   전력 단위 온실가스 감축량   감축량 단위\n",
            "34647  36209  전기, 가스, 증기 및 수도사업      펌프 설비  ...  toe/yr  1699.05  tCO₂/yr\n",
            "46505  48715  전기, 가스, 증기 및 수도사업  열사용설비(기타)  ...  toe/yr   355.29  tCO₂/yr\n",
            "13614  14214  전기, 가스, 증기 및 수도사업     기타전기설비  ...  toe/yr   298.73  tCO₂/yr\n",
            "5150    5411  전기, 가스, 증기 및 수도사업       동력설비  ...  toe/yr   192.92  tCO₂/yr\n",
            "41099  42990  전기, 가스, 증기 및 수도사업        보일러  ...  toe/yr   182.05  tCO₂/yr\n",
            "\n",
            "[5 rows x 20 columns]\n",
            "\n",
            "\n",
            "          연번           업종      감축 대상 설비  ...   전력 단위 온실가스 감축량   감축량 단위\n",
            "1147    1213  농업, 임업 및 어업  냉동 및 열-펌프 설비  ...  toe/yr    44.49  tCO₂/yr\n",
            "16599  17306  농업, 임업 및 어업         펌프 설비  ...  toe/yr    42.12  tCO₂/yr\n",
            "37364  39060  농업, 임업 및 어업     공기 압축기 설비  ...  toe/yr    35.36  tCO₂/yr\n",
            "12508  13071  농업, 임업 및 어업        열사용 설비  ...  toe/yr    22.97  tCO₂/yr\n",
            "20025  20891  농업, 임업 및 어업        공조기 설비  ...  toe/yr     6.39  tCO₂/yr\n",
            "\n",
            "[5 rows x 20 columns]\n"
          ]
        }
      ]
    },
    {
      "cell_type": "code",
      "metadata": {
        "id": "Z1UArG5alJzR"
      },
      "source": [
        "print(df_sort_제조업2,\n",
        "      df_sort_건설업2,\n",
        "      df_sort_도매_및_소매업2,\n",
        "      df_sort_광업2,\n",
        "      df_sort_운수업2,\n",
        "      df_sort_하수폐기처리원료재생환경복원2,\n",
        "      df_sort_전기_가스_증기_및_수도사업2,\n",
        "      df_sort_농업_임업_및_어업2, sep='\\n\\n\\n')"
      ],
      "execution_count": null,
      "outputs": []
    },
    {
      "cell_type": "code",
      "metadata": {
        "id": "I09EOD1nlJpq"
      },
      "source": [
        "df_sort_result = pd.concat([df_sort_제조업2,df_sort_건설업2,df_sort_도매_및_소매업2,df_sort_광업2,df_sort_운수업2,\n",
        "                            df_sort_하수폐기처리원료재생환경복원2,df_sort_전기_가스_증기_및_수도사업2,df_sort_농업_임업_및_어업2])"
      ],
      "execution_count": 145,
      "outputs": []
    },
    {
      "cell_type": "code",
      "metadata": {
        "id": "k2dUVjZIlZbC"
      },
      "source": [
        "df_sort_result.to_csv('감축기술_top5_sorting.csv',encoding='cp949',index=False)"
      ],
      "execution_count": 148,
      "outputs": []
    },
    {
      "cell_type": "code",
      "metadata": {
        "id": "1g4exTBclZY8"
      },
      "source": [
        ""
      ],
      "execution_count": null,
      "outputs": []
    },
    {
      "cell_type": "code",
      "metadata": {
        "id": "RZbAgpRGlZWa"
      },
      "source": [
        ""
      ],
      "execution_count": null,
      "outputs": []
    },
    {
      "cell_type": "code",
      "metadata": {
        "id": "SEEa4001lZOr"
      },
      "source": [
        ""
      ],
      "execution_count": null,
      "outputs": []
    },
    {
      "cell_type": "markdown",
      "metadata": {
        "id": "GVCaLJktDwzQ"
      },
      "source": [
        "# 어떤식으로 해야할까"
      ]
    },
    {
      "cell_type": "code",
      "metadata": {
        "id": "OnWWfSgCI6zK"
      },
      "source": [
        "import pandas as pd"
      ],
      "execution_count": 179,
      "outputs": []
    },
    {
      "cell_type": "code",
      "metadata": {
        "id": "Df1wrHVXJLBw"
      },
      "source": [
        "# 2009년  1월부터 시작 / 세종자치 인덱스부분 삭제"
      ],
      "execution_count": null,
      "outputs": []
    },
    {
      "cell_type": "code",
      "metadata": {
        "id": "VahxP8gJJf3A"
      },
      "source": [
        "# ※ 한국에너지공단 배출량 자동 계산법\n",
        "# 1. 이산화탄소배출량(tCO2eq/년)\n",
        "# = 전력사용량(MWh/년) × 배출계수(tCO2eq/MWh)\n",
        "# = 30.043(MWh/년) × 0.4594(tco2eq/MWh)\n",
        "# = 13.802(tCO2eq/년)\n",
        "# ※ 배출계수 : 0.4594(tCO2eq/MWh) - 온실가스 배출계수, 2011년 기준"
      ],
      "execution_count": null,
      "outputs": []
    },
    {
      "cell_type": "code",
      "metadata": {
        "id": "FsbMs6dfI9gp"
      },
      "source": [
        "unit_time_df = pd.read_excel('unit_time_data(임시수정).xls')"
      ],
      "execution_count": 267,
      "outputs": []
    },
    {
      "cell_type": "code",
      "metadata": {
        "colab": {
          "base_uri": "https://localhost:8080/",
          "height": 739
        },
        "id": "49C2EDlsQuVt",
        "outputId": "a0707185-1055-4bb0-ac87-0ff41ed25e17"
      },
      "source": [
        "unit_time_df"
      ],
      "execution_count": 213,
      "outputs": [
        {
          "output_type": "execute_result",
          "data": {
            "text/html": [
              "<div>\n",
              "<style scoped>\n",
              "    .dataframe tbody tr th:only-of-type {\n",
              "        vertical-align: middle;\n",
              "    }\n",
              "\n",
              "    .dataframe tbody tr th {\n",
              "        vertical-align: top;\n",
              "    }\n",
              "\n",
              "    .dataframe thead th {\n",
              "        text-align: right;\n",
              "    }\n",
              "</style>\n",
              "<table border=\"1\" class=\"dataframe\">\n",
              "  <thead>\n",
              "    <tr style=\"text-align: right;\">\n",
              "      <th></th>\n",
              "      <th>industry</th>\n",
              "      <th>place</th>\n",
              "      <th>2009-01</th>\n",
              "      <th>2009-02</th>\n",
              "      <th>2009-03</th>\n",
              "      <th>2009-04</th>\n",
              "      <th>2009-05</th>\n",
              "      <th>2009-06</th>\n",
              "      <th>2009-07</th>\n",
              "      <th>2009-08</th>\n",
              "      <th>2009-09</th>\n",
              "      <th>2009-10</th>\n",
              "      <th>2009-11</th>\n",
              "      <th>2009-12</th>\n",
              "      <th>2010-01</th>\n",
              "      <th>2010-02</th>\n",
              "      <th>2010-03</th>\n",
              "      <th>2010-04</th>\n",
              "      <th>2010-05</th>\n",
              "      <th>2010-06</th>\n",
              "      <th>2010-07</th>\n",
              "      <th>2010-08</th>\n",
              "      <th>2010-09</th>\n",
              "      <th>2010-10</th>\n",
              "      <th>2010-11</th>\n",
              "      <th>2010-12</th>\n",
              "      <th>2011-01</th>\n",
              "      <th>2011-02</th>\n",
              "      <th>2011-03</th>\n",
              "      <th>2011-04</th>\n",
              "      <th>2011-05</th>\n",
              "      <th>2011-06</th>\n",
              "      <th>2011-07</th>\n",
              "      <th>2011-08</th>\n",
              "      <th>2011-09</th>\n",
              "      <th>2011-10</th>\n",
              "      <th>2011-11</th>\n",
              "      <th>2011-12</th>\n",
              "      <th>2012-01</th>\n",
              "      <th>2012-02</th>\n",
              "      <th>...</th>\n",
              "      <th>2015-07</th>\n",
              "      <th>2015-08</th>\n",
              "      <th>2015-09</th>\n",
              "      <th>2015-10</th>\n",
              "      <th>2015-11</th>\n",
              "      <th>2015-12</th>\n",
              "      <th>2016-01</th>\n",
              "      <th>2016-02</th>\n",
              "      <th>2016-03</th>\n",
              "      <th>2016-04</th>\n",
              "      <th>2016-05</th>\n",
              "      <th>2016-06</th>\n",
              "      <th>2016-07</th>\n",
              "      <th>2016-08</th>\n",
              "      <th>2016-09</th>\n",
              "      <th>2016-10</th>\n",
              "      <th>2016-11</th>\n",
              "      <th>2016-12</th>\n",
              "      <th>2017-01</th>\n",
              "      <th>2017-02</th>\n",
              "      <th>2017-03</th>\n",
              "      <th>2017-04</th>\n",
              "      <th>2017-05</th>\n",
              "      <th>2017-06</th>\n",
              "      <th>2017-07</th>\n",
              "      <th>2017-08</th>\n",
              "      <th>2017-09</th>\n",
              "      <th>2017-10</th>\n",
              "      <th>2017-11</th>\n",
              "      <th>2017-12</th>\n",
              "      <th>2018-01</th>\n",
              "      <th>2018-02</th>\n",
              "      <th>2018-03</th>\n",
              "      <th>2018-04</th>\n",
              "      <th>2018-05</th>\n",
              "      <th>2018-06</th>\n",
              "      <th>2018-07</th>\n",
              "      <th>2018-08</th>\n",
              "      <th>2018-09</th>\n",
              "      <th>2018-10</th>\n",
              "    </tr>\n",
              "  </thead>\n",
              "  <tbody>\n",
              "    <tr>\n",
              "      <th>0</th>\n",
              "      <td>농업, 임업 및 어업</td>\n",
              "      <td>강원도</td>\n",
              "      <td>511.996246</td>\n",
              "      <td>569.650695</td>\n",
              "      <td>564.876512</td>\n",
              "      <td>345.509725</td>\n",
              "      <td>492.091829</td>\n",
              "      <td>444.827438</td>\n",
              "      <td>440.011469</td>\n",
              "      <td>425.160618</td>\n",
              "      <td>490.263770</td>\n",
              "      <td>516.693477</td>\n",
              "      <td>529.329250</td>\n",
              "      <td>546.019738</td>\n",
              "      <td>543.376529</td>\n",
              "      <td>614.190678</td>\n",
              "      <td>618.663918</td>\n",
              "      <td>379.604462</td>\n",
              "      <td>538.145412</td>\n",
              "      <td>457.985998</td>\n",
              "      <td>460.259034</td>\n",
              "      <td>440.062129</td>\n",
              "      <td>502.259423</td>\n",
              "      <td>591.542548</td>\n",
              "      <td>524.589081</td>\n",
              "      <td>510.233284</td>\n",
              "      <td>532.163654</td>\n",
              "      <td>602.472295</td>\n",
              "      <td>583.753751</td>\n",
              "      <td>359.165230</td>\n",
              "      <td>465.343835</td>\n",
              "      <td>392.250825</td>\n",
              "      <td>400.894783</td>\n",
              "      <td>379.304185</td>\n",
              "      <td>431.826476</td>\n",
              "      <td>503.269173</td>\n",
              "      <td>476.644837</td>\n",
              "      <td>451.647700</td>\n",
              "      <td>480.166324</td>\n",
              "      <td>554.163511</td>\n",
              "      <td>...</td>\n",
              "      <td>491.519110</td>\n",
              "      <td>475.297314</td>\n",
              "      <td>563.321954</td>\n",
              "      <td>629.402009</td>\n",
              "      <td>557.224568</td>\n",
              "      <td>612.801734</td>\n",
              "      <td>519.429066</td>\n",
              "      <td>558.061085</td>\n",
              "      <td>580.070847</td>\n",
              "      <td>421.267117</td>\n",
              "      <td>492.012915</td>\n",
              "      <td>442.605930</td>\n",
              "      <td>476.680596</td>\n",
              "      <td>469.113047</td>\n",
              "      <td>583.979171</td>\n",
              "      <td>668.813974</td>\n",
              "      <td>544.219589</td>\n",
              "      <td>569.759000</td>\n",
              "      <td>537.019315</td>\n",
              "      <td>554.740324</td>\n",
              "      <td>576.656639</td>\n",
              "      <td>414.766213</td>\n",
              "      <td>511.099052</td>\n",
              "      <td>472.132903</td>\n",
              "      <td>501.547055</td>\n",
              "      <td>490.592175</td>\n",
              "      <td>564.253233</td>\n",
              "      <td>601.645304</td>\n",
              "      <td>526.366853</td>\n",
              "      <td>570.813261</td>\n",
              "      <td>545.424725</td>\n",
              "      <td>575.405768</td>\n",
              "      <td>612.267187</td>\n",
              "      <td>427.739822</td>\n",
              "      <td>498.287100</td>\n",
              "      <td>453.647254</td>\n",
              "      <td>480.894819</td>\n",
              "      <td>488.058859</td>\n",
              "      <td>681.403158</td>\n",
              "      <td>658.409402</td>\n",
              "    </tr>\n",
              "    <tr>\n",
              "      <th>1</th>\n",
              "      <td>광업</td>\n",
              "      <td>강원도</td>\n",
              "      <td>137098.247253</td>\n",
              "      <td>123344.938889</td>\n",
              "      <td>120315.179775</td>\n",
              "      <td>129993.121547</td>\n",
              "      <td>132734.267380</td>\n",
              "      <td>123252.010811</td>\n",
              "      <td>126937.901554</td>\n",
              "      <td>122451.960000</td>\n",
              "      <td>114635.391304</td>\n",
              "      <td>119942.741784</td>\n",
              "      <td>111735.641860</td>\n",
              "      <td>121108.782407</td>\n",
              "      <td>124514.939535</td>\n",
              "      <td>111597.810185</td>\n",
              "      <td>100114.190909</td>\n",
              "      <td>110587.977376</td>\n",
              "      <td>124013.828829</td>\n",
              "      <td>107419.284444</td>\n",
              "      <td>112518.750000</td>\n",
              "      <td>111919.234513</td>\n",
              "      <td>106858.115044</td>\n",
              "      <td>106371.056769</td>\n",
              "      <td>117516.462882</td>\n",
              "      <td>121489.041494</td>\n",
              "      <td>116788.261044</td>\n",
              "      <td>110384.875502</td>\n",
              "      <td>93343.245968</td>\n",
              "      <td>107457.587045</td>\n",
              "      <td>110544.231076</td>\n",
              "      <td>106859.179283</td>\n",
              "      <td>107269.751969</td>\n",
              "      <td>110645.960784</td>\n",
              "      <td>104515.274131</td>\n",
              "      <td>109716.556863</td>\n",
              "      <td>117454.123506</td>\n",
              "      <td>121455.164000</td>\n",
              "      <td>121432.649402</td>\n",
              "      <td>104207.019841</td>\n",
              "      <td>...</td>\n",
              "      <td>103113.120915</td>\n",
              "      <td>101871.527687</td>\n",
              "      <td>92707.561688</td>\n",
              "      <td>97536.223301</td>\n",
              "      <td>102594.887460</td>\n",
              "      <td>104786.738562</td>\n",
              "      <td>112427.610390</td>\n",
              "      <td>100232.119355</td>\n",
              "      <td>89752.693811</td>\n",
              "      <td>104541.207237</td>\n",
              "      <td>103727.209150</td>\n",
              "      <td>109063.217822</td>\n",
              "      <td>105993.138710</td>\n",
              "      <td>111862.398693</td>\n",
              "      <td>108859.906452</td>\n",
              "      <td>104253.753165</td>\n",
              "      <td>113296.828125</td>\n",
              "      <td>122645.121495</td>\n",
              "      <td>121176.859813</td>\n",
              "      <td>109859.312693</td>\n",
              "      <td>104294.099379</td>\n",
              "      <td>115253.163077</td>\n",
              "      <td>110075.389571</td>\n",
              "      <td>106588.609091</td>\n",
              "      <td>86766.993921</td>\n",
              "      <td>113202.988327</td>\n",
              "      <td>111601.138996</td>\n",
              "      <td>119184.321839</td>\n",
              "      <td>107739.862069</td>\n",
              "      <td>123803.479087</td>\n",
              "      <td>126146.690840</td>\n",
              "      <td>118439.644788</td>\n",
              "      <td>111098.348659</td>\n",
              "      <td>128608.792969</td>\n",
              "      <td>126971.602317</td>\n",
              "      <td>126801.980545</td>\n",
              "      <td>123785.674419</td>\n",
              "      <td>130903.972332</td>\n",
              "      <td>125354.602362</td>\n",
              "      <td>122025.346614</td>\n",
              "    </tr>\n",
              "    <tr>\n",
              "      <th>2</th>\n",
              "      <td>제조업</td>\n",
              "      <td>강원도</td>\n",
              "      <td>95492.558448</td>\n",
              "      <td>78220.601159</td>\n",
              "      <td>77677.185804</td>\n",
              "      <td>98154.191593</td>\n",
              "      <td>104719.477252</td>\n",
              "      <td>105807.260230</td>\n",
              "      <td>101315.079553</td>\n",
              "      <td>97093.594712</td>\n",
              "      <td>92936.605198</td>\n",
              "      <td>102035.747914</td>\n",
              "      <td>102643.120961</td>\n",
              "      <td>97474.190572</td>\n",
              "      <td>98318.755793</td>\n",
              "      <td>84999.003994</td>\n",
              "      <td>77313.896980</td>\n",
              "      <td>97946.616733</td>\n",
              "      <td>100720.538615</td>\n",
              "      <td>105875.731178</td>\n",
              "      <td>105267.885922</td>\n",
              "      <td>96990.035392</td>\n",
              "      <td>88924.363198</td>\n",
              "      <td>87112.405936</td>\n",
              "      <td>102276.066725</td>\n",
              "      <td>105272.385969</td>\n",
              "      <td>106722.822867</td>\n",
              "      <td>99066.360372</td>\n",
              "      <td>90734.755237</td>\n",
              "      <td>112654.510109</td>\n",
              "      <td>110361.463435</td>\n",
              "      <td>113867.646709</td>\n",
              "      <td>113872.518534</td>\n",
              "      <td>108023.554288</td>\n",
              "      <td>103261.770444</td>\n",
              "      <td>109616.630120</td>\n",
              "      <td>119087.882081</td>\n",
              "      <td>114379.663389</td>\n",
              "      <td>114405.952312</td>\n",
              "      <td>102791.647010</td>\n",
              "      <td>...</td>\n",
              "      <td>96155.791777</td>\n",
              "      <td>93722.413678</td>\n",
              "      <td>90476.442737</td>\n",
              "      <td>92053.123380</td>\n",
              "      <td>95964.655232</td>\n",
              "      <td>84517.286613</td>\n",
              "      <td>87772.337489</td>\n",
              "      <td>80536.079576</td>\n",
              "      <td>71225.528356</td>\n",
              "      <td>81511.126296</td>\n",
              "      <td>99471.254491</td>\n",
              "      <td>87659.933686</td>\n",
              "      <td>81426.242703</td>\n",
              "      <td>83073.939997</td>\n",
              "      <td>80467.919235</td>\n",
              "      <td>80718.268446</td>\n",
              "      <td>83819.425124</td>\n",
              "      <td>81335.453880</td>\n",
              "      <td>82134.393949</td>\n",
              "      <td>76034.451684</td>\n",
              "      <td>69308.616796</td>\n",
              "      <td>80691.770425</td>\n",
              "      <td>78497.971247</td>\n",
              "      <td>79876.908518</td>\n",
              "      <td>82411.046042</td>\n",
              "      <td>76534.112300</td>\n",
              "      <td>72389.333881</td>\n",
              "      <td>71567.225811</td>\n",
              "      <td>74746.269072</td>\n",
              "      <td>76859.655237</td>\n",
              "      <td>74383.952646</td>\n",
              "      <td>66720.229573</td>\n",
              "      <td>61990.705616</td>\n",
              "      <td>69712.039636</td>\n",
              "      <td>70043.545558</td>\n",
              "      <td>71180.942686</td>\n",
              "      <td>70960.924925</td>\n",
              "      <td>70574.068848</td>\n",
              "      <td>67165.890533</td>\n",
              "      <td>64606.686131</td>\n",
              "    </tr>\n",
              "    <tr>\n",
              "      <th>3</th>\n",
              "      <td>전기, 가스, 증기 및 수도사업</td>\n",
              "      <td>강원도</td>\n",
              "      <td>8262.273060</td>\n",
              "      <td>8039.341052</td>\n",
              "      <td>7724.991411</td>\n",
              "      <td>8680.892480</td>\n",
              "      <td>7961.833771</td>\n",
              "      <td>7151.099309</td>\n",
              "      <td>7292.579854</td>\n",
              "      <td>7929.922368</td>\n",
              "      <td>8134.252949</td>\n",
              "      <td>7945.759556</td>\n",
              "      <td>7026.036844</td>\n",
              "      <td>8537.251134</td>\n",
              "      <td>8158.948354</td>\n",
              "      <td>8520.721233</td>\n",
              "      <td>8054.480355</td>\n",
              "      <td>7708.322775</td>\n",
              "      <td>7844.560668</td>\n",
              "      <td>7308.268362</td>\n",
              "      <td>8460.106604</td>\n",
              "      <td>8638.374296</td>\n",
              "      <td>9107.139019</td>\n",
              "      <td>8430.028804</td>\n",
              "      <td>8252.017527</td>\n",
              "      <td>7517.735937</td>\n",
              "      <td>6616.219148</td>\n",
              "      <td>7834.553899</td>\n",
              "      <td>8792.868837</td>\n",
              "      <td>7848.191985</td>\n",
              "      <td>7703.921909</td>\n",
              "      <td>7524.992597</td>\n",
              "      <td>7647.720652</td>\n",
              "      <td>8038.938769</td>\n",
              "      <td>8433.062806</td>\n",
              "      <td>8051.758852</td>\n",
              "      <td>8476.587842</td>\n",
              "      <td>8702.590895</td>\n",
              "      <td>8213.485481</td>\n",
              "      <td>8533.913788</td>\n",
              "      <td>...</td>\n",
              "      <td>7848.278573</td>\n",
              "      <td>7970.772645</td>\n",
              "      <td>9216.131202</td>\n",
              "      <td>8303.687453</td>\n",
              "      <td>7324.602812</td>\n",
              "      <td>7534.755771</td>\n",
              "      <td>10310.022873</td>\n",
              "      <td>10935.642596</td>\n",
              "      <td>11473.175182</td>\n",
              "      <td>13556.719175</td>\n",
              "      <td>11500.501204</td>\n",
              "      <td>11134.129001</td>\n",
              "      <td>11226.161943</td>\n",
              "      <td>12058.316199</td>\n",
              "      <td>12316.568389</td>\n",
              "      <td>9745.420735</td>\n",
              "      <td>10076.615456</td>\n",
              "      <td>10346.454211</td>\n",
              "      <td>11178.317279</td>\n",
              "      <td>11296.389040</td>\n",
              "      <td>11790.328125</td>\n",
              "      <td>9010.787220</td>\n",
              "      <td>10365.310966</td>\n",
              "      <td>9683.811545</td>\n",
              "      <td>8044.458921</td>\n",
              "      <td>8262.291565</td>\n",
              "      <td>7524.426872</td>\n",
              "      <td>8535.077594</td>\n",
              "      <td>9405.938908</td>\n",
              "      <td>8394.020191</td>\n",
              "      <td>9180.907286</td>\n",
              "      <td>8348.109281</td>\n",
              "      <td>9041.798885</td>\n",
              "      <td>8162.649191</td>\n",
              "      <td>7666.069625</td>\n",
              "      <td>6088.530199</td>\n",
              "      <td>7022.175703</td>\n",
              "      <td>7516.792891</td>\n",
              "      <td>6786.157387</td>\n",
              "      <td>7992.783095</td>\n",
              "    </tr>\n",
              "    <tr>\n",
              "      <th>4</th>\n",
              "      <td>하수폐기처리원료재생환경복원</td>\n",
              "      <td>강원도</td>\n",
              "      <td>5871.722348</td>\n",
              "      <td>6031.682247</td>\n",
              "      <td>5707.494551</td>\n",
              "      <td>5429.582078</td>\n",
              "      <td>5605.412139</td>\n",
              "      <td>5413.590993</td>\n",
              "      <td>5355.912531</td>\n",
              "      <td>5451.167960</td>\n",
              "      <td>5642.634001</td>\n",
              "      <td>5498.383944</td>\n",
              "      <td>5413.463118</td>\n",
              "      <td>5731.125044</td>\n",
              "      <td>6057.278916</td>\n",
              "      <td>6303.155012</td>\n",
              "      <td>6106.293875</td>\n",
              "      <td>5663.718373</td>\n",
              "      <td>5964.584189</td>\n",
              "      <td>5699.024746</td>\n",
              "      <td>5629.982509</td>\n",
              "      <td>5497.013236</td>\n",
              "      <td>5752.525163</td>\n",
              "      <td>5544.176184</td>\n",
              "      <td>5366.017617</td>\n",
              "      <td>5535.834169</td>\n",
              "      <td>5626.949262</td>\n",
              "      <td>5984.789617</td>\n",
              "      <td>5734.118896</td>\n",
              "      <td>5372.125796</td>\n",
              "      <td>5486.922175</td>\n",
              "      <td>5253.906082</td>\n",
              "      <td>5360.546556</td>\n",
              "      <td>5516.843805</td>\n",
              "      <td>5695.180006</td>\n",
              "      <td>5471.358021</td>\n",
              "      <td>5348.176350</td>\n",
              "      <td>5558.400175</td>\n",
              "      <td>5812.416691</td>\n",
              "      <td>6157.504376</td>\n",
              "      <td>...</td>\n",
              "      <td>6032.842197</td>\n",
              "      <td>6106.662713</td>\n",
              "      <td>6343.713790</td>\n",
              "      <td>6076.715278</td>\n",
              "      <td>5962.836037</td>\n",
              "      <td>6231.606395</td>\n",
              "      <td>6537.686389</td>\n",
              "      <td>6807.909542</td>\n",
              "      <td>6653.122550</td>\n",
              "      <td>6409.389865</td>\n",
              "      <td>6291.016432</td>\n",
              "      <td>6173.156287</td>\n",
              "      <td>6221.602455</td>\n",
              "      <td>6320.050892</td>\n",
              "      <td>6547.395369</td>\n",
              "      <td>6179.858651</td>\n",
              "      <td>6062.163295</td>\n",
              "      <td>6300.521053</td>\n",
              "      <td>6696.008795</td>\n",
              "      <td>6975.314025</td>\n",
              "      <td>6741.624558</td>\n",
              "      <td>6265.418241</td>\n",
              "      <td>6343.916691</td>\n",
              "      <td>6160.902245</td>\n",
              "      <td>6018.842999</td>\n",
              "      <td>6376.409295</td>\n",
              "      <td>6626.263901</td>\n",
              "      <td>6393.783303</td>\n",
              "      <td>6215.271104</td>\n",
              "      <td>6514.519481</td>\n",
              "      <td>6923.385619</td>\n",
              "      <td>7135.661217</td>\n",
              "      <td>7038.413123</td>\n",
              "      <td>6569.078860</td>\n",
              "      <td>6538.936556</td>\n",
              "      <td>6499.154079</td>\n",
              "      <td>6326.912624</td>\n",
              "      <td>6425.835789</td>\n",
              "      <td>6656.464221</td>\n",
              "      <td>6420.298771</td>\n",
              "    </tr>\n",
              "    <tr>\n",
              "      <th>...</th>\n",
              "      <td>...</td>\n",
              "      <td>...</td>\n",
              "      <td>...</td>\n",
              "      <td>...</td>\n",
              "      <td>...</td>\n",
              "      <td>...</td>\n",
              "      <td>...</td>\n",
              "      <td>...</td>\n",
              "      <td>...</td>\n",
              "      <td>...</td>\n",
              "      <td>...</td>\n",
              "      <td>...</td>\n",
              "      <td>...</td>\n",
              "      <td>...</td>\n",
              "      <td>...</td>\n",
              "      <td>...</td>\n",
              "      <td>...</td>\n",
              "      <td>...</td>\n",
              "      <td>...</td>\n",
              "      <td>...</td>\n",
              "      <td>...</td>\n",
              "      <td>...</td>\n",
              "      <td>...</td>\n",
              "      <td>...</td>\n",
              "      <td>...</td>\n",
              "      <td>...</td>\n",
              "      <td>...</td>\n",
              "      <td>...</td>\n",
              "      <td>...</td>\n",
              "      <td>...</td>\n",
              "      <td>...</td>\n",
              "      <td>...</td>\n",
              "      <td>...</td>\n",
              "      <td>...</td>\n",
              "      <td>...</td>\n",
              "      <td>...</td>\n",
              "      <td>...</td>\n",
              "      <td>...</td>\n",
              "      <td>...</td>\n",
              "      <td>...</td>\n",
              "      <td>...</td>\n",
              "      <td>...</td>\n",
              "      <td>...</td>\n",
              "      <td>...</td>\n",
              "      <td>...</td>\n",
              "      <td>...</td>\n",
              "      <td>...</td>\n",
              "      <td>...</td>\n",
              "      <td>...</td>\n",
              "      <td>...</td>\n",
              "      <td>...</td>\n",
              "      <td>...</td>\n",
              "      <td>...</td>\n",
              "      <td>...</td>\n",
              "      <td>...</td>\n",
              "      <td>...</td>\n",
              "      <td>...</td>\n",
              "      <td>...</td>\n",
              "      <td>...</td>\n",
              "      <td>...</td>\n",
              "      <td>...</td>\n",
              "      <td>...</td>\n",
              "      <td>...</td>\n",
              "      <td>...</td>\n",
              "      <td>...</td>\n",
              "      <td>...</td>\n",
              "      <td>...</td>\n",
              "      <td>...</td>\n",
              "      <td>...</td>\n",
              "      <td>...</td>\n",
              "      <td>...</td>\n",
              "      <td>...</td>\n",
              "      <td>...</td>\n",
              "      <td>...</td>\n",
              "      <td>...</td>\n",
              "      <td>...</td>\n",
              "      <td>...</td>\n",
              "      <td>...</td>\n",
              "      <td>...</td>\n",
              "      <td>...</td>\n",
              "      <td>...</td>\n",
              "    </tr>\n",
              "    <tr>\n",
              "      <th>123</th>\n",
              "      <td>전기, 가스, 증기 및 수도사업</td>\n",
              "      <td>충청북도</td>\n",
              "      <td>8039.349225</td>\n",
              "      <td>8450.993213</td>\n",
              "      <td>7801.228689</td>\n",
              "      <td>7919.054134</td>\n",
              "      <td>7884.594944</td>\n",
              "      <td>8766.945306</td>\n",
              "      <td>10619.870360</td>\n",
              "      <td>5419.248129</td>\n",
              "      <td>5489.404274</td>\n",
              "      <td>5401.155373</td>\n",
              "      <td>5494.217967</td>\n",
              "      <td>4970.945444</td>\n",
              "      <td>5058.846025</td>\n",
              "      <td>5459.367467</td>\n",
              "      <td>5210.243868</td>\n",
              "      <td>4951.006138</td>\n",
              "      <td>4925.662050</td>\n",
              "      <td>5220.280454</td>\n",
              "      <td>5350.981262</td>\n",
              "      <td>5594.155855</td>\n",
              "      <td>5664.264939</td>\n",
              "      <td>5416.052058</td>\n",
              "      <td>5213.118607</td>\n",
              "      <td>4971.804548</td>\n",
              "      <td>5203.242958</td>\n",
              "      <td>5659.981911</td>\n",
              "      <td>5692.399837</td>\n",
              "      <td>5294.850231</td>\n",
              "      <td>5233.804766</td>\n",
              "      <td>5401.800704</td>\n",
              "      <td>5566.474182</td>\n",
              "      <td>5645.543034</td>\n",
              "      <td>5765.958613</td>\n",
              "      <td>5560.166578</td>\n",
              "      <td>5418.240331</td>\n",
              "      <td>5286.668707</td>\n",
              "      <td>5425.348565</td>\n",
              "      <td>5764.821561</td>\n",
              "      <td>...</td>\n",
              "      <td>6082.331248</td>\n",
              "      <td>6113.158236</td>\n",
              "      <td>6263.443424</td>\n",
              "      <td>5996.964674</td>\n",
              "      <td>5804.991880</td>\n",
              "      <td>5630.640888</td>\n",
              "      <td>5712.572504</td>\n",
              "      <td>6032.181380</td>\n",
              "      <td>5935.492411</td>\n",
              "      <td>5858.818356</td>\n",
              "      <td>5749.319388</td>\n",
              "      <td>5796.085755</td>\n",
              "      <td>5852.493710</td>\n",
              "      <td>5947.320528</td>\n",
              "      <td>6247.664477</td>\n",
              "      <td>5863.142257</td>\n",
              "      <td>5686.775046</td>\n",
              "      <td>5570.428473</td>\n",
              "      <td>5544.073232</td>\n",
              "      <td>5725.788440</td>\n",
              "      <td>5609.279506</td>\n",
              "      <td>5529.766712</td>\n",
              "      <td>5672.343836</td>\n",
              "      <td>5850.082076</td>\n",
              "      <td>6010.751880</td>\n",
              "      <td>6118.394916</td>\n",
              "      <td>6177.716435</td>\n",
              "      <td>5564.009504</td>\n",
              "      <td>6062.872887</td>\n",
              "      <td>5656.740063</td>\n",
              "      <td>5676.394824</td>\n",
              "      <td>5959.757212</td>\n",
              "      <td>5835.194541</td>\n",
              "      <td>5567.481146</td>\n",
              "      <td>5504.935235</td>\n",
              "      <td>5608.722530</td>\n",
              "      <td>5690.310717</td>\n",
              "      <td>6022.630653</td>\n",
              "      <td>6386.468782</td>\n",
              "      <td>5703.430163</td>\n",
              "    </tr>\n",
              "    <tr>\n",
              "      <th>124</th>\n",
              "      <td>하수폐기처리원료재생환경복원</td>\n",
              "      <td>충청북도</td>\n",
              "      <td>15033.516199</td>\n",
              "      <td>14560.956943</td>\n",
              "      <td>14417.836188</td>\n",
              "      <td>13774.390743</td>\n",
              "      <td>13647.333686</td>\n",
              "      <td>13109.767322</td>\n",
              "      <td>13626.414256</td>\n",
              "      <td>16538.398580</td>\n",
              "      <td>16165.674000</td>\n",
              "      <td>16692.207101</td>\n",
              "      <td>15319.952381</td>\n",
              "      <td>16022.159199</td>\n",
              "      <td>16437.490995</td>\n",
              "      <td>16578.835793</td>\n",
              "      <td>15467.241537</td>\n",
              "      <td>15295.203653</td>\n",
              "      <td>15938.537567</td>\n",
              "      <td>15373.407343</td>\n",
              "      <td>15603.911207</td>\n",
              "      <td>16660.997416</td>\n",
              "      <td>16146.581376</td>\n",
              "      <td>15295.656406</td>\n",
              "      <td>15115.651029</td>\n",
              "      <td>15124.706635</td>\n",
              "      <td>15456.814554</td>\n",
              "      <td>15691.273420</td>\n",
              "      <td>14374.167045</td>\n",
              "      <td>14256.553333</td>\n",
              "      <td>14298.470111</td>\n",
              "      <td>13907.496366</td>\n",
              "      <td>13745.683084</td>\n",
              "      <td>13927.743819</td>\n",
              "      <td>13761.543109</td>\n",
              "      <td>13225.528314</td>\n",
              "      <td>12892.281728</td>\n",
              "      <td>13264.873684</td>\n",
              "      <td>13261.312131</td>\n",
              "      <td>13470.310567</td>\n",
              "      <td>...</td>\n",
              "      <td>12715.889806</td>\n",
              "      <td>13263.595894</td>\n",
              "      <td>13065.220399</td>\n",
              "      <td>12323.755582</td>\n",
              "      <td>12808.847737</td>\n",
              "      <td>13028.519953</td>\n",
              "      <td>13446.915592</td>\n",
              "      <td>13790.082456</td>\n",
              "      <td>13647.805734</td>\n",
              "      <td>12783.729825</td>\n",
              "      <td>13014.083091</td>\n",
              "      <td>12531.695476</td>\n",
              "      <td>12829.719095</td>\n",
              "      <td>13249.798261</td>\n",
              "      <td>13427.699479</td>\n",
              "      <td>13003.224726</td>\n",
              "      <td>12797.113741</td>\n",
              "      <td>13464.755362</td>\n",
              "      <td>13818.740912</td>\n",
              "      <td>14322.198618</td>\n",
              "      <td>13974.871692</td>\n",
              "      <td>13106.353448</td>\n",
              "      <td>12995.396313</td>\n",
              "      <td>12941.715517</td>\n",
              "      <td>10845.394855</td>\n",
              "      <td>14101.549582</td>\n",
              "      <td>14290.009547</td>\n",
              "      <td>13209.407651</td>\n",
              "      <td>13154.621284</td>\n",
              "      <td>13381.902323</td>\n",
              "      <td>14137.520969</td>\n",
              "      <td>14739.596812</td>\n",
              "      <td>14088.059552</td>\n",
              "      <td>12920.274706</td>\n",
              "      <td>13017.593180</td>\n",
              "      <td>13079.437024</td>\n",
              "      <td>13007.136257</td>\n",
              "      <td>12917.688153</td>\n",
              "      <td>13144.520325</td>\n",
              "      <td>12628.328696</td>\n",
              "    </tr>\n",
              "    <tr>\n",
              "      <th>125</th>\n",
              "      <td>건설업</td>\n",
              "      <td>충청북도</td>\n",
              "      <td>2656.047400</td>\n",
              "      <td>3056.801954</td>\n",
              "      <td>2850.774431</td>\n",
              "      <td>2550.413378</td>\n",
              "      <td>2361.613636</td>\n",
              "      <td>2036.443817</td>\n",
              "      <td>2037.172185</td>\n",
              "      <td>2098.812065</td>\n",
              "      <td>2181.224433</td>\n",
              "      <td>2076.575269</td>\n",
              "      <td>1880.492861</td>\n",
              "      <td>2414.334732</td>\n",
              "      <td>3127.453141</td>\n",
              "      <td>3836.382307</td>\n",
              "      <td>3911.309168</td>\n",
              "      <td>3055.316667</td>\n",
              "      <td>3076.560391</td>\n",
              "      <td>2328.703704</td>\n",
              "      <td>2157.027114</td>\n",
              "      <td>2222.378475</td>\n",
              "      <td>2486.638298</td>\n",
              "      <td>2490.994728</td>\n",
              "      <td>2189.862054</td>\n",
              "      <td>2767.867840</td>\n",
              "      <td>3393.881604</td>\n",
              "      <td>4137.053407</td>\n",
              "      <td>3848.239824</td>\n",
              "      <td>3180.627479</td>\n",
              "      <td>2818.277120</td>\n",
              "      <td>2218.413924</td>\n",
              "      <td>2227.155268</td>\n",
              "      <td>2349.955569</td>\n",
              "      <td>2636.973543</td>\n",
              "      <td>2379.084142</td>\n",
              "      <td>2301.675474</td>\n",
              "      <td>2487.154520</td>\n",
              "      <td>2917.162379</td>\n",
              "      <td>3528.365145</td>\n",
              "      <td>...</td>\n",
              "      <td>1855.720635</td>\n",
              "      <td>1883.417565</td>\n",
              "      <td>2087.847758</td>\n",
              "      <td>1987.359645</td>\n",
              "      <td>1739.407369</td>\n",
              "      <td>2221.954844</td>\n",
              "      <td>2905.171747</td>\n",
              "      <td>3520.039659</td>\n",
              "      <td>3831.122090</td>\n",
              "      <td>3208.470943</td>\n",
              "      <td>2624.228154</td>\n",
              "      <td>2148.971644</td>\n",
              "      <td>2195.833892</td>\n",
              "      <td>2199.014150</td>\n",
              "      <td>2522.989153</td>\n",
              "      <td>2301.663057</td>\n",
              "      <td>2065.873539</td>\n",
              "      <td>2699.632558</td>\n",
              "      <td>3640.194778</td>\n",
              "      <td>4312.660757</td>\n",
              "      <td>4652.310016</td>\n",
              "      <td>3969.539492</td>\n",
              "      <td>3410.713516</td>\n",
              "      <td>2603.377014</td>\n",
              "      <td>2619.413049</td>\n",
              "      <td>2781.131196</td>\n",
              "      <td>3026.095277</td>\n",
              "      <td>2963.581848</td>\n",
              "      <td>2612.004930</td>\n",
              "      <td>3355.134057</td>\n",
              "      <td>4659.138117</td>\n",
              "      <td>5296.276613</td>\n",
              "      <td>5301.346378</td>\n",
              "      <td>4066.228435</td>\n",
              "      <td>3480.745265</td>\n",
              "      <td>2960.722026</td>\n",
              "      <td>2927.827928</td>\n",
              "      <td>2769.301410</td>\n",
              "      <td>3088.554936</td>\n",
              "      <td>2680.323387</td>\n",
              "    </tr>\n",
              "    <tr>\n",
              "      <th>126</th>\n",
              "      <td>도매 및 소매업</td>\n",
              "      <td>충청북도</td>\n",
              "      <td>2000.549594</td>\n",
              "      <td>2183.860733</td>\n",
              "      <td>2070.624717</td>\n",
              "      <td>1869.001393</td>\n",
              "      <td>1903.500490</td>\n",
              "      <td>1864.946442</td>\n",
              "      <td>1996.333972</td>\n",
              "      <td>2204.567095</td>\n",
              "      <td>2348.266079</td>\n",
              "      <td>2209.596458</td>\n",
              "      <td>1893.749845</td>\n",
              "      <td>1922.611068</td>\n",
              "      <td>2100.251611</td>\n",
              "      <td>2342.675109</td>\n",
              "      <td>2261.185227</td>\n",
              "      <td>1951.484583</td>\n",
              "      <td>2028.786078</td>\n",
              "      <td>1928.578463</td>\n",
              "      <td>2082.789006</td>\n",
              "      <td>2333.765627</td>\n",
              "      <td>2580.494167</td>\n",
              "      <td>2436.227206</td>\n",
              "      <td>1956.204939</td>\n",
              "      <td>1972.641681</td>\n",
              "      <td>2183.414061</td>\n",
              "      <td>2476.264046</td>\n",
              "      <td>2371.961320</td>\n",
              "      <td>2021.387663</td>\n",
              "      <td>2008.272940</td>\n",
              "      <td>1908.090367</td>\n",
              "      <td>2077.373813</td>\n",
              "      <td>2287.222288</td>\n",
              "      <td>2509.432777</td>\n",
              "      <td>2364.680993</td>\n",
              "      <td>1922.324861</td>\n",
              "      <td>1927.501332</td>\n",
              "      <td>2084.419058</td>\n",
              "      <td>2369.331142</td>\n",
              "      <td>...</td>\n",
              "      <td>2138.282934</td>\n",
              "      <td>2317.952077</td>\n",
              "      <td>2605.457189</td>\n",
              "      <td>2328.999622</td>\n",
              "      <td>1982.247035</td>\n",
              "      <td>1948.561038</td>\n",
              "      <td>2114.791355</td>\n",
              "      <td>2352.502299</td>\n",
              "      <td>2396.688647</td>\n",
              "      <td>2104.659914</td>\n",
              "      <td>2001.095559</td>\n",
              "      <td>1961.005895</td>\n",
              "      <td>2201.024452</td>\n",
              "      <td>2407.454664</td>\n",
              "      <td>2765.902918</td>\n",
              "      <td>2489.424138</td>\n",
              "      <td>2043.865410</td>\n",
              "      <td>2006.812404</td>\n",
              "      <td>2198.151373</td>\n",
              "      <td>2399.921836</td>\n",
              "      <td>2430.557861</td>\n",
              "      <td>2092.210911</td>\n",
              "      <td>2054.340661</td>\n",
              "      <td>1998.002305</td>\n",
              "      <td>2287.089804</td>\n",
              "      <td>2542.385935</td>\n",
              "      <td>2771.390725</td>\n",
              "      <td>2424.325492</td>\n",
              "      <td>2068.823852</td>\n",
              "      <td>2083.986427</td>\n",
              "      <td>2399.977730</td>\n",
              "      <td>2639.750894</td>\n",
              "      <td>2681.698501</td>\n",
              "      <td>2178.715977</td>\n",
              "      <td>2136.906456</td>\n",
              "      <td>2096.238007</td>\n",
              "      <td>2342.387787</td>\n",
              "      <td>2589.107824</td>\n",
              "      <td>3109.559264</td>\n",
              "      <td>2628.407217</td>\n",
              "    </tr>\n",
              "    <tr>\n",
              "      <th>127</th>\n",
              "      <td>운수업</td>\n",
              "      <td>충청북도</td>\n",
              "      <td>4972.855989</td>\n",
              "      <td>4895.680207</td>\n",
              "      <td>4510.758431</td>\n",
              "      <td>4433.284327</td>\n",
              "      <td>4400.010316</td>\n",
              "      <td>3958.151851</td>\n",
              "      <td>3817.905660</td>\n",
              "      <td>6841.425315</td>\n",
              "      <td>6996.300805</td>\n",
              "      <td>6608.826923</td>\n",
              "      <td>6564.345402</td>\n",
              "      <td>6444.228302</td>\n",
              "      <td>6982.098228</td>\n",
              "      <td>7294.117958</td>\n",
              "      <td>6424.867038</td>\n",
              "      <td>6381.715166</td>\n",
              "      <td>6282.154821</td>\n",
              "      <td>6113.280000</td>\n",
              "      <td>6317.485819</td>\n",
              "      <td>6594.883469</td>\n",
              "      <td>8830.703438</td>\n",
              "      <td>8347.477599</td>\n",
              "      <td>8327.500579</td>\n",
              "      <td>8501.398633</td>\n",
              "      <td>9151.716125</td>\n",
              "      <td>9708.268462</td>\n",
              "      <td>8783.908915</td>\n",
              "      <td>8541.109323</td>\n",
              "      <td>8191.595073</td>\n",
              "      <td>8106.994167</td>\n",
              "      <td>6709.832272</td>\n",
              "      <td>9099.859217</td>\n",
              "      <td>8147.964703</td>\n",
              "      <td>7939.071906</td>\n",
              "      <td>7390.683765</td>\n",
              "      <td>7037.277590</td>\n",
              "      <td>7759.810686</td>\n",
              "      <td>8063.624043</td>\n",
              "      <td>...</td>\n",
              "      <td>6071.033781</td>\n",
              "      <td>6430.967819</td>\n",
              "      <td>6657.276523</td>\n",
              "      <td>6674.189869</td>\n",
              "      <td>6496.222763</td>\n",
              "      <td>6268.924641</td>\n",
              "      <td>6257.101882</td>\n",
              "      <td>6457.158241</td>\n",
              "      <td>6162.641319</td>\n",
              "      <td>6051.165801</td>\n",
              "      <td>5923.064641</td>\n",
              "      <td>6143.688952</td>\n",
              "      <td>5889.915031</td>\n",
              "      <td>6038.120013</td>\n",
              "      <td>6147.650906</td>\n",
              "      <td>5765.194072</td>\n",
              "      <td>5104.000621</td>\n",
              "      <td>5261.711763</td>\n",
              "      <td>6135.803301</td>\n",
              "      <td>6675.345835</td>\n",
              "      <td>6221.709896</td>\n",
              "      <td>6259.027740</td>\n",
              "      <td>6085.915995</td>\n",
              "      <td>6142.268785</td>\n",
              "      <td>1635.730087</td>\n",
              "      <td>6011.398443</td>\n",
              "      <td>5962.969463</td>\n",
              "      <td>5903.185926</td>\n",
              "      <td>5605.182843</td>\n",
              "      <td>5738.445289</td>\n",
              "      <td>6137.449352</td>\n",
              "      <td>6030.558587</td>\n",
              "      <td>5659.724696</td>\n",
              "      <td>5511.674965</td>\n",
              "      <td>5330.167266</td>\n",
              "      <td>5428.212522</td>\n",
              "      <td>5392.404436</td>\n",
              "      <td>5755.325806</td>\n",
              "      <td>5907.244659</td>\n",
              "      <td>5752.717693</td>\n",
              "    </tr>\n",
              "  </tbody>\n",
              "</table>\n",
              "<p>128 rows × 120 columns</p>\n",
              "</div>"
            ],
            "text/plain": [
              "              industry place  ...        2018-09        2018-10\n",
              "0          농업, 임업 및 어업   강원도  ...     681.403158     658.409402\n",
              "1                   광업   강원도  ...  125354.602362  122025.346614\n",
              "2                  제조업   강원도  ...   67165.890533   64606.686131\n",
              "3    전기, 가스, 증기 및 수도사업   강원도  ...    6786.157387    7992.783095\n",
              "4       하수폐기처리원료재생환경복원   강원도  ...    6656.464221    6420.298771\n",
              "..                 ...   ...  ...            ...            ...\n",
              "123  전기, 가스, 증기 및 수도사업  충청북도  ...    6386.468782    5703.430163\n",
              "124     하수폐기처리원료재생환경복원  충청북도  ...   13144.520325   12628.328696\n",
              "125                건설업  충청북도  ...    3088.554936    2680.323387\n",
              "126           도매 및 소매업  충청북도  ...    3109.559264    2628.407217\n",
              "127                운수업  충청북도  ...    5907.244659    5752.717693\n",
              "\n",
              "[128 rows x 120 columns]"
            ]
          },
          "metadata": {},
          "execution_count": 213
        }
      ]
    },
    {
      "cell_type": "code",
      "metadata": {
        "colab": {
          "base_uri": "https://localhost:8080/"
        },
        "id": "sdPyUaSKclZ5",
        "outputId": "c7392127-c3d8-44a8-ff2c-ab4dedec4733"
      },
      "source": [
        "unit_time_df.isnull().sum().value_counts()"
      ],
      "execution_count": 291,
      "outputs": [
        {
          "output_type": "execute_result",
          "data": {
            "text/plain": [
              "0    120\n",
              "dtype: int64"
            ]
          },
          "metadata": {},
          "execution_count": 291
        }
      ]
    },
    {
      "cell_type": "code",
      "metadata": {
        "id": "dRWHvaOnG1bV"
      },
      "source": [
        "# 2009년 부터 12개월씩 나누기\n",
        "\n",
        "unit_2009 = unit_time_df.loc[:,:'2009-12']\n",
        "unit_ind_place = unit_time_df.loc[:,:'place']\n",
        "unit_2010 = unit_time_df.loc[:,'2010-01':'2010-12']\n",
        "unit_2011 = unit_time_df.loc[:,'2011-01':'2011-12']\n",
        "unit_2012 = unit_time_df.loc[:,'2012-01':'2012-12']\n",
        "unit_2013 = unit_time_df.loc[:,'2013-01':'2013-12']\n",
        "unit_2014 = unit_time_df.loc[:,'2014-01':'2014-12']\n",
        "unit_2015 = unit_time_df.loc[:,'2015-01':'2015-12']\n",
        "unit_2016 = unit_time_df.loc[:,'2016-01':'2016-12']\n",
        "unit_2017 = unit_time_df.loc[:,'2017-01':'2017-12']\n",
        "\n",
        "unit_2010 = pd.concat([unit_ind_place,unit_2010], axis=1)\n",
        "unit_2011 = pd.concat([unit_ind_place,unit_2011], axis=1)\n",
        "unit_2012 = pd.concat([unit_ind_place,unit_2012], axis=1)\n",
        "unit_2013 = pd.concat([unit_ind_place,unit_2013], axis=1)\n",
        "unit_2014 = pd.concat([unit_ind_place,unit_2014], axis=1)\n",
        "unit_2015 = pd.concat([unit_ind_place,unit_2015], axis=1)\n",
        "unit_2016 = pd.concat([unit_ind_place,unit_2016], axis=1)\n",
        "unit_2010 = pd.concat([unit_ind_place,unit_2017], axis=1)"
      ],
      "execution_count": 268,
      "outputs": []
    },
    {
      "cell_type": "code",
      "metadata": {
        "id": "HEK-24QQS8mq"
      },
      "source": [
        "# 각 12개월마다의 합 컬럼 생성\n",
        "\n",
        "unit_2009['2009_Total'] = unit_2009.sum(axis=1)\n",
        "unit_2010['2010_Total'] = unit_2010.sum(axis=1)\n",
        "unit_2011['2011_Total'] = unit_2011.sum(axis=1)\n",
        "unit_2012['2012_Total'] = unit_2012.sum(axis=1)\n",
        "unit_2013['2013_Total'] = unit_2013.sum(axis=1)\n",
        "unit_2014['2014_Total'] = unit_2014.sum(axis=1)\n",
        "unit_2015['2015_Total'] = unit_2015.sum(axis=1)\n",
        "unit_2016['2016_Total'] = unit_2016.sum(axis=1)\n",
        "unit_2017['2017_Total'] = unit_2017.sum(axis=1)"
      ],
      "execution_count": 269,
      "outputs": []
    },
    {
      "cell_type": "code",
      "metadata": {
        "colab": {
          "base_uri": "https://localhost:8080/",
          "height": 739
        },
        "id": "_QDW3CF3bPln",
        "outputId": "523430a1-bbce-41db-d156-ffba7a4eb91f"
      },
      "source": [
        "unit_2009"
      ],
      "execution_count": 270,
      "outputs": [
        {
          "output_type": "execute_result",
          "data": {
            "text/html": [
              "<div>\n",
              "<style scoped>\n",
              "    .dataframe tbody tr th:only-of-type {\n",
              "        vertical-align: middle;\n",
              "    }\n",
              "\n",
              "    .dataframe tbody tr th {\n",
              "        vertical-align: top;\n",
              "    }\n",
              "\n",
              "    .dataframe thead th {\n",
              "        text-align: right;\n",
              "    }\n",
              "</style>\n",
              "<table border=\"1\" class=\"dataframe\">\n",
              "  <thead>\n",
              "    <tr style=\"text-align: right;\">\n",
              "      <th></th>\n",
              "      <th>industry</th>\n",
              "      <th>place</th>\n",
              "      <th>2009-01</th>\n",
              "      <th>2009-02</th>\n",
              "      <th>2009-03</th>\n",
              "      <th>2009-04</th>\n",
              "      <th>2009-05</th>\n",
              "      <th>2009-06</th>\n",
              "      <th>2009-07</th>\n",
              "      <th>2009-08</th>\n",
              "      <th>2009-09</th>\n",
              "      <th>2009-10</th>\n",
              "      <th>2009-11</th>\n",
              "      <th>2009-12</th>\n",
              "      <th>2009_Total</th>\n",
              "    </tr>\n",
              "  </thead>\n",
              "  <tbody>\n",
              "    <tr>\n",
              "      <th>0</th>\n",
              "      <td>농업, 임업 및 어업</td>\n",
              "      <td>강원도</td>\n",
              "      <td>511.99625</td>\n",
              "      <td>569.65069</td>\n",
              "      <td>564.87651</td>\n",
              "      <td>345.50973</td>\n",
              "      <td>492.09183</td>\n",
              "      <td>444.82744</td>\n",
              "      <td>440.01147</td>\n",
              "      <td>425.16062</td>\n",
              "      <td>490.26377</td>\n",
              "      <td>516.69348</td>\n",
              "      <td>529.32925</td>\n",
              "      <td>546.01974</td>\n",
              "      <td>5876.43077</td>\n",
              "    </tr>\n",
              "    <tr>\n",
              "      <th>1</th>\n",
              "      <td>광업</td>\n",
              "      <td>강원도</td>\n",
              "      <td>137098.24725</td>\n",
              "      <td>123344.93889</td>\n",
              "      <td>120315.17978</td>\n",
              "      <td>129993.12155</td>\n",
              "      <td>132734.26738</td>\n",
              "      <td>123252.01081</td>\n",
              "      <td>126937.90155</td>\n",
              "      <td>122451.96000</td>\n",
              "      <td>114635.39130</td>\n",
              "      <td>119942.74178</td>\n",
              "      <td>111735.64186</td>\n",
              "      <td>121108.78241</td>\n",
              "      <td>1483550.18457</td>\n",
              "    </tr>\n",
              "    <tr>\n",
              "      <th>2</th>\n",
              "      <td>제조업</td>\n",
              "      <td>강원도</td>\n",
              "      <td>95492.55845</td>\n",
              "      <td>78220.60116</td>\n",
              "      <td>77677.18580</td>\n",
              "      <td>98154.19159</td>\n",
              "      <td>104719.47725</td>\n",
              "      <td>105807.26023</td>\n",
              "      <td>101315.07955</td>\n",
              "      <td>97093.59471</td>\n",
              "      <td>92936.60520</td>\n",
              "      <td>102035.74791</td>\n",
              "      <td>102643.12096</td>\n",
              "      <td>97474.19057</td>\n",
              "      <td>1153569.61339</td>\n",
              "    </tr>\n",
              "    <tr>\n",
              "      <th>3</th>\n",
              "      <td>전기, 가스, 증기 및 수도사업</td>\n",
              "      <td>강원도</td>\n",
              "      <td>8262.27306</td>\n",
              "      <td>8039.34105</td>\n",
              "      <td>7724.99141</td>\n",
              "      <td>8680.89248</td>\n",
              "      <td>7961.83377</td>\n",
              "      <td>7151.09931</td>\n",
              "      <td>7292.57985</td>\n",
              "      <td>7929.92237</td>\n",
              "      <td>8134.25295</td>\n",
              "      <td>7945.75956</td>\n",
              "      <td>7026.03684</td>\n",
              "      <td>8537.25113</td>\n",
              "      <td>94686.23379</td>\n",
              "    </tr>\n",
              "    <tr>\n",
              "      <th>4</th>\n",
              "      <td>하수폐기처리원료재생환경복원</td>\n",
              "      <td>강원도</td>\n",
              "      <td>5871.72235</td>\n",
              "      <td>6031.68225</td>\n",
              "      <td>5707.49455</td>\n",
              "      <td>5429.58208</td>\n",
              "      <td>5605.41214</td>\n",
              "      <td>5413.59099</td>\n",
              "      <td>5355.91253</td>\n",
              "      <td>5451.16796</td>\n",
              "      <td>5642.63400</td>\n",
              "      <td>5498.38394</td>\n",
              "      <td>5413.46312</td>\n",
              "      <td>5731.12504</td>\n",
              "      <td>67152.17095</td>\n",
              "    </tr>\n",
              "    <tr>\n",
              "      <th>...</th>\n",
              "      <td>...</td>\n",
              "      <td>...</td>\n",
              "      <td>...</td>\n",
              "      <td>...</td>\n",
              "      <td>...</td>\n",
              "      <td>...</td>\n",
              "      <td>...</td>\n",
              "      <td>...</td>\n",
              "      <td>...</td>\n",
              "      <td>...</td>\n",
              "      <td>...</td>\n",
              "      <td>...</td>\n",
              "      <td>...</td>\n",
              "      <td>...</td>\n",
              "      <td>...</td>\n",
              "    </tr>\n",
              "    <tr>\n",
              "      <th>123</th>\n",
              "      <td>전기, 가스, 증기 및 수도사업</td>\n",
              "      <td>충청북도</td>\n",
              "      <td>8039.34923</td>\n",
              "      <td>8450.99321</td>\n",
              "      <td>7801.22869</td>\n",
              "      <td>7919.05413</td>\n",
              "      <td>7884.59494</td>\n",
              "      <td>8766.94531</td>\n",
              "      <td>10619.87036</td>\n",
              "      <td>5419.24813</td>\n",
              "      <td>5489.40427</td>\n",
              "      <td>5401.15537</td>\n",
              "      <td>5494.21797</td>\n",
              "      <td>4970.94544</td>\n",
              "      <td>86257.00706</td>\n",
              "    </tr>\n",
              "    <tr>\n",
              "      <th>124</th>\n",
              "      <td>하수폐기처리원료재생환경복원</td>\n",
              "      <td>충청북도</td>\n",
              "      <td>15033.51620</td>\n",
              "      <td>14560.95694</td>\n",
              "      <td>14417.83619</td>\n",
              "      <td>13774.39074</td>\n",
              "      <td>13647.33369</td>\n",
              "      <td>13109.76732</td>\n",
              "      <td>13626.41426</td>\n",
              "      <td>16538.39858</td>\n",
              "      <td>16165.67400</td>\n",
              "      <td>16692.20710</td>\n",
              "      <td>15319.95238</td>\n",
              "      <td>16022.15920</td>\n",
              "      <td>178908.60660</td>\n",
              "    </tr>\n",
              "    <tr>\n",
              "      <th>125</th>\n",
              "      <td>건설업</td>\n",
              "      <td>충청북도</td>\n",
              "      <td>2656.04740</td>\n",
              "      <td>3056.80195</td>\n",
              "      <td>2850.77443</td>\n",
              "      <td>2550.41338</td>\n",
              "      <td>2361.61364</td>\n",
              "      <td>2036.44382</td>\n",
              "      <td>2037.17219</td>\n",
              "      <td>2098.81206</td>\n",
              "      <td>2181.22443</td>\n",
              "      <td>2076.57527</td>\n",
              "      <td>1880.49286</td>\n",
              "      <td>2414.33473</td>\n",
              "      <td>28200.70616</td>\n",
              "    </tr>\n",
              "    <tr>\n",
              "      <th>126</th>\n",
              "      <td>도매 및 소매업</td>\n",
              "      <td>충청북도</td>\n",
              "      <td>2000.54959</td>\n",
              "      <td>2183.86073</td>\n",
              "      <td>2070.62472</td>\n",
              "      <td>1869.00139</td>\n",
              "      <td>1903.50049</td>\n",
              "      <td>1864.94644</td>\n",
              "      <td>1996.33397</td>\n",
              "      <td>2204.56710</td>\n",
              "      <td>2348.26608</td>\n",
              "      <td>2209.59646</td>\n",
              "      <td>1893.74984</td>\n",
              "      <td>1922.61107</td>\n",
              "      <td>24467.60789</td>\n",
              "    </tr>\n",
              "    <tr>\n",
              "      <th>127</th>\n",
              "      <td>운수업</td>\n",
              "      <td>충청북도</td>\n",
              "      <td>4972.85599</td>\n",
              "      <td>4895.68021</td>\n",
              "      <td>4510.75843</td>\n",
              "      <td>4433.28433</td>\n",
              "      <td>4400.01032</td>\n",
              "      <td>3958.15185</td>\n",
              "      <td>3817.90566</td>\n",
              "      <td>6841.42531</td>\n",
              "      <td>6996.30080</td>\n",
              "      <td>6608.82692</td>\n",
              "      <td>6564.34540</td>\n",
              "      <td>6444.22830</td>\n",
              "      <td>64443.77353</td>\n",
              "    </tr>\n",
              "  </tbody>\n",
              "</table>\n",
              "<p>128 rows × 15 columns</p>\n",
              "</div>"
            ],
            "text/plain": [
              "              industry place  ...      2009-12    2009_Total\n",
              "0          농업, 임업 및 어업   강원도  ...    546.01974    5876.43077\n",
              "1                   광업   강원도  ... 121108.78241 1483550.18457\n",
              "2                  제조업   강원도  ...  97474.19057 1153569.61339\n",
              "3    전기, 가스, 증기 및 수도사업   강원도  ...   8537.25113   94686.23379\n",
              "4       하수폐기처리원료재생환경복원   강원도  ...   5731.12504   67152.17095\n",
              "..                 ...   ...  ...          ...           ...\n",
              "123  전기, 가스, 증기 및 수도사업  충청북도  ...   4970.94544   86257.00706\n",
              "124     하수폐기처리원료재생환경복원  충청북도  ...  16022.15920  178908.60660\n",
              "125                건설업  충청북도  ...   2414.33473   28200.70616\n",
              "126           도매 및 소매업  충청북도  ...   1922.61107   24467.60789\n",
              "127                운수업  충청북도  ...   6444.22830   64443.77353\n",
              "\n",
              "[128 rows x 15 columns]"
            ]
          },
          "metadata": {},
          "execution_count": 270
        }
      ]
    },
    {
      "cell_type": "code",
      "metadata": {
        "id": "DQkcH7uUX4eR"
      },
      "source": [
        "## pandas display 바꾸는 함수, 원래대로 하려면 아래의 문구 실행\n",
        "# pd.reset_option('display.float_format')\n",
        "\n",
        "pd.options.display.float_format = '{:.5f}'.format"
      ],
      "execution_count": 244,
      "outputs": []
    },
    {
      "cell_type": "code",
      "metadata": {
        "id": "LhxRc0sLH5C7"
      },
      "source": [
        "# 각 연도 합컬럼 합치기\n",
        "\n",
        "unit_total = pd.concat([unit_2009['2009_Total'],unit_2010['2010_Total'],unit_2011['2011_Total'],\n",
        "                        unit_2012['2012_Total'],unit_2013['2013_Total'],unit_2014['2014_Total'],\n",
        "                        unit_2015['2015_Total'],unit_2016['2016_Total'],unit_2017['2017_Total']],axis=1)"
      ],
      "execution_count": 297,
      "outputs": []
    },
    {
      "cell_type": "code",
      "metadata": {
        "colab": {
          "base_uri": "https://localhost:8080/",
          "height": 417
        },
        "id": "4lqv0a2DYkke",
        "outputId": "1fb09156-d7ed-48a1-fee2-b0f70a186bb9"
      },
      "source": [
        "unit_total"
      ],
      "execution_count": 298,
      "outputs": [
        {
          "output_type": "execute_result",
          "data": {
            "text/html": [
              "<div>\n",
              "<style scoped>\n",
              "    .dataframe tbody tr th:only-of-type {\n",
              "        vertical-align: middle;\n",
              "    }\n",
              "\n",
              "    .dataframe tbody tr th {\n",
              "        vertical-align: top;\n",
              "    }\n",
              "\n",
              "    .dataframe thead th {\n",
              "        text-align: right;\n",
              "    }\n",
              "</style>\n",
              "<table border=\"1\" class=\"dataframe\">\n",
              "  <thead>\n",
              "    <tr style=\"text-align: right;\">\n",
              "      <th></th>\n",
              "      <th>2009_Total</th>\n",
              "      <th>2010_Total</th>\n",
              "      <th>2011_Total</th>\n",
              "      <th>2012_Total</th>\n",
              "      <th>2013_Total</th>\n",
              "      <th>2014_Total</th>\n",
              "      <th>2015_Total</th>\n",
              "      <th>2016_Total</th>\n",
              "      <th>2017_Total</th>\n",
              "    </tr>\n",
              "  </thead>\n",
              "  <tbody>\n",
              "    <tr>\n",
              "      <th>0</th>\n",
              "      <td>5876.43077</td>\n",
              "      <td>6321.63233</td>\n",
              "      <td>5578.73674</td>\n",
              "      <td>6022.33444</td>\n",
              "      <td>6135.57625</td>\n",
              "      <td>6211.02054</td>\n",
              "      <td>6351.01837</td>\n",
              "      <td>6326.01234</td>\n",
              "      <td>6321.63233</td>\n",
              "    </tr>\n",
              "    <tr>\n",
              "      <th>1</th>\n",
              "      <td>1483550.18457</td>\n",
              "      <td>1329546.21786</td>\n",
              "      <td>1316434.21117</td>\n",
              "      <td>1342671.82596</td>\n",
              "      <td>1288831.84292</td>\n",
              "      <td>1234963.30554</td>\n",
              "      <td>1207164.02307</td>\n",
              "      <td>1286655.20440</td>\n",
              "      <td>1329546.21786</td>\n",
              "    </tr>\n",
              "    <tr>\n",
              "      <th>2</th>\n",
              "      <td>1153569.61339</td>\n",
              "      <td>921051.75496</td>\n",
              "      <td>1301649.57759</td>\n",
              "      <td>1250595.07790</td>\n",
              "      <td>1189538.98775</td>\n",
              "      <td>1154200.07620</td>\n",
              "      <td>1102346.95810</td>\n",
              "      <td>999017.50928</td>\n",
              "      <td>921051.75496</td>\n",
              "    </tr>\n",
              "    <tr>\n",
              "      <th>3</th>\n",
              "      <td>94686.23379</td>\n",
              "      <td>113491.15823</td>\n",
              "      <td>95671.40819</td>\n",
              "      <td>93953.98489</td>\n",
              "      <td>87874.25376</td>\n",
              "      <td>88170.17120</td>\n",
              "      <td>99311.24312</td>\n",
              "      <td>134679.72696</td>\n",
              "      <td>113491.15823</td>\n",
              "    </tr>\n",
              "    <tr>\n",
              "      <th>4</th>\n",
              "      <td>67152.17095</td>\n",
              "      <td>77328.27464</td>\n",
              "      <td>66409.31674</td>\n",
              "      <td>69275.43685</td>\n",
              "      <td>70626.08643</td>\n",
              "      <td>70260.16751</td>\n",
              "      <td>73863.71337</td>\n",
              "      <td>76503.87278</td>\n",
              "      <td>77328.27464</td>\n",
              "    </tr>\n",
              "    <tr>\n",
              "      <th>...</th>\n",
              "      <td>...</td>\n",
              "      <td>...</td>\n",
              "      <td>...</td>\n",
              "      <td>...</td>\n",
              "      <td>...</td>\n",
              "      <td>...</td>\n",
              "      <td>...</td>\n",
              "      <td>...</td>\n",
              "      <td>...</td>\n",
              "    </tr>\n",
              "    <tr>\n",
              "      <th>123</th>\n",
              "      <td>86257.00706</td>\n",
              "      <td>69521.81949</td>\n",
              "      <td>65729.13185</td>\n",
              "      <td>68377.68336</td>\n",
              "      <td>71536.69556</td>\n",
              "      <td>71003.62155</td>\n",
              "      <td>70978.40651</td>\n",
              "      <td>70252.29429</td>\n",
              "      <td>69521.81949</td>\n",
              "    </tr>\n",
              "    <tr>\n",
              "      <th>124</th>\n",
              "      <td>178908.60660</td>\n",
              "      <td>160142.16174</td>\n",
              "      <td>168802.42857</td>\n",
              "      <td>159518.08530</td>\n",
              "      <td>159832.15641</td>\n",
              "      <td>150263.40318</td>\n",
              "      <td>155819.41354</td>\n",
              "      <td>157986.62284</td>\n",
              "      <td>160142.16174</td>\n",
              "    </tr>\n",
              "    <tr>\n",
              "      <th>125</th>\n",
              "      <td>28200.70616</td>\n",
              "      <td>39946.15593</td>\n",
              "      <td>33978.49187</td>\n",
              "      <td>30259.95543</td>\n",
              "      <td>30268.67171</td>\n",
              "      <td>26687.01652</td>\n",
              "      <td>27402.65998</td>\n",
              "      <td>32223.01059</td>\n",
              "      <td>39946.15593</td>\n",
              "    </tr>\n",
              "    <tr>\n",
              "      <th>126</th>\n",
              "      <td>24467.60789</td>\n",
              "      <td>27351.18718</td>\n",
              "      <td>26057.92646</td>\n",
              "      <td>26405.36495</td>\n",
              "      <td>27411.68377</td>\n",
              "      <td>26295.86628</td>\n",
              "      <td>26258.53457</td>\n",
              "      <td>26845.22765</td>\n",
              "      <td>27351.18718</td>\n",
              "    </tr>\n",
              "    <tr>\n",
              "      <th>127</th>\n",
              "      <td>64443.77353</td>\n",
              "      <td>68376.98361</td>\n",
              "      <td>98808.28152</td>\n",
              "      <td>87988.61568</td>\n",
              "      <td>94752.73652</td>\n",
              "      <td>84843.27391</td>\n",
              "      <td>79271.61370</td>\n",
              "      <td>71201.41324</td>\n",
              "      <td>68376.98361</td>\n",
              "    </tr>\n",
              "  </tbody>\n",
              "</table>\n",
              "<p>128 rows × 9 columns</p>\n",
              "</div>"
            ],
            "text/plain": [
              "       2009_Total    2010_Total  ...    2016_Total    2017_Total\n",
              "0      5876.43077    6321.63233  ...    6326.01234    6321.63233\n",
              "1   1483550.18457 1329546.21786  ... 1286655.20440 1329546.21786\n",
              "2   1153569.61339  921051.75496  ...  999017.50928  921051.75496\n",
              "3     94686.23379  113491.15823  ...  134679.72696  113491.15823\n",
              "4     67152.17095   77328.27464  ...   76503.87278   77328.27464\n",
              "..            ...           ...  ...           ...           ...\n",
              "123   86257.00706   69521.81949  ...   70252.29429   69521.81949\n",
              "124  178908.60660  160142.16174  ...  157986.62284  160142.16174\n",
              "125   28200.70616   39946.15593  ...   32223.01059   39946.15593\n",
              "126   24467.60789   27351.18718  ...   26845.22765   27351.18718\n",
              "127   64443.77353   68376.98361  ...   71201.41324   68376.98361\n",
              "\n",
              "[128 rows x 9 columns]"
            ]
          },
          "metadata": {},
          "execution_count": 298
        }
      ]
    },
    {
      "cell_type": "code",
      "metadata": {
        "id": "ZE0V0DzncMYh"
      },
      "source": [
        "# ※ 한국에너지공단 배출량 자동 계산법\n",
        "# 1. 이산화탄소배출량(tCO2eq/년)\n",
        "# = 전력사용량(MWh/년) × 배출계수(tCO2eq/MWh)\n",
        "# = 30.043(MWh/년) × 0.4594(tco2eq/MWh)\n",
        "# = 13.802(tCO2eq/년)\n",
        "# ※ 배출계수 : 0.4594(tCO2eq/MWh) - 온실가스 배출계수, 2011년 기준"
      ],
      "execution_count": null,
      "outputs": []
    },
    {
      "cell_type": "code",
      "metadata": {
        "id": "JOAMZBb2adsJ"
      },
      "source": [
        "unit_GHG = unit_total * 0.4594\n",
        "unit_GHG.columns = ['2009_GHG','2010_GHG','2011_GHG','2012_GHG','2013_GHG','2014_GHG','2015_GHG','2016_GHG','2017_GHG']\n",
        "unit_GHG_final = pd.concat([unit_ind_place,unit_GHG], axis=1)"
      ],
      "execution_count": 304,
      "outputs": []
    },
    {
      "cell_type": "code",
      "metadata": {
        "id": "6fs4XvQidqcd"
      },
      "source": [
        "unit_GHG_final['mean'] = unit_GHG_final.mean(axis=1)\n",
        "unit_GHG_final['min'] = unit_GHG_final.min(axis=1)"
      ],
      "execution_count": 315,
      "outputs": []
    },
    {
      "cell_type": "code",
      "metadata": {
        "colab": {
          "base_uri": "https://localhost:8080/",
          "height": 739
        },
        "id": "QCqYGTYafHIh",
        "outputId": "44188902-f402-4999-ca18-d48828c27afc"
      },
      "source": [
        "unit_GHG_final"
      ],
      "execution_count": 316,
      "outputs": [
        {
          "output_type": "execute_result",
          "data": {
            "text/html": [
              "<div>\n",
              "<style scoped>\n",
              "    .dataframe tbody tr th:only-of-type {\n",
              "        vertical-align: middle;\n",
              "    }\n",
              "\n",
              "    .dataframe tbody tr th {\n",
              "        vertical-align: top;\n",
              "    }\n",
              "\n",
              "    .dataframe thead th {\n",
              "        text-align: right;\n",
              "    }\n",
              "</style>\n",
              "<table border=\"1\" class=\"dataframe\">\n",
              "  <thead>\n",
              "    <tr style=\"text-align: right;\">\n",
              "      <th></th>\n",
              "      <th>industry</th>\n",
              "      <th>place</th>\n",
              "      <th>2009_GHG</th>\n",
              "      <th>2010_GHG</th>\n",
              "      <th>2011_GHG</th>\n",
              "      <th>2012_GHG</th>\n",
              "      <th>2013_GHG</th>\n",
              "      <th>2014_GHG</th>\n",
              "      <th>2015_GHG</th>\n",
              "      <th>2016_GHG</th>\n",
              "      <th>2017_GHG</th>\n",
              "      <th>mean</th>\n",
              "      <th>min</th>\n",
              "    </tr>\n",
              "  </thead>\n",
              "  <tbody>\n",
              "    <tr>\n",
              "      <th>0</th>\n",
              "      <td>농업, 임업 및 어업</td>\n",
              "      <td>강원도</td>\n",
              "      <td>2699.63229</td>\n",
              "      <td>2904.15789</td>\n",
              "      <td>2562.87166</td>\n",
              "      <td>2766.66044</td>\n",
              "      <td>2818.68373</td>\n",
              "      <td>2853.34284</td>\n",
              "      <td>2917.65784</td>\n",
              "      <td>2906.17007</td>\n",
              "      <td>2904.15789</td>\n",
              "      <td>2814.81496</td>\n",
              "      <td>2562.87166</td>\n",
              "    </tr>\n",
              "    <tr>\n",
              "      <th>1</th>\n",
              "      <td>광업</td>\n",
              "      <td>강원도</td>\n",
              "      <td>681542.95479</td>\n",
              "      <td>610793.53249</td>\n",
              "      <td>604769.87661</td>\n",
              "      <td>616823.43684</td>\n",
              "      <td>592089.34864</td>\n",
              "      <td>567342.14256</td>\n",
              "      <td>554571.15220</td>\n",
              "      <td>591089.40090</td>\n",
              "      <td>610793.53249</td>\n",
              "      <td>603312.81972</td>\n",
              "      <td>554571.15220</td>\n",
              "    </tr>\n",
              "    <tr>\n",
              "      <th>2</th>\n",
              "      <td>제조업</td>\n",
              "      <td>강원도</td>\n",
              "      <td>529949.88039</td>\n",
              "      <td>423131.17623</td>\n",
              "      <td>597977.81594</td>\n",
              "      <td>574523.37879</td>\n",
              "      <td>546474.21097</td>\n",
              "      <td>530239.51501</td>\n",
              "      <td>506418.19255</td>\n",
              "      <td>458948.64376</td>\n",
              "      <td>423131.17623</td>\n",
              "      <td>510088.22110</td>\n",
              "      <td>423131.17623</td>\n",
              "    </tr>\n",
              "    <tr>\n",
              "      <th>3</th>\n",
              "      <td>전기, 가스, 증기 및 수도사업</td>\n",
              "      <td>강원도</td>\n",
              "      <td>43498.85580</td>\n",
              "      <td>52137.83809</td>\n",
              "      <td>43951.44492</td>\n",
              "      <td>43162.46066</td>\n",
              "      <td>40369.43218</td>\n",
              "      <td>40505.37665</td>\n",
              "      <td>45623.58509</td>\n",
              "      <td>61871.86657</td>\n",
              "      <td>52137.83809</td>\n",
              "      <td>47028.74423</td>\n",
              "      <td>40369.43218</td>\n",
              "    </tr>\n",
              "    <tr>\n",
              "      <th>4</th>\n",
              "      <td>하수폐기처리원료재생환경복원</td>\n",
              "      <td>강원도</td>\n",
              "      <td>30849.70734</td>\n",
              "      <td>35524.60937</td>\n",
              "      <td>30508.44011</td>\n",
              "      <td>31825.13569</td>\n",
              "      <td>32445.62411</td>\n",
              "      <td>32277.52095</td>\n",
              "      <td>33932.98992</td>\n",
              "      <td>35145.87916</td>\n",
              "      <td>35524.60937</td>\n",
              "      <td>33114.94622</td>\n",
              "      <td>30508.44011</td>\n",
              "    </tr>\n",
              "    <tr>\n",
              "      <th>...</th>\n",
              "      <td>...</td>\n",
              "      <td>...</td>\n",
              "      <td>...</td>\n",
              "      <td>...</td>\n",
              "      <td>...</td>\n",
              "      <td>...</td>\n",
              "      <td>...</td>\n",
              "      <td>...</td>\n",
              "      <td>...</td>\n",
              "      <td>...</td>\n",
              "      <td>...</td>\n",
              "      <td>...</td>\n",
              "      <td>...</td>\n",
              "    </tr>\n",
              "    <tr>\n",
              "      <th>123</th>\n",
              "      <td>전기, 가스, 증기 및 수도사업</td>\n",
              "      <td>충청북도</td>\n",
              "      <td>39626.46904</td>\n",
              "      <td>31938.32387</td>\n",
              "      <td>30195.96317</td>\n",
              "      <td>31412.70774</td>\n",
              "      <td>32863.95794</td>\n",
              "      <td>32619.06374</td>\n",
              "      <td>32607.47995</td>\n",
              "      <td>32273.90399</td>\n",
              "      <td>31938.32387</td>\n",
              "      <td>32830.68815</td>\n",
              "      <td>30195.96317</td>\n",
              "    </tr>\n",
              "    <tr>\n",
              "      <th>124</th>\n",
              "      <td>하수폐기처리원료재생환경복원</td>\n",
              "      <td>충청북도</td>\n",
              "      <td>82190.61387</td>\n",
              "      <td>73569.30910</td>\n",
              "      <td>77547.83568</td>\n",
              "      <td>73282.60838</td>\n",
              "      <td>73426.89265</td>\n",
              "      <td>69031.00742</td>\n",
              "      <td>71583.43858</td>\n",
              "      <td>72579.05453</td>\n",
              "      <td>73569.30910</td>\n",
              "      <td>74086.67437</td>\n",
              "      <td>69031.00742</td>\n",
              "    </tr>\n",
              "    <tr>\n",
              "      <th>125</th>\n",
              "      <td>건설업</td>\n",
              "      <td>충청북도</td>\n",
              "      <td>12955.40441</td>\n",
              "      <td>18351.26403</td>\n",
              "      <td>15609.71917</td>\n",
              "      <td>13901.42352</td>\n",
              "      <td>13905.42778</td>\n",
              "      <td>12260.01539</td>\n",
              "      <td>12588.78199</td>\n",
              "      <td>14803.25106</td>\n",
              "      <td>18351.26403</td>\n",
              "      <td>14747.39460</td>\n",
              "      <td>12260.01539</td>\n",
              "    </tr>\n",
              "    <tr>\n",
              "      <th>126</th>\n",
              "      <td>도매 및 소매업</td>\n",
              "      <td>충청북도</td>\n",
              "      <td>11240.41906</td>\n",
              "      <td>12565.13539</td>\n",
              "      <td>11971.01142</td>\n",
              "      <td>12130.62466</td>\n",
              "      <td>12592.92752</td>\n",
              "      <td>12080.32097</td>\n",
              "      <td>12063.17078</td>\n",
              "      <td>12332.69758</td>\n",
              "      <td>12565.13539</td>\n",
              "      <td>12171.27142</td>\n",
              "      <td>11240.41906</td>\n",
              "    </tr>\n",
              "    <tr>\n",
              "      <th>127</th>\n",
              "      <td>운수업</td>\n",
              "      <td>충청북도</td>\n",
              "      <td>29605.46956</td>\n",
              "      <td>31412.38627</td>\n",
              "      <td>45392.52453</td>\n",
              "      <td>40421.97004</td>\n",
              "      <td>43529.40716</td>\n",
              "      <td>38977.00004</td>\n",
              "      <td>36417.37934</td>\n",
              "      <td>32709.92924</td>\n",
              "      <td>31412.38627</td>\n",
              "      <td>36653.16138</td>\n",
              "      <td>29605.46956</td>\n",
              "    </tr>\n",
              "  </tbody>\n",
              "</table>\n",
              "<p>128 rows × 13 columns</p>\n",
              "</div>"
            ],
            "text/plain": [
              "              industry place  ...         mean          min\n",
              "0          농업, 임업 및 어업   강원도  ...   2814.81496   2562.87166\n",
              "1                   광업   강원도  ... 603312.81972 554571.15220\n",
              "2                  제조업   강원도  ... 510088.22110 423131.17623\n",
              "3    전기, 가스, 증기 및 수도사업   강원도  ...  47028.74423  40369.43218\n",
              "4       하수폐기처리원료재생환경복원   강원도  ...  33114.94622  30508.44011\n",
              "..                 ...   ...  ...          ...          ...\n",
              "123  전기, 가스, 증기 및 수도사업  충청북도  ...  32830.68815  30195.96317\n",
              "124     하수폐기처리원료재생환경복원  충청북도  ...  74086.67437  69031.00742\n",
              "125                건설업  충청북도  ...  14747.39460  12260.01539\n",
              "126           도매 및 소매업  충청북도  ...  12171.27142  11240.41906\n",
              "127                운수업  충청북도  ...  36653.16138  29605.46956\n",
              "\n",
              "[128 rows x 13 columns]"
            ]
          },
          "metadata": {},
          "execution_count": 316
        }
      ]
    },
    {
      "cell_type": "code",
      "metadata": {
        "id": "GauNowyygRZ1"
      },
      "source": [
        "import numpy as np"
      ],
      "execution_count": 311,
      "outputs": []
    },
    {
      "cell_type": "code",
      "metadata": {
        "id": "xdmQttgOgVrO"
      },
      "source": [
        "a = [2699.63229\t,2904.15789\t,2562.87166\t,2766.66044\t,2818.68373\t,2853.34284\t,2917.65784\t,2906.17007\t,2904.15789]"
      ],
      "execution_count": 313,
      "outputs": []
    },
    {
      "cell_type": "code",
      "metadata": {
        "colab": {
          "base_uri": "https://localhost:8080/"
        },
        "id": "-dN-zUptgArj",
        "outputId": "ce8f85a6-f51f-40ae-910c-39f2bb8ff791"
      },
      "source": [
        "np.mean(a)"
      ],
      "execution_count": 314,
      "outputs": [
        {
          "output_type": "execute_result",
          "data": {
            "text/plain": [
              "2814.814961111111"
            ]
          },
          "metadata": {},
          "execution_count": 314
        }
      ]
    },
    {
      "cell_type": "code",
      "metadata": {
        "id": "Rrh27Ic3iXSm"
      },
      "source": [
        "unit_GHG_농업_임업_및_어업 = unit_GHG_final.loc[unit_GHG_final['industry'] == '농업, 임업 및 어업']\n",
        "unit_GHG_광업 = unit_GHG_final.loc[unit_GHG_final['industry'] == '광업']\n",
        "unit_GHG_제조업 = unit_GHG_final.loc[unit_GHG_final['industry'] == '제조업']\n",
        "unit_GHG_전기_가스_증기_및_수도사업 = unit_GHG_final.loc[unit_GHG_final['industry'] == '전기, 가스, 증기 및 수도사업']\n",
        "unit_GHG_하수폐기처리원료재생환경복원 = unit_GHG_final.loc[unit_GHG_final['industry'] == '하수폐기처리원료재생환경복원']\n",
        "unit_GHG_건설업 = unit_GHG_final.loc[unit_GHG_final['industry'] == '건설업']\n",
        "unit_GHG_도매_및_소매업 = unit_GHG_final.loc[unit_GHG_final['industry'] == '도매 및 소매업']\n",
        "unit_GHG_운수업 = unit_GHG_final.loc[unit_GHG_final['industry'] == '운수업']\n",
        "\n",
        "#농업, 임업 및 어업', '광업', '제조업', '전기, 가스, 증기 및 수도사업', '하수폐기처리원료재생환경복원',\n",
        "#'건설업', '도매 및 소매업', '운수업"
      ],
      "execution_count": 322,
      "outputs": []
    },
    {
      "cell_type": "code",
      "metadata": {
        "id": "I668a9_7jAD4"
      },
      "source": [
        "unit_GHG_농업_임업_및_어업"
      ],
      "execution_count": null,
      "outputs": []
    },
    {
      "cell_type": "code",
      "metadata": {
        "id": "TJZMAbSRkWEV"
      },
      "source": [
        "# unit_GHG_농업_임업_및_어업.to_excel('농업_임업_및_어업_배출량.xls', index=False)\n",
        "# unit_GHG_광업.to_excel('광업_배출량.xls', index=False)\n",
        "# unit_GHG_제조업.to_excel('제조업_배출량.xls', index=False)\n",
        "# unit_GHG_전기_가스_증기_및_수도사업.to_excel('전기_가스_증기_및_수도사업_배출량.xls', index=False)\n",
        "# unit_GHG_하수폐기처리원료재생환경복원.to_excel('하수폐기처리원료재생환경복원_배출량.xls', index=False)\n",
        "# unit_GHG_건설업.to_excel('건설업_배출량.xls', index=False)\n",
        "# unit_GHG_도매_및_소매업.to_excel('도매_및_소매업_배출량.xls', index=False)\n",
        "# unit_GHG_운수업.to_excel('운수업_배출량.xls', index=False)"
      ],
      "execution_count": 338,
      "outputs": []
    },
    {
      "cell_type": "code",
      "metadata": {
        "id": "fJqNzpkAksLP"
      },
      "source": [
        "total_GHG_excel = pd.concat([unit_GHG_농업_임업_및_어업,unit_GHG_광업,unit_GHG_제조업,unit_GHG_전기_가스_증기_및_수도사업,\n",
        "                   unit_GHG_하수폐기처리원료재생환경복원,unit_GHG_건설업,unit_GHG_도매_및_소매업,unit_GHG_운수업])"
      ],
      "execution_count": 334,
      "outputs": []
    },
    {
      "cell_type": "code",
      "metadata": {
        "id": "_OdItcH5mX6R"
      },
      "source": [
        "#total_GHG_excel.to_excel('시계열_배출량_종합.xls', index=False)"
      ],
      "execution_count": 336,
      "outputs": []
    },
    {
      "cell_type": "markdown",
      "metadata": {
        "id": "sUHeSX1Eng6S"
      },
      "source": [
        "## 검토2"
      ]
    },
    {
      "cell_type": "code",
      "metadata": {
        "id": "t8uND54hnhj4"
      },
      "source": [
        "import pandas as pd"
      ],
      "execution_count": 337,
      "outputs": []
    },
    {
      "cell_type": "code",
      "metadata": {
        "id": "3n2xKaatn8k8"
      },
      "source": [
        "df_농업_임업_및_어업 = pd.read_excel('농업_임업_및_어업_배출량.xls')\n",
        "df_광업 = pd.read_excel('광업_배출량.xls')\n",
        "df_제조업 = pd.read_excel('제조업_배출량.xls')\n",
        "df_전기_가스_증기_및_수도사업 = pd.read_excel('전기_가스_증기_및_수도사업_배출량.xls')\n",
        "df_하수폐기처리원료재생환경복원 = pd.read_excel('하수폐기처리원료재생환경복원_배출량.xls')\n",
        "df_건설업 = pd.read_excel('건설업_배출량.xls')\n",
        "df_도매_및_소매업 = pd.read_excel('도매_및_소매업_배출량.xls')\n",
        "df_운수업 = pd.read_excel('운수업_배출량.xls')"
      ],
      "execution_count": 347,
      "outputs": []
    },
    {
      "cell_type": "code",
      "metadata": {
        "id": "tbts1d2DqJCz"
      },
      "source": [
        "df_농업_임업_및_어업"
      ],
      "execution_count": null,
      "outputs": []
    },
    {
      "cell_type": "code",
      "metadata": {
        "colab": {
          "base_uri": "https://localhost:8080/",
          "height": 295
        },
        "id": "urQjGS7ropPW",
        "outputId": "94bba62c-e857-49d1-919e-c8db0b83fde1"
      },
      "source": [
        "df_농업_임업_및_어업.describe()"
      ],
      "execution_count": 349,
      "outputs": [
        {
          "output_type": "execute_result",
          "data": {
            "text/html": [
              "<div>\n",
              "<style scoped>\n",
              "    .dataframe tbody tr th:only-of-type {\n",
              "        vertical-align: middle;\n",
              "    }\n",
              "\n",
              "    .dataframe tbody tr th {\n",
              "        vertical-align: top;\n",
              "    }\n",
              "\n",
              "    .dataframe thead th {\n",
              "        text-align: right;\n",
              "    }\n",
              "</style>\n",
              "<table border=\"1\" class=\"dataframe\">\n",
              "  <thead>\n",
              "    <tr style=\"text-align: right;\">\n",
              "      <th></th>\n",
              "      <th>2009_GHG</th>\n",
              "      <th>2010_GHG</th>\n",
              "      <th>2011_GHG</th>\n",
              "      <th>2012_GHG</th>\n",
              "      <th>2013_GHG</th>\n",
              "      <th>2014_GHG</th>\n",
              "      <th>2015_GHG</th>\n",
              "      <th>2016_GHG</th>\n",
              "      <th>2017_GHG</th>\n",
              "      <th>mean</th>\n",
              "      <th>min</th>\n",
              "    </tr>\n",
              "  </thead>\n",
              "  <tbody>\n",
              "    <tr>\n",
              "      <th>count</th>\n",
              "      <td>16.00000</td>\n",
              "      <td>16.00000</td>\n",
              "      <td>16.00000</td>\n",
              "      <td>16.00000</td>\n",
              "      <td>16.00000</td>\n",
              "      <td>16.00000</td>\n",
              "      <td>16.00000</td>\n",
              "      <td>16.00000</td>\n",
              "      <td>16.00000</td>\n",
              "      <td>16.00000</td>\n",
              "      <td>16.00000</td>\n",
              "    </tr>\n",
              "    <tr>\n",
              "      <th>mean</th>\n",
              "      <td>3777.74130</td>\n",
              "      <td>4207.96944</td>\n",
              "      <td>3999.10130</td>\n",
              "      <td>4147.49917</td>\n",
              "      <td>4249.75510</td>\n",
              "      <td>4176.14057</td>\n",
              "      <td>4257.32029</td>\n",
              "      <td>4252.96206</td>\n",
              "      <td>4207.96944</td>\n",
              "      <td>4141.82874</td>\n",
              "      <td>3592.53964</td>\n",
              "    </tr>\n",
              "    <tr>\n",
              "      <th>std</th>\n",
              "      <td>2499.32701</td>\n",
              "      <td>2857.33950</td>\n",
              "      <td>2653.12973</td>\n",
              "      <td>2616.46175</td>\n",
              "      <td>2797.87653</td>\n",
              "      <td>2922.97087</td>\n",
              "      <td>2880.16529</td>\n",
              "      <td>2875.09517</td>\n",
              "      <td>2857.33950</td>\n",
              "      <td>2759.47842</td>\n",
              "      <td>2521.19196</td>\n",
              "    </tr>\n",
              "    <tr>\n",
              "      <th>min</th>\n",
              "      <td>2001.31078</td>\n",
              "      <td>1894.70429</td>\n",
              "      <td>1997.53591</td>\n",
              "      <td>2077.97225</td>\n",
              "      <td>2070.84807</td>\n",
              "      <td>1989.57492</td>\n",
              "      <td>2081.20128</td>\n",
              "      <td>1906.29303</td>\n",
              "      <td>1894.70429</td>\n",
              "      <td>1990.46053</td>\n",
              "      <td>1894.70429</td>\n",
              "    </tr>\n",
              "    <tr>\n",
              "      <th>25%</th>\n",
              "      <td>2443.00324</td>\n",
              "      <td>2671.31129</td>\n",
              "      <td>2465.33369</td>\n",
              "      <td>2676.15632</td>\n",
              "      <td>2729.30337</td>\n",
              "      <td>2582.65597</td>\n",
              "      <td>2632.85164</td>\n",
              "      <td>2793.45883</td>\n",
              "      <td>2671.31129</td>\n",
              "      <td>2665.99713</td>\n",
              "      <td>2338.51354</td>\n",
              "    </tr>\n",
              "    <tr>\n",
              "      <th>50%</th>\n",
              "      <td>3332.40016</td>\n",
              "      <td>3121.84150</td>\n",
              "      <td>3647.05614</td>\n",
              "      <td>3699.01432</td>\n",
              "      <td>3579.79629</td>\n",
              "      <td>3356.73469</td>\n",
              "      <td>3212.07061</td>\n",
              "      <td>3124.69948</td>\n",
              "      <td>3121.84150</td>\n",
              "      <td>3321.10713</td>\n",
              "      <td>2944.12283</td>\n",
              "    </tr>\n",
              "    <tr>\n",
              "      <th>75%</th>\n",
              "      <td>3816.42171</td>\n",
              "      <td>4730.69928</td>\n",
              "      <td>4346.44277</td>\n",
              "      <td>4550.04685</td>\n",
              "      <td>4816.76387</td>\n",
              "      <td>4731.62751</td>\n",
              "      <td>4737.38061</td>\n",
              "      <td>4864.01667</td>\n",
              "      <td>4730.69928</td>\n",
              "      <td>4782.39671</td>\n",
              "      <td>3724.33754</td>\n",
              "    </tr>\n",
              "    <tr>\n",
              "      <th>max</th>\n",
              "      <td>12474.53315</td>\n",
              "      <td>14059.44033</td>\n",
              "      <td>13173.45807</td>\n",
              "      <td>13179.55042</td>\n",
              "      <td>13983.74693</td>\n",
              "      <td>14435.42936</td>\n",
              "      <td>14280.49286</td>\n",
              "      <td>14193.80770</td>\n",
              "      <td>14059.44033</td>\n",
              "      <td>13759.98880</td>\n",
              "      <td>12474.53315</td>\n",
              "    </tr>\n",
              "  </tbody>\n",
              "</table>\n",
              "</div>"
            ],
            "text/plain": [
              "         2009_GHG    2010_GHG    2011_GHG  ...    2017_GHG        mean         min\n",
              "count    16.00000    16.00000    16.00000  ...    16.00000    16.00000    16.00000\n",
              "mean   3777.74130  4207.96944  3999.10130  ...  4207.96944  4141.82874  3592.53964\n",
              "std    2499.32701  2857.33950  2653.12973  ...  2857.33950  2759.47842  2521.19196\n",
              "min    2001.31078  1894.70429  1997.53591  ...  1894.70429  1990.46053  1894.70429\n",
              "25%    2443.00324  2671.31129  2465.33369  ...  2671.31129  2665.99713  2338.51354\n",
              "50%    3332.40016  3121.84150  3647.05614  ...  3121.84150  3321.10713  2944.12283\n",
              "75%    3816.42171  4730.69928  4346.44277  ...  4730.69928  4782.39671  3724.33754\n",
              "max   12474.53315 14059.44033 13173.45807  ... 14059.44033 13759.98880 12474.53315\n",
              "\n",
              "[8 rows x 11 columns]"
            ]
          },
          "metadata": {},
          "execution_count": 349
        }
      ]
    },
    {
      "cell_type": "code",
      "metadata": {
        "id": "jA1SoBwXotah"
      },
      "source": [
        ""
      ],
      "execution_count": null,
      "outputs": []
    }
  ]
}